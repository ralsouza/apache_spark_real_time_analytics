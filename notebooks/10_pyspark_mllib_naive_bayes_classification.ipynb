{
  "nbformat": 4,
  "nbformat_minor": 0,
  "metadata": {
    "colab": {
      "name": "10_pyspark_mllib_naive_bayes_classification.ipynb",
      "provenance": [],
      "collapsed_sections": [],
      "mount_file_id": "1dtZUL6271-wTab7itP8WiNg7A5hs4UTq",
      "authorship_tag": "ABX9TyPfGfghXOSetuVGz3lq5uc2",
      "include_colab_link": true
    },
    "kernelspec": {
      "name": "python3",
      "display_name": "Python 3"
    }
  },
  "cells": [
    {
      "cell_type": "markdown",
      "metadata": {
        "id": "view-in-github",
        "colab_type": "text"
      },
      "source": [
        "<a href=\"https://colab.research.google.com/github/ralsouza/apache_spark_real_time_analytics/blob/master/notebooks/10_pyspark_mllib_naive_bayes_classification.ipynb\" target=\"_parent\"><img src=\"https://colab.research.google.com/assets/colab-badge.svg\" alt=\"Open In Colab\"/></a>"
      ]
    },
    {
      "cell_type": "markdown",
      "metadata": {
        "id": "JKySrrB8neIf"
      },
      "source": [
        "# Spark - MLLib - Classification - Naive Bayes\n",
        "**Description:** \n",
        "*   Based on Bayes' theorem;\n",
        "*   The probability of an `Event A = P(A) is between 0 and 1`;\n",
        "*   The probability `P(A/B) = P(A intersect B) * P(A) / P(B)`;\n",
        "*   The `target variable` becomes the `Event A`;\n",
        "*   The model stores the conditional probability of the target variable for each possible value from predictor variables;\n",
        "\n",
        "**Advantages:**\n",
        "*   Faster and simple;\n",
        "*   Works well even with missing values;\n",
        "*   Provides the probability of an outcome;\n",
        "*   Excelent for categoric variables;\n",
        "\n",
        "**Disadvantages:**\n",
        "*   Doesn't work well with many numeric variables;\n",
        "*   Expects that the variables predict variables are independent;\n",
        "\n",
        "**Aplication:**\n",
        "*   Spam filter;\n",
        "*   Medical diagnosis;\n",
        "*   Document classification;\n",
        "    \n",
        "\n",
        "\n"
      ]
    },
    {
      "cell_type": "markdown",
      "metadata": {
        "id": "ieblYx8HgkMe"
      },
      "source": [
        "# Spark Setup"
      ]
    },
    {
      "cell_type": "code",
      "metadata": {
        "id": "34JZeXhhgjXj"
      },
      "source": [
        "!apt-get update"
      ],
      "execution_count": null,
      "outputs": []
    },
    {
      "cell_type": "code",
      "metadata": {
        "id": "kbD_IuHtgmmi"
      },
      "source": [
        "# Install the dependencies\n",
        "!apt-get install openjdk-8-jdk-headless -qq > /dev/null\n",
        "!wget -q https://archive.apache.org/dist/spark/spark-2.4.4/spark-2.4.4-bin-hadoop2.7.tgz\n",
        "!tar xf spark-2.4.4-bin-hadoop2.7.tgz\n",
        "!pip install -q findspark"
      ],
      "execution_count": 3,
      "outputs": []
    },
    {
      "cell_type": "code",
      "metadata": {
        "id": "wRIJUmkTgmv1"
      },
      "source": [
        "# Environment variables\n",
        "import os\n",
        "os.environ[\"JAVA_HOME\"] = \"/usr/lib/jvm/java-8-openjdk-amd64\"\n",
        "os.environ[\"SPARK_HOME\"] = \"/content/spark-2.4.4-bin-hadoop2.7\""
      ],
      "execution_count": 5,
      "outputs": []
    },
    {
      "cell_type": "code",
      "metadata": {
        "id": "-LA7nYuzgm6h"
      },
      "source": [
        "# Make pyspark \"importable\"\n",
        "import findspark\n",
        "findspark.init('spark-2.4.4-bin-hadoop2.7')"
      ],
      "execution_count": 6,
      "outputs": []
    },
    {
      "cell_type": "code",
      "metadata": {
        "id": "d1E_dPLkgnRD"
      },
      "source": [
        "# Libraries and Context Setup\n",
        "import pyspark\n",
        "from pyspark.sql import SparkSession\n",
        "from pyspark import SparkContext, SparkConf"
      ],
      "execution_count": 7,
      "outputs": []
    },
    {
      "cell_type": "code",
      "metadata": {
        "id": "FlR6QI3Ig2-f"
      },
      "source": [
        "# create the session\n",
        "conf = SparkConf().set(\"spark.ui.port\", \"4050\")\n",
        "\n",
        "# create the context\n",
        "sc = pyspark.SparkContext(conf=conf)\n",
        "\n",
        "\n",
        "# Instance Spark Session\n",
        "spark = SparkSession.builder.master('local').appName('spark_ml_lib').getOrCreate()\n",
        "\n",
        "# Create the SQL Context\n",
        "sqlContext = pyspark.SQLContext(sc)"
      ],
      "execution_count": 8,
      "outputs": []
    },
    {
      "cell_type": "markdown",
      "metadata": {
        "id": "68n0tWYjtBOq"
      },
      "source": [
        "# Spam classification\n",
        "Dataset: https://archive.ics.uci.edu/ml/datasets/sms+spam+collection"
      ]
    },
    {
      "cell_type": "code",
      "metadata": {
        "id": "NtGZ8BFpnKXR"
      },
      "source": [
        "# Import libraries\n",
        "from pyspark.ml                import Pipeline\n",
        "from pyspark.ml.feature        import IDF, Tokenizer, HashingTF\n",
        "from pyspark.ml.classification import NaiveBayes, NaiveBayesModel\n",
        "from pyspark.ml.evaluation     import MulticlassClassificationEvaluator"
      ],
      "execution_count": 10,
      "outputs": []
    },
    {
      "cell_type": "code",
      "metadata": {
        "id": "WDQjnyWJh-xO"
      },
      "source": [
        "# Spark Session\n",
        "sp_session = SparkSession.builder.master('local').appName('spark_mllib').getOrCreate()"
      ],
      "execution_count": 11,
      "outputs": []
    },
    {
      "cell_type": "code",
      "metadata": {
        "id": "2nN-t3GOiTOZ"
      },
      "source": [
        "# Load data\n",
        "rdd_spam = sc.textFile('/content/drive/My Drive/Colab Notebooks/08-apache-spark/data/mllib/SMSSpamCollection.csv')"
      ],
      "execution_count": 12,
      "outputs": []
    },
    {
      "cell_type": "code",
      "metadata": {
        "id": "7kE4NeEiiaZu",
        "outputId": "88255fe1-33e6-4fbe-f5bb-66bedf8eb008",
        "colab": {
          "base_uri": "https://localhost:8080/",
          "height": 34
        }
      },
      "source": [
        "rdd_spam.cache()"
      ],
      "execution_count": 13,
      "outputs": [
        {
          "output_type": "execute_result",
          "data": {
            "text/plain": [
              "/content/drive/My Drive/Colab Notebooks/08-apache-spark/data/mllib/SMSSpamCollection.csv MapPartitionsRDD[1] at textFile at NativeMethodAccessorImpl.java:0"
            ]
          },
          "metadata": {
            "tags": []
          },
          "execution_count": 13
        }
      ]
    },
    {
      "cell_type": "code",
      "metadata": {
        "id": "aMT2Q7iAidSH",
        "outputId": "202f397f-8d1a-4705-bc18-ed48c7944088",
        "colab": {
          "base_uri": "https://localhost:8080/",
          "height": 207
        }
      },
      "source": [
        "rdd_spam.collect()[:10]"
      ],
      "execution_count": 14,
      "outputs": [
        {
          "output_type": "execute_result",
          "data": {
            "text/plain": [
              "['ham,Go until jurong point, crazy.. Available only in bugis n great world la e buffet... Cine there got amore wat...,,,,,,,,,',\n",
              " 'ham,Ok lar... Joking wif u oni...,,,,,,,,,,',\n",
              " 'ham,U dun say so early hor... U c already then say...,,,,,,,,,,',\n",
              " \"ham,Nah I don't think he goes to usf, he lives around here though,,,,,,,,,\",\n",
              " 'ham,Even my brother is not like to speak with me. They treat me like aids patent.,,,,,,,,,,',\n",
              " \"ham,As per your request 'Melle Melle (Oru Minnaminunginte Nurungu Vettam)' has been set as your callertune for all Callers. Press *9 to copy your friends Callertune,,,,,,,,,,\",\n",
              " \"ham,I'm gonna be home soon and i don't want to talk about this stuff anymore tonight, k? I've cried enough today.,,,,,,,,,\",\n",
              " \"ham,I've been searching for the right words to thank you for this breather. I promise i wont take your help for granted and will fulfil my promise. You have been wonderful and a blessing at all times.,,,,,,,,,,\",\n",
              " 'ham,I HAVE A DATE ON SUNDAY WITH WILL!!,,,,,,,,,,',\n",
              " \"ham,Oh k...i'm watching here:),,,,,,,,,,\"]"
            ]
          },
          "metadata": {
            "tags": []
          },
          "execution_count": 14
        }
      ]
    },
    {
      "cell_type": "code",
      "metadata": {
        "id": "amj-Puj7ihyY",
        "outputId": "ff7e4a4e-dc01-4acc-e4ab-ce80c8f1a5f2",
        "colab": {
          "base_uri": "https://localhost:8080/",
          "height": 34
        }
      },
      "source": [
        "rdd_spam.count()"
      ],
      "execution_count": 15,
      "outputs": [
        {
          "output_type": "execute_result",
          "data": {
            "text/plain": [
              "1000"
            ]
          },
          "metadata": {
            "tags": []
          },
          "execution_count": 15
        }
      ]
    },
    {
      "cell_type": "markdown",
      "metadata": {
        "id": "QZ5xQYVGiuBQ"
      },
      "source": [
        "# Preprocessing data"
      ]
    },
    {
      "cell_type": "code",
      "metadata": {
        "id": "TfRm76YkiqB5"
      },
      "source": [
        "def transform_to_vector(input_str):\n",
        "  att_list = input_str.split(',')\n",
        "  sms_type = 0.0 if att_list[0] == 'ham' else 1.0\n",
        "  return [sms_type,att_list[1]]"
      ],
      "execution_count": 16,
      "outputs": []
    },
    {
      "cell_type": "code",
      "metadata": {
        "id": "mZNrE16ejN8T"
      },
      "source": [
        "# Apply function\n",
        "rdd_spam2 = rdd_spam.map(transform_to_vector)"
      ],
      "execution_count": 17,
      "outputs": []
    },
    {
      "cell_type": "code",
      "metadata": {
        "id": "Moso62R0jXmo"
      },
      "source": [
        "# Transform to dataframe\n",
        "df_spam = sp_session.createDataFrame(rdd_spam2,['label','message'])"
      ],
      "execution_count": 18,
      "outputs": []
    },
    {
      "cell_type": "code",
      "metadata": {
        "id": "iGnPZnTRjqbd",
        "outputId": "25c96508-e63a-46bd-92ab-355d8797f434",
        "colab": {
          "base_uri": "https://localhost:8080/",
          "height": 34
        }
      },
      "source": [
        "df_spam.cache()"
      ],
      "execution_count": 19,
      "outputs": [
        {
          "output_type": "execute_result",
          "data": {
            "text/plain": [
              "DataFrame[label: double, message: string]"
            ]
          },
          "metadata": {
            "tags": []
          },
          "execution_count": 19
        }
      ]
    },
    {
      "cell_type": "code",
      "metadata": {
        "id": "rEIetgxJjsdb",
        "outputId": "123c4000-48ff-4ef7-89f6-07ea93f1598a",
        "colab": {
          "base_uri": "https://localhost:8080/",
          "height": 459
        }
      },
      "source": [
        "df_spam.select('label','message').show()"
      ],
      "execution_count": 21,
      "outputs": [
        {
          "output_type": "stream",
          "text": [
            "+-----+--------------------+\n",
            "|label|             message|\n",
            "+-----+--------------------+\n",
            "|  0.0|Go until jurong p...|\n",
            "|  0.0|Ok lar... Joking ...|\n",
            "|  0.0|U dun say so earl...|\n",
            "|  0.0|Nah I don't think...|\n",
            "|  0.0|Even my brother i...|\n",
            "|  0.0|As per your reque...|\n",
            "|  0.0|I'm gonna be home...|\n",
            "|  0.0|I've been searchi...|\n",
            "|  0.0|I HAVE A DATE ON ...|\n",
            "|  0.0|Oh k...i'm watchi...|\n",
            "|  0.0|Eh u remember how...|\n",
            "|  0.0|Fine if thats th...|\n",
            "|  0.0|Is that seriously...|\n",
            "|  0.0|I‘m going to try ...|\n",
            "|  0.0|So ü pay first la...|\n",
            "|  0.0|Aft i finish my l...|\n",
            "|  0.0|Ffffffffff. Alrig...|\n",
            "|  0.0|Just forced mysel...|\n",
            "|  0.0|Lol your always s...|\n",
            "|  0.0|Did you catch the...|\n",
            "+-----+--------------------+\n",
            "only showing top 20 rows\n",
            "\n"
          ],
          "name": "stdout"
        }
      ]
    },
    {
      "cell_type": "code",
      "metadata": {
        "id": "oyChhasLjzxr"
      },
      "source": [
        "# Split in words and apply TF-IDF (TF = Term Frequency)\n",
        "tokenizer = Tokenizer(inputCol='message',outputCol='words')\n",
        "hashing_tf = HashingTF(inputCol=tokenizer.getOutputCol(),outputCol='temp_features')\n",
        "idf = IDF(inputCol=hashing_tf.getOutputCol(),outputCol='features')"
      ],
      "execution_count": 25,
      "outputs": []
    },
    {
      "cell_type": "markdown",
      "metadata": {
        "id": "rm_4EpWUl8yb"
      },
      "source": [
        "# Machine Learning"
      ]
    },
    {
      "cell_type": "code",
      "metadata": {
        "id": "rRGhjJbOkrZp"
      },
      "source": [
        "# Split data\n",
        "(train_data,test_data) = df_spam.randomSplit([0.7,0.3])"
      ],
      "execution_count": 26,
      "outputs": []
    },
    {
      "cell_type": "code",
      "metadata": {
        "id": "PNuJqHSKmH7M",
        "outputId": "cbf2a763-761c-4218-a980-2f2b42e4e5d8",
        "colab": {
          "base_uri": "https://localhost:8080/",
          "height": 34
        }
      },
      "source": [
        "train_data.count()"
      ],
      "execution_count": 27,
      "outputs": [
        {
          "output_type": "execute_result",
          "data": {
            "text/plain": [
              "699"
            ]
          },
          "metadata": {
            "tags": []
          },
          "execution_count": 27
        }
      ]
    },
    {
      "cell_type": "code",
      "metadata": {
        "id": "jgFHX-ChmKaU",
        "outputId": "722703c2-e043-463f-a806-5ba3dc27afb2",
        "colab": {
          "base_uri": "https://localhost:8080/",
          "height": 34
        }
      },
      "source": [
        "test_data.count()"
      ],
      "execution_count": 28,
      "outputs": [
        {
          "output_type": "execute_result",
          "data": {
            "text/plain": [
              "301"
            ]
          },
          "metadata": {
            "tags": []
          },
          "execution_count": 28
        }
      ]
    },
    {
      "cell_type": "code",
      "metadata": {
        "id": "XXmayyA5mMVZ"
      },
      "source": [
        "# Model creation\n",
        "nb_classifier = NaiveBayes()"
      ],
      "execution_count": 29,
      "outputs": []
    },
    {
      "cell_type": "code",
      "metadata": {
        "id": "2w3M9U0AmV7y"
      },
      "source": [
        "# Pipeline creation\n",
        "pipeline = Pipeline(stages=[tokenizer,hashing_tf,idf,nb_classifier])"
      ],
      "execution_count": 30,
      "outputs": []
    },
    {
      "cell_type": "code",
      "metadata": {
        "id": "dyFB8nFxmljE"
      },
      "source": [
        "# Model training with pipeline\n",
        "model = pipeline.fit(train_data)"
      ],
      "execution_count": 31,
      "outputs": []
    },
    {
      "cell_type": "code",
      "metadata": {
        "id": "8w6ulupOmwtt",
        "outputId": "7091dfa8-2cd2-420a-ca3b-673d5dab73fd",
        "colab": {
          "base_uri": "https://localhost:8080/",
          "height": 187
        }
      },
      "source": [
        "# Predicting with test data\n",
        "prediction = model.transform(test_data)\n",
        "prediction.select('prediction','label').collect()[:10]"
      ],
      "execution_count": 38,
      "outputs": [
        {
          "output_type": "execute_result",
          "data": {
            "text/plain": [
              "[Row(prediction=0.0, label=0.0),\n",
              " Row(prediction=0.0, label=0.0),\n",
              " Row(prediction=0.0, label=0.0),\n",
              " Row(prediction=0.0, label=0.0),\n",
              " Row(prediction=1.0, label=0.0),\n",
              " Row(prediction=0.0, label=0.0),\n",
              " Row(prediction=1.0, label=0.0),\n",
              " Row(prediction=0.0, label=0.0),\n",
              " Row(prediction=0.0, label=0.0),\n",
              " Row(prediction=0.0, label=0.0)]"
            ]
          },
          "metadata": {
            "tags": []
          },
          "execution_count": 38
        }
      ]
    },
    {
      "cell_type": "code",
      "metadata": {
        "id": "dx-yTFpzoAxE"
      },
      "source": [
        "# Accuracy evaluation\n",
        "evaluation = MulticlassClassificationEvaluator(predictionCol='prediction',labelCol='label',metricName='accuracy')"
      ],
      "execution_count": 39,
      "outputs": []
    },
    {
      "cell_type": "code",
      "metadata": {
        "id": "1ZnQTil8pyCh",
        "outputId": "b32a9add-8c86-4698-9e4d-275060928395",
        "colab": {
          "base_uri": "https://localhost:8080/",
          "height": 34
        }
      },
      "source": [
        "evaluation.evaluate(prediction)"
      ],
      "execution_count": 40,
      "outputs": [
        {
          "output_type": "execute_result",
          "data": {
            "text/plain": [
              "0.9235880398671097"
            ]
          },
          "metadata": {
            "tags": []
          },
          "execution_count": 40
        }
      ]
    },
    {
      "cell_type": "code",
      "metadata": {
        "id": "h-_-fjceqAec",
        "outputId": "a96de3de-896d-432c-87de-37499fa46528",
        "colab": {
          "base_uri": "https://localhost:8080/",
          "height": 170
        }
      },
      "source": [
        "# Confusion matrix\n",
        "prediction.groupBy('label','prediction').count().show()"
      ],
      "execution_count": 41,
      "outputs": [
        {
          "output_type": "stream",
          "text": [
            "+-----+----------+-----+\n",
            "|label|prediction|count|\n",
            "+-----+----------+-----+\n",
            "|  1.0|       1.0|  156|\n",
            "|  0.0|       1.0|   16|\n",
            "|  1.0|       0.0|    7|\n",
            "|  0.0|       0.0|  122|\n",
            "+-----+----------+-----+\n",
            "\n"
          ],
          "name": "stdout"
        }
      ]
    }
  ]
}
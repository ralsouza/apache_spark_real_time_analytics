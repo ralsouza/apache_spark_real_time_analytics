{
  "nbformat": 4,
  "nbformat_minor": 0,
  "metadata": {
    "colab": {
      "name": "02_pyspark_transformation.ipynb",
      "provenance": [],
      "collapsed_sections": [],
      "toc_visible": true,
      "mount_file_id": "1Vo6uT9NrHfZ4v_wc_dAzaw1m9x5uB-PQ",
      "authorship_tag": "ABX9TyNygEdZj7+tepwOtnB/k3G2",
      "include_colab_link": true
    },
    "kernelspec": {
      "name": "python3",
      "display_name": "Python 3"
    }
  },
  "cells": [
    {
      "cell_type": "markdown",
      "metadata": {
        "id": "view-in-github",
        "colab_type": "text"
      },
      "source": [
        "<a href=\"https://colab.research.google.com/github/ralsouza/apache_spark_real_time_analytics/blob/master/notebooks/02_pyspark_transformation.ipynb\" target=\"_parent\"><img src=\"https://colab.research.google.com/assets/colab-badge.svg\" alt=\"Open In Colab\"/></a>"
      ]
    },
    {
      "cell_type": "markdown",
      "metadata": {
        "id": "lzLMmbSfPn3Z",
        "colab_type": "text"
      },
      "source": [
        "# Install & Setup"
      ]
    },
    {
      "cell_type": "code",
      "metadata": {
        "id": "epFmLGmnPj6h",
        "colab_type": "code",
        "colab": {}
      },
      "source": [
        "# Install the dependencies\n",
        "!apt-get install openjdk-8-jdk-headless -qq > /dev/null\n",
        "!wget -q https://archive.apache.org/dist/spark/spark-2.4.4/spark-2.4.4-bin-hadoop2.7.tgz\n",
        "!tar xf spark-2.4.4-bin-hadoop2.7.tgz\n",
        "!pip install -q findspark"
      ],
      "execution_count": 1,
      "outputs": []
    },
    {
      "cell_type": "code",
      "metadata": {
        "id": "_cfn9o3LPu55",
        "colab_type": "code",
        "colab": {}
      },
      "source": [
        "# Environment variables\n",
        "import os\n",
        "os.environ[\"JAVA_HOME\"] = \"/usr/lib/jvm/java-8-openjdk-amd64\"\n",
        "os.environ[\"SPARK_HOME\"] = \"/content/spark-2.4.4-bin-hadoop2.7\"\n",
        " \n",
        "# tornar o pyspark \"importável\"\n",
        "import findspark\n",
        "findspark.init('spark-2.4.4-bin-hadoop2.7')"
      ],
      "execution_count": 2,
      "outputs": []
    },
    {
      "cell_type": "code",
      "metadata": {
        "id": "W3QN53L4QTHc",
        "colab_type": "code",
        "colab": {}
      },
      "source": [
        "# Libraries and Context Setup\n",
        "import pyspark\n",
        "from pyspark.sql import SparkSession\n",
        "from pyspark import SparkContext, SparkConf\n",
        "\n",
        "# create the session\n",
        "conf = SparkConf().set(\"spark.ui.port\", \"4050\")\n",
        "\n",
        "# create the context\n",
        "sc = pyspark.SparkContext(conf=conf)\n",
        "spark = SparkSession.builder.getOrCreate()"
      ],
      "execution_count": 3,
      "outputs": []
    },
    {
      "cell_type": "code",
      "metadata": {
        "id": "bPeDAO5HQi6I",
        "colab_type": "code",
        "colab": {
          "base_uri": "https://localhost:8080/",
          "height": 34
        },
        "outputId": "a579b828-4268-4676-9a41-b4613c738795"
      },
      "source": [
        "# Check context\n",
        "print(sc)"
      ],
      "execution_count": 4,
      "outputs": [
        {
          "output_type": "stream",
          "text": [
            "<SparkContext master=local[*] appName=pyspark-shell>\n"
          ],
          "name": "stdout"
        }
      ]
    },
    {
      "cell_type": "markdown",
      "metadata": {
        "id": "REk0rOBcQFR1",
        "colab_type": "text"
      },
      "source": [
        "# Transformation"
      ]
    },
    {
      "cell_type": "code",
      "metadata": {
        "id": "r2A2MeIpP6Xk",
        "colab_type": "code",
        "colab": {}
      },
      "source": [
        "# Python list\n",
        "lst1 = [124,940,652,102,397]"
      ],
      "execution_count": 5,
      "outputs": []
    },
    {
      "cell_type": "code",
      "metadata": {
        "id": "NZ5bOia0ReOt",
        "colab_type": "code",
        "colab": {
          "base_uri": "https://localhost:8080/",
          "height": 34
        },
        "outputId": "379c1b80-939d-4a3d-9df9-15ac2d6c0209"
      },
      "source": [
        "# Check data type\n",
        "type(lst1)"
      ],
      "execution_count": 6,
      "outputs": [
        {
          "output_type": "execute_result",
          "data": {
            "text/plain": [
              "list"
            ]
          },
          "metadata": {
            "tags": []
          },
          "execution_count": 6
        }
      ]
    },
    {
      "cell_type": "code",
      "metadata": {
        "id": "II26s85iRilj",
        "colab_type": "code",
        "colab": {}
      },
      "source": [
        "# Load data into a collection\n",
        "lst1_rdd = sc.parallelize(lst1)"
      ],
      "execution_count": 9,
      "outputs": []
    },
    {
      "cell_type": "code",
      "metadata": {
        "id": "gxgFSma-Rst8",
        "colab_type": "code",
        "colab": {
          "base_uri": "https://localhost:8080/",
          "height": 34
        },
        "outputId": "4ee3d632-1fc4-4de9-e5ea-bff52bd4d61d"
      },
      "source": [
        "# Check data type\n",
        "type(lst1_rdd)"
      ],
      "execution_count": 11,
      "outputs": [
        {
          "output_type": "execute_result",
          "data": {
            "text/plain": [
              "pyspark.rdd.RDD"
            ]
          },
          "metadata": {
            "tags": []
          },
          "execution_count": 11
        }
      ]
    },
    {
      "cell_type": "code",
      "metadata": {
        "id": "qnNlL6d-RzOj",
        "colab_type": "code",
        "colab": {
          "base_uri": "https://localhost:8080/",
          "height": 34
        },
        "outputId": "8327efb3-c8be-4b00-f54e-697ebff65c86"
      },
      "source": [
        "# Print collection\n",
        "lst1_rdd.collect()"
      ],
      "execution_count": 13,
      "outputs": [
        {
          "output_type": "execute_result",
          "data": {
            "text/plain": [
              "[124, 940, 652, 102, 397]"
            ]
          },
          "metadata": {
            "tags": []
          },
          "execution_count": 13
        }
      ]
    },
    {
      "cell_type": "code",
      "metadata": {
        "id": "D87B9PXmSFxH",
        "colab_type": "code",
        "colab": {
          "base_uri": "https://localhost:8080/",
          "height": 34
        },
        "outputId": "1d0204d6-4cd4-4820-c7c3-346d5d089e58"
      },
      "source": [
        "# Counting elements\n",
        "lst1_rdd.count()"
      ],
      "execution_count": 14,
      "outputs": [
        {
          "output_type": "execute_result",
          "data": {
            "text/plain": [
              "5"
            ]
          },
          "metadata": {
            "tags": []
          },
          "execution_count": 14
        }
      ]
    },
    {
      "cell_type": "code",
      "metadata": {
        "id": "LleFiF7SSM7O",
        "colab_type": "code",
        "colab": {}
      },
      "source": [
        "# Load RDD from a text file\n",
        "file = '/content/drive/My Drive/Colab Notebooks/08-apache-spark/data/carros.csv'\n",
        "auto_data_rdd = sc.textFile(file)"
      ],
      "execution_count": 15,
      "outputs": []
    },
    {
      "cell_type": "code",
      "metadata": {
        "id": "Z3gAE5bWTGD1",
        "colab_type": "code",
        "colab": {
          "base_uri": "https://localhost:8080/",
          "height": 34
        },
        "outputId": "2de0ff32-0c66-4774-e577-ab5a171f4565"
      },
      "source": [
        "# Check data type\n",
        "type(auto_data_rdd)"
      ],
      "execution_count": 16,
      "outputs": [
        {
          "output_type": "execute_result",
          "data": {
            "text/plain": [
              "pyspark.rdd.RDD"
            ]
          },
          "metadata": {
            "tags": []
          },
          "execution_count": 16
        }
      ]
    },
    {
      "cell_type": "code",
      "metadata": {
        "id": "1E1UcnvoTMY9",
        "colab_type": "code",
        "colab": {
          "base_uri": "https://localhost:8080/",
          "height": 37
        },
        "outputId": "f361045e-7255-467a-a9bc-8494d2498096"
      },
      "source": [
        "# An action operation - Returning the first row from dataset, the header\n",
        "auto_data_rdd.first()"
      ],
      "execution_count": 17,
      "outputs": [
        {
          "output_type": "execute_result",
          "data": {
            "application/vnd.google.colaboratory.intrinsic+json": {
              "type": "string"
            },
            "text/plain": [
              "'MAKE,FUELTYPE,ASPIRE,DOORS,BODY,DRIVE,CYLINDERS,HP,RPM,MPG-CITY,MPG-HWY,PRICE'"
            ]
          },
          "metadata": {
            "tags": []
          },
          "execution_count": 17
        }
      ]
    },
    {
      "cell_type": "code",
      "metadata": {
        "id": "EDdAEzVITfHp",
        "colab_type": "code",
        "colab": {
          "base_uri": "https://localhost:8080/",
          "height": 102
        },
        "outputId": "86e56de8-90ae-46c0-bb2d-7c371b9c0de7"
      },
      "source": [
        "# Returning the 5 firsts rows and the header\n",
        "auto_data_rdd.take(5)"
      ],
      "execution_count": 18,
      "outputs": [
        {
          "output_type": "execute_result",
          "data": {
            "text/plain": [
              "['MAKE,FUELTYPE,ASPIRE,DOORS,BODY,DRIVE,CYLINDERS,HP,RPM,MPG-CITY,MPG-HWY,PRICE',\n",
              " 'subaru,gas,std,two,hatchback,fwd,four,69,4900,31,36,5118',\n",
              " 'chevrolet,gas,std,two,hatchback,fwd,three,48,5100,47,53,5151',\n",
              " 'mazda,gas,std,two,hatchback,fwd,four,68,5000,30,31,5195',\n",
              " 'toyota,gas,std,two,hatchback,fwd,four,62,4800,35,39,5348']"
            ]
          },
          "metadata": {
            "tags": []
          },
          "execution_count": 18
        }
      ]
    },
    {
      "cell_type": "code",
      "metadata": {
        "id": "uD6aTwYgTvbc",
        "colab_type": "code",
        "colab": {
          "base_uri": "https://localhost:8080/",
          "height": 54
        },
        "outputId": "af6d9eb7-38cc-4bc4-f8f8-23075c43d192"
      },
      "source": [
        "# Each partition generates a new computation process\n",
        "# But we can persist the data into a cache to be used for other actions\n",
        "# without necessity of a new computation\n",
        "auto_data_rdd.cache()"
      ],
      "execution_count": 19,
      "outputs": [
        {
          "output_type": "execute_result",
          "data": {
            "text/plain": [
              "/content/drive/My Drive/Colab Notebooks/08-apache-spark/data/carros.csv MapPartitionsRDD[4] at textFile at NativeMethodAccessorImpl.java:0"
            ]
          },
          "metadata": {
            "tags": []
          },
          "execution_count": 19
        }
      ]
    },
    {
      "cell_type": "code",
      "metadata": {
        "id": "oFiLV4XUUeoB",
        "colab_type": "code",
        "colab": {
          "base_uri": "https://localhost:8080/",
          "height": 1000
        },
        "outputId": "4596e134-41b6-4336-d81b-63ad28e65508"
      },
      "source": [
        "# List all rows\n",
        "for row in auto_data_rdd.collect():\n",
        "  print(row)"
      ],
      "execution_count": 50,
      "outputs": [
        {
          "output_type": "stream",
          "text": [
            "MAKE,FUELTYPE,ASPIRE,DOORS,BODY,DRIVE,CYLINDERS,HP,RPM,MPG-CITY,MPG-HWY,PRICE\n",
            "subaru,gas,std,two,hatchback,fwd,four,69,4900,31,36,5118\n",
            "chevrolet,gas,std,two,hatchback,fwd,three,48,5100,47,53,5151\n",
            "mazda,gas,std,two,hatchback,fwd,four,68,5000,30,31,5195\n",
            "toyota,gas,std,two,hatchback,fwd,four,62,4800,35,39,5348\n",
            "mitsubishi,gas,std,two,hatchback,fwd,four,68,5500,37,41,5389\n",
            "honda,gas,std,two,hatchback,fwd,four,60,5500,38,42,5399\n",
            "nissan,gas,std,two,sedan,fwd,four,69,5200,31,37,5499\n",
            "dodge,gas,std,two,hatchback,fwd,four,68,5500,37,41,5572\n",
            "plymouth,gas,std,two,hatchback,fwd,four,68,5500,37,41,5572\n",
            "mazda,gas,std,two,hatchback,fwd,four,68,5000,31,38,6095\n",
            "mitsubishi,gas,std,two,hatchback,fwd,four,68,5500,31,38,6189\n",
            "dodge,gas,std,four,hatchback,fwd,four,68,5500,31,38,6229\n",
            "plymouth,gas,std,four,hatchback,fwd,four,68,5500,31,38,6229\n",
            "chevrolet,gas,std,two,hatchback,fwd,four,70,5400,38,43,6295\n",
            "toyota,gas,std,two,hatchback,fwd,four,62,4800,31,38,6338\n",
            "dodge,gas,std,two,hatchback,fwd,four,68,5500,31,38,6377\n",
            "honda,gas,std,two,hatchback,fwd,four,58,4800,49,54,6479\n",
            "toyota,gas,std,four,hatchback,fwd,four,62,4800,31,38,6488\n",
            "honda,gas,std,two,hatchback,fwd,four,76,6000,30,34,6529\n",
            "chevrolet,gas,std,four,sedan,fwd,four,70,5400,38,43,6575\n",
            "nissan,gas,std,two,sedan,fwd,four,69,5200,31,37,6649\n",
            "mitsubishi,gas,std,two,hatchback,fwd,four,68,5500,31,38,6669\n",
            "dodge,gas,std,four,sedan,fwd,four,68,5500,31,38,6692\n",
            "plymouth,gas,std,four,sedan,fwd,four,68,5500,31,38,6692\n",
            "mazda,gas,std,four,sedan,fwd,four,68,5000,31,38,6695\n",
            "isuzu,gas,std,four,sedan,rwd,four,78,4800,24,29,6785\n",
            "mazda,gas,std,two,hatchback,fwd,four,68,5000,31,38,6795\n",
            "nissan,gas,std,four,sedan,fwd,four,69,5200,31,37,6849\n",
            "honda,gas,std,two,hatchback,fwd,four,76,6000,31,38,6855\n",
            "toyota,gas,std,four,wagon,fwd,four,62,4800,31,37,6918\n",
            "toyota,gas,std,four,sedan,fwd,four,70,4800,30,37,6938\n",
            "mitsubishi,gas,std,four,sedan,fwd,four,88,5000,25,32,6989\n",
            "subaru,gas,std,two,hatchback,fwd,four,73,4400,26,31,7053\n",
            "nissan,diesel,std,two,sedan,fwd,four,55,4800,45,50,7099\n",
            "subaru,gas,std,four,sedan,fwd,four,82,4800,32,37,7126\n",
            "honda,gas,std,two,hatchback,fwd,four,76,6000,30,34,7129\n",
            "toyota,gas,std,four,hatchback,fwd,four,70,4800,30,37,7198\n",
            "honda,gas,std,four,sedan,fwd,four,76,6000,30,34,7295\n",
            "honda,gas,std,four,wagon,fwd,four,76,6000,30,34,7295\n",
            "nissan,gas,std,two,sedan,fwd,four,69,5200,31,37,7299\n",
            "nissan,gas,std,four,wagon,fwd,four,69,5200,31,37,7349\n",
            "mazda,gas,std,four,sedan,fwd,four,68,5000,31,38,7395\n",
            "subaru,gas,std,four,wagon,fwd,four,82,4800,28,32,7463\n",
            "nissan,gas,std,four,sedan,fwd,four,69,5200,31,37,7499\n",
            "subaru,gas,std,two,hatchback,4wd,four,73,4400,26,31,7603\n",
            "dodge,gas,std,four,sedan,fwd,four,68,5500,31,38,7609\n",
            "plymouth,gas,std,four,sedan,fwd,four,68,5500,31,38,7609\n",
            "mitsubishi,gas,turbo,two,hatchback,fwd,four,102,5500,24,30,7689\n",
            "toyota,gas,std,four,sedan,fwd,four,70,4800,38,47,7738\n",
            "subaru,gas,std,four,sedan,fwd,four,82,4400,28,33,7775\n",
            "volkswagen,diesel,std,two,sedan,fwd,four,52,4800,37,46,7775\n",
            "toyota,diesel,std,four,hatchback,fwd,four,56,4500,38,47,7788\n",
            "nissan,gas,std,two,hatchback,fwd,four,69,5200,31,37,7799\n",
            "honda,gas,std,two,hatchback,fwd,four,86,5800,27,33,7895\n",
            "toyota,gas,std,four,wagon,4wd,four,62,4800,27,32,7898\n",
            "toyota,diesel,std,four,sedan,fwd,four,56,4500,34,36,7898\n",
            "dodge,gas,turbo,two,hatchback,fwd,four,102,5500,24,30,7957\n",
            "plymouth,gas,turbo,two,hatchback,fwd,four,102,5500,24,30,7957\n",
            "volkswagen,gas,std,two,sedan,fwd,four,85,5250,27,34,7975\n",
            "volkswagen,diesel,std,four,sedan,fwd,four,52,4800,37,46,7995\n",
            "nissan,gas,std,four,wagon,fwd,four,69,5200,31,37,7999\n",
            "subaru,gas,std,four,wagon,4wd,four,82,4800,23,29,8013\n",
            "toyota,gas,std,two,sedan,rwd,four,70,4800,29,34,8058\n",
            "mitsubishi,gas,std,four,sedan,fwd,four,88,5000,25,32,8189\n",
            "volkswagen,gas,std,four,sedan,fwd,four,85,5250,27,34,8195\n",
            "toyota,gas,std,two,hatchback,rwd,four,70,4800,29,34,8238\n",
            "nissan,gas,std,two,hardtop,fwd,four,69,5200,31,37,8249\n",
            "toyota,gas,std,four,hatchback,fwd,four,70,4800,28,34,8358\n",
            "toyota,gas,std,two,hardtop,rwd,four,116,4800,24,30,8449\n",
            "mazda,gas,std,four,sedan,fwd,four,84,4800,26,32,8495\n",
            "volkswagen,gas,std,four,sedan,fwd,four,85,5250,27,34,8495\n",
            "mitsubishi,gas,std,two,hatchback,fwd,four,88,5000,25,32,8499\n",
            "toyota,gas,std,four,wagon,4wd,four,62,4800,27,32,8778\n",
            "honda,gas,std,four,sedan,fwd,four,86,5800,27,33,8845\n",
            "mazda,gas,std,two,hatchback,fwd,four,84,4800,26,32,8845\n",
            "dodge,gas,std,four,wagon,fwd,four,88,5000,24,30,8921\n",
            "plymouth,gas,std,four,wagon,fwd,four,88,5000,24,30,8921\n",
            "toyota,gas,std,four,sedan,fwd,four,92,4200,29,34,8948\n",
            "nissan,gas,std,four,hatchback,fwd,four,97,5200,27,34,8949\n",
            "honda,gas,std,two,hatchback,fwd,four,86,5800,27,33,9095\n",
            "subaru,gas,std,four,sedan,4wd,four,82,4800,24,25,9233\n",
            "toyota,gas,std,four,sedan,fwd,four,70,4800,28,34,9258\n",
            "mitsubishi,gas,turbo,four,sedan,fwd,four,116,5500,23,30,9279\n",
            "mitsubishi,gas,std,four,sedan,fwd,four,116,5500,23,30,9279\n",
            "toyota,gas,std,two,sedan,rwd,four,112,6600,26,29,9298\n",
            "volkswagen,diesel,turbo,four,sedan,fwd,four,68,4500,37,42,9495\n",
            "toyota,gas,std,two,hatchback,rwd,four,112,6600,26,29,9538\n",
            "nissan,gas,std,four,sedan,fwd,four,97,5200,27,34,9549\n",
            "toyota,gas,std,two,hardtop,rwd,four,116,4800,24,30,9639\n",
            "mitsubishi,gas,turbo,two,hatchback,fwd,four,116,5500,23,30,9959\n",
            "subaru,gas,std,four,sedan,fwd,four,94,5200,26,32,9960\n",
            "volkswagen,gas,std,two,hatchback,fwd,four,90,5500,24,29,9980\n",
            "toyota,gas,std,four,hatchback,fwd,four,92,4200,27,32,9988\n",
            "toyota,gas,std,two,hatchback,rwd,four,116,4800,24,30,9989\n",
            "volkswagen,gas,std,four,sedan,fwd,four,100,5500,26,32,9995\n",
            "subaru,gas,std,four,wagon,fwd,four,94,5200,25,31,10198\n",
            "mazda,gas,std,four,sedan,fwd,four,84,4800,26,32,10245\n",
            "honda,gas,std,four,sedan,fwd,four,86,5800,27,33,10295\n",
            "honda,gas,std,two,sedan,fwd,four,100,5500,25,31,10345\n",
            "mazda,gas,std,two,hatchback,fwd,four,84,4800,26,32,10595\n",
            "toyota,diesel,turbo,four,sedan,fwd,four,73,4500,30,33,10698\n",
            "toyota,gas,std,four,sedan,fwd,four,92,4200,27,32,10898\n",
            "mazda,gas,std,two,hatchback,rwd,two,101,6000,17,23,10945\n",
            "isuzu,gas,std,two,hatchback,rwd,four,90,5000,24,29,11048\n",
            "toyota,gas,std,two,hardtop,rwd,four,116,4800,24,30,11199\n",
            "mazda,gas,std,four,hatchback,fwd,four,84,4800,26,32,11245\n",
            "toyota,gas,std,four,hatchback,fwd,four,92,4200,27,32,11248\n",
            "subaru,gas,turbo,four,sedan,4wd,four,111,4800,24,29,11259\n",
            "toyota,gas,std,two,hatchback,rwd,four,116,4800,24,30,11549\n",
            "volkswagen,gas,std,two,convertible,fwd,four,90,5500,24,29,11595\n",
            "subaru,gas,turbo,four,wagon,4wd,four,111,4800,23,23,11694\n",
            "mazda,gas,std,two,hatchback,rwd,two,101,6000,17,23,11845\n",
            "saab,gas,std,two,hatchback,fwd,four,110,5250,21,28,11850\n",
            "peugot,gas,std,four,sedan,rwd,four,97,5000,19,24,11900\n",
            "saab,gas,std,four,sedan,fwd,four,110,5250,21,28,12170\n",
            "volkswagen,gas,std,four,wagon,fwd,four,88,5500,25,31,12290\n",
            "peugot,gas,std,four,wagon,rwd,four,97,5000,19,24,12440\n",
            "mitsubishi,gas,turbo,two,hatchback,fwd,four,145,5000,19,24,12629\n",
            "plymouth,gas,turbo,two,hatchback,rwd,four,145,5000,19,24,12764\n",
            "volvo,gas,std,four,sedan,rwd,four,114,5400,23,28,12940\n",
            "honda,gas,std,four,sedan,fwd,four,101,5800,24,28,12945\n",
            "dodge,gas,turbo,two,hatchback,fwd,four,145,5000,19,24,12964\n",
            "peugot,diesel,turbo,four,sedan,rwd,four,95,4150,28,33,13200\n",
            "volkswagen,gas,std,four,sedan,fwd,five,110,5500,19,24,13295\n",
            "volvo,gas,std,four,wagon,rwd,four,114,5400,23,28,13415\n",
            "alfa-romero,gas,std,two,convertible,rwd,four,111,5000,21,27,13495\n",
            "nissan,gas,std,four,sedan,fwd,six,152,5200,17,22,13499\n",
            "nissan,gas,std,four,sedan,fwd,six,152,5200,19,25,13499\n",
            "mazda,gas,std,two,hatchback,rwd,two,101,6000,17,23,13645\n",
            "volkswagen,diesel,turbo,four,sedan,fwd,four,68,4500,33,38,13845\n",
            "peugot,diesel,turbo,four,wagon,rwd,four,95,4150,25,25,13860\n",
            "audi,gas,std,four,sedan,fwd,four,102,5500,24,30,13950\n",
            "nissan,gas,std,four,wagon,fwd,six,152,5200,17,22,14399\n",
            "mitsubishi,gas,turbo,two,hatchback,fwd,four,145,5000,19,24,14489\n",
            "mitsubishi,gas,turbo,two,hatchback,fwd,four,145,5000,19,24,14869\n",
            "saab,gas,std,two,hatchback,fwd,four,110,5250,21,28,15040\n",
            "audi,gas,std,two,sedan,fwd,five,110,5500,19,25,15250\n",
            "saab,gas,std,four,sedan,fwd,four,110,5250,21,28,15510\n",
            "peugot,gas,std,four,sedan,rwd,four,95,5000,19,24,15580\n",
            "mazda,gas,std,two,hatchback,rwd,two,135,6000,16,23,15645\n",
            "toyota,gas,std,four,sedan,rwd,six,156,5200,20,24,15690\n",
            "toyota,gas,std,four,wagon,rwd,six,156,5200,19,24,15750\n",
            "volvo,gas,std,four,sedan,rwd,four,114,5400,24,28,15985\n",
            "toyota,gas,std,two,hatchback,rwd,six,161,5200,19,24,15998\n",
            "bmw,gas,std,two,sedan,rwd,four,101,5800,23,29,16430\n",
            "alfa-romero,gas,std,two,convertible,rwd,four,111,5000,21,27,16500\n",
            "alfa-romero,gas,std,two,hatchback,rwd,six,154,5000,19,26,16500\n",
            "mercury,gas,turbo,two,hatchback,rwd,four,175,5000,19,24,16503\n",
            "volvo,gas,std,four,wagon,rwd,four,114,5400,24,28,16515\n",
            "toyota,gas,std,two,hatchback,rwd,six,161,5200,20,24,16558\n",
            "peugot,gas,std,four,sedan,rwd,four,97,5000,19,24,16630\n",
            "peugot,gas,std,four,wagon,rwd,four,95,5000,19,24,16695\n",
            "volvo,gas,std,four,sedan,rwd,four,114,5400,23,28,16845\n",
            "peugot,diesel,turbo,four,sedan,rwd,four,95,4150,28,33,16900\n",
            "bmw,gas,std,four,sedan,rwd,four,101,5800,23,29,16925\n",
            "peugot,diesel,turbo,four,wagon,rwd,four,95,4150,25,25,17075\n",
            "nissan,gas,std,two,hatchback,rwd,six,160,5200,19,25,17199\n",
            "audi,gas,std,four,sedan,4wd,five,115,5500,18,22,17450\n",
            "toyota,gas,std,two,convertible,rwd,four,116,4800,24,30,17669\n",
            "audi,gas,std,four,sedan,fwd,five,110,5500,19,25,17710\n",
            "peugot,diesel,turbo,four,sedan,rwd,four,95,4150,28,33,17950\n",
            "peugot,gas,turbo,four,sedan,rwd,four,142,5600,18,24,18150\n",
            "saab,gas,turbo,two,hatchback,fwd,four,160,5500,19,26,18150\n",
            "mazda,gas,std,four,sedan,rwd,four,120,5000,19,27,18280\n",
            "mazda,diesel,std,four,sedan,rwd,four,72,4200,31,39,18344\n",
            "nissan,gas,std,two,hatchback,rwd,six,160,5200,19,25,18399\n",
            "volvo,gas,turbo,four,sedan,rwd,four,162,5100,17,22,18420\n",
            "saab,gas,turbo,four,sedan,fwd,four,160,5500,19,26,18620\n",
            "audi,gas,std,four,wagon,fwd,five,110,5500,19,25,18920\n",
            "volvo,gas,turbo,four,wagon,rwd,four,162,5100,17,22,18950\n",
            "volvo,gas,turbo,four,sedan,rwd,four,160,5300,19,25,19045\n",
            "nissan,gas,turbo,two,hatchback,rwd,six,200,5200,17,23,19699\n",
            "bmw,gas,std,two,sedan,rwd,six,121,4250,21,28,20970\n",
            "bmw,gas,std,four,sedan,rwd,six,121,4250,21,28,21105\n",
            "volvo,gas,std,four,sedan,rwd,six,134,5500,18,23,21485\n",
            "porsche,gas,std,two,hatchback,rwd,four,143,5500,19,27,22018\n",
            "volvo,diesel,turbo,four,sedan,rwd,six,106,4800,26,27,22470\n",
            "volvo,gas,turbo,four,sedan,rwd,four,114,5400,19,25,22625\n",
            "audi,gas,turbo,four,sedan,fwd,five,140,5500,17,20,23875\n",
            "bmw,gas,std,four,sedan,rwd,six,121,4250,20,25,24565\n",
            "mercedes-benz,diesel,turbo,four,sedan,rwd,five,123,4350,22,25,25552\n",
            "mercedes-benz,diesel,turbo,two,hardtop,rwd,five,123,4350,22,25,28176\n",
            "mercedes-benz,diesel,turbo,four,wagon,rwd,five,123,4350,22,25,28248\n",
            "bmw,gas,std,four,sedan,rwd,six,182,5400,16,22,30760\n",
            "mercedes-benz,diesel,turbo,four,sedan,rwd,five,123,4350,22,25,31600\n",
            "jaguar,gas,std,four,sedan,rwd,six,176,4750,15,19,32250\n",
            "porsche,gas,std,two,hardtop,rwd,six,207,5900,17,25,32528\n",
            "porsche,gas,std,two,hardtop,rwd,six,207,5900,17,25,34028\n",
            "mercedes-benz,gas,std,four,sedan,rwd,eight,155,4750,16,18,34184\n",
            "mercedes-benz,gas,std,two,convertible,rwd,eight,155,4750,16,18,35056\n",
            "jaguar,gas,std,four,sedan,rwd,six,176,4750,15,19,35550\n",
            "jaguar,gas,std,two,sedan,rwd,twelve,262,5000,13,17,36000\n",
            "bmw,gas,std,four,sedan,rwd,six,182,5400,15,20,36880\n",
            "porsche,gas,std,two,convertible,rwd,six,207,5900,17,25,37028\n",
            "mercedes-benz,gas,std,four,sedan,rwd,eight,184,4500,14,16,40960\n",
            "bmw,gas,std,two,sedan,rwd,six,182,5400,16,22,41315\n",
            "mercedes-benz,gas,std,two,hardtop,rwd,eight,184,4500,14,16,45400\n"
          ],
          "name": "stdout"
        }
      ]
    },
    {
      "cell_type": "code",
      "metadata": {
        "id": "4tazmCWwWejq",
        "colab_type": "code",
        "colab": {
          "base_uri": "https://localhost:8080/",
          "height": 102
        },
        "outputId": "526796a9-d7dd-436b-dcad-4d5255f9ebbe"
      },
      "source": [
        "# map() to create a new rdd - Transformation (Lazy Evaluation)\n",
        "tsv_data = auto_data_rdd.map(lambda x:x.replace(',','\\t'))\n",
        "tsv_data.take(5)"
      ],
      "execution_count": 52,
      "outputs": [
        {
          "output_type": "execute_result",
          "data": {
            "text/plain": [
              "['MAKE\\tFUELTYPE\\tASPIRE\\tDOORS\\tBODY\\tDRIVE\\tCYLINDERS\\tHP\\tRPM\\tMPG-CITY\\tMPG-HWY\\tPRICE',\n",
              " 'subaru\\tgas\\tstd\\ttwo\\thatchback\\tfwd\\tfour\\t69\\t4900\\t31\\t36\\t5118',\n",
              " 'chevrolet\\tgas\\tstd\\ttwo\\thatchback\\tfwd\\tthree\\t48\\t5100\\t47\\t53\\t5151',\n",
              " 'mazda\\tgas\\tstd\\ttwo\\thatchback\\tfwd\\tfour\\t68\\t5000\\t30\\t31\\t5195',\n",
              " 'toyota\\tgas\\tstd\\ttwo\\thatchback\\tfwd\\tfour\\t62\\t4800\\t35\\t39\\t5348']"
            ]
          },
          "metadata": {
            "tags": []
          },
          "execution_count": 52
        }
      ]
    },
    {
      "cell_type": "code",
      "metadata": {
        "id": "w5lp0yziahNI",
        "colab_type": "code",
        "colab": {}
      },
      "source": [
        "# Filter by Toyota word\n",
        "toyota_data = auto_data_rdd.filter(lambda x: 'toyota' in x)"
      ],
      "execution_count": 53,
      "outputs": []
    },
    {
      "cell_type": "code",
      "metadata": {
        "id": "FwJttBe8bj7K",
        "colab_type": "code",
        "colab": {
          "base_uri": "https://localhost:8080/",
          "height": 34
        },
        "outputId": "8c11ca25-1cab-4cf8-e8c9-6e73640c2505"
      },
      "source": [
        "# Action\n",
        "toyota_data.count()"
      ],
      "execution_count": 54,
      "outputs": [
        {
          "output_type": "execute_result",
          "data": {
            "text/plain": [
              "32"
            ]
          },
          "metadata": {
            "tags": []
          },
          "execution_count": 54
        }
      ]
    },
    {
      "cell_type": "code",
      "metadata": {
        "id": "6YT86sk3bzAQ",
        "colab_type": "code",
        "colab": {
          "base_uri": "https://localhost:8080/",
          "height": 357
        },
        "outputId": "7dbdd0ae-e6bf-4243-abef-d18533113247"
      },
      "source": [
        "# See results\n",
        "toyota_data.take(20)"
      ],
      "execution_count": 55,
      "outputs": [
        {
          "output_type": "execute_result",
          "data": {
            "text/plain": [
              "['toyota,gas,std,two,hatchback,fwd,four,62,4800,35,39,5348',\n",
              " 'toyota,gas,std,two,hatchback,fwd,four,62,4800,31,38,6338',\n",
              " 'toyota,gas,std,four,hatchback,fwd,four,62,4800,31,38,6488',\n",
              " 'toyota,gas,std,four,wagon,fwd,four,62,4800,31,37,6918',\n",
              " 'toyota,gas,std,four,sedan,fwd,four,70,4800,30,37,6938',\n",
              " 'toyota,gas,std,four,hatchback,fwd,four,70,4800,30,37,7198',\n",
              " 'toyota,gas,std,four,sedan,fwd,four,70,4800,38,47,7738',\n",
              " 'toyota,diesel,std,four,hatchback,fwd,four,56,4500,38,47,7788',\n",
              " 'toyota,gas,std,four,wagon,4wd,four,62,4800,27,32,7898',\n",
              " 'toyota,diesel,std,four,sedan,fwd,four,56,4500,34,36,7898',\n",
              " 'toyota,gas,std,two,sedan,rwd,four,70,4800,29,34,8058',\n",
              " 'toyota,gas,std,two,hatchback,rwd,four,70,4800,29,34,8238',\n",
              " 'toyota,gas,std,four,hatchback,fwd,four,70,4800,28,34,8358',\n",
              " 'toyota,gas,std,two,hardtop,rwd,four,116,4800,24,30,8449',\n",
              " 'toyota,gas,std,four,wagon,4wd,four,62,4800,27,32,8778',\n",
              " 'toyota,gas,std,four,sedan,fwd,four,92,4200,29,34,8948',\n",
              " 'toyota,gas,std,four,sedan,fwd,four,70,4800,28,34,9258',\n",
              " 'toyota,gas,std,two,sedan,rwd,four,112,6600,26,29,9298',\n",
              " 'toyota,gas,std,two,hatchback,rwd,four,112,6600,26,29,9538',\n",
              " 'toyota,gas,std,two,hardtop,rwd,four,116,4800,24,30,9639']"
            ]
          },
          "metadata": {
            "tags": []
          },
          "execution_count": 55
        }
      ]
    },
    {
      "cell_type": "code",
      "metadata": {
        "id": "82xcGGmPbpvA",
        "colab_type": "code",
        "colab": {}
      },
      "source": [
        "# Write results\n",
        "save_rdd = open('/content/drive/My Drive/Colab Notebooks/08-apache-spark/data/toyota_data.csv','w')\n",
        "save_rdd.write('\\n'.join(auto_data_rdd.collect()))\n",
        "save_rdd.close()"
      ],
      "execution_count": 56,
      "outputs": []
    }
  ]
}
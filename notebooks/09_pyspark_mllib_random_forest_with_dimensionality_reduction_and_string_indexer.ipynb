{
  "nbformat": 4,
  "nbformat_minor": 0,
  "metadata": {
    "colab": {
      "name": "09_pyspark_mllib_random_forest_with_dimensionality_reduction_and_string_indexer.ipynb",
      "provenance": [],
      "collapsed_sections": [],
      "mount_file_id": "125qJdoQuosoHSax13EkNktWtxWat6lEa",
      "authorship_tag": "ABX9TyNw50qhHwybXWkAA/Cw79T8",
      "include_colab_link": true
    },
    "kernelspec": {
      "name": "python3",
      "display_name": "Python 3"
    }
  },
  "cells": [
    {
      "cell_type": "markdown",
      "metadata": {
        "id": "view-in-github",
        "colab_type": "text"
      },
      "source": [
        "<a href=\"https://colab.research.google.com/github/ralsouza/apache_spark_real_time_analytics/blob/master/notebooks/09_pyspark_mllib_random_forest_with_dimensionality_reduction_and_string_indexer.ipynb\" target=\"_parent\"><img src=\"https://colab.research.google.com/assets/colab-badge.svg\" alt=\"Open In Colab\"/></a>"
      ]
    },
    {
      "cell_type": "markdown",
      "metadata": {
        "id": "l0XTkQi1FVFO"
      },
      "source": [
        "# Spark MLLib - Classification - Random Forest\n",
        "Description:\n",
        "*   One of the most popular;\n",
        "*   It's an Ensemble Method algorithm;\n",
        "*   The Random Forest algorithm creates many models and each model is used to predict outcomes individually. A vote is made by Random Forest to pick the best model;\n",
        "\n",
        "Advantages:\n",
        "*   Usually offers the best performance \n",
        "*   Efficient with many predict variables\n",
        "*   Works well in parallelized way\n",
        "*   Excellent with missing values\n",
        "\n",
        "Disadvangates:\n",
        "* Slower\n",
        "* BIAS can be occur frequently\n",
        "\n",
        "Application:\n",
        "* Scientific research;\n",
        "* Medical diagnostic;\n",
        "\n",
        "\n",
        "\n"
      ]
    },
    {
      "cell_type": "markdown",
      "metadata": {
        "id": "hYdHvCvcEX3l"
      },
      "source": [
        "# Setup"
      ]
    },
    {
      "cell_type": "code",
      "metadata": {
        "id": "YaAdWxyjA3ji"
      },
      "source": [
        "!apt-get update"
      ],
      "execution_count": null,
      "outputs": []
    },
    {
      "cell_type": "code",
      "metadata": {
        "id": "Q4Wj7WWxE0gC"
      },
      "source": [
        "# Install the dependencies\n",
        "!apt-get install openjdk-8-jdk-headless -qq > /dev/null\n",
        "!wget -q https://archive.apache.org/dist/spark/spark-2.4.4/spark-2.4.4-bin-hadoop2.7.tgz\n",
        "!tar xf spark-2.4.4-bin-hadoop2.7.tgz\n",
        "!pip install -q findspark"
      ],
      "execution_count": null,
      "outputs": []
    },
    {
      "cell_type": "code",
      "metadata": {
        "id": "uNYc5GvTE2Ur"
      },
      "source": [
        "# Environment variables\n",
        "import os\n",
        "os.environ[\"JAVA_HOME\"] = \"/usr/lib/jvm/java-8-openjdk-amd64\"\n",
        "os.environ[\"SPARK_HOME\"] = \"/content/spark-2.4.4-bin-hadoop2.7\""
      ],
      "execution_count": null,
      "outputs": []
    },
    {
      "cell_type": "code",
      "metadata": {
        "id": "VO8i1-xpE4t3"
      },
      "source": [
        "# Make pyspark \"importable\"\n",
        "import findspark\n",
        "findspark.init('spark-2.4.4-bin-hadoop2.7')"
      ],
      "execution_count": null,
      "outputs": []
    },
    {
      "cell_type": "code",
      "metadata": {
        "id": "iUg5ciCEE86m"
      },
      "source": [
        "# Libraries and Context Setup\n",
        "import pyspark\n",
        "from pyspark.sql import SparkSession\n",
        "from pyspark import SparkContext, SparkConf"
      ],
      "execution_count": null,
      "outputs": []
    },
    {
      "cell_type": "code",
      "metadata": {
        "id": "lsYMUq-WE_f9"
      },
      "source": [
        "# create the session\n",
        "conf = SparkConf().set(\"spark.ui.port\", \"4050\")\n",
        "\n",
        "# create the context\n",
        "sc = pyspark.SparkContext(conf=conf)\n",
        "\n",
        "\n",
        "# Instance Spark Session\n",
        "spark = SparkSession.builder.master('local').appName('spark_ml_lib').getOrCreate()\n",
        "\n",
        "# Create the SQL Context\n",
        "sqlContext = pyspark.SQLContext(sc)"
      ],
      "execution_count": null,
      "outputs": []
    },
    {
      "cell_type": "markdown",
      "metadata": {
        "id": "86qN19JU4w8Q"
      },
      "source": [
        "# Business Problem\n",
        "### Classify customers according to the possibility of paying the credit or not."
      ]
    },
    {
      "cell_type": "markdown",
      "metadata": {
        "id": "fI0t4-0MFB98"
      },
      "source": [
        "# Libraries"
      ]
    },
    {
      "cell_type": "code",
      "metadata": {
        "id": "T5t05Fs-FDIe"
      },
      "source": [
        "import math\n",
        "from pyspark.ml.linalg         import Vectors\n",
        "from pyspark.sql               import Row\n",
        "from pyspark.ml.feature        import StringIndexer\n",
        "from pyspark.ml.feature        import PCA\n",
        "from pyspark.ml.classification import RandomForestClassifier\n",
        "from pyspark.ml.evaluation     import MulticlassClassificationEvaluator"
      ],
      "execution_count": null,
      "outputs": []
    },
    {
      "cell_type": "code",
      "metadata": {
        "id": "gv4EuvkW7tan"
      },
      "source": [
        "# Create SparkSession to work with Dataframes on the Spark\n",
        "sp_session = SparkSession.builder.master('local').appName('spark_mllib_app').getOrCreate()"
      ],
      "execution_count": null,
      "outputs": []
    },
    {
      "cell_type": "code",
      "metadata": {
        "id": "n0GJsWHRHogB"
      },
      "source": [
        "rdd_bank = sc.textFile('/content/drive/My Drive/Colab Notebooks/08-apache-spark/data/mllib/bank.csv')"
      ],
      "execution_count": null,
      "outputs": []
    },
    {
      "cell_type": "code",
      "metadata": {
        "id": "DbBcDXJAI-44",
        "outputId": "57631d06-4b1b-4c4b-8b18-27861437a4c2",
        "colab": {
          "base_uri": "https://localhost:8080/",
          "height": 34
        }
      },
      "source": [
        "rdd_bank.cache()"
      ],
      "execution_count": null,
      "outputs": [
        {
          "output_type": "execute_result",
          "data": {
            "text/plain": [
              "/content/drive/My Drive/Colab Notebooks/08-apache-spark/data/mllib/bank.csv MapPartitionsRDD[1] at textFile at NativeMethodAccessorImpl.java:0"
            ]
          },
          "metadata": {
            "tags": []
          },
          "execution_count": 9
        }
      ]
    },
    {
      "cell_type": "code",
      "metadata": {
        "id": "JWwC_DwFJCUG",
        "outputId": "2bdc00b4-fb8b-4682-8e33-eb7504fcbb6e",
        "colab": {
          "base_uri": "https://localhost:8080/",
          "height": 34
        }
      },
      "source": [
        "rdd_bank.count()"
      ],
      "execution_count": null,
      "outputs": [
        {
          "output_type": "execute_result",
          "data": {
            "text/plain": [
              "542"
            ]
          },
          "metadata": {
            "tags": []
          },
          "execution_count": 10
        }
      ]
    },
    {
      "cell_type": "code",
      "metadata": {
        "id": "U8Xy_HJNJFrA",
        "outputId": "214e810e-b137-408b-d40f-2d26c8b610c1",
        "colab": {
          "base_uri": "https://localhost:8080/",
          "height": 102
        }
      },
      "source": [
        "rdd_bank.take(5)"
      ],
      "execution_count": null,
      "outputs": [
        {
          "output_type": "execute_result",
          "data": {
            "text/plain": [
              "['\"age\";\"job\";\"marital\";\"education\";\"default\";\"balance\";\"housing\";\"loan\";\"contact\";\"day\";\"month\";\"duration\";\"campaign\";\"pdays\";\"previous\";\"poutcome\";\"y\"',\n",
              " '30;\"unemployed\";\"married\";\"primary\";\"no\";1787;\"no\";\"no\";\"cellular\";19;\"oct\";79;1;-1;0;\"unknown\";\"no\"',\n",
              " '33;\"services\";\"married\";\"secondary\";\"no\";4789;\"yes\";\"yes\";\"cellular\";11;\"may\";220;1;339;4;\"failure\";\"yes\"',\n",
              " '35;\"management\";\"single\";\"tertiary\";\"no\";1350;\"yes\";\"no\";\"cellular\";16;\"apr\";185;1;330;1;\"failure\";\"yes\"',\n",
              " '30;\"management\";\"married\";\"tertiary\";\"no\";1476;\"yes\";\"yes\";\"unknown\";3;\"jun\";199;4;-1;0;\"unknown\";\"yes\"']"
            ]
          },
          "metadata": {
            "tags": []
          },
          "execution_count": 11
        }
      ]
    },
    {
      "cell_type": "markdown",
      "metadata": {
        "id": "PJ9QhdX6JSY0"
      },
      "source": [
        "# Data Cleansing"
      ]
    },
    {
      "cell_type": "code",
      "metadata": {
        "id": "iMpVuYB9JH_N"
      },
      "source": [
        "# Removing the header by the first row\n",
        "first_row = rdd_bank.first()"
      ],
      "execution_count": null,
      "outputs": []
    },
    {
      "cell_type": "code",
      "metadata": {
        "id": "B5MHR28EKdIM"
      },
      "source": [
        "rdd_bank2 = rdd_bank.filter(lambda x: x != first_row)"
      ],
      "execution_count": null,
      "outputs": []
    },
    {
      "cell_type": "code",
      "metadata": {
        "id": "oWmS24ijKuha",
        "outputId": "7e86ff94-c741-446c-b9ad-6f6d7cc7abc6",
        "colab": {
          "base_uri": "https://localhost:8080/",
          "height": 34
        }
      },
      "source": [
        "rdd_bank2.count()"
      ],
      "execution_count": null,
      "outputs": [
        {
          "output_type": "execute_result",
          "data": {
            "text/plain": [
              "541"
            ]
          },
          "metadata": {
            "tags": []
          },
          "execution_count": 14
        }
      ]
    },
    {
      "cell_type": "code",
      "metadata": {
        "id": "vgKwadZwKqma"
      },
      "source": [
        "# Transform string values to numeric values\n",
        "def transform_to_numeric(input_str):\n",
        "\n",
        "  att_list = input_str.replace(\"\\\"\",\"\").split(';')\n",
        "\n",
        "  age       = float( att_list[0])\n",
        "  outcome   = 0.0 if att_list[16] == 'no'        else 1.0\n",
        "  single    = 1.0 if att_list[2]  == 'single'    else 0.0\n",
        "  married   = 1.0 if att_list[2]  == 'married'   else 0.0\n",
        "  divorced  = 1.0 if att_list[2]  == 'divorced'  else 0.0\n",
        "  primary   = 1.0 if att_list[3]  == 'primary'   else 0.0\n",
        "  secondary = 1.0 if att_list[3]  == 'secondary' else 0.0\n",
        "  tertiary  = 1.0 if att_list[3]  == 'tertiary'  else 0.0\n",
        "  default   = 0.0 if att_list[4]  == 'no'        else 1.0\n",
        "  balance   = float( att_list[5])\n",
        "  loan      = 0.0 if att_list[7]  == 'no'        else 1.0\n",
        "\n",
        "  # Create rows with transformed objects\n",
        "  rows = Row(\n",
        "             OUTCOME = outcome     ,AGE = age           ,SINGLE = single,\n",
        "             MARRIED = married     ,DIVORCED = divorced ,PRIMARY = primary,\n",
        "             SECONDARY = secondary ,TERTIARY = tertiary ,DEFAULT = default,\n",
        "             BALANCE = balance     ,LOAN = loan\n",
        "             )\n",
        "  \n",
        "  return rows"
      ],
      "execution_count": null,
      "outputs": []
    },
    {
      "cell_type": "code",
      "metadata": {
        "id": "eeAayGEyNk4l"
      },
      "source": [
        "# Apply the function\n",
        "rdd_bank3 = rdd_bank2.map(transform_to_numeric)"
      ],
      "execution_count": null,
      "outputs": []
    },
    {
      "cell_type": "code",
      "metadata": {
        "id": "C9I4mYM1Ol1c",
        "outputId": "21f34260-5971-4571-cd66-9550fb2dd499",
        "colab": {
          "base_uri": "https://localhost:8080/",
          "height": 272
        }
      },
      "source": [
        "rdd_bank3.collect()[:15]"
      ],
      "execution_count": null,
      "outputs": [
        {
          "output_type": "execute_result",
          "data": {
            "text/plain": [
              "[Row(AGE=30.0, BALANCE=1787.0, DEFAULT=0.0, DIVORCED=0.0, LOAN=0.0, MARRIED=1.0, OUTCOME=0.0, PRIMARY=1.0, SECONDARY=0.0, SINGLE=0.0, TERTIARY=0.0),\n",
              " Row(AGE=33.0, BALANCE=4789.0, DEFAULT=0.0, DIVORCED=0.0, LOAN=1.0, MARRIED=1.0, OUTCOME=1.0, PRIMARY=0.0, SECONDARY=1.0, SINGLE=0.0, TERTIARY=0.0),\n",
              " Row(AGE=35.0, BALANCE=1350.0, DEFAULT=0.0, DIVORCED=0.0, LOAN=0.0, MARRIED=0.0, OUTCOME=1.0, PRIMARY=0.0, SECONDARY=0.0, SINGLE=1.0, TERTIARY=1.0),\n",
              " Row(AGE=30.0, BALANCE=1476.0, DEFAULT=0.0, DIVORCED=0.0, LOAN=1.0, MARRIED=1.0, OUTCOME=1.0, PRIMARY=0.0, SECONDARY=0.0, SINGLE=0.0, TERTIARY=1.0),\n",
              " Row(AGE=59.0, BALANCE=0.0, DEFAULT=0.0, DIVORCED=0.0, LOAN=0.0, MARRIED=1.0, OUTCOME=0.0, PRIMARY=0.0, SECONDARY=1.0, SINGLE=0.0, TERTIARY=0.0),\n",
              " Row(AGE=35.0, BALANCE=747.0, DEFAULT=0.0, DIVORCED=0.0, LOAN=0.0, MARRIED=0.0, OUTCOME=1.0, PRIMARY=0.0, SECONDARY=0.0, SINGLE=1.0, TERTIARY=1.0),\n",
              " Row(AGE=36.0, BALANCE=307.0, DEFAULT=0.0, DIVORCED=0.0, LOAN=0.0, MARRIED=1.0, OUTCOME=1.0, PRIMARY=0.0, SECONDARY=0.0, SINGLE=0.0, TERTIARY=1.0),\n",
              " Row(AGE=39.0, BALANCE=147.0, DEFAULT=0.0, DIVORCED=0.0, LOAN=0.0, MARRIED=1.0, OUTCOME=0.0, PRIMARY=0.0, SECONDARY=1.0, SINGLE=0.0, TERTIARY=0.0),\n",
              " Row(AGE=41.0, BALANCE=221.0, DEFAULT=0.0, DIVORCED=0.0, LOAN=0.0, MARRIED=1.0, OUTCOME=0.0, PRIMARY=0.0, SECONDARY=0.0, SINGLE=0.0, TERTIARY=1.0),\n",
              " Row(AGE=43.0, BALANCE=-88.0, DEFAULT=0.0, DIVORCED=0.0, LOAN=1.0, MARRIED=1.0, OUTCOME=1.0, PRIMARY=1.0, SECONDARY=0.0, SINGLE=0.0, TERTIARY=0.0),\n",
              " Row(AGE=39.0, BALANCE=9374.0, DEFAULT=0.0, DIVORCED=0.0, LOAN=0.0, MARRIED=1.0, OUTCOME=0.0, PRIMARY=0.0, SECONDARY=1.0, SINGLE=0.0, TERTIARY=0.0),\n",
              " Row(AGE=43.0, BALANCE=264.0, DEFAULT=0.0, DIVORCED=0.0, LOAN=0.0, MARRIED=1.0, OUTCOME=0.0, PRIMARY=0.0, SECONDARY=1.0, SINGLE=0.0, TERTIARY=0.0),\n",
              " Row(AGE=36.0, BALANCE=1109.0, DEFAULT=0.0, DIVORCED=0.0, LOAN=0.0, MARRIED=1.0, OUTCOME=0.0, PRIMARY=0.0, SECONDARY=0.0, SINGLE=0.0, TERTIARY=1.0),\n",
              " Row(AGE=20.0, BALANCE=502.0, DEFAULT=0.0, DIVORCED=0.0, LOAN=0.0, MARRIED=0.0, OUTCOME=1.0, PRIMARY=0.0, SECONDARY=1.0, SINGLE=1.0, TERTIARY=0.0),\n",
              " Row(AGE=31.0, BALANCE=360.0, DEFAULT=0.0, DIVORCED=0.0, LOAN=1.0, MARRIED=1.0, OUTCOME=1.0, PRIMARY=0.0, SECONDARY=1.0, SINGLE=0.0, TERTIARY=0.0)]"
            ]
          },
          "metadata": {
            "tags": []
          },
          "execution_count": 30
        }
      ]
    },
    {
      "cell_type": "markdown",
      "metadata": {
        "id": "_9e9GHfwQWox"
      },
      "source": [
        "# Exploratoy Data Analysis"
      ]
    },
    {
      "cell_type": "code",
      "metadata": {
        "id": "csR7XpsJOo22"
      },
      "source": [
        "# Transform to dataframe\n",
        "df_bank = sp_session.createDataFrame(rdd_bank3)"
      ],
      "execution_count": null,
      "outputs": []
    },
    {
      "cell_type": "code",
      "metadata": {
        "id": "WarrkxtIQh3-",
        "outputId": "c8e40f70-233c-4bee-bf00-e1ae97bac8d4",
        "colab": {
          "base_uri": "https://localhost:8080/",
          "height": 207
        }
      },
      "source": [
        "# Descritive analysis\n",
        "df_bank.describe().show()"
      ],
      "execution_count": null,
      "outputs": [
        {
          "output_type": "stream",
          "text": [
            "+-------+------------------+------------------+--------------------+-------------------+-------------------+------------------+-------------------+------------------+------------------+------------------+------------------+\n",
            "|summary|               AGE|           BALANCE|             DEFAULT|           DIVORCED|               LOAN|           MARRIED|            OUTCOME|           PRIMARY|         SECONDARY|            SINGLE|          TERTIARY|\n",
            "+-------+------------------+------------------+--------------------+-------------------+-------------------+------------------+-------------------+------------------+------------------+------------------+------------------+\n",
            "|  count|               541|               541|                 541|                541|                541|               541|                541|               541|               541|               541|               541|\n",
            "|   mean| 41.26987060998152|1444.7818853974122|0.022181146025878003|0.10905730129390019|0.16266173752310537|0.6155268022181146| 0.3974121996303142|0.1534195933456562|0.4953789279112754|0.2754158964879852|0.3142329020332717|\n",
            "| stddev|10.555374170161665|2423.2722735171924|  0.1474086424402979| 0.3119995822161848|0.36939832735881994|0.4869207382098541|0.48981549262335145| 0.360725025449802|0.5004413742994283|0.4471370479760759|0.4646392600205975|\n",
            "|    min|              19.0|           -1206.0|                 0.0|                0.0|                0.0|               0.0|                0.0|               0.0|               0.0|               0.0|               0.0|\n",
            "|    max|              78.0|           16873.0|                 1.0|                1.0|                1.0|               1.0|                1.0|               1.0|               1.0|               1.0|               1.0|\n",
            "+-------+------------------+------------------+--------------------+-------------------+-------------------+------------------+-------------------+------------------+------------------+------------------+------------------+\n",
            "\n"
          ],
          "name": "stdout"
        }
      ]
    },
    {
      "cell_type": "code",
      "metadata": {
        "id": "YnGfkHmKQv-M",
        "outputId": "e65d09d1-7ea1-4bef-8fb0-baed0992a188",
        "colab": {
          "base_uri": "https://localhost:8080/",
          "height": 204
        }
      },
      "source": [
        "# Measure data correlation\n",
        "for i in df_bank.columns:\n",
        "  if not(isinstance(df_bank.select(i).take(1)[0][0],str)):\n",
        "    print('Correlation with OUTCOME: ', i, df_bank.stat.corr('OUTCOME',i))"
      ],
      "execution_count": null,
      "outputs": [
        {
          "output_type": "stream",
          "text": [
            "Correlation with OUTCOME:  AGE -0.1823210432736525\n",
            "Correlation with OUTCOME:  BALANCE 0.03657486611997681\n",
            "Correlation with OUTCOME:  DEFAULT -0.04536965206737378\n",
            "Correlation with OUTCOME:  DIVORCED -0.07812659940926987\n",
            "Correlation with OUTCOME:  LOAN -0.030420586112717318\n",
            "Correlation with OUTCOME:  MARRIED -0.3753241299133561\n",
            "Correlation with OUTCOME:  OUTCOME 1.0\n",
            "Correlation with OUTCOME:  PRIMARY -0.12561548832677982\n",
            "Correlation with OUTCOME:  SECONDARY 0.026392774894072973\n",
            "Correlation with OUTCOME:  SINGLE 0.46323284934360515\n",
            "Correlation with OUTCOME:  TERTIARY 0.08494840766635618\n"
          ],
          "name": "stdout"
        }
      ]
    },
    {
      "cell_type": "markdown",
      "metadata": {
        "id": "kGLo8vf0R-c5"
      },
      "source": [
        "# Data pre-processing"
      ]
    },
    {
      "cell_type": "code",
      "metadata": {
        "id": "WJ9jK1iYQzND"
      },
      "source": [
        "# Create a LabeledPoint (target,vector[features])\n",
        "# We will use a sparse vector, because de zeros and ones are the same proportion\n",
        "# in the dataset\n",
        "def transform_var(row):\n",
        "  obj = (row['OUTCOME'],Vectors.dense([row['AGE']    ,row['BALANCE'],\n",
        "                                       row['DEFAULT'],row['DIVORCED'],\n",
        "                                       row['LOAN']   ,row['MARRIED'],\n",
        "                                       row['PRIMARY'],row['SECONDARY'],\n",
        "                                       row['SINGLE'] ,row['TERTIARY']\n",
        "                                       ]))\n",
        "  \n",
        "  return obj"
      ],
      "execution_count": null,
      "outputs": []
    },
    {
      "cell_type": "code",
      "metadata": {
        "id": "l9VD_NpbQSvV"
      },
      "source": [
        "rdd_bank4 = df_bank.rdd.map(transform_var)"
      ],
      "execution_count": null,
      "outputs": []
    },
    {
      "cell_type": "code",
      "metadata": {
        "id": "Cw7-OuHFQhRm",
        "outputId": "b6a68001-dac2-4554-a8dc-b366d9cd3d26",
        "colab": {
          "base_uri": "https://localhost:8080/",
          "height": 272
        }
      },
      "source": [
        "rdd_bank4.collect()[:15]"
      ],
      "execution_count": null,
      "outputs": [
        {
          "output_type": "execute_result",
          "data": {
            "text/plain": [
              "[(0.0, DenseVector([30.0, 1787.0, 0.0, 0.0, 0.0, 1.0, 1.0, 0.0, 0.0, 0.0])),\n",
              " (1.0, DenseVector([33.0, 4789.0, 0.0, 0.0, 1.0, 1.0, 0.0, 1.0, 0.0, 0.0])),\n",
              " (1.0, DenseVector([35.0, 1350.0, 0.0, 0.0, 0.0, 0.0, 0.0, 0.0, 1.0, 1.0])),\n",
              " (1.0, DenseVector([30.0, 1476.0, 0.0, 0.0, 1.0, 1.0, 0.0, 0.0, 0.0, 1.0])),\n",
              " (0.0, DenseVector([59.0, 0.0, 0.0, 0.0, 0.0, 1.0, 0.0, 1.0, 0.0, 0.0])),\n",
              " (1.0, DenseVector([35.0, 747.0, 0.0, 0.0, 0.0, 0.0, 0.0, 0.0, 1.0, 1.0])),\n",
              " (1.0, DenseVector([36.0, 307.0, 0.0, 0.0, 0.0, 1.0, 0.0, 0.0, 0.0, 1.0])),\n",
              " (0.0, DenseVector([39.0, 147.0, 0.0, 0.0, 0.0, 1.0, 0.0, 1.0, 0.0, 0.0])),\n",
              " (0.0, DenseVector([41.0, 221.0, 0.0, 0.0, 0.0, 1.0, 0.0, 0.0, 0.0, 1.0])),\n",
              " (1.0, DenseVector([43.0, -88.0, 0.0, 0.0, 1.0, 1.0, 1.0, 0.0, 0.0, 0.0])),\n",
              " (0.0, DenseVector([39.0, 9374.0, 0.0, 0.0, 0.0, 1.0, 0.0, 1.0, 0.0, 0.0])),\n",
              " (0.0, DenseVector([43.0, 264.0, 0.0, 0.0, 0.0, 1.0, 0.0, 1.0, 0.0, 0.0])),\n",
              " (0.0, DenseVector([36.0, 1109.0, 0.0, 0.0, 0.0, 1.0, 0.0, 0.0, 0.0, 1.0])),\n",
              " (1.0, DenseVector([20.0, 502.0, 0.0, 0.0, 0.0, 0.0, 0.0, 1.0, 1.0, 0.0])),\n",
              " (1.0, DenseVector([31.0, 360.0, 0.0, 0.0, 1.0, 1.0, 0.0, 1.0, 0.0, 0.0]))]"
            ]
          },
          "metadata": {
            "tags": []
          },
          "execution_count": 37
        }
      ]
    },
    {
      "cell_type": "code",
      "metadata": {
        "id": "vYPpWQhfQmRc"
      },
      "source": [
        "# Convert to dataframe again\n",
        "df_bank = sp_session.createDataFrame(rdd_bank4,['label','features'])"
      ],
      "execution_count": null,
      "outputs": []
    },
    {
      "cell_type": "code",
      "metadata": {
        "id": "oGdB3oU3TXgE",
        "outputId": "228d5b0d-0de9-435b-90ea-894787e702e7",
        "colab": {
          "base_uri": "https://localhost:8080/",
          "height": 289
        }
      },
      "source": [
        "# show results\n",
        "df_bank.select('features','label').show(10)"
      ],
      "execution_count": null,
      "outputs": [
        {
          "output_type": "stream",
          "text": [
            "+--------------------+-----+\n",
            "|            features|label|\n",
            "+--------------------+-----+\n",
            "|[30.0,1787.0,0.0,...|  0.0|\n",
            "|[33.0,4789.0,0.0,...|  1.0|\n",
            "|[35.0,1350.0,0.0,...|  1.0|\n",
            "|[30.0,1476.0,0.0,...|  1.0|\n",
            "|[59.0,0.0,0.0,0.0...|  0.0|\n",
            "|[35.0,747.0,0.0,0...|  1.0|\n",
            "|[36.0,307.0,0.0,0...|  1.0|\n",
            "|[39.0,147.0,0.0,0...|  0.0|\n",
            "|[41.0,221.0,0.0,0...|  0.0|\n",
            "|[43.0,-88.0,0.0,0...|  1.0|\n",
            "+--------------------+-----+\n",
            "only showing top 10 rows\n",
            "\n"
          ],
          "name": "stdout"
        }
      ]
    },
    {
      "cell_type": "markdown",
      "metadata": {
        "id": "6yazZSNMT9_V"
      },
      "source": [
        "## Applying PCA"
      ]
    },
    {
      "cell_type": "code",
      "metadata": {
        "id": "NqaX9641Tf4L"
      },
      "source": [
        "pca_bank = PCA(k=3, inputCol='features', outputCol='pca_features')\n",
        "pca_model = pca_bank.fit(df_bank)\n",
        "pca_result = pca_model.transform(df_bank).select('label','pca_features')"
      ],
      "execution_count": null,
      "outputs": []
    },
    {
      "cell_type": "code",
      "metadata": {
        "id": "Xs-tuLfnUaKY",
        "outputId": "5e9bea52-4128-4438-bb47-cb7f23aa3197",
        "colab": {
          "base_uri": "https://localhost:8080/",
          "height": 459
        }
      },
      "source": [
        "pca_result.show(truncate=False)"
      ],
      "execution_count": null,
      "outputs": [
        {
          "output_type": "stream",
          "text": [
            "+-----+------------------------------------------------------------+\n",
            "|label|pca_features                                                |\n",
            "+-----+------------------------------------------------------------+\n",
            "|0.0  |[-1787.018897197381,28.86209683775489,-0.06459982604876296] |\n",
            "|1.0  |[-4789.020177138492,29.922562636340885,-0.9830243513096447] |\n",
            "|1.0  |[-1350.022213163262,34.10110809796657,0.8951427168301616]   |\n",
            "|1.0  |[-1476.0189517184556,29.051333993596376,0.3952723868021922] |\n",
            "|0.0  |[-0.037889185366455545,58.9897182000177,-0.729079238366194] |\n",
            "|1.0  |[-747.0223377634923,34.488291981817554,0.9045654956970024]  |\n",
            "|1.0  |[-307.0230691022592,35.799850539655154,0.5170631523785959]  |\n",
            "|0.0  |[-147.0250121617634,38.90107856650326,-0.8069627548799431]  |\n",
            "|0.0  |[-221.0262985348787,40.853633675694894,0.53730363658032]    |\n",
            "|1.0  |[87.9723868768871,43.06265944115107,-0.06701642871171626]   |\n",
            "|0.0  |[-9374.023105550941,32.9764588379908,-0.9511484606914545]   |\n",
            "|0.0  |[-264.02755731528384,42.824803639813474,-0.7936737710234711]|\n",
            "|0.0  |[-1109.0229033818864,35.28488955317342,0.504530700220708]   |\n",
            "|1.0  |[-502.012736403296,19.649271797807508,-0.486159938202079]   |\n",
            "|1.0  |[-360.0198076551079,30.766980637614004,-0.9213732295769713] |\n",
            "|0.0  |[-194.02563994730255,39.87162681803836,0.4530987690401236]  |\n",
            "|0.0  |[-4073.0351205683055,53.37532349166361,-0.804063931764698]  |\n",
            "|1.0  |[-2317.0232980131414,35.479626424872734,0.8875905344623362] |\n",
            "|0.0  |[220.9838976313296,25.12353896656834,0.34603890246558655]   |\n",
            "|1.0  |[-132.01987660190264,30.913009397389693,-0.8369629258629339]|\n",
            "+-----+------------------------------------------------------------+\n",
            "only showing top 20 rows\n",
            "\n"
          ],
          "name": "stdout"
        }
      ]
    },
    {
      "cell_type": "code",
      "metadata": {
        "id": "iJvMli7UU0tO"
      },
      "source": [
        "# Indexing is a prerequisite to decision trees\n",
        "string_indexer = StringIndexer(inputCol='label',outputCol='indexed_label')\n",
        "si_model = string_indexer.fit(pca_result)\n",
        "obj_final = si_model.transform(pca_result)"
      ],
      "execution_count": null,
      "outputs": []
    },
    {
      "cell_type": "code",
      "metadata": {
        "id": "WiiOWUEiYVJH",
        "outputId": "06fc5f49-da9e-403f-9293-fa79b5c36aa4",
        "colab": {
          "base_uri": "https://localhost:8080/",
          "height": 187
        }
      },
      "source": [
        "# Show results\n",
        "obj_final.collect()[:10]"
      ],
      "execution_count": null,
      "outputs": [
        {
          "output_type": "execute_result",
          "data": {
            "text/plain": [
              "[Row(label=0.0, pca_features=DenseVector([-1787.0189, 28.8621, -0.0646]), indexed_label=0.0),\n",
              " Row(label=1.0, pca_features=DenseVector([-4789.0202, 29.9226, -0.983]), indexed_label=1.0),\n",
              " Row(label=1.0, pca_features=DenseVector([-1350.0222, 34.1011, 0.8951]), indexed_label=1.0),\n",
              " Row(label=1.0, pca_features=DenseVector([-1476.019, 29.0513, 0.3953]), indexed_label=1.0),\n",
              " Row(label=0.0, pca_features=DenseVector([-0.0379, 58.9897, -0.7291]), indexed_label=0.0),\n",
              " Row(label=1.0, pca_features=DenseVector([-747.0223, 34.4883, 0.9046]), indexed_label=1.0),\n",
              " Row(label=1.0, pca_features=DenseVector([-307.0231, 35.7999, 0.5171]), indexed_label=1.0),\n",
              " Row(label=0.0, pca_features=DenseVector([-147.025, 38.9011, -0.807]), indexed_label=0.0),\n",
              " Row(label=0.0, pca_features=DenseVector([-221.0263, 40.8536, 0.5373]), indexed_label=0.0),\n",
              " Row(label=1.0, pca_features=DenseVector([87.9724, 43.0627, -0.067]), indexed_label=1.0)]"
            ]
          },
          "metadata": {
            "tags": []
          },
          "execution_count": 52
        }
      ]
    },
    {
      "cell_type": "markdown",
      "metadata": {
        "id": "Ib0SOM6XY-zA"
      },
      "source": [
        "# Machine Learning"
      ]
    },
    {
      "cell_type": "code",
      "metadata": {
        "id": "kqxsQjuWYdJl"
      },
      "source": [
        "# Data splitting\n",
        "(train_data,test_data) = obj_final.randomSplit([0.7,0.3])"
      ],
      "execution_count": null,
      "outputs": []
    },
    {
      "cell_type": "code",
      "metadata": {
        "id": "2ilBhohAZSID",
        "outputId": "5bfdaa55-d7e2-43f1-9996-5792921c3388",
        "colab": {
          "base_uri": "https://localhost:8080/",
          "height": 34
        }
      },
      "source": [
        "train_data.count()"
      ],
      "execution_count": null,
      "outputs": [
        {
          "output_type": "execute_result",
          "data": {
            "text/plain": [
              "381"
            ]
          },
          "metadata": {
            "tags": []
          },
          "execution_count": 54
        }
      ]
    },
    {
      "cell_type": "code",
      "metadata": {
        "id": "SMEqAADzZUjK",
        "outputId": "674030fb-4879-4611-9626-495a1e41605a",
        "colab": {
          "base_uri": "https://localhost:8080/",
          "height": 34
        }
      },
      "source": [
        "test_data.count()"
      ],
      "execution_count": null,
      "outputs": [
        {
          "output_type": "execute_result",
          "data": {
            "text/plain": [
              "160"
            ]
          },
          "metadata": {
            "tags": []
          },
          "execution_count": 55
        }
      ]
    },
    {
      "cell_type": "code",
      "metadata": {
        "id": "s_qvIVobZWKn"
      },
      "source": [
        "# Create the model with train data\n",
        "rf_classifier = RandomForestClassifier(labelCol='indexed_label',\n",
        "                                       featuresCol='pca_features')\n",
        "\n",
        "model = rf_classifier.fit(train_data)"
      ],
      "execution_count": null,
      "outputs": []
    },
    {
      "cell_type": "code",
      "metadata": {
        "id": "TE28UnqQZpyz"
      },
      "source": [
        "# Predictions with test data\n",
        "predictions = model.transform(test_data)"
      ],
      "execution_count": null,
      "outputs": []
    },
    {
      "cell_type": "code",
      "metadata": {
        "id": "N_aq23cBaPVt",
        "outputId": "75ba059b-1367-4a7e-c115-abce3536feea",
        "colab": {
          "base_uri": "https://localhost:8080/",
          "height": 207
        }
      },
      "source": [
        "# Show predicted data\n",
        "predictions.collect()[:10]"
      ],
      "execution_count": null,
      "outputs": [
        {
          "output_type": "execute_result",
          "data": {
            "text/plain": [
              "[Row(label=0.0, pca_features=DenseVector([-16873.0325, 45.1565, -1.0041]), indexed_label=0.0, rawPrediction=DenseVector([11.4637, 8.5363]), probability=DenseVector([0.5732, 0.4268]), prediction=0.0),\n",
              " Row(label=0.0, pca_features=DenseVector([-11494.0342, 49.61, -0.9162]), indexed_label=0.0, rawPrediction=DenseVector([10.7458, 9.2542]), probability=DenseVector([0.5373, 0.4627]), prediction=0.0),\n",
              " Row(label=0.0, pca_features=DenseVector([-8104.0336, 49.7873, -0.8708]), indexed_label=0.0, rawPrediction=DenseVector([13.3873, 6.6127]), probability=DenseVector([0.6694, 0.3306]), prediction=0.0),\n",
              " Row(label=0.0, pca_features=DenseVector([-7190.0255, 37.3733, 0.7344]), indexed_label=0.0, rawPrediction=DenseVector([12.0834, 7.9166]), probability=DenseVector([0.6042, 0.3958]), prediction=0.0),\n",
              " Row(label=0.0, pca_features=DenseVector([-7082.0351, 52.4544, -0.0453]), indexed_label=0.0, rawPrediction=DenseVector([13.0756, 6.9244]), probability=DenseVector([0.6538, 0.3462]), prediction=0.0),\n",
              " Row(label=0.0, pca_features=DenseVector([-2231.0336, 51.5589, -0.7866]), indexed_label=0.0, rawPrediction=DenseVector([14.2887, 5.7113]), probability=DenseVector([0.7144, 0.2856]), prediction=0.0),\n",
              " Row(label=0.0, pca_features=DenseVector([-2030.0265, 40.6915, -0.9059]), indexed_label=0.0, rawPrediction=DenseVector([14.1692, 5.8308]), probability=DenseVector([0.7085, 0.2915]), prediction=0.0),\n",
              " Row(label=0.0, pca_features=DenseVector([-1972.0214, 32.7313, 0.4835]), indexed_label=0.0, rawPrediction=DenseVector([13.0039, 6.9961]), probability=DenseVector([0.6502, 0.3498]), prediction=0.0),\n",
              " Row(label=0.0, pca_features=DenseVector([-1890.0195, 29.7789, -0.5622]), indexed_label=0.0, rawPrediction=DenseVector([8.4481, 11.5519]), probability=DenseVector([0.4224, 0.5776]), prediction=1.0),\n",
              " Row(label=0.0, pca_features=DenseVector([-1808.0189, 28.8371, -0.8669]), indexed_label=0.0, rawPrediction=DenseVector([11.1703, 8.8297]), probability=DenseVector([0.5585, 0.4415]), prediction=0.0)]"
            ]
          },
          "metadata": {
            "tags": []
          },
          "execution_count": 63
        }
      ]
    },
    {
      "cell_type": "code",
      "metadata": {
        "id": "AJ3esp15asH1"
      },
      "source": [
        "# Accuracy evaluation\n",
        "evaluator = MulticlassClassificationEvaluator(predictionCol='prediction',labelCol='indexed_label',metricName='accuracy')"
      ],
      "execution_count": null,
      "outputs": []
    },
    {
      "cell_type": "code",
      "metadata": {
        "id": "EjvovqKya_m1",
        "outputId": "dbcc1dcc-76c5-4fa7-d6f7-31f45d13f211",
        "colab": {
          "base_uri": "https://localhost:8080/",
          "height": 34
        }
      },
      "source": [
        "evaluator.evaluate(predictions)"
      ],
      "execution_count": null,
      "outputs": [
        {
          "output_type": "execute_result",
          "data": {
            "text/plain": [
              "0.66875"
            ]
          },
          "metadata": {
            "tags": []
          },
          "execution_count": 65
        }
      ]
    },
    {
      "cell_type": "code",
      "metadata": {
        "id": "7erPonhpbJaQ",
        "outputId": "119494fe-37ff-43df-ed25-e323e929fe8d",
        "colab": {
          "base_uri": "https://localhost:8080/",
          "height": 170
        }
      },
      "source": [
        "# Confusion matrix\n",
        "predictions.groupBy('indexed_label','prediction').count().show()"
      ],
      "execution_count": null,
      "outputs": [
        {
          "output_type": "stream",
          "text": [
            "+-------------+----------+-----+\n",
            "|indexed_label|prediction|count|\n",
            "+-------------+----------+-----+\n",
            "|          1.0|       1.0|   28|\n",
            "|          0.0|       1.0|   10|\n",
            "|          1.0|       0.0|   43|\n",
            "|          0.0|       0.0|   79|\n",
            "+-------------+----------+-----+\n",
            "\n"
          ],
          "name": "stdout"
        }
      ]
    }
  ]
}
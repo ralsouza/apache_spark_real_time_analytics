{
  "nbformat": 4,
  "nbformat_minor": 0,
  "metadata": {
    "colab": {
      "name": "09_pyspark_mllib_random_forest_with_dimensionality_reduction_and_string_indexer.ipynb",
      "provenance": [],
      "collapsed_sections": [],
      "mount_file_id": "125qJdoQuosoHSax13EkNktWtxWat6lEa",
      "authorship_tag": "ABX9TyPlsYMJFJ9hXZkrPmq09cNW",
      "include_colab_link": true
    },
    "kernelspec": {
      "name": "python3",
      "display_name": "Python 3"
    }
  },
  "cells": [
    {
      "cell_type": "markdown",
      "metadata": {
        "id": "view-in-github",
        "colab_type": "text"
      },
      "source": [
        "<a href=\"https://colab.research.google.com/github/ralsouza/apache_spark_real_time_analytics/blob/master/notebooks/09_pyspark_mllib_random_forest_with_dimensionality_reduction_and_string_indexer.ipynb\" target=\"_parent\"><img src=\"https://colab.research.google.com/assets/colab-badge.svg\" alt=\"Open In Colab\"/></a>"
      ]
    },
    {
      "cell_type": "markdown",
      "metadata": {
        "id": "l0XTkQi1FVFO"
      },
      "source": [
        "# Spark MLLib - Classification - Random Forest\n",
        "Description:\n",
        "*   One of the most popular;\n",
        "*   It's an Ensemble Method algorithm;\n",
        "*   The Random Forest algorithm creates many models and each model is used to predict outcomes individually. A vote is made by Random Forest to pick the best model;\n",
        "\n",
        "Advantages:\n",
        "*   Usually offers the best performance \n",
        "*   Efficient with many predict variables\n",
        "*   Works well in parallelized way\n",
        "*   Excellent with missing values\n",
        "\n",
        "Disadvangates:\n",
        "* Slower\n",
        "* BIAS can be occur frequently\n",
        "\n",
        "Application:\n",
        "* Scientific research;\n",
        "* Medical diagnostic;\n",
        "\n",
        "\n",
        "\n"
      ]
    },
    {
      "cell_type": "markdown",
      "metadata": {
        "id": "hYdHvCvcEX3l"
      },
      "source": [
        "# Setup"
      ]
    },
    {
      "cell_type": "code",
      "metadata": {
        "id": "YaAdWxyjA3ji"
      },
      "source": [
        "!apt-get update"
      ],
      "execution_count": null,
      "outputs": []
    },
    {
      "cell_type": "code",
      "metadata": {
        "id": "Q4Wj7WWxE0gC"
      },
      "source": [
        "# Install the dependencies\n",
        "!apt-get install openjdk-8-jdk-headless -qq > /dev/null\n",
        "!wget -q https://archive.apache.org/dist/spark/spark-2.4.4/spark-2.4.4-bin-hadoop2.7.tgz\n",
        "!tar xf spark-2.4.4-bin-hadoop2.7.tgz\n",
        "!pip install -q findspark"
      ],
      "execution_count": 1,
      "outputs": []
    },
    {
      "cell_type": "code",
      "metadata": {
        "id": "uNYc5GvTE2Ur"
      },
      "source": [
        "# Environment variables\n",
        "import os\n",
        "os.environ[\"JAVA_HOME\"] = \"/usr/lib/jvm/java-8-openjdk-amd64\"\n",
        "os.environ[\"SPARK_HOME\"] = \"/content/spark-2.4.4-bin-hadoop2.7\""
      ],
      "execution_count": 2,
      "outputs": []
    },
    {
      "cell_type": "code",
      "metadata": {
        "id": "VO8i1-xpE4t3"
      },
      "source": [
        "# Make pyspark \"importable\"\n",
        "import findspark\n",
        "findspark.init('spark-2.4.4-bin-hadoop2.7')"
      ],
      "execution_count": 3,
      "outputs": []
    },
    {
      "cell_type": "code",
      "metadata": {
        "id": "iUg5ciCEE86m"
      },
      "source": [
        "# Libraries and Context Setup\n",
        "import pyspark\n",
        "from pyspark.sql import SparkSession\n",
        "from pyspark import SparkContext, SparkConf"
      ],
      "execution_count": 4,
      "outputs": []
    },
    {
      "cell_type": "code",
      "metadata": {
        "id": "lsYMUq-WE_f9"
      },
      "source": [
        "# create the session\n",
        "conf = SparkConf().set(\"spark.ui.port\", \"4050\")\n",
        "\n",
        "# create the context\n",
        "sc = pyspark.SparkContext(conf=conf)\n",
        "\n",
        "\n",
        "# Instance Spark Session\n",
        "spark = SparkSession.builder.master('local').appName('spark_ml_lib').getOrCreate()\n",
        "\n",
        "# Create the SQL Context\n",
        "sqlContext = pyspark.SQLContext(sc)"
      ],
      "execution_count": 5,
      "outputs": []
    },
    {
      "cell_type": "markdown",
      "metadata": {
        "id": "86qN19JU4w8Q"
      },
      "source": [
        "# Business Problem\n",
        "### Classify customers according to the possibility of paying the credit or not."
      ]
    },
    {
      "cell_type": "markdown",
      "metadata": {
        "id": "fI0t4-0MFB98"
      },
      "source": [
        "# Libraries"
      ]
    },
    {
      "cell_type": "code",
      "metadata": {
        "id": "T5t05Fs-FDIe"
      },
      "source": [
        "import math\n",
        "from pyspark.ml.linalg         import Vectors\n",
        "from pyspark.sql               import Row\n",
        "from pyspark.ml.feature        import StringIndexer\n",
        "from pyspark.ml.feature        import PCA\n",
        "from pyspark.ml.classification import RandomForestClassifier\n",
        "from pyspark.ml.evaluation     import MulticlassClassificationEvaluator"
      ],
      "execution_count": 6,
      "outputs": []
    },
    {
      "cell_type": "code",
      "metadata": {
        "id": "gv4EuvkW7tan"
      },
      "source": [
        "# Create SparkSession to work with Dataframes on the Spark\n",
        "sp_session = SparkSession.builder.master('local').appName('spark_mllib_app').getOrCreate()"
      ],
      "execution_count": 7,
      "outputs": []
    },
    {
      "cell_type": "code",
      "metadata": {
        "id": "n0GJsWHRHogB"
      },
      "source": [
        "rdd_bank = sc.textFile('/content/drive/My Drive/Colab Notebooks/08-apache-spark/data/mllib/bank.csv')"
      ],
      "execution_count": 8,
      "outputs": []
    },
    {
      "cell_type": "code",
      "metadata": {
        "id": "DbBcDXJAI-44",
        "outputId": "e121c8c4-bfb9-49ac-dcc0-2683995a6da6",
        "colab": {
          "base_uri": "https://localhost:8080/",
          "height": 34
        }
      },
      "source": [
        "rdd_bank.cache()"
      ],
      "execution_count": 9,
      "outputs": [
        {
          "output_type": "execute_result",
          "data": {
            "text/plain": [
              "/content/drive/My Drive/Colab Notebooks/08-apache-spark/data/mllib/bank.csv MapPartitionsRDD[1] at textFile at NativeMethodAccessorImpl.java:0"
            ]
          },
          "metadata": {
            "tags": []
          },
          "execution_count": 9
        }
      ]
    },
    {
      "cell_type": "code",
      "metadata": {
        "id": "JWwC_DwFJCUG",
        "outputId": "2bdc00b4-fb8b-4682-8e33-eb7504fcbb6e",
        "colab": {
          "base_uri": "https://localhost:8080/",
          "height": 34
        }
      },
      "source": [
        "rdd_bank.count()"
      ],
      "execution_count": 10,
      "outputs": [
        {
          "output_type": "execute_result",
          "data": {
            "text/plain": [
              "542"
            ]
          },
          "metadata": {
            "tags": []
          },
          "execution_count": 10
        }
      ]
    },
    {
      "cell_type": "code",
      "metadata": {
        "id": "U8Xy_HJNJFrA",
        "outputId": "214e810e-b137-408b-d40f-2d26c8b610c1",
        "colab": {
          "base_uri": "https://localhost:8080/",
          "height": 102
        }
      },
      "source": [
        "rdd_bank.take(5)"
      ],
      "execution_count": 11,
      "outputs": [
        {
          "output_type": "execute_result",
          "data": {
            "text/plain": [
              "['\"age\";\"job\";\"marital\";\"education\";\"default\";\"balance\";\"housing\";\"loan\";\"contact\";\"day\";\"month\";\"duration\";\"campaign\";\"pdays\";\"previous\";\"poutcome\";\"y\"',\n",
              " '30;\"unemployed\";\"married\";\"primary\";\"no\";1787;\"no\";\"no\";\"cellular\";19;\"oct\";79;1;-1;0;\"unknown\";\"no\"',\n",
              " '33;\"services\";\"married\";\"secondary\";\"no\";4789;\"yes\";\"yes\";\"cellular\";11;\"may\";220;1;339;4;\"failure\";\"yes\"',\n",
              " '35;\"management\";\"single\";\"tertiary\";\"no\";1350;\"yes\";\"no\";\"cellular\";16;\"apr\";185;1;330;1;\"failure\";\"yes\"',\n",
              " '30;\"management\";\"married\";\"tertiary\";\"no\";1476;\"yes\";\"yes\";\"unknown\";3;\"jun\";199;4;-1;0;\"unknown\";\"yes\"']"
            ]
          },
          "metadata": {
            "tags": []
          },
          "execution_count": 11
        }
      ]
    },
    {
      "cell_type": "markdown",
      "metadata": {
        "id": "PJ9QhdX6JSY0"
      },
      "source": [
        "# Data Cleansing"
      ]
    },
    {
      "cell_type": "code",
      "metadata": {
        "id": "iMpVuYB9JH_N"
      },
      "source": [
        "# Removing the header by the first row\n",
        "first_row = rdd_bank.first()"
      ],
      "execution_count": 12,
      "outputs": []
    },
    {
      "cell_type": "code",
      "metadata": {
        "id": "B5MHR28EKdIM"
      },
      "source": [
        "rdd_bank2 = rdd_bank.filter(lambda x: x != first_row)"
      ],
      "execution_count": 13,
      "outputs": []
    },
    {
      "cell_type": "code",
      "metadata": {
        "id": "oWmS24ijKuha",
        "outputId": "7e86ff94-c741-446c-b9ad-6f6d7cc7abc6",
        "colab": {
          "base_uri": "https://localhost:8080/",
          "height": 34
        }
      },
      "source": [
        "rdd_bank2.count()"
      ],
      "execution_count": 14,
      "outputs": [
        {
          "output_type": "execute_result",
          "data": {
            "text/plain": [
              "541"
            ]
          },
          "metadata": {
            "tags": []
          },
          "execution_count": 14
        }
      ]
    },
    {
      "cell_type": "code",
      "metadata": {
        "id": "vgKwadZwKqma"
      },
      "source": [
        "# Transform string values to numeric values\n",
        "def transform_to_numeric(input_str):\n",
        "\n",
        "  att_list = input_str.replace(\"\\\"\",\"\").split(';')\n",
        "\n",
        "  age       = float( att_list[0])\n",
        "  outcome   = 0.0 if att_list[16] == 'no'        else 1.0\n",
        "  single    = 1.0 if att_list[2]  == 'single'    else 0.0\n",
        "  married   = 1.0 if att_list[2]  == 'married'   else 0.0\n",
        "  divorced  = 1.0 if att_list[2]  == 'divorced'  else 0.0\n",
        "  primary   = 1.0 if att_list[3]  == 'primary'   else 0.0\n",
        "  secondary = 1.0 if att_list[3]  == 'secondary' else 0.0\n",
        "  tertiary  = 1.0 if att_list[3]  == 'tertiary'  else 0.0\n",
        "  default   = 0.0 if att_list[4]  == 'no'        else 1.0\n",
        "  balance   = float( att_list[5])\n",
        "  loan      = 0.0 if att_list[7]  == 'no'        else 1.0\n",
        "\n",
        "  # Create rows with transformed objects\n",
        "  rows = Row(\n",
        "             OUTCOME = outcome  ,AGE = age           ,SINGLE = single      ,\n",
        "             MARRIED = married  ,DIVORCED = divorced ,SECONDARY = secondary, \n",
        "             TERTIARY = tertiary,DEFAULT = default   ,BALANCE = balance    ,\n",
        "             LOAN = loan\n",
        "             )\n",
        "  \n",
        "  return rows"
      ],
      "execution_count": 29,
      "outputs": []
    },
    {
      "cell_type": "code",
      "metadata": {
        "id": "eeAayGEyNk4l"
      },
      "source": [
        "# Apply the function\n",
        "rdd_bank3 = rdd_bank2.map(transform_to_numeric)"
      ],
      "execution_count": 30,
      "outputs": []
    },
    {
      "cell_type": "code",
      "metadata": {
        "id": "C9I4mYM1Ol1c",
        "outputId": "2370c670-8f78-4e25-c2c4-5f143118b0fe",
        "colab": {
          "base_uri": "https://localhost:8080/",
          "height": 272
        }
      },
      "source": [
        "rdd_bank3.collect()[:15]"
      ],
      "execution_count": 41,
      "outputs": [
        {
          "output_type": "execute_result",
          "data": {
            "text/plain": [
              "[Row(AGE=30.0, BALANCE=1787.0, DEFAULT=0.0, DIVORCED=0.0, LOAN=0.0, MARRIED=1.0, OUTCOME=0.0, SECONDARY=0.0, SINGLE=0.0, TERTIARY=0.0),\n",
              " Row(AGE=33.0, BALANCE=4789.0, DEFAULT=0.0, DIVORCED=0.0, LOAN=1.0, MARRIED=1.0, OUTCOME=1.0, SECONDARY=1.0, SINGLE=0.0, TERTIARY=0.0),\n",
              " Row(AGE=35.0, BALANCE=1350.0, DEFAULT=0.0, DIVORCED=0.0, LOAN=0.0, MARRIED=0.0, OUTCOME=1.0, SECONDARY=0.0, SINGLE=1.0, TERTIARY=1.0),\n",
              " Row(AGE=30.0, BALANCE=1476.0, DEFAULT=0.0, DIVORCED=0.0, LOAN=1.0, MARRIED=1.0, OUTCOME=1.0, SECONDARY=0.0, SINGLE=0.0, TERTIARY=1.0),\n",
              " Row(AGE=59.0, BALANCE=0.0, DEFAULT=0.0, DIVORCED=0.0, LOAN=0.0, MARRIED=1.0, OUTCOME=0.0, SECONDARY=1.0, SINGLE=0.0, TERTIARY=0.0),\n",
              " Row(AGE=35.0, BALANCE=747.0, DEFAULT=0.0, DIVORCED=0.0, LOAN=0.0, MARRIED=0.0, OUTCOME=1.0, SECONDARY=0.0, SINGLE=1.0, TERTIARY=1.0),\n",
              " Row(AGE=36.0, BALANCE=307.0, DEFAULT=0.0, DIVORCED=0.0, LOAN=0.0, MARRIED=1.0, OUTCOME=1.0, SECONDARY=0.0, SINGLE=0.0, TERTIARY=1.0),\n",
              " Row(AGE=39.0, BALANCE=147.0, DEFAULT=0.0, DIVORCED=0.0, LOAN=0.0, MARRIED=1.0, OUTCOME=0.0, SECONDARY=1.0, SINGLE=0.0, TERTIARY=0.0),\n",
              " Row(AGE=41.0, BALANCE=221.0, DEFAULT=0.0, DIVORCED=0.0, LOAN=0.0, MARRIED=1.0, OUTCOME=0.0, SECONDARY=0.0, SINGLE=0.0, TERTIARY=1.0),\n",
              " Row(AGE=43.0, BALANCE=-88.0, DEFAULT=0.0, DIVORCED=0.0, LOAN=1.0, MARRIED=1.0, OUTCOME=1.0, SECONDARY=0.0, SINGLE=0.0, TERTIARY=0.0),\n",
              " Row(AGE=39.0, BALANCE=9374.0, DEFAULT=0.0, DIVORCED=0.0, LOAN=0.0, MARRIED=1.0, OUTCOME=0.0, SECONDARY=1.0, SINGLE=0.0, TERTIARY=0.0),\n",
              " Row(AGE=43.0, BALANCE=264.0, DEFAULT=0.0, DIVORCED=0.0, LOAN=0.0, MARRIED=1.0, OUTCOME=0.0, SECONDARY=1.0, SINGLE=0.0, TERTIARY=0.0),\n",
              " Row(AGE=36.0, BALANCE=1109.0, DEFAULT=0.0, DIVORCED=0.0, LOAN=0.0, MARRIED=1.0, OUTCOME=0.0, SECONDARY=0.0, SINGLE=0.0, TERTIARY=1.0),\n",
              " Row(AGE=20.0, BALANCE=502.0, DEFAULT=0.0, DIVORCED=0.0, LOAN=0.0, MARRIED=0.0, OUTCOME=1.0, SECONDARY=1.0, SINGLE=1.0, TERTIARY=0.0),\n",
              " Row(AGE=31.0, BALANCE=360.0, DEFAULT=0.0, DIVORCED=0.0, LOAN=1.0, MARRIED=1.0, OUTCOME=1.0, SECONDARY=1.0, SINGLE=0.0, TERTIARY=0.0)]"
            ]
          },
          "metadata": {
            "tags": []
          },
          "execution_count": 41
        }
      ]
    },
    {
      "cell_type": "markdown",
      "metadata": {
        "id": "_9e9GHfwQWox"
      },
      "source": [
        "# Exploratoy Data Analysis"
      ]
    },
    {
      "cell_type": "code",
      "metadata": {
        "id": "csR7XpsJOo22"
      },
      "source": [
        "# Transform to dataframe\n",
        "df_bank = sp_session.createDataFrame(rdd_bank3)"
      ],
      "execution_count": 42,
      "outputs": []
    },
    {
      "cell_type": "code",
      "metadata": {
        "id": "WarrkxtIQh3-",
        "outputId": "3b1dd149-076a-497f-9a23-e304683667e0",
        "colab": {
          "base_uri": "https://localhost:8080/",
          "height": 207
        }
      },
      "source": [
        "# Descritive analysis\n",
        "df_bank.describe().show()"
      ],
      "execution_count": 43,
      "outputs": [
        {
          "output_type": "stream",
          "text": [
            "+-------+------------------+------------------+--------------------+-------------------+-------------------+------------------+-------------------+------------------+------------------+------------------+\n",
            "|summary|               AGE|           BALANCE|             DEFAULT|           DIVORCED|               LOAN|           MARRIED|            OUTCOME|         SECONDARY|            SINGLE|          TERTIARY|\n",
            "+-------+------------------+------------------+--------------------+-------------------+-------------------+------------------+-------------------+------------------+------------------+------------------+\n",
            "|  count|               541|               541|                 541|                541|                541|               541|                541|               541|               541|               541|\n",
            "|   mean| 41.26987060998152|1444.7818853974122|0.022181146025878003|0.10905730129390019|0.16266173752310537|0.6155268022181146| 0.3974121996303142|0.4953789279112754|0.2754158964879852|0.3142329020332717|\n",
            "| stddev|10.555374170161665|2423.2722735171924|  0.1474086424402979| 0.3119995822161848|0.36939832735881994|0.4869207382098541|0.48981549262335145|0.5004413742994283|0.4471370479760759|0.4646392600205975|\n",
            "|    min|              19.0|           -1206.0|                 0.0|                0.0|                0.0|               0.0|                0.0|               0.0|               0.0|               0.0|\n",
            "|    max|              78.0|           16873.0|                 1.0|                1.0|                1.0|               1.0|                1.0|               1.0|               1.0|               1.0|\n",
            "+-------+------------------+------------------+--------------------+-------------------+-------------------+------------------+-------------------+------------------+------------------+------------------+\n",
            "\n"
          ],
          "name": "stdout"
        }
      ]
    },
    {
      "cell_type": "code",
      "metadata": {
        "id": "YnGfkHmKQv-M",
        "outputId": "c8970fbb-92e5-4295-c8c0-7ddf04b3a740",
        "colab": {
          "base_uri": "https://localhost:8080/",
          "height": 187
        }
      },
      "source": [
        "# Measure data correlation\n",
        "for i in df_bank.columns:\n",
        "  if not(isinstance(df_bank.select(i).take(1)[0][0],str)):\n",
        "    print('Correlation with OUTCOME: ', i, df_bank.stat.corr('OUTCOME',i))"
      ],
      "execution_count": 47,
      "outputs": [
        {
          "output_type": "stream",
          "text": [
            "Correlation with OUTCOME:  AGE -0.1823210432736525\n",
            "Correlation with OUTCOME:  BALANCE 0.036574866119976804\n",
            "Correlation with OUTCOME:  DEFAULT -0.04536965206737378\n",
            "Correlation with OUTCOME:  DIVORCED -0.07812659940926987\n",
            "Correlation with OUTCOME:  LOAN -0.030420586112717318\n",
            "Correlation with OUTCOME:  MARRIED -0.3753241299133561\n",
            "Correlation with OUTCOME:  OUTCOME 1.0\n",
            "Correlation with OUTCOME:  SECONDARY 0.026392774894072973\n",
            "Correlation with OUTCOME:  SINGLE 0.46323284934360515\n",
            "Correlation with OUTCOME:  TERTIARY 0.08494840766635618\n"
          ],
          "name": "stdout"
        }
      ]
    },
    {
      "cell_type": "markdown",
      "metadata": {
        "id": "kGLo8vf0R-c5"
      },
      "source": [
        "# Data pre-processing"
      ]
    },
    {
      "cell_type": "code",
      "metadata": {
        "id": "WJ9jK1iYQzND"
      },
      "source": [
        "# 04:48"
      ],
      "execution_count": null,
      "outputs": []
    }
  ]
}
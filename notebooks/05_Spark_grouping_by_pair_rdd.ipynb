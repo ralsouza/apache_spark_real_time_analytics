{
  "nbformat": 4,
  "nbformat_minor": 0,
  "metadata": {
    "colab": {
      "name": "05_Spark_grouping_by_pair_rdd.ipynb",
      "provenance": [],
      "collapsed_sections": [],
      "mount_file_id": "12VHNd-85d9u1wIl9uTJ-Gfgb3ZjaVMJ8",
      "authorship_tag": "ABX9TyNi3mq3vgrAlUv8LdXMZMvu",
      "include_colab_link": true
    },
    "kernelspec": {
      "name": "python3",
      "display_name": "Python 3"
    }
  },
  "cells": [
    {
      "cell_type": "markdown",
      "metadata": {
        "id": "view-in-github",
        "colab_type": "text"
      },
      "source": [
        "<a href=\"https://colab.research.google.com/github/ralsouza/apache_spark_real_time_analytics/blob/master/notebooks/05_Spark_grouping_by_pair_rdd.ipynb\" target=\"_parent\"><img src=\"https://colab.research.google.com/assets/colab-badge.svg\" alt=\"Open In Colab\"/></a>"
      ]
    },
    {
      "cell_type": "markdown",
      "metadata": {
        "id": "yM3XoEy2YaQt",
        "colab_type": "text"
      },
      "source": [
        "# Setup"
      ]
    },
    {
      "cell_type": "code",
      "metadata": {
        "id": "le7gEhNxYEG5",
        "colab_type": "code",
        "colab": {
          "base_uri": "https://localhost:8080/",
          "height": 476
        },
        "outputId": "1ad5774f-935e-4836-ff42-7cee0ccabdc9"
      },
      "source": [
        "!apt-get update"
      ],
      "execution_count": 1,
      "outputs": [
        {
          "output_type": "stream",
          "text": [
            "\r0% [Working]\r            \rGet:1 https://cloud.r-project.org/bin/linux/ubuntu bionic-cran35/ InRelease [3,626 B]\n",
            "\r0% [Connecting to archive.ubuntu.com] [Connecting to security.ubuntu.com] [1 In\r0% [Connecting to archive.ubuntu.com] [Connecting to security.ubuntu.com] [Wait\r0% [1 InRelease gpgv 3,626 B] [Connecting to archive.ubuntu.com (91.189.88.142)\r                                                                               \rIgn:2 https://developer.download.nvidia.com/compute/cuda/repos/ubuntu1804/x86_64  InRelease\n",
            "\r0% [1 InRelease gpgv 3,626 B] [Connecting to archive.ubuntu.com (91.189.88.142)\r                                                                               \rIgn:3 https://developer.download.nvidia.com/compute/machine-learning/repos/ubuntu1804/x86_64  InRelease\n",
            "\r0% [1 InRelease gpgv 3,626 B] [Connecting to archive.ubuntu.com (91.189.88.142)\r                                                                               \rHit:4 https://developer.download.nvidia.com/compute/cuda/repos/ubuntu1804/x86_64  Release\n",
            "\r0% [1 InRelease gpgv 3,626 B] [Connecting to archive.ubuntu.com (91.189.88.142)\r                                                                               \rGet:5 https://developer.download.nvidia.com/compute/machine-learning/repos/ubuntu1804/x86_64  Release [564 B]\n",
            "Get:6 https://developer.download.nvidia.com/compute/machine-learning/repos/ubuntu1804/x86_64  Release.gpg [833 B]\n",
            "Get:7 http://ppa.launchpad.net/graphics-drivers/ppa/ubuntu bionic InRelease [21.3 kB]\n",
            "Hit:8 http://archive.ubuntu.com/ubuntu bionic InRelease\n",
            "Get:9 https://cloud.r-project.org/bin/linux/ubuntu bionic-cran35/ Packages [95.7 kB]\n",
            "Get:10 http://security.ubuntu.com/ubuntu bionic-security InRelease [88.7 kB]\n",
            "Get:11 http://archive.ubuntu.com/ubuntu bionic-updates InRelease [88.7 kB]\n",
            "Get:13 http://ppa.launchpad.net/marutter/c2d4u3.5/ubuntu bionic InRelease [15.4 kB]\n",
            "Get:14 https://developer.download.nvidia.com/compute/machine-learning/repos/ubuntu1804/x86_64  Packages [47.5 kB]\n",
            "Get:15 http://archive.ubuntu.com/ubuntu bionic-backports InRelease [74.6 kB]\n",
            "Get:16 http://ppa.launchpad.net/graphics-drivers/ppa/ubuntu bionic/main amd64 Packages [43.0 kB]\n",
            "Get:17 http://security.ubuntu.com/ubuntu bionic-security/restricted amd64 Packages [116 kB]\n",
            "Get:18 http://archive.ubuntu.com/ubuntu bionic-updates/universe amd64 Packages [1,425 kB]\n",
            "Get:19 http://ppa.launchpad.net/marutter/c2d4u3.5/ubuntu bionic/main Sources [1,864 kB]\n",
            "Get:20 http://security.ubuntu.com/ubuntu bionic-security/universe amd64 Packages [897 kB]\n",
            "Get:21 http://security.ubuntu.com/ubuntu bionic-security/multiverse amd64 Packages [10.1 kB]\n",
            "Get:22 http://security.ubuntu.com/ubuntu bionic-security/main amd64 Packages [1,089 kB]\n",
            "Get:23 http://archive.ubuntu.com/ubuntu bionic-updates/main amd64 Packages [1,384 kB]\n",
            "Get:24 http://archive.ubuntu.com/ubuntu bionic-updates/multiverse amd64 Packages [27.7 kB]\n",
            "Get:25 http://archive.ubuntu.com/ubuntu bionic-updates/restricted amd64 Packages [132 kB]\n",
            "Get:26 http://ppa.launchpad.net/marutter/c2d4u3.5/ubuntu bionic/main amd64 Packages [900 kB]\n",
            "Fetched 8,326 kB in 4s (1,962 kB/s)\n",
            "Reading package lists... Done\n"
          ],
          "name": "stdout"
        }
      ]
    },
    {
      "cell_type": "code",
      "metadata": {
        "id": "X2c35z9_Yc8U",
        "colab_type": "code",
        "colab": {}
      },
      "source": [
        "# Install the dependencies\n",
        "!apt-get install openjdk-8-jdk-headless -qq > /dev/null\n",
        "!wget -q https://archive.apache.org/dist/spark/spark-2.4.4/spark-2.4.4-bin-hadoop2.7.tgz\n",
        "!tar xf spark-2.4.4-bin-hadoop2.7.tgz\n",
        "!pip install -q findspark"
      ],
      "execution_count": 2,
      "outputs": []
    },
    {
      "cell_type": "code",
      "metadata": {
        "id": "WjJclshcYfC7",
        "colab_type": "code",
        "colab": {}
      },
      "source": [
        "# Environment variables\n",
        "import os\n",
        "os.environ[\"JAVA_HOME\"] = \"/usr/lib/jvm/java-8-openjdk-amd64\"\n",
        "os.environ[\"SPARK_HOME\"] = \"/content/spark-2.4.4-bin-hadoop2.7\"\n",
        " \n",
        "# tornar o pyspark \"importável\"\n",
        "import findspark\n",
        "findspark.init('spark-2.4.4-bin-hadoop2.7')"
      ],
      "execution_count": 3,
      "outputs": []
    },
    {
      "cell_type": "code",
      "metadata": {
        "id": "yRN9KMpBYg7q",
        "colab_type": "code",
        "colab": {}
      },
      "source": [
        "# Libraries and Context Setup\n",
        "import pyspark\n",
        "from pyspark.sql import SparkSession\n",
        "from pyspark.sql import Row\n",
        "from pyspark import SparkContext, SparkConf\n",
        "\n",
        "# create the session\n",
        "conf = SparkConf().set(\"spark.ui.port\", \"4050\")\n",
        "\n",
        "# create the context\n",
        "sc = pyspark.SparkContext(conf=conf)\n",
        "\n",
        "# Instance Spark Session\n",
        "spark = SparkSession.builder.master('local').appName('My-SparkSQL').getOrCreate()\n",
        "\n",
        "# Create the SQL Context\n",
        "sqlContext = pyspark.SQLContext(sc)"
      ],
      "execution_count": 4,
      "outputs": []
    },
    {
      "cell_type": "code",
      "metadata": {
        "id": "RIhSsXZKYj3v",
        "colab_type": "code",
        "colab": {
          "base_uri": "https://localhost:8080/",
          "height": 34
        },
        "outputId": "77e06133-0e43-4dbd-d084-2c9c564789df"
      },
      "source": [
        "# Check context\n",
        "print(sc)"
      ],
      "execution_count": 5,
      "outputs": [
        {
          "output_type": "stream",
          "text": [
            "<SparkContext master=local[*] appName=pyspark-shell>\n"
          ],
          "name": "stdout"
        }
      ]
    },
    {
      "cell_type": "markdown",
      "metadata": {
        "id": "F5u3knrTYz44",
        "colab_type": "text"
      },
      "source": [
        "# Grouping by pair RDD"
      ]
    },
    {
      "cell_type": "code",
      "metadata": {
        "id": "vvroj89oYkNz",
        "colab_type": "code",
        "colab": {}
      },
      "source": [
        "# Import cars's csv\n",
        "cars = sc.textFile('/content/drive/My Drive/Colab Notebooks/08-apache-spark/data/carros.csv')"
      ],
      "execution_count": 6,
      "outputs": []
    },
    {
      "cell_type": "code",
      "metadata": {
        "id": "jx-ZXHt4ZRpn",
        "colab_type": "code",
        "colab": {
          "base_uri": "https://localhost:8080/",
          "height": 357
        },
        "outputId": "70dc51a8-9f33-4258-f0cf-c7e2a73d374e"
      },
      "source": [
        "cars.take(20)"
      ],
      "execution_count": 7,
      "outputs": [
        {
          "output_type": "execute_result",
          "data": {
            "text/plain": [
              "['MAKE,FUELTYPE,ASPIRE,DOORS,BODY,DRIVE,CYLINDERS,HP,RPM,MPG-CITY,MPG-HWY,PRICE',\n",
              " 'subaru,gas,std,two,hatchback,fwd,four,69,4900,31,36,5118',\n",
              " 'chevrolet,gas,std,two,hatchback,fwd,three,48,5100,47,53,5151',\n",
              " 'mazda,gas,std,two,hatchback,fwd,four,68,5000,30,31,5195',\n",
              " 'toyota,gas,std,two,hatchback,fwd,four,62,4800,35,39,5348',\n",
              " 'mitsubishi,gas,std,two,hatchback,fwd,four,68,5500,37,41,5389',\n",
              " 'honda,gas,std,two,hatchback,fwd,four,60,5500,38,42,5399',\n",
              " 'nissan,gas,std,two,sedan,fwd,four,69,5200,31,37,5499',\n",
              " 'dodge,gas,std,two,hatchback,fwd,four,68,5500,37,41,5572',\n",
              " 'plymouth,gas,std,two,hatchback,fwd,four,68,5500,37,41,5572',\n",
              " 'mazda,gas,std,two,hatchback,fwd,four,68,5000,31,38,6095',\n",
              " 'mitsubishi,gas,std,two,hatchback,fwd,four,68,5500,31,38,6189',\n",
              " 'dodge,gas,std,four,hatchback,fwd,four,68,5500,31,38,6229',\n",
              " 'plymouth,gas,std,four,hatchback,fwd,four,68,5500,31,38,6229',\n",
              " 'chevrolet,gas,std,two,hatchback,fwd,four,70,5400,38,43,6295',\n",
              " 'toyota,gas,std,two,hatchback,fwd,four,62,4800,31,38,6338',\n",
              " 'dodge,gas,std,two,hatchback,fwd,four,68,5500,31,38,6377',\n",
              " 'honda,gas,std,two,hatchback,fwd,four,58,4800,49,54,6479',\n",
              " 'toyota,gas,std,four,hatchback,fwd,four,62,4800,31,38,6488',\n",
              " 'honda,gas,std,two,hatchback,fwd,four,76,6000,30,34,6529']"
            ]
          },
          "metadata": {
            "tags": []
          },
          "execution_count": 7
        }
      ]
    },
    {
      "cell_type": "code",
      "metadata": {
        "id": "lTdN1dJCZUNR",
        "colab_type": "code",
        "colab": {}
      },
      "source": [
        "# Creating a pair rdd with columns 0 and 7\n",
        "cars_pair_rdd = cars.map(lambda x: (x.split(',')[0],x.split(',')[7]))"
      ],
      "execution_count": 11,
      "outputs": []
    },
    {
      "cell_type": "code",
      "metadata": {
        "id": "cQ4c28pxa6Bf",
        "colab_type": "code",
        "colab": {
          "base_uri": "https://localhost:8080/",
          "height": 357
        },
        "outputId": "1fbfc1fe-70a2-4f3a-fe9b-5507a567b1f3"
      },
      "source": [
        "# Check result\n",
        "cars_pair_rdd.take(20)"
      ],
      "execution_count": 12,
      "outputs": [
        {
          "output_type": "execute_result",
          "data": {
            "text/plain": [
              "[('MAKE', 'HP'),\n",
              " ('subaru', '69'),\n",
              " ('chevrolet', '48'),\n",
              " ('mazda', '68'),\n",
              " ('toyota', '62'),\n",
              " ('mitsubishi', '68'),\n",
              " ('honda', '60'),\n",
              " ('nissan', '69'),\n",
              " ('dodge', '68'),\n",
              " ('plymouth', '68'),\n",
              " ('mazda', '68'),\n",
              " ('mitsubishi', '68'),\n",
              " ('dodge', '68'),\n",
              " ('plymouth', '68'),\n",
              " ('chevrolet', '70'),\n",
              " ('toyota', '62'),\n",
              " ('dodge', '68'),\n",
              " ('honda', '58'),\n",
              " ('toyota', '62'),\n",
              " ('honda', '76')]"
            ]
          },
          "metadata": {
            "tags": []
          },
          "execution_count": 12
        }
      ]
    },
    {
      "cell_type": "code",
      "metadata": {
        "id": "uawiui1Oa_Uv",
        "colab_type": "code",
        "colab": {}
      },
      "source": [
        "# Select the header\n",
        "header = cars_pair_rdd.first()\n",
        "\n",
        "# Select all data except the header\n",
        "cars_pair_rdd2 = cars_pair_rdd.filter(lambda line: line != header)"
      ],
      "execution_count": 13,
      "outputs": []
    },
    {
      "cell_type": "code",
      "metadata": {
        "id": "qt3b2K2bbgGK",
        "colab_type": "code",
        "colab": {
          "base_uri": "https://localhost:8080/",
          "height": 1000
        },
        "outputId": "716609a0-f3c5-4369-fa36-7f59131b346b"
      },
      "source": [
        "# Search the HP value by car's brand and add 1 to each \"Make/HP\" row\n",
        "cars_pair_rdd3 = cars_pair_rdd2.mapValues(lambda x: (x,1))\n",
        "cars_pair_rdd3.collect()"
      ],
      "execution_count": 19,
      "outputs": [
        {
          "output_type": "execute_result",
          "data": {
            "text/plain": [
              "[('subaru', ('69', 1)),\n",
              " ('chevrolet', ('48', 1)),\n",
              " ('mazda', ('68', 1)),\n",
              " ('toyota', ('62', 1)),\n",
              " ('mitsubishi', ('68', 1)),\n",
              " ('honda', ('60', 1)),\n",
              " ('nissan', ('69', 1)),\n",
              " ('dodge', ('68', 1)),\n",
              " ('plymouth', ('68', 1)),\n",
              " ('mazda', ('68', 1)),\n",
              " ('mitsubishi', ('68', 1)),\n",
              " ('dodge', ('68', 1)),\n",
              " ('plymouth', ('68', 1)),\n",
              " ('chevrolet', ('70', 1)),\n",
              " ('toyota', ('62', 1)),\n",
              " ('dodge', ('68', 1)),\n",
              " ('honda', ('58', 1)),\n",
              " ('toyota', ('62', 1)),\n",
              " ('honda', ('76', 1)),\n",
              " ('chevrolet', ('70', 1)),\n",
              " ('nissan', ('69', 1)),\n",
              " ('mitsubishi', ('68', 1)),\n",
              " ('dodge', ('68', 1)),\n",
              " ('plymouth', ('68', 1)),\n",
              " ('mazda', ('68', 1)),\n",
              " ('isuzu', ('78', 1)),\n",
              " ('mazda', ('68', 1)),\n",
              " ('nissan', ('69', 1)),\n",
              " ('honda', ('76', 1)),\n",
              " ('toyota', ('62', 1)),\n",
              " ('toyota', ('70', 1)),\n",
              " ('mitsubishi', ('88', 1)),\n",
              " ('subaru', ('73', 1)),\n",
              " ('nissan', ('55', 1)),\n",
              " ('subaru', ('82', 1)),\n",
              " ('honda', ('76', 1)),\n",
              " ('toyota', ('70', 1)),\n",
              " ('honda', ('76', 1)),\n",
              " ('honda', ('76', 1)),\n",
              " ('nissan', ('69', 1)),\n",
              " ('nissan', ('69', 1)),\n",
              " ('mazda', ('68', 1)),\n",
              " ('subaru', ('82', 1)),\n",
              " ('nissan', ('69', 1)),\n",
              " ('subaru', ('73', 1)),\n",
              " ('dodge', ('68', 1)),\n",
              " ('plymouth', ('68', 1)),\n",
              " ('mitsubishi', ('102', 1)),\n",
              " ('toyota', ('70', 1)),\n",
              " ('subaru', ('82', 1)),\n",
              " ('volkswagen', ('52', 1)),\n",
              " ('toyota', ('56', 1)),\n",
              " ('nissan', ('69', 1)),\n",
              " ('honda', ('86', 1)),\n",
              " ('toyota', ('62', 1)),\n",
              " ('toyota', ('56', 1)),\n",
              " ('dodge', ('102', 1)),\n",
              " ('plymouth', ('102', 1)),\n",
              " ('volkswagen', ('85', 1)),\n",
              " ('volkswagen', ('52', 1)),\n",
              " ('nissan', ('69', 1)),\n",
              " ('subaru', ('82', 1)),\n",
              " ('toyota', ('70', 1)),\n",
              " ('mitsubishi', ('88', 1)),\n",
              " ('volkswagen', ('85', 1)),\n",
              " ('toyota', ('70', 1)),\n",
              " ('nissan', ('69', 1)),\n",
              " ('toyota', ('70', 1)),\n",
              " ('toyota', ('116', 1)),\n",
              " ('mazda', ('84', 1)),\n",
              " ('volkswagen', ('85', 1)),\n",
              " ('mitsubishi', ('88', 1)),\n",
              " ('toyota', ('62', 1)),\n",
              " ('honda', ('86', 1)),\n",
              " ('mazda', ('84', 1)),\n",
              " ('dodge', ('88', 1)),\n",
              " ('plymouth', ('88', 1)),\n",
              " ('toyota', ('92', 1)),\n",
              " ('nissan', ('97', 1)),\n",
              " ('honda', ('86', 1)),\n",
              " ('subaru', ('82', 1)),\n",
              " ('toyota', ('70', 1)),\n",
              " ('mitsubishi', ('116', 1)),\n",
              " ('mitsubishi', ('116', 1)),\n",
              " ('toyota', ('112', 1)),\n",
              " ('volkswagen', ('68', 1)),\n",
              " ('toyota', ('112', 1)),\n",
              " ('nissan', ('97', 1)),\n",
              " ('toyota', ('116', 1)),\n",
              " ('mitsubishi', ('116', 1)),\n",
              " ('subaru', ('94', 1)),\n",
              " ('volkswagen', ('90', 1)),\n",
              " ('toyota', ('92', 1)),\n",
              " ('toyota', ('116', 1)),\n",
              " ('volkswagen', ('100', 1)),\n",
              " ('subaru', ('94', 1)),\n",
              " ('mazda', ('84', 1)),\n",
              " ('honda', ('86', 1)),\n",
              " ('honda', ('100', 1)),\n",
              " ('mazda', ('84', 1)),\n",
              " ('toyota', ('73', 1)),\n",
              " ('toyota', ('92', 1)),\n",
              " ('mazda', ('101', 1)),\n",
              " ('isuzu', ('90', 1)),\n",
              " ('toyota', ('116', 1)),\n",
              " ('mazda', ('84', 1)),\n",
              " ('toyota', ('92', 1)),\n",
              " ('subaru', ('111', 1)),\n",
              " ('toyota', ('116', 1)),\n",
              " ('volkswagen', ('90', 1)),\n",
              " ('subaru', ('111', 1)),\n",
              " ('mazda', ('101', 1)),\n",
              " ('saab', ('110', 1)),\n",
              " ('peugot', ('97', 1)),\n",
              " ('saab', ('110', 1)),\n",
              " ('volkswagen', ('88', 1)),\n",
              " ('peugot', ('97', 1)),\n",
              " ('mitsubishi', ('145', 1)),\n",
              " ('plymouth', ('145', 1)),\n",
              " ('volvo', ('114', 1)),\n",
              " ('honda', ('101', 1)),\n",
              " ('dodge', ('145', 1)),\n",
              " ('peugot', ('95', 1)),\n",
              " ('volkswagen', ('110', 1)),\n",
              " ('volvo', ('114', 1)),\n",
              " ('alfa-romero', ('111', 1)),\n",
              " ('nissan', ('152', 1)),\n",
              " ('nissan', ('152', 1)),\n",
              " ('mazda', ('101', 1)),\n",
              " ('volkswagen', ('68', 1)),\n",
              " ('peugot', ('95', 1)),\n",
              " ('audi', ('102', 1)),\n",
              " ('nissan', ('152', 1)),\n",
              " ('mitsubishi', ('145', 1)),\n",
              " ('mitsubishi', ('145', 1)),\n",
              " ('saab', ('110', 1)),\n",
              " ('audi', ('110', 1)),\n",
              " ('saab', ('110', 1)),\n",
              " ('peugot', ('95', 1)),\n",
              " ('mazda', ('135', 1)),\n",
              " ('toyota', ('156', 1)),\n",
              " ('toyota', ('156', 1)),\n",
              " ('volvo', ('114', 1)),\n",
              " ('toyota', ('161', 1)),\n",
              " ('bmw', ('101', 1)),\n",
              " ('alfa-romero', ('111', 1)),\n",
              " ('alfa-romero', ('154', 1)),\n",
              " ('mercury', ('175', 1)),\n",
              " ('volvo', ('114', 1)),\n",
              " ('toyota', ('161', 1)),\n",
              " ('peugot', ('97', 1)),\n",
              " ('peugot', ('95', 1)),\n",
              " ('volvo', ('114', 1)),\n",
              " ('peugot', ('95', 1)),\n",
              " ('bmw', ('101', 1)),\n",
              " ('peugot', ('95', 1)),\n",
              " ('nissan', ('160', 1)),\n",
              " ('audi', ('115', 1)),\n",
              " ('toyota', ('116', 1)),\n",
              " ('audi', ('110', 1)),\n",
              " ('peugot', ('95', 1)),\n",
              " ('peugot', ('142', 1)),\n",
              " ('saab', ('160', 1)),\n",
              " ('mazda', ('120', 1)),\n",
              " ('mazda', ('72', 1)),\n",
              " ('nissan', ('160', 1)),\n",
              " ('volvo', ('162', 1)),\n",
              " ('saab', ('160', 1)),\n",
              " ('audi', ('110', 1)),\n",
              " ('volvo', ('162', 1)),\n",
              " ('volvo', ('160', 1)),\n",
              " ('nissan', ('200', 1)),\n",
              " ('bmw', ('121', 1)),\n",
              " ('bmw', ('121', 1)),\n",
              " ('volvo', ('134', 1)),\n",
              " ('porsche', ('143', 1)),\n",
              " ('volvo', ('106', 1)),\n",
              " ('volvo', ('114', 1)),\n",
              " ('audi', ('140', 1)),\n",
              " ('bmw', ('121', 1)),\n",
              " ('mercedes-benz', ('123', 1)),\n",
              " ('mercedes-benz', ('123', 1)),\n",
              " ('mercedes-benz', ('123', 1)),\n",
              " ('bmw', ('182', 1)),\n",
              " ('mercedes-benz', ('123', 1)),\n",
              " ('jaguar', ('176', 1)),\n",
              " ('porsche', ('207', 1)),\n",
              " ('porsche', ('207', 1)),\n",
              " ('mercedes-benz', ('155', 1)),\n",
              " ('mercedes-benz', ('155', 1)),\n",
              " ('jaguar', ('176', 1)),\n",
              " ('jaguar', ('262', 1)),\n",
              " ('bmw', ('182', 1)),\n",
              " ('porsche', ('207', 1)),\n",
              " ('mercedes-benz', ('184', 1)),\n",
              " ('bmw', ('182', 1)),\n",
              " ('mercedes-benz', ('184', 1))]"
            ]
          },
          "metadata": {
            "tags": []
          },
          "execution_count": 19
        }
      ]
    },
    {
      "cell_type": "code",
      "metadata": {
        "id": "2_qOTBv2c5Du",
        "colab_type": "code",
        "colab": {
          "base_uri": "https://localhost:8080/",
          "height": 374
        },
        "outputId": "3497724d-fb63-456c-8ba2-6d5c326dd96d"
      },
      "source": [
        "# Apply the reduction by key (reduceByKey)\n",
        "# Calculates the HP total by maker and the total of vehicles by maker\n",
        "makers = cars_pair_rdd3.reduceByKey(lambda x,y: (int(x[0]) + int(y[0]), x[1] + y[1]))\n",
        "makers.collect()"
      ],
      "execution_count": 21,
      "outputs": [
        {
          "output_type": "execute_result",
          "data": {
            "text/plain": [
              "[('chevrolet', (188, 3)),\n",
              " ('mazda', (1390, 16)),\n",
              " ('mitsubishi', (1353, 13)),\n",
              " ('nissan', (1846, 18)),\n",
              " ('dodge', (675, 8)),\n",
              " ('plymouth', (607, 7)),\n",
              " ('saab', (760, 6)),\n",
              " ('volvo', (1408, 11)),\n",
              " ('alfa-romero', (376, 3)),\n",
              " ('mercedes-benz', (1170, 8)),\n",
              " ('jaguar', (614, 3)),\n",
              " ('subaru', (1035, 12)),\n",
              " ('toyota', (2969, 32)),\n",
              " ('honda', (1043, 13)),\n",
              " ('isuzu', (168, 2)),\n",
              " ('volkswagen', (973, 12)),\n",
              " ('peugot', (1098, 11)),\n",
              " ('audi', (687, 6)),\n",
              " ('bmw', (1111, 8)),\n",
              " ('mercury', ('175', 1)),\n",
              " ('porsche', (764, 4))]"
            ]
          },
          "metadata": {
            "tags": []
          },
          "execution_count": 21
        }
      ]
    },
    {
      "cell_type": "code",
      "metadata": {
        "id": "UyVtFGaTddUo",
        "colab_type": "code",
        "colab": {
          "base_uri": "https://localhost:8080/",
          "height": 374
        },
        "outputId": "b2ca52a0-9429-48f0-ea37-22a8301014ce"
      },
      "source": [
        "# Calc the HP mean dividing by total count\n",
        "makers.mapValues(lambda x: int(x[0])/int(x[1])).collect()"
      ],
      "execution_count": 22,
      "outputs": [
        {
          "output_type": "execute_result",
          "data": {
            "text/plain": [
              "[('chevrolet', 62.666666666666664),\n",
              " ('mazda', 86.875),\n",
              " ('mitsubishi', 104.07692307692308),\n",
              " ('nissan', 102.55555555555556),\n",
              " ('dodge', 84.375),\n",
              " ('plymouth', 86.71428571428571),\n",
              " ('saab', 126.66666666666667),\n",
              " ('volvo', 128.0),\n",
              " ('alfa-romero', 125.33333333333333),\n",
              " ('mercedes-benz', 146.25),\n",
              " ('jaguar', 204.66666666666666),\n",
              " ('subaru', 86.25),\n",
              " ('toyota', 92.78125),\n",
              " ('honda', 80.23076923076923),\n",
              " ('isuzu', 84.0),\n",
              " ('volkswagen', 81.08333333333333),\n",
              " ('peugot', 99.81818181818181),\n",
              " ('audi', 114.5),\n",
              " ('bmw', 138.875),\n",
              " ('mercury', 175.0),\n",
              " ('porsche', 191.0)]"
            ]
          },
          "metadata": {
            "tags": []
          },
          "execution_count": 22
        }
      ]
    },
    {
      "cell_type": "markdown",
      "metadata": {
        "id": "MoDPO6x3fAx0",
        "colab_type": "text"
      },
      "source": [
        "# Accumulators and Broadcast"
      ]
    },
    {
      "cell_type": "code",
      "metadata": {
        "id": "izJ3z1ogewHa",
        "colab_type": "code",
        "colab": {}
      },
      "source": [
        ""
      ],
      "execution_count": null,
      "outputs": []
    }
  ]
}
{
  "nbformat": 4,
  "nbformat_minor": 0,
  "metadata": {
    "colab": {
      "name": "08_pyspark_mllib_decision_tree.ipynb",
      "provenance": [],
      "collapsed_sections": [],
      "mount_file_id": "1zuiyI-X7O_gTWLC82gi_hSUPPJPJqgAM",
      "authorship_tag": "ABX9TyMNKIgJzq2jh0R86IEZMg1l",
      "include_colab_link": true
    },
    "kernelspec": {
      "name": "python3",
      "display_name": "Python 3"
    }
  },
  "cells": [
    {
      "cell_type": "markdown",
      "metadata": {
        "id": "view-in-github",
        "colab_type": "text"
      },
      "source": [
        "<a href=\"https://colab.research.google.com/github/ralsouza/apache_spark_real_time_analytics/blob/master/notebooks/08_pyspark_mllib_decision_tree.ipynb\" target=\"_parent\"><img src=\"https://colab.research.google.com/assets/colab-badge.svg\" alt=\"Open In Colab\"/></a>"
      ]
    },
    {
      "cell_type": "markdown",
      "metadata": {
        "id": "vDclGLbn1WWj"
      },
      "source": [
        "# Setup"
      ]
    },
    {
      "cell_type": "code",
      "metadata": {
        "id": "vI_-FEAs0373"
      },
      "source": [
        "!apt-get update"
      ],
      "execution_count": null,
      "outputs": []
    },
    {
      "cell_type": "code",
      "metadata": {
        "id": "cmoSj3v71EOw"
      },
      "source": [
        "# Install the dependencies\n",
        "!apt-get install openjdk-8-jdk-headless -qq > /dev/null\n",
        "!wget -q https://archive.apache.org/dist/spark/spark-2.4.4/spark-2.4.4-bin-hadoop2.7.tgz\n",
        "!tar xf spark-2.4.4-bin-hadoop2.7.tgz\n",
        "!pip install -q findspark"
      ],
      "execution_count": 2,
      "outputs": []
    },
    {
      "cell_type": "code",
      "metadata": {
        "id": "joC5_IiA1GQS"
      },
      "source": [
        "# Environment variables\n",
        "import os\n",
        "os.environ[\"JAVA_HOME\"] = \"/usr/lib/jvm/java-8-openjdk-amd64\"\n",
        "os.environ[\"SPARK_HOME\"] = \"/content/spark-2.4.4-bin-hadoop2.7\""
      ],
      "execution_count": 3,
      "outputs": []
    },
    {
      "cell_type": "code",
      "metadata": {
        "id": "2h9YaQIf1JAv"
      },
      "source": [
        "# Make pyspark \"importable\"\n",
        "import findspark\n",
        "findspark.init('spark-2.4.4-bin-hadoop2.7')"
      ],
      "execution_count": 4,
      "outputs": []
    },
    {
      "cell_type": "code",
      "metadata": {
        "id": "fQTWilPX1Kk_"
      },
      "source": [
        "# Libraries and Context Setup\n",
        "import pyspark\n",
        "from pyspark.sql import SparkSession\n",
        "from pyspark import SparkContext, SparkConf"
      ],
      "execution_count": 5,
      "outputs": []
    },
    {
      "cell_type": "code",
      "metadata": {
        "id": "jlpc3oUW1MlB"
      },
      "source": [
        "# create the session\n",
        "conf = SparkConf().set(\"spark.ui.port\", \"4050\")\n",
        "\n",
        "# create the context\n",
        "sc = pyspark.SparkContext(conf=conf)\n",
        "\n",
        "\n",
        "# Instance Spark Session\n",
        "spark = SparkSession.builder.master('local').appName('spark_ml_lib').getOrCreate()\n",
        "\n",
        "# Create the SQL Context\n",
        "sqlContext = pyspark.SQLContext(sc)"
      ],
      "execution_count": 6,
      "outputs": []
    },
    {
      "cell_type": "markdown",
      "metadata": {
        "id": "Y83eRL3Z2Ti8"
      },
      "source": [
        "# Libraries\n"
      ]
    },
    {
      "cell_type": "code",
      "metadata": {
        "id": "VLb3eKgR2asq"
      },
      "source": [
        "from pyspark.sql               import Row\n",
        "from pyspark.ml.feature        import StringIndexer\n",
        "from pyspark.ml.linalg         import Vectors\n",
        "from pyspark.ml.classification import DecisionTreeClassifier\n",
        "from pyspark.ml.evaluation     import MulticlassClassificationEvaluator"
      ],
      "execution_count": 8,
      "outputs": []
    },
    {
      "cell_type": "markdown",
      "metadata": {
        "id": "oUrbbTuN3Kpk"
      },
      "source": [
        "# Load data"
      ]
    },
    {
      "cell_type": "code",
      "metadata": {
        "id": "8PWY4pz43CXc"
      },
      "source": [
        "# Load as RDDs\n",
        "rdd_iris = sc.textFile('/content/drive/My Drive/Colab Notebooks/08-apache-spark/data/mllib/iris.csv')"
      ],
      "execution_count": 9,
      "outputs": []
    },
    {
      "cell_type": "code",
      "metadata": {
        "id": "9Z11QmwD3jSa",
        "outputId": "5d8cb23e-3207-4174-bcc3-22505bfc15b0",
        "colab": {
          "base_uri": "https://localhost:8080/",
          "height": 54
        }
      },
      "source": [
        "# Put the data in cache\n",
        "rdd_iris.cache()"
      ],
      "execution_count": 10,
      "outputs": [
        {
          "output_type": "execute_result",
          "data": {
            "text/plain": [
              "/content/drive/My Drive/Colab Notebooks/08-apache-spark/data/mllib/iris.csv MapPartitionsRDD[1] at textFile at NativeMethodAccessorImpl.java:0"
            ]
          },
          "metadata": {
            "tags": []
          },
          "execution_count": 10
        }
      ]
    },
    {
      "cell_type": "code",
      "metadata": {
        "id": "KaNelK933rRL",
        "outputId": "2535416d-a453-4ac5-cb9f-b114f965b80c",
        "colab": {
          "base_uri": "https://localhost:8080/",
          "height": 54
        }
      },
      "source": [
        "# Count\n",
        "rdd_iris.count()"
      ],
      "execution_count": 11,
      "outputs": [
        {
          "output_type": "execute_result",
          "data": {
            "text/plain": [
              "151"
            ]
          },
          "metadata": {
            "tags": []
          },
          "execution_count": 11
        }
      ]
    },
    {
      "cell_type": "code",
      "metadata": {
        "id": "ykp5bo9k34bn",
        "outputId": "61a81845-4acc-45a6-cbec-c30220d2201c",
        "colab": {
          "base_uri": "https://localhost:8080/",
          "height": 120
        }
      },
      "source": [
        "# Show the the first five\n",
        "rdd_iris.take(5)"
      ],
      "execution_count": 13,
      "outputs": [
        {
          "output_type": "execute_result",
          "data": {
            "text/plain": [
              "['Sepal.Length,Sepal.Width,Petal.Length,Petal.Width,Species',\n",
              " '5.1,3.5,1.4,0.2,setosa',\n",
              " '4.9,3,1.4,0.2,setosa',\n",
              " '4.7,3.2,1.3,0.2,setosa',\n",
              " '4.6,3.1,1.5,0.2,setosa']"
            ]
          },
          "metadata": {
            "tags": []
          },
          "execution_count": 13
        }
      ]
    },
    {
      "cell_type": "code",
      "metadata": {
        "id": "yBHfjUEp39-W",
        "outputId": "142a79b9-0404-45d1-b44f-d79c478bc249",
        "colab": {
          "base_uri": "https://localhost:8080/",
          "height": 54
        }
      },
      "source": [
        "# Remove the header\n",
        "rdd_iris2 = rdd_iris.filter(lambda x: 'Sepal' not in x)\n",
        "rdd_iris2.count()"
      ],
      "execution_count": 14,
      "outputs": [
        {
          "output_type": "execute_result",
          "data": {
            "text/plain": [
              "150"
            ]
          },
          "metadata": {
            "tags": []
          },
          "execution_count": 14
        }
      ]
    },
    {
      "cell_type": "markdown",
      "metadata": {
        "id": "DG5b1XzA5AUY"
      },
      "source": [
        "# Data Cleansing"
      ]
    },
    {
      "cell_type": "code",
      "metadata": {
        "id": "85e73oe34iy-"
      },
      "source": [
        "# Split columns by comma\n",
        "rdd_iris3 = rdd_iris2.map(lambda x: x.split(','))"
      ],
      "execution_count": 15,
      "outputs": []
    },
    {
      "cell_type": "code",
      "metadata": {
        "id": "dcBhJESs5bGu",
        "outputId": "d37ec7ec-0307-421a-8d5f-f50803a418ba",
        "colab": {
          "base_uri": "https://localhost:8080/",
          "height": 120
        }
      },
      "source": [
        "rdd_iris3.take(5)"
      ],
      "execution_count": 17,
      "outputs": [
        {
          "output_type": "execute_result",
          "data": {
            "text/plain": [
              "[['5.1', '3.5', '1.4', '0.2', 'setosa'],\n",
              " ['4.9', '3', '1.4', '0.2', 'setosa'],\n",
              " ['4.7', '3.2', '1.3', '0.2', 'setosa'],\n",
              " ['4.6', '3.1', '1.5', '0.2', 'setosa'],\n",
              " ['5', '3.6', '1.4', '0.2', 'setosa']]"
            ]
          },
          "metadata": {
            "tags": []
          },
          "execution_count": 17
        }
      ]
    },
    {
      "cell_type": "code",
      "metadata": {
        "id": "ifQLSXxV5SXl"
      },
      "source": [
        "# Column mapping and converting data types\n",
        "rdd_iris4 = rdd_iris3.map(lambda x: Row(SEPAL_LENGTH = float(x[0]), SEPAL_WIDTH = float(x[1]),\n",
        "                                        PETAL_LENGTH = float(x[2]), PETAL_WIDTH = float(x[3]),\n",
        "                                        SPECIES = x[4] ))"
      ],
      "execution_count": 18,
      "outputs": []
    },
    {
      "cell_type": "code",
      "metadata": {
        "id": "3LgcWsJa6n8C",
        "outputId": "55cddcc6-2a76-4f7d-d0f5-956ee8bd83a2",
        "colab": {
          "base_uri": "https://localhost:8080/",
          "height": 120
        }
      },
      "source": [
        "rdd_iris4.take(5)"
      ],
      "execution_count": 19,
      "outputs": [
        {
          "output_type": "execute_result",
          "data": {
            "text/plain": [
              "[Row(PETAL_LENGTH=1.4, PETAL_WIDTH=0.2, SEPAL_LENGTH=5.1, SEPAL_WIDTH=3.5, SPECIES='setosa'),\n",
              " Row(PETAL_LENGTH=1.4, PETAL_WIDTH=0.2, SEPAL_LENGTH=4.9, SEPAL_WIDTH=3.0, SPECIES='setosa'),\n",
              " Row(PETAL_LENGTH=1.3, PETAL_WIDTH=0.2, SEPAL_LENGTH=4.7, SEPAL_WIDTH=3.2, SPECIES='setosa'),\n",
              " Row(PETAL_LENGTH=1.5, PETAL_WIDTH=0.2, SEPAL_LENGTH=4.6, SEPAL_WIDTH=3.1, SPECIES='setosa'),\n",
              " Row(PETAL_LENGTH=1.4, PETAL_WIDTH=0.2, SEPAL_LENGTH=5.0, SEPAL_WIDTH=3.6, SPECIES='setosa')]"
            ]
          },
          "metadata": {
            "tags": []
          },
          "execution_count": 19
        }
      ]
    },
    {
      "cell_type": "code",
      "metadata": {
        "id": "VWmH-Huk6qot"
      },
      "source": [
        "# Dataframe creation\n",
        "df_iris = spark.createDataFrame(rdd_iris4)"
      ],
      "execution_count": 20,
      "outputs": []
    },
    {
      "cell_type": "code",
      "metadata": {
        "id": "P4kGArXS69kF",
        "outputId": "d07229e1-f80c-436d-e63f-d9f1100ea755",
        "colab": {
          "base_uri": "https://localhost:8080/",
          "height": 467
        }
      },
      "source": [
        "# Show dataframe\n",
        "df_iris.show()"
      ],
      "execution_count": 23,
      "outputs": [
        {
          "output_type": "stream",
          "text": [
            "+------------+-----------+------------+-----------+-------+\n",
            "|PETAL_LENGTH|PETAL_WIDTH|SEPAL_LENGTH|SEPAL_WIDTH|SPECIES|\n",
            "+------------+-----------+------------+-----------+-------+\n",
            "|         1.4|        0.2|         5.1|        3.5| setosa|\n",
            "|         1.4|        0.2|         4.9|        3.0| setosa|\n",
            "|         1.3|        0.2|         4.7|        3.2| setosa|\n",
            "|         1.5|        0.2|         4.6|        3.1| setosa|\n",
            "|         1.4|        0.2|         5.0|        3.6| setosa|\n",
            "|         1.7|        0.4|         5.4|        3.9| setosa|\n",
            "|         1.4|        0.3|         4.6|        3.4| setosa|\n",
            "|         1.5|        0.2|         5.0|        3.4| setosa|\n",
            "|         1.4|        0.2|         4.4|        2.9| setosa|\n",
            "|         1.5|        0.1|         4.9|        3.1| setosa|\n",
            "|         1.5|        0.2|         5.4|        3.7| setosa|\n",
            "|         1.6|        0.2|         4.8|        3.4| setosa|\n",
            "|         1.4|        0.1|         4.8|        3.0| setosa|\n",
            "|         1.1|        0.1|         4.3|        3.0| setosa|\n",
            "|         1.2|        0.2|         5.8|        4.0| setosa|\n",
            "|         1.5|        0.4|         5.7|        4.4| setosa|\n",
            "|         1.3|        0.4|         5.4|        3.9| setosa|\n",
            "|         1.4|        0.3|         5.1|        3.5| setosa|\n",
            "|         1.7|        0.3|         5.7|        3.8| setosa|\n",
            "|         1.5|        0.3|         5.1|        3.8| setosa|\n",
            "+------------+-----------+------------+-----------+-------+\n",
            "only showing top 20 rows\n",
            "\n"
          ],
          "name": "stdout"
        }
      ]
    },
    {
      "cell_type": "code",
      "metadata": {
        "id": "XQIemOLc7ECG",
        "outputId": "e1addf14-2924-46f6-a58c-5d8a0743f44d",
        "colab": {
          "base_uri": "https://localhost:8080/",
          "height": 54
        }
      },
      "source": [
        "# Put the dataframe in cache\n",
        "df_iris.cache()"
      ],
      "execution_count": 24,
      "outputs": [
        {
          "output_type": "execute_result",
          "data": {
            "text/plain": [
              "DataFrame[PETAL_LENGTH: double, PETAL_WIDTH: double, SEPAL_LENGTH: double, SEPAL_WIDTH: double, SPECIES: string]"
            ]
          },
          "metadata": {
            "tags": []
          },
          "execution_count": 24
        }
      ]
    },
    {
      "cell_type": "code",
      "metadata": {
        "id": "vzpsLDrj7Up3"
      },
      "source": [
        ""
      ],
      "execution_count": null,
      "outputs": []
    }
  ]
}
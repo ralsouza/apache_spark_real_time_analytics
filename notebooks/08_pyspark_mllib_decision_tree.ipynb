{
  "nbformat": 4,
  "nbformat_minor": 0,
  "metadata": {
    "colab": {
      "name": "08_pyspark_mllib_decision_tree.ipynb",
      "provenance": [],
      "collapsed_sections": [],
      "mount_file_id": "1zuiyI-X7O_gTWLC82gi_hSUPPJPJqgAM",
      "authorship_tag": "ABX9TyPkkgNX4XCYxiiuRPrQwtK4",
      "include_colab_link": true
    },
    "kernelspec": {
      "name": "python3",
      "display_name": "Python 3"
    }
  },
  "cells": [
    {
      "cell_type": "markdown",
      "metadata": {
        "id": "view-in-github",
        "colab_type": "text"
      },
      "source": [
        "<a href=\"https://colab.research.google.com/github/ralsouza/apache_spark_real_time_analytics/blob/master/notebooks/08_pyspark_mllib_decision_tree.ipynb\" target=\"_parent\"><img src=\"https://colab.research.google.com/assets/colab-badge.svg\" alt=\"Open In Colab\"/></a>"
      ]
    },
    {
      "cell_type": "markdown",
      "metadata": {
        "id": "vDclGLbn1WWj"
      },
      "source": [
        "# Setup"
      ]
    },
    {
      "cell_type": "code",
      "metadata": {
        "id": "vI_-FEAs0373"
      },
      "source": [
        "!apt-get update"
      ],
      "execution_count": null,
      "outputs": []
    },
    {
      "cell_type": "code",
      "metadata": {
        "id": "cmoSj3v71EOw"
      },
      "source": [
        "# Install the dependencies\n",
        "!apt-get install openjdk-8-jdk-headless -qq > /dev/null\n",
        "!wget -q https://archive.apache.org/dist/spark/spark-2.4.4/spark-2.4.4-bin-hadoop2.7.tgz\n",
        "!tar xf spark-2.4.4-bin-hadoop2.7.tgz\n",
        "!pip install -q findspark"
      ],
      "execution_count": 4,
      "outputs": []
    },
    {
      "cell_type": "code",
      "metadata": {
        "id": "joC5_IiA1GQS"
      },
      "source": [
        "# Environment variables\n",
        "import os\n",
        "os.environ[\"JAVA_HOME\"] = \"/usr/lib/jvm/java-8-openjdk-amd64\"\n",
        "os.environ[\"SPARK_HOME\"] = \"/content/spark-2.4.4-bin-hadoop2.7\""
      ],
      "execution_count": 5,
      "outputs": []
    },
    {
      "cell_type": "code",
      "metadata": {
        "id": "2h9YaQIf1JAv"
      },
      "source": [
        "# Make pyspark \"importable\"\n",
        "import findspark\n",
        "findspark.init('spark-2.4.4-bin-hadoop2.7')"
      ],
      "execution_count": 6,
      "outputs": []
    },
    {
      "cell_type": "code",
      "metadata": {
        "id": "fQTWilPX1Kk_"
      },
      "source": [
        "# Libraries and Context Setup\n",
        "import pyspark\n",
        "from pyspark.sql import SparkSession\n",
        "from pyspark import SparkContext, SparkConf"
      ],
      "execution_count": 7,
      "outputs": []
    },
    {
      "cell_type": "code",
      "metadata": {
        "id": "jlpc3oUW1MlB"
      },
      "source": [
        "# create the session\n",
        "conf = SparkConf().set(\"spark.ui.port\", \"4050\")\n",
        "\n",
        "# create the context\n",
        "sc = pyspark.SparkContext(conf=conf)\n",
        "\n",
        "\n",
        "# Instance Spark Session\n",
        "spark = SparkSession.builder.master('local').appName('spark_ml_lib').getOrCreate()\n",
        "\n",
        "# Create the SQL Context\n",
        "sqlContext = pyspark.SQLContext(sc)"
      ],
      "execution_count": 8,
      "outputs": []
    },
    {
      "cell_type": "markdown",
      "metadata": {
        "id": "Y83eRL3Z2Ti8"
      },
      "source": [
        "# Libraries\n"
      ]
    },
    {
      "cell_type": "code",
      "metadata": {
        "id": "VLb3eKgR2asq"
      },
      "source": [
        "from pyspark.sql               import Row\n",
        "from pyspark.ml.feature        import StringIndexer\n",
        "from pyspark.ml.linalg         import Vectors\n",
        "from pyspark.ml.classification import DecisionTreeClassifier\n",
        "from pyspark.ml.evaluation     import MulticlassClassificationEvaluator"
      ],
      "execution_count": 9,
      "outputs": []
    },
    {
      "cell_type": "markdown",
      "metadata": {
        "id": "oUrbbTuN3Kpk"
      },
      "source": [
        "# Load data"
      ]
    },
    {
      "cell_type": "code",
      "metadata": {
        "id": "8PWY4pz43CXc"
      },
      "source": [
        "# Load as RDDs\n",
        "rdd_iris = sc.textFile('/content/drive/My Drive/Colab Notebooks/08-apache-spark/data/mllib/iris.csv')"
      ],
      "execution_count": 10,
      "outputs": []
    },
    {
      "cell_type": "code",
      "metadata": {
        "id": "9Z11QmwD3jSa",
        "outputId": "29be31ba-e07b-49a0-c2dc-39d9bc72338a",
        "colab": {
          "base_uri": "https://localhost:8080/",
          "height": 54
        }
      },
      "source": [
        "# Put the data in cache\n",
        "rdd_iris.cache()"
      ],
      "execution_count": 11,
      "outputs": [
        {
          "output_type": "execute_result",
          "data": {
            "text/plain": [
              "/content/drive/My Drive/Colab Notebooks/08-apache-spark/data/mllib/iris.csv MapPartitionsRDD[1] at textFile at NativeMethodAccessorImpl.java:0"
            ]
          },
          "metadata": {
            "tags": []
          },
          "execution_count": 11
        }
      ]
    },
    {
      "cell_type": "code",
      "metadata": {
        "id": "KaNelK933rRL",
        "outputId": "2535416d-a453-4ac5-cb9f-b114f965b80c",
        "colab": {
          "base_uri": "https://localhost:8080/",
          "height": 54
        }
      },
      "source": [
        "# Count\n",
        "rdd_iris.count()"
      ],
      "execution_count": 11,
      "outputs": [
        {
          "output_type": "execute_result",
          "data": {
            "text/plain": [
              "151"
            ]
          },
          "metadata": {
            "tags": []
          },
          "execution_count": 11
        }
      ]
    },
    {
      "cell_type": "code",
      "metadata": {
        "id": "ykp5bo9k34bn",
        "outputId": "33ad4e65-7628-4412-a246-ad7e166212af",
        "colab": {
          "base_uri": "https://localhost:8080/",
          "height": 120
        }
      },
      "source": [
        "# Show the the first five\n",
        "rdd_iris.take(5)"
      ],
      "execution_count": 12,
      "outputs": [
        {
          "output_type": "execute_result",
          "data": {
            "text/plain": [
              "['Sepal.Length,Sepal.Width,Petal.Length,Petal.Width,Species',\n",
              " '5.1,3.5,1.4,0.2,setosa',\n",
              " '4.9,3,1.4,0.2,setosa',\n",
              " '4.7,3.2,1.3,0.2,setosa',\n",
              " '4.6,3.1,1.5,0.2,setosa']"
            ]
          },
          "metadata": {
            "tags": []
          },
          "execution_count": 12
        }
      ]
    },
    {
      "cell_type": "code",
      "metadata": {
        "id": "yBHfjUEp39-W",
        "outputId": "a1d469ab-e08d-4814-89c3-6daa2bbcd8f6",
        "colab": {
          "base_uri": "https://localhost:8080/",
          "height": 54
        }
      },
      "source": [
        "# Remove the header\n",
        "rdd_iris2 = rdd_iris.filter(lambda x: 'Sepal' not in x)\n",
        "rdd_iris2.count()"
      ],
      "execution_count": 13,
      "outputs": [
        {
          "output_type": "execute_result",
          "data": {
            "text/plain": [
              "150"
            ]
          },
          "metadata": {
            "tags": []
          },
          "execution_count": 13
        }
      ]
    },
    {
      "cell_type": "markdown",
      "metadata": {
        "id": "DG5b1XzA5AUY"
      },
      "source": [
        "# Data Cleansing"
      ]
    },
    {
      "cell_type": "code",
      "metadata": {
        "id": "85e73oe34iy-"
      },
      "source": [
        "# Split columns by comma\n",
        "rdd_iris3 = rdd_iris2.map(lambda x: x.split(','))"
      ],
      "execution_count": 14,
      "outputs": []
    },
    {
      "cell_type": "code",
      "metadata": {
        "id": "dcBhJESs5bGu",
        "outputId": "1bcf2879-239a-4d77-9307-2855ce531035",
        "colab": {
          "base_uri": "https://localhost:8080/",
          "height": 120
        }
      },
      "source": [
        "rdd_iris3.take(5)"
      ],
      "execution_count": 15,
      "outputs": [
        {
          "output_type": "execute_result",
          "data": {
            "text/plain": [
              "[['5.1', '3.5', '1.4', '0.2', 'setosa'],\n",
              " ['4.9', '3', '1.4', '0.2', 'setosa'],\n",
              " ['4.7', '3.2', '1.3', '0.2', 'setosa'],\n",
              " ['4.6', '3.1', '1.5', '0.2', 'setosa'],\n",
              " ['5', '3.6', '1.4', '0.2', 'setosa']]"
            ]
          },
          "metadata": {
            "tags": []
          },
          "execution_count": 15
        }
      ]
    },
    {
      "cell_type": "code",
      "metadata": {
        "id": "ifQLSXxV5SXl"
      },
      "source": [
        "# Column mapping and converting data types\n",
        "rdd_iris4 = rdd_iris3.map(lambda x: Row(SEPAL_LENGTH = float(x[0]), SEPAL_WIDTH = float(x[1]),\n",
        "                                        PETAL_LENGTH = float(x[2]), PETAL_WIDTH = float(x[3]),\n",
        "                                        SPECIES = x[4] ))"
      ],
      "execution_count": 16,
      "outputs": []
    },
    {
      "cell_type": "code",
      "metadata": {
        "id": "3LgcWsJa6n8C",
        "outputId": "36837379-921c-4d5d-d5b0-a51520961d15",
        "colab": {
          "base_uri": "https://localhost:8080/",
          "height": 120
        }
      },
      "source": [
        "rdd_iris4.take(5)"
      ],
      "execution_count": 17,
      "outputs": [
        {
          "output_type": "execute_result",
          "data": {
            "text/plain": [
              "[Row(PETAL_LENGTH=1.4, PETAL_WIDTH=0.2, SEPAL_LENGTH=5.1, SEPAL_WIDTH=3.5, SPECIES='setosa'),\n",
              " Row(PETAL_LENGTH=1.4, PETAL_WIDTH=0.2, SEPAL_LENGTH=4.9, SEPAL_WIDTH=3.0, SPECIES='setosa'),\n",
              " Row(PETAL_LENGTH=1.3, PETAL_WIDTH=0.2, SEPAL_LENGTH=4.7, SEPAL_WIDTH=3.2, SPECIES='setosa'),\n",
              " Row(PETAL_LENGTH=1.5, PETAL_WIDTH=0.2, SEPAL_LENGTH=4.6, SEPAL_WIDTH=3.1, SPECIES='setosa'),\n",
              " Row(PETAL_LENGTH=1.4, PETAL_WIDTH=0.2, SEPAL_LENGTH=5.0, SEPAL_WIDTH=3.6, SPECIES='setosa')]"
            ]
          },
          "metadata": {
            "tags": []
          },
          "execution_count": 17
        }
      ]
    },
    {
      "cell_type": "code",
      "metadata": {
        "id": "VWmH-Huk6qot"
      },
      "source": [
        "# Dataframe creation\n",
        "df_iris = spark.createDataFrame(rdd_iris4)"
      ],
      "execution_count": 18,
      "outputs": []
    },
    {
      "cell_type": "code",
      "metadata": {
        "id": "P4kGArXS69kF",
        "outputId": "182834ce-55c4-47c3-e318-24642980a0a1",
        "colab": {
          "base_uri": "https://localhost:8080/",
          "height": 467
        }
      },
      "source": [
        "# Show dataframe\n",
        "df_iris.show()"
      ],
      "execution_count": 19,
      "outputs": [
        {
          "output_type": "stream",
          "text": [
            "+------------+-----------+------------+-----------+-------+\n",
            "|PETAL_LENGTH|PETAL_WIDTH|SEPAL_LENGTH|SEPAL_WIDTH|SPECIES|\n",
            "+------------+-----------+------------+-----------+-------+\n",
            "|         1.4|        0.2|         5.1|        3.5| setosa|\n",
            "|         1.4|        0.2|         4.9|        3.0| setosa|\n",
            "|         1.3|        0.2|         4.7|        3.2| setosa|\n",
            "|         1.5|        0.2|         4.6|        3.1| setosa|\n",
            "|         1.4|        0.2|         5.0|        3.6| setosa|\n",
            "|         1.7|        0.4|         5.4|        3.9| setosa|\n",
            "|         1.4|        0.3|         4.6|        3.4| setosa|\n",
            "|         1.5|        0.2|         5.0|        3.4| setosa|\n",
            "|         1.4|        0.2|         4.4|        2.9| setosa|\n",
            "|         1.5|        0.1|         4.9|        3.1| setosa|\n",
            "|         1.5|        0.2|         5.4|        3.7| setosa|\n",
            "|         1.6|        0.2|         4.8|        3.4| setosa|\n",
            "|         1.4|        0.1|         4.8|        3.0| setosa|\n",
            "|         1.1|        0.1|         4.3|        3.0| setosa|\n",
            "|         1.2|        0.2|         5.8|        4.0| setosa|\n",
            "|         1.5|        0.4|         5.7|        4.4| setosa|\n",
            "|         1.3|        0.4|         5.4|        3.9| setosa|\n",
            "|         1.4|        0.3|         5.1|        3.5| setosa|\n",
            "|         1.7|        0.3|         5.7|        3.8| setosa|\n",
            "|         1.5|        0.3|         5.1|        3.8| setosa|\n",
            "+------------+-----------+------------+-----------+-------+\n",
            "only showing top 20 rows\n",
            "\n"
          ],
          "name": "stdout"
        }
      ]
    },
    {
      "cell_type": "code",
      "metadata": {
        "id": "XQIemOLc7ECG",
        "outputId": "abf9fb1d-3fbb-488e-f803-39f5e0d451fe",
        "colab": {
          "base_uri": "https://localhost:8080/",
          "height": 54
        }
      },
      "source": [
        "# Put the dataframe in cache\n",
        "df_iris.cache()"
      ],
      "execution_count": 20,
      "outputs": [
        {
          "output_type": "execute_result",
          "data": {
            "text/plain": [
              "DataFrame[PETAL_LENGTH: double, PETAL_WIDTH: double, SEPAL_LENGTH: double, SEPAL_WIDTH: double, SPECIES: string]"
            ]
          },
          "metadata": {
            "tags": []
          },
          "execution_count": 20
        }
      ]
    },
    {
      "cell_type": "code",
      "metadata": {
        "id": "vzpsLDrj7Up3",
        "outputId": "f81259a6-bfad-4c5f-f097-09aa875aebbf",
        "colab": {
          "base_uri": "https://localhost:8080/",
          "height": 120
        }
      },
      "source": [
        "df_iris.take(5)"
      ],
      "execution_count": 21,
      "outputs": [
        {
          "output_type": "execute_result",
          "data": {
            "text/plain": [
              "[Row(PETAL_LENGTH=1.4, PETAL_WIDTH=0.2, SEPAL_LENGTH=5.1, SEPAL_WIDTH=3.5, SPECIES='setosa'),\n",
              " Row(PETAL_LENGTH=1.4, PETAL_WIDTH=0.2, SEPAL_LENGTH=4.9, SEPAL_WIDTH=3.0, SPECIES='setosa'),\n",
              " Row(PETAL_LENGTH=1.3, PETAL_WIDTH=0.2, SEPAL_LENGTH=4.7, SEPAL_WIDTH=3.2, SPECIES='setosa'),\n",
              " Row(PETAL_LENGTH=1.5, PETAL_WIDTH=0.2, SEPAL_LENGTH=4.6, SEPAL_WIDTH=3.1, SPECIES='setosa'),\n",
              " Row(PETAL_LENGTH=1.4, PETAL_WIDTH=0.2, SEPAL_LENGTH=5.0, SEPAL_WIDTH=3.6, SPECIES='setosa')]"
            ]
          },
          "metadata": {
            "tags": []
          },
          "execution_count": 21
        }
      ]
    },
    {
      "cell_type": "code",
      "metadata": {
        "id": "Fkz7opA7yv_4"
      },
      "source": [
        "# Create an numeric index to the target label column\n",
        "string_indexer = StringIndexer(inputCol='SPECIES',outputCol='IDX_SPECIES')\n",
        "si_model = string_indexer.fit(df_iris)\n",
        "df_iris_norm = si_model.transform(df_iris)"
      ],
      "execution_count": 23,
      "outputs": []
    },
    {
      "cell_type": "code",
      "metadata": {
        "id": "-3EPO7qCzNZ2",
        "outputId": "8b706a9d-6db5-4a12-a9a1-207c382a572a",
        "colab": {
          "base_uri": "https://localhost:8080/",
          "height": 87
        }
      },
      "source": [
        "# Check the indexes\n",
        "df_iris_norm.select('SPECIES','IDX_SPECIES').distinct().collect()"
      ],
      "execution_count": 24,
      "outputs": [
        {
          "output_type": "execute_result",
          "data": {
            "text/plain": [
              "[Row(SPECIES='versicolor', IDX_SPECIES=0.0),\n",
              " Row(SPECIES='setosa', IDX_SPECIES=2.0),\n",
              " Row(SPECIES='virginica', IDX_SPECIES=1.0)]"
            ]
          },
          "metadata": {
            "tags": []
          },
          "execution_count": 24
        }
      ]
    },
    {
      "cell_type": "markdown",
      "metadata": {
        "id": "T6WReh_w0GHV"
      },
      "source": [
        "# Exploratory Data Analysis"
      ]
    },
    {
      "cell_type": "code",
      "metadata": {
        "id": "_i2-5kSr0A5d",
        "outputId": "57468c1e-b20e-4a61-e217-2ae0a62d28da",
        "colab": {
          "base_uri": "https://localhost:8080/",
          "height": 203
        }
      },
      "source": [
        "# Descriptive statistics\n",
        "df_iris_norm.describe().show()"
      ],
      "execution_count": 25,
      "outputs": [
        {
          "output_type": "stream",
          "text": [
            "+-------+------------------+------------------+------------------+------------------+---------+------------------+\n",
            "|summary|      PETAL_LENGTH|       PETAL_WIDTH|      SEPAL_LENGTH|       SEPAL_WIDTH|  SPECIES|       IDX_SPECIES|\n",
            "+-------+------------------+------------------+------------------+------------------+---------+------------------+\n",
            "|  count|               150|               150|               150|               150|      150|               150|\n",
            "|   mean| 3.758000000000001|1.1993333333333331| 5.843333333333332|3.0573333333333337|     null|               1.0|\n",
            "| stddev|1.7652982332594662|0.7622376689603467|0.8280661279778634|0.4358662849366978|     null|0.8192319205190404|\n",
            "|    min|               1.0|               0.1|               4.3|               2.0|   setosa|               0.0|\n",
            "|    max|               6.9|               2.5|               7.9|               4.4|virginica|               2.0|\n",
            "+-------+------------------+------------------+------------------+------------------+---------+------------------+\n",
            "\n"
          ],
          "name": "stdout"
        }
      ]
    },
    {
      "cell_type": "code",
      "metadata": {
        "id": "14SKfgxg19FP",
        "outputId": "2393a247-688f-4270-e923-438fa7224492",
        "colab": {
          "base_uri": "https://localhost:8080/",
          "height": 104
        }
      },
      "source": [
        "# Show the correlation\n",
        "for i in df_iris.columns:\n",
        "  if not(isinstance(df_iris_norm.select(i).take(1)[0][0],str)):\n",
        "    print('Correlation between IDX_SPECIES with ', i, df_iris_norm.stat.corr('IDX_SPECIES',i))"
      ],
      "execution_count": 28,
      "outputs": [
        {
          "output_type": "stream",
          "text": [
            "Correlation between IDX_SPECIES with  PETAL_LENGTH -0.649241830764174\n",
            "Correlation between IDX_SPECIES with  PETAL_WIDTH -0.5803770334306263\n",
            "Correlation between IDX_SPECIES with  SEPAL_LENGTH -0.46003915650023686\n",
            "Correlation between IDX_SPECIES with  SEPAL_WIDTH 0.6183715308237434\n"
          ],
          "name": "stdout"
        }
      ]
    },
    {
      "cell_type": "markdown",
      "metadata": {
        "id": "FQ73ZUTg27uF"
      },
      "source": [
        "# Data preprocessing"
      ]
    },
    {
      "cell_type": "code",
      "metadata": {
        "id": "g8EXPEEX2FAg"
      },
      "source": [
        "# Creating a LabeledPoint (target,Vector[features])\n",
        "# Remove all nonrelevant columns or with low correlation\n",
        "def transform_var(row):\n",
        "  obj = (row['SPECIES'],row['IDX_SPECIES'],Vectors.dense([row['SEPAL_LENGTH'],row['SEPAL_WIDTH'],\n",
        "                                                          row['PETAL_LENGTH'],row['PETAL_WIDTH']]))\n",
        "  return obj"
      ],
      "execution_count": 29,
      "outputs": []
    },
    {
      "cell_type": "code",
      "metadata": {
        "id": "umDKEKFI4WG9"
      },
      "source": [
        "rdd_iris5 = df_iris_norm.rdd.map(transform_var)"
      ],
      "execution_count": 30,
      "outputs": []
    },
    {
      "cell_type": "code",
      "metadata": {
        "id": "1Vt395YO4gAN",
        "outputId": "0e7660dc-014f-4ea4-c712-2319816df8ca",
        "colab": {
          "base_uri": "https://localhost:8080/",
          "height": 120
        }
      },
      "source": [
        "rdd_iris5.take(5)"
      ],
      "execution_count": 31,
      "outputs": [
        {
          "output_type": "execute_result",
          "data": {
            "text/plain": [
              "[('setosa', 2.0, DenseVector([5.1, 3.5, 1.4, 0.2])),\n",
              " ('setosa', 2.0, DenseVector([4.9, 3.0, 1.4, 0.2])),\n",
              " ('setosa', 2.0, DenseVector([4.7, 3.2, 1.3, 0.2])),\n",
              " ('setosa', 2.0, DenseVector([4.6, 3.1, 1.5, 0.2])),\n",
              " ('setosa', 2.0, DenseVector([5.0, 3.6, 1.4, 0.2]))]"
            ]
          },
          "metadata": {
            "tags": []
          },
          "execution_count": 31
        }
      ]
    },
    {
      "cell_type": "code",
      "metadata": {
        "id": "cJSLYeIL4jkz",
        "outputId": "82dc0bda-14ef-4ca4-8af1-9378c3775de4",
        "colab": {
          "base_uri": "https://localhost:8080/",
          "height": 319
        }
      },
      "source": [
        "df_iris2 = spark.createDataFrame(rdd_iris5,['SPECIES','LABEL','FEATURES'])\n",
        "df_iris2.select('SPECIES','LABEL','FEATURES').show(10)\n",
        "df_iris2.cache()"
      ],
      "execution_count": 34,
      "outputs": [
        {
          "output_type": "stream",
          "text": [
            "+-------+-----+-----------------+\n",
            "|SPECIES|LABEL|         FEATURES|\n",
            "+-------+-----+-----------------+\n",
            "| setosa|  2.0|[5.1,3.5,1.4,0.2]|\n",
            "| setosa|  2.0|[4.9,3.0,1.4,0.2]|\n",
            "| setosa|  2.0|[4.7,3.2,1.3,0.2]|\n",
            "| setosa|  2.0|[4.6,3.1,1.5,0.2]|\n",
            "| setosa|  2.0|[5.0,3.6,1.4,0.2]|\n",
            "| setosa|  2.0|[5.4,3.9,1.7,0.4]|\n",
            "| setosa|  2.0|[4.6,3.4,1.4,0.3]|\n",
            "| setosa|  2.0|[5.0,3.4,1.5,0.2]|\n",
            "| setosa|  2.0|[4.4,2.9,1.4,0.2]|\n",
            "| setosa|  2.0|[4.9,3.1,1.5,0.1]|\n",
            "+-------+-----+-----------------+\n",
            "only showing top 10 rows\n",
            "\n"
          ],
          "name": "stdout"
        },
        {
          "output_type": "execute_result",
          "data": {
            "text/plain": [
              "DataFrame[SPECIES: string, LABEL: double, FEATURES: vector]"
            ]
          },
          "metadata": {
            "tags": []
          },
          "execution_count": 34
        }
      ]
    },
    {
      "cell_type": "markdown",
      "metadata": {
        "id": "ozY9VMgG5V-6"
      },
      "source": [
        "# Machine Learning"
      ]
    },
    {
      "cell_type": "code",
      "metadata": {
        "id": "9448UcZ_5L6H"
      },
      "source": [
        "# Train and test data\n",
        "(train_data, test_data) = df_iris2.randomSplit([0.7,0.3])"
      ],
      "execution_count": 35,
      "outputs": []
    },
    {
      "cell_type": "code",
      "metadata": {
        "id": "Cxk6VhRp5pHt",
        "outputId": "697872a2-1949-4319-ce4c-517286049c64",
        "colab": {
          "base_uri": "https://localhost:8080/",
          "height": 54
        }
      },
      "source": [
        "train_data.count()"
      ],
      "execution_count": 36,
      "outputs": [
        {
          "output_type": "execute_result",
          "data": {
            "text/plain": [
              "99"
            ]
          },
          "metadata": {
            "tags": []
          },
          "execution_count": 36
        }
      ]
    },
    {
      "cell_type": "code",
      "metadata": {
        "id": "xVuCjHr75sEC",
        "outputId": "e9674769-01d1-44b0-a95a-6e801ff0b16e",
        "colab": {
          "base_uri": "https://localhost:8080/",
          "height": 54
        }
      },
      "source": [
        "test_data.count()"
      ],
      "execution_count": 37,
      "outputs": [
        {
          "output_type": "execute_result",
          "data": {
            "text/plain": [
              "51"
            ]
          },
          "metadata": {
            "tags": []
          },
          "execution_count": 37
        }
      ]
    },
    {
      "cell_type": "code",
      "metadata": {
        "id": "P1-EyKuS5tvX"
      },
      "source": [
        "# Model creating\n",
        "# MaxDepth parameter is the node number on the model\n",
        "dt_classifer = DecisionTreeClassifier(maxDepth=2,labelCol='LABEL',featuresCol='FEATURES')\n",
        "model = dt_classifer.fit(train_data)"
      ],
      "execution_count": 38,
      "outputs": []
    },
    {
      "cell_type": "code",
      "metadata": {
        "id": "hzGN6Z1A6b4h",
        "outputId": "8bd5ae9a-1c08-48d0-9925-38c896b7e3bb",
        "colab": {
          "base_uri": "https://localhost:8080/",
          "height": 54
        }
      },
      "source": [
        "model.depth"
      ],
      "execution_count": 40,
      "outputs": [
        {
          "output_type": "execute_result",
          "data": {
            "text/plain": [
              "2"
            ]
          },
          "metadata": {
            "tags": []
          },
          "execution_count": 40
        }
      ]
    },
    {
      "cell_type": "code",
      "metadata": {
        "id": "NmZajYPk6inD",
        "outputId": "5d544c7b-38c8-4136-9884-8528fddb6baf",
        "colab": {
          "base_uri": "https://localhost:8080/",
          "height": 54
        }
      },
      "source": [
        "model.numNodes"
      ],
      "execution_count": 41,
      "outputs": [
        {
          "output_type": "execute_result",
          "data": {
            "text/plain": [
              "5"
            ]
          },
          "metadata": {
            "tags": []
          },
          "execution_count": 41
        }
      ]
    },
    {
      "cell_type": "code",
      "metadata": {
        "id": "QziCy6ww6mFW",
        "outputId": "49122d3b-9f8f-4877-c90a-233e89ed64d8",
        "colab": {
          "base_uri": "https://localhost:8080/",
          "height": 880
        }
      },
      "source": [
        "# Presenting new data (test_data) to make the predictions\n",
        "predictions = model.transform(test_data)\n",
        "predictions.select('prediction','species','label').collect()"
      ],
      "execution_count": 43,
      "outputs": [
        {
          "output_type": "execute_result",
          "data": {
            "text/plain": [
              "[Row(prediction=2.0, species='setosa', label=2.0),\n",
              " Row(prediction=2.0, species='setosa', label=2.0),\n",
              " Row(prediction=2.0, species='setosa', label=2.0),\n",
              " Row(prediction=2.0, species='setosa', label=2.0),\n",
              " Row(prediction=2.0, species='setosa', label=2.0),\n",
              " Row(prediction=2.0, species='setosa', label=2.0),\n",
              " Row(prediction=2.0, species='setosa', label=2.0),\n",
              " Row(prediction=2.0, species='setosa', label=2.0),\n",
              " Row(prediction=2.0, species='setosa', label=2.0),\n",
              " Row(prediction=2.0, species='setosa', label=2.0),\n",
              " Row(prediction=2.0, species='setosa', label=2.0),\n",
              " Row(prediction=2.0, species='setosa', label=2.0),\n",
              " Row(prediction=2.0, species='setosa', label=2.0),\n",
              " Row(prediction=2.0, species='setosa', label=2.0),\n",
              " Row(prediction=2.0, species='setosa', label=2.0),\n",
              " Row(prediction=2.0, species='setosa', label=2.0),\n",
              " Row(prediction=2.0, species='setosa', label=2.0),\n",
              " Row(prediction=2.0, species='setosa', label=2.0),\n",
              " Row(prediction=2.0, species='setosa', label=2.0),\n",
              " Row(prediction=2.0, species='setosa', label=2.0),\n",
              " Row(prediction=2.0, species='setosa', label=2.0),\n",
              " Row(prediction=0.0, species='versicolor', label=0.0),\n",
              " Row(prediction=0.0, species='versicolor', label=0.0),\n",
              " Row(prediction=0.0, species='versicolor', label=0.0),\n",
              " Row(prediction=1.0, species='versicolor', label=0.0),\n",
              " Row(prediction=0.0, species='versicolor', label=0.0),\n",
              " Row(prediction=0.0, species='versicolor', label=0.0),\n",
              " Row(prediction=0.0, species='versicolor', label=0.0),\n",
              " Row(prediction=0.0, species='versicolor', label=0.0),\n",
              " Row(prediction=0.0, species='versicolor', label=0.0),\n",
              " Row(prediction=0.0, species='versicolor', label=0.0),\n",
              " Row(prediction=0.0, species='versicolor', label=0.0),\n",
              " Row(prediction=0.0, species='versicolor', label=0.0),\n",
              " Row(prediction=0.0, species='versicolor', label=0.0),\n",
              " Row(prediction=0.0, species='versicolor', label=0.0),\n",
              " Row(prediction=0.0, species='versicolor', label=0.0),\n",
              " Row(prediction=1.0, species='versicolor', label=0.0),\n",
              " Row(prediction=1.0, species='virginica', label=1.0),\n",
              " Row(prediction=1.0, species='virginica', label=1.0),\n",
              " Row(prediction=0.0, species='virginica', label=1.0),\n",
              " Row(prediction=1.0, species='virginica', label=1.0),\n",
              " Row(prediction=1.0, species='virginica', label=1.0),\n",
              " Row(prediction=1.0, species='virginica', label=1.0),\n",
              " Row(prediction=1.0, species='virginica', label=1.0),\n",
              " Row(prediction=1.0, species='virginica', label=1.0),\n",
              " Row(prediction=1.0, species='virginica', label=1.0),\n",
              " Row(prediction=1.0, species='virginica', label=1.0),\n",
              " Row(prediction=1.0, species='virginica', label=1.0),\n",
              " Row(prediction=0.0, species='virginica', label=1.0),\n",
              " Row(prediction=1.0, species='virginica', label=1.0),\n",
              " Row(prediction=1.0, species='virginica', label=1.0)]"
            ]
          },
          "metadata": {
            "tags": []
          },
          "execution_count": 43
        }
      ]
    },
    {
      "cell_type": "code",
      "metadata": {
        "id": "9MvJK7np6-In",
        "outputId": "d3b6e748-4eb6-47d1-e07c-b345c1d9ec58",
        "colab": {
          "base_uri": "https://localhost:8080/",
          "height": 54
        }
      },
      "source": [
        "# Accuracy evaluation\n",
        "evaluator = MulticlassClassificationEvaluator(predictionCol='prediction',labelCol='LABEL',metricName='accuracy')\n",
        "evaluator.evaluate(predictions)"
      ],
      "execution_count": 48,
      "outputs": [
        {
          "output_type": "execute_result",
          "data": {
            "text/plain": [
              "0.9215686274509803"
            ]
          },
          "metadata": {
            "tags": []
          },
          "execution_count": 48
        }
      ]
    },
    {
      "cell_type": "code",
      "metadata": {
        "id": "ucKWllQO9HH4",
        "outputId": "52472b96-b1f7-47c4-e72b-b28861bd7419",
        "colab": {
          "base_uri": "https://localhost:8080/",
          "height": 203
        }
      },
      "source": [
        "predictions.groupby('LABEL','prediction').count().show()"
      ],
      "execution_count": 49,
      "outputs": [
        {
          "output_type": "stream",
          "text": [
            "+-----+----------+-----+\n",
            "|LABEL|prediction|count|\n",
            "+-----+----------+-----+\n",
            "|  1.0|       1.0|   12|\n",
            "|  0.0|       1.0|    2|\n",
            "|  2.0|       2.0|   21|\n",
            "|  1.0|       0.0|    2|\n",
            "|  0.0|       0.0|   14|\n",
            "+-----+----------+-----+\n",
            "\n"
          ],
          "name": "stdout"
        }
      ]
    }
  ]
}
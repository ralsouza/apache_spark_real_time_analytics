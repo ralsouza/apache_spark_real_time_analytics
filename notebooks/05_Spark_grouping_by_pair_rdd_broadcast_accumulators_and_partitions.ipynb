{
  "nbformat": 4,
  "nbformat_minor": 0,
  "metadata": {
    "colab": {
      "name": "05_Spark_grouping_by_pair_rdd_broadcast_accumulators_and_partitions.ipynb",
      "provenance": [],
      "collapsed_sections": [],
      "mount_file_id": "12VHNd-85d9u1wIl9uTJ-Gfgb3ZjaVMJ8",
      "authorship_tag": "ABX9TyOjk/k/ybuuVlDDx4SdVQPy",
      "include_colab_link": true
    },
    "kernelspec": {
      "name": "python3",
      "display_name": "Python 3"
    }
  },
  "cells": [
    {
      "cell_type": "markdown",
      "metadata": {
        "id": "view-in-github",
        "colab_type": "text"
      },
      "source": [
        "<a href=\"https://colab.research.google.com/github/ralsouza/apache_spark_real_time_analytics/blob/master/notebooks/05_Spark_grouping_by_pair_rdd_broadcast_accumulators_and_partitions.ipynb\" target=\"_parent\"><img src=\"https://colab.research.google.com/assets/colab-badge.svg\" alt=\"Open In Colab\"/></a>"
      ]
    },
    {
      "cell_type": "markdown",
      "metadata": {
        "id": "yM3XoEy2YaQt",
        "colab_type": "text"
      },
      "source": [
        "# Setup"
      ]
    },
    {
      "cell_type": "code",
      "metadata": {
        "id": "le7gEhNxYEG5",
        "colab_type": "code",
        "colab": {
          "base_uri": "https://localhost:8080/",
          "height": 476
        },
        "outputId": "b2a2539c-cb7e-4ac3-9d26-90871061381a"
      },
      "source": [
        "!apt-get update"
      ],
      "execution_count": 1,
      "outputs": [
        {
          "output_type": "stream",
          "text": [
            "Get:1 https://cloud.r-project.org/bin/linux/ubuntu bionic-cran35/ InRelease [3,626 B]\n",
            "Ign:2 https://developer.download.nvidia.com/compute/cuda/repos/ubuntu1804/x86_64  InRelease\n",
            "Get:3 http://security.ubuntu.com/ubuntu bionic-security InRelease [88.7 kB]\n",
            "Get:4 https://cloud.r-project.org/bin/linux/ubuntu bionic-cran35/ Packages [95.7 kB]\n",
            "Ign:5 https://developer.download.nvidia.com/compute/machine-learning/repos/ubuntu1804/x86_64  InRelease\n",
            "Hit:6 https://developer.download.nvidia.com/compute/cuda/repos/ubuntu1804/x86_64  Release\n",
            "Get:7 https://developer.download.nvidia.com/compute/machine-learning/repos/ubuntu1804/x86_64  Release [564 B]\n",
            "Get:8 https://developer.download.nvidia.com/compute/machine-learning/repos/ubuntu1804/x86_64  Release.gpg [833 B]\n",
            "Get:9 http://ppa.launchpad.net/graphics-drivers/ppa/ubuntu bionic InRelease [21.3 kB]\n",
            "Hit:10 http://archive.ubuntu.com/ubuntu bionic InRelease\n",
            "Get:12 http://archive.ubuntu.com/ubuntu bionic-updates InRelease [88.7 kB]\n",
            "Get:13 https://developer.download.nvidia.com/compute/machine-learning/repos/ubuntu1804/x86_64  Packages [47.5 kB]\n",
            "Get:14 http://ppa.launchpad.net/marutter/c2d4u3.5/ubuntu bionic InRelease [15.4 kB]\n",
            "Get:15 http://archive.ubuntu.com/ubuntu bionic-backports InRelease [74.6 kB]\n",
            "Get:16 http://security.ubuntu.com/ubuntu bionic-security/restricted amd64 Packages [116 kB]\n",
            "Get:17 http://ppa.launchpad.net/graphics-drivers/ppa/ubuntu bionic/main amd64 Packages [43.0 kB]\n",
            "Get:18 http://security.ubuntu.com/ubuntu bionic-security/multiverse amd64 Packages [10.1 kB]\n",
            "Get:19 http://security.ubuntu.com/ubuntu bionic-security/universe amd64 Packages [897 kB]\n",
            "Get:20 http://archive.ubuntu.com/ubuntu bionic-updates/multiverse amd64 Packages [27.7 kB]\n",
            "Get:21 http://archive.ubuntu.com/ubuntu bionic-updates/main amd64 Packages [1,384 kB]\n",
            "Get:22 http://security.ubuntu.com/ubuntu bionic-security/main amd64 Packages [1,089 kB]\n",
            "Get:23 http://ppa.launchpad.net/marutter/c2d4u3.5/ubuntu bionic/main Sources [1,864 kB]\n",
            "Get:24 http://archive.ubuntu.com/ubuntu bionic-updates/universe amd64 Packages [1,425 kB]\n",
            "Get:25 http://archive.ubuntu.com/ubuntu bionic-updates/restricted amd64 Packages [132 kB]\n",
            "Get:26 http://ppa.launchpad.net/marutter/c2d4u3.5/ubuntu bionic/main amd64 Packages [900 kB]\n",
            "Fetched 8,326 kB in 6s (1,334 kB/s)\n",
            "Reading package lists... Done\n"
          ],
          "name": "stdout"
        }
      ]
    },
    {
      "cell_type": "code",
      "metadata": {
        "id": "X2c35z9_Yc8U",
        "colab_type": "code",
        "colab": {}
      },
      "source": [
        "# Install the dependencies\n",
        "!apt-get install openjdk-8-jdk-headless -qq > /dev/null\n",
        "!wget -q https://archive.apache.org/dist/spark/spark-2.4.4/spark-2.4.4-bin-hadoop2.7.tgz\n",
        "!tar xf spark-2.4.4-bin-hadoop2.7.tgz\n",
        "!pip install -q findspark"
      ],
      "execution_count": 18,
      "outputs": []
    },
    {
      "cell_type": "code",
      "metadata": {
        "id": "WjJclshcYfC7",
        "colab_type": "code",
        "colab": {}
      },
      "source": [
        "# Environment variables\n",
        "import os\n",
        "os.environ[\"JAVA_HOME\"] = \"/usr/lib/jvm/java-8-openjdk-amd64\"\n",
        "os.environ[\"SPARK_HOME\"] = \"/content/spark-2.4.4-bin-hadoop2.7\"\n",
        " \n",
        "# tornar o pyspark \"importável\"\n",
        "import findspark\n",
        "findspark.init('spark-2.4.4-bin-hadoop2.7')"
      ],
      "execution_count": 19,
      "outputs": []
    },
    {
      "cell_type": "code",
      "metadata": {
        "id": "yRN9KMpBYg7q",
        "colab_type": "code",
        "colab": {}
      },
      "source": [
        "# Libraries and Context Setup\n",
        "import pyspark\n",
        "from pyspark.sql import SparkSession\n",
        "from pyspark.sql import Row\n",
        "from pyspark import SparkContext, SparkConf\n",
        "\n",
        "# create the session\n",
        "conf = SparkConf().set(\"spark.ui.port\", \"4050\")\n",
        "\n",
        "# create the context\n",
        "sc = pyspark.SparkContext(conf=conf)\n",
        "\n",
        "# Instance Spark Session\n",
        "spark = SparkSession.builder.master('local').appName('My-SparkSQL').getOrCreate()\n",
        "\n",
        "# Create the SQL Context\n",
        "sqlContext = pyspark.SQLContext(sc)"
      ],
      "execution_count": null,
      "outputs": []
    },
    {
      "cell_type": "code",
      "metadata": {
        "id": "RIhSsXZKYj3v",
        "colab_type": "code",
        "colab": {
          "base_uri": "https://localhost:8080/",
          "height": 34
        },
        "outputId": "08f3b4bc-f097-4a04-e0b9-bbf9179c11f4"
      },
      "source": [
        "# Check context\n",
        "print(sc)"
      ],
      "execution_count": 5,
      "outputs": [
        {
          "output_type": "stream",
          "text": [
            "<SparkContext master=local[*] appName=pyspark-shell>\n"
          ],
          "name": "stdout"
        }
      ]
    },
    {
      "cell_type": "markdown",
      "metadata": {
        "id": "F5u3knrTYz44",
        "colab_type": "text"
      },
      "source": [
        "# Grouping by pair RDD"
      ]
    },
    {
      "cell_type": "code",
      "metadata": {
        "id": "vvroj89oYkNz",
        "colab_type": "code",
        "colab": {}
      },
      "source": [
        "# Import cars's csv\n",
        "cars = sc.textFile('/content/drive/My Drive/Colab Notebooks/08-apache-spark/data/carros.csv')"
      ],
      "execution_count": 25,
      "outputs": []
    },
    {
      "cell_type": "code",
      "metadata": {
        "id": "jx-ZXHt4ZRpn",
        "colab_type": "code",
        "colab": {
          "base_uri": "https://localhost:8080/",
          "height": 357
        },
        "outputId": "ec64e689-f284-4e08-d73f-56423503c139"
      },
      "source": [
        "cars.take(20)"
      ],
      "execution_count": 26,
      "outputs": [
        {
          "output_type": "execute_result",
          "data": {
            "text/plain": [
              "['MAKE,FUELTYPE,ASPIRE,DOORS,BODY,DRIVE,CYLINDERS,HP,RPM,MPG-CITY,MPG-HWY,PRICE',\n",
              " 'subaru,gas,std,two,hatchback,fwd,four,69,4900,31,36,5118',\n",
              " 'chevrolet,gas,std,two,hatchback,fwd,three,48,5100,47,53,5151',\n",
              " 'mazda,gas,std,two,hatchback,fwd,four,68,5000,30,31,5195',\n",
              " 'toyota,gas,std,two,hatchback,fwd,four,62,4800,35,39,5348',\n",
              " 'mitsubishi,gas,std,two,hatchback,fwd,four,68,5500,37,41,5389',\n",
              " 'honda,gas,std,two,hatchback,fwd,four,60,5500,38,42,5399',\n",
              " 'nissan,gas,std,two,sedan,fwd,four,69,5200,31,37,5499',\n",
              " 'dodge,gas,std,two,hatchback,fwd,four,68,5500,37,41,5572',\n",
              " 'plymouth,gas,std,two,hatchback,fwd,four,68,5500,37,41,5572',\n",
              " 'mazda,gas,std,two,hatchback,fwd,four,68,5000,31,38,6095',\n",
              " 'mitsubishi,gas,std,two,hatchback,fwd,four,68,5500,31,38,6189',\n",
              " 'dodge,gas,std,four,hatchback,fwd,four,68,5500,31,38,6229',\n",
              " 'plymouth,gas,std,four,hatchback,fwd,four,68,5500,31,38,6229',\n",
              " 'chevrolet,gas,std,two,hatchback,fwd,four,70,5400,38,43,6295',\n",
              " 'toyota,gas,std,two,hatchback,fwd,four,62,4800,31,38,6338',\n",
              " 'dodge,gas,std,two,hatchback,fwd,four,68,5500,31,38,6377',\n",
              " 'honda,gas,std,two,hatchback,fwd,four,58,4800,49,54,6479',\n",
              " 'toyota,gas,std,four,hatchback,fwd,four,62,4800,31,38,6488',\n",
              " 'honda,gas,std,two,hatchback,fwd,four,76,6000,30,34,6529']"
            ]
          },
          "metadata": {
            "tags": []
          },
          "execution_count": 26
        }
      ]
    },
    {
      "cell_type": "code",
      "metadata": {
        "id": "lTdN1dJCZUNR",
        "colab_type": "code",
        "colab": {}
      },
      "source": [
        "# Creating a pair rdd with columns 0 and 7\n",
        "cars_pair_rdd = cars.map(lambda x: (x.split(',')[0],x.split(',')[7]))"
      ],
      "execution_count": 27,
      "outputs": []
    },
    {
      "cell_type": "code",
      "metadata": {
        "id": "cQ4c28pxa6Bf",
        "colab_type": "code",
        "colab": {
          "base_uri": "https://localhost:8080/",
          "height": 357
        },
        "outputId": "4671017b-ec06-4c22-97df-bf3f85da4a28"
      },
      "source": [
        "# Check result\n",
        "cars_pair_rdd.take(20)"
      ],
      "execution_count": 28,
      "outputs": [
        {
          "output_type": "execute_result",
          "data": {
            "text/plain": [
              "[('MAKE', 'HP'),\n",
              " ('subaru', '69'),\n",
              " ('chevrolet', '48'),\n",
              " ('mazda', '68'),\n",
              " ('toyota', '62'),\n",
              " ('mitsubishi', '68'),\n",
              " ('honda', '60'),\n",
              " ('nissan', '69'),\n",
              " ('dodge', '68'),\n",
              " ('plymouth', '68'),\n",
              " ('mazda', '68'),\n",
              " ('mitsubishi', '68'),\n",
              " ('dodge', '68'),\n",
              " ('plymouth', '68'),\n",
              " ('chevrolet', '70'),\n",
              " ('toyota', '62'),\n",
              " ('dodge', '68'),\n",
              " ('honda', '58'),\n",
              " ('toyota', '62'),\n",
              " ('honda', '76')]"
            ]
          },
          "metadata": {
            "tags": []
          },
          "execution_count": 28
        }
      ]
    },
    {
      "cell_type": "code",
      "metadata": {
        "id": "uawiui1Oa_Uv",
        "colab_type": "code",
        "colab": {}
      },
      "source": [
        "# Select the header\n",
        "header = cars_pair_rdd.first()\n",
        "\n",
        "# Select all data except the header\n",
        "cars_pair_rdd2 = cars_pair_rdd.filter(lambda line: line != header)"
      ],
      "execution_count": 29,
      "outputs": []
    },
    {
      "cell_type": "code",
      "metadata": {
        "id": "qt3b2K2bbgGK",
        "colab_type": "code",
        "colab": {
          "base_uri": "https://localhost:8080/",
          "height": 1000
        },
        "outputId": "480a9f8b-842f-4407-f081-e56593773d99"
      },
      "source": [
        "# Search the HP value by car's brand and add 1 to each \"Make/HP\" row\n",
        "cars_pair_rdd3 = cars_pair_rdd2.mapValues(lambda x: (x,1))\n",
        "cars_pair_rdd3.collect()"
      ],
      "execution_count": 30,
      "outputs": [
        {
          "output_type": "execute_result",
          "data": {
            "text/plain": [
              "[('subaru', ('69', 1)),\n",
              " ('chevrolet', ('48', 1)),\n",
              " ('mazda', ('68', 1)),\n",
              " ('toyota', ('62', 1)),\n",
              " ('mitsubishi', ('68', 1)),\n",
              " ('honda', ('60', 1)),\n",
              " ('nissan', ('69', 1)),\n",
              " ('dodge', ('68', 1)),\n",
              " ('plymouth', ('68', 1)),\n",
              " ('mazda', ('68', 1)),\n",
              " ('mitsubishi', ('68', 1)),\n",
              " ('dodge', ('68', 1)),\n",
              " ('plymouth', ('68', 1)),\n",
              " ('chevrolet', ('70', 1)),\n",
              " ('toyota', ('62', 1)),\n",
              " ('dodge', ('68', 1)),\n",
              " ('honda', ('58', 1)),\n",
              " ('toyota', ('62', 1)),\n",
              " ('honda', ('76', 1)),\n",
              " ('chevrolet', ('70', 1)),\n",
              " ('nissan', ('69', 1)),\n",
              " ('mitsubishi', ('68', 1)),\n",
              " ('dodge', ('68', 1)),\n",
              " ('plymouth', ('68', 1)),\n",
              " ('mazda', ('68', 1)),\n",
              " ('isuzu', ('78', 1)),\n",
              " ('mazda', ('68', 1)),\n",
              " ('nissan', ('69', 1)),\n",
              " ('honda', ('76', 1)),\n",
              " ('toyota', ('62', 1)),\n",
              " ('toyota', ('70', 1)),\n",
              " ('mitsubishi', ('88', 1)),\n",
              " ('subaru', ('73', 1)),\n",
              " ('nissan', ('55', 1)),\n",
              " ('subaru', ('82', 1)),\n",
              " ('honda', ('76', 1)),\n",
              " ('toyota', ('70', 1)),\n",
              " ('honda', ('76', 1)),\n",
              " ('honda', ('76', 1)),\n",
              " ('nissan', ('69', 1)),\n",
              " ('nissan', ('69', 1)),\n",
              " ('mazda', ('68', 1)),\n",
              " ('subaru', ('82', 1)),\n",
              " ('nissan', ('69', 1)),\n",
              " ('subaru', ('73', 1)),\n",
              " ('dodge', ('68', 1)),\n",
              " ('plymouth', ('68', 1)),\n",
              " ('mitsubishi', ('102', 1)),\n",
              " ('toyota', ('70', 1)),\n",
              " ('subaru', ('82', 1)),\n",
              " ('volkswagen', ('52', 1)),\n",
              " ('toyota', ('56', 1)),\n",
              " ('nissan', ('69', 1)),\n",
              " ('honda', ('86', 1)),\n",
              " ('toyota', ('62', 1)),\n",
              " ('toyota', ('56', 1)),\n",
              " ('dodge', ('102', 1)),\n",
              " ('plymouth', ('102', 1)),\n",
              " ('volkswagen', ('85', 1)),\n",
              " ('volkswagen', ('52', 1)),\n",
              " ('nissan', ('69', 1)),\n",
              " ('subaru', ('82', 1)),\n",
              " ('toyota', ('70', 1)),\n",
              " ('mitsubishi', ('88', 1)),\n",
              " ('volkswagen', ('85', 1)),\n",
              " ('toyota', ('70', 1)),\n",
              " ('nissan', ('69', 1)),\n",
              " ('toyota', ('70', 1)),\n",
              " ('toyota', ('116', 1)),\n",
              " ('mazda', ('84', 1)),\n",
              " ('volkswagen', ('85', 1)),\n",
              " ('mitsubishi', ('88', 1)),\n",
              " ('toyota', ('62', 1)),\n",
              " ('honda', ('86', 1)),\n",
              " ('mazda', ('84', 1)),\n",
              " ('dodge', ('88', 1)),\n",
              " ('plymouth', ('88', 1)),\n",
              " ('toyota', ('92', 1)),\n",
              " ('nissan', ('97', 1)),\n",
              " ('honda', ('86', 1)),\n",
              " ('subaru', ('82', 1)),\n",
              " ('toyota', ('70', 1)),\n",
              " ('mitsubishi', ('116', 1)),\n",
              " ('mitsubishi', ('116', 1)),\n",
              " ('toyota', ('112', 1)),\n",
              " ('volkswagen', ('68', 1)),\n",
              " ('toyota', ('112', 1)),\n",
              " ('nissan', ('97', 1)),\n",
              " ('toyota', ('116', 1)),\n",
              " ('mitsubishi', ('116', 1)),\n",
              " ('subaru', ('94', 1)),\n",
              " ('volkswagen', ('90', 1)),\n",
              " ('toyota', ('92', 1)),\n",
              " ('toyota', ('116', 1)),\n",
              " ('volkswagen', ('100', 1)),\n",
              " ('subaru', ('94', 1)),\n",
              " ('mazda', ('84', 1)),\n",
              " ('honda', ('86', 1)),\n",
              " ('honda', ('100', 1)),\n",
              " ('mazda', ('84', 1)),\n",
              " ('toyota', ('73', 1)),\n",
              " ('toyota', ('92', 1)),\n",
              " ('mazda', ('101', 1)),\n",
              " ('isuzu', ('90', 1)),\n",
              " ('toyota', ('116', 1)),\n",
              " ('mazda', ('84', 1)),\n",
              " ('toyota', ('92', 1)),\n",
              " ('subaru', ('111', 1)),\n",
              " ('toyota', ('116', 1)),\n",
              " ('volkswagen', ('90', 1)),\n",
              " ('subaru', ('111', 1)),\n",
              " ('mazda', ('101', 1)),\n",
              " ('saab', ('110', 1)),\n",
              " ('peugot', ('97', 1)),\n",
              " ('saab', ('110', 1)),\n",
              " ('volkswagen', ('88', 1)),\n",
              " ('peugot', ('97', 1)),\n",
              " ('mitsubishi', ('145', 1)),\n",
              " ('plymouth', ('145', 1)),\n",
              " ('volvo', ('114', 1)),\n",
              " ('honda', ('101', 1)),\n",
              " ('dodge', ('145', 1)),\n",
              " ('peugot', ('95', 1)),\n",
              " ('volkswagen', ('110', 1)),\n",
              " ('volvo', ('114', 1)),\n",
              " ('alfa-romero', ('111', 1)),\n",
              " ('nissan', ('152', 1)),\n",
              " ('nissan', ('152', 1)),\n",
              " ('mazda', ('101', 1)),\n",
              " ('volkswagen', ('68', 1)),\n",
              " ('peugot', ('95', 1)),\n",
              " ('audi', ('102', 1)),\n",
              " ('nissan', ('152', 1)),\n",
              " ('mitsubishi', ('145', 1)),\n",
              " ('mitsubishi', ('145', 1)),\n",
              " ('saab', ('110', 1)),\n",
              " ('audi', ('110', 1)),\n",
              " ('saab', ('110', 1)),\n",
              " ('peugot', ('95', 1)),\n",
              " ('mazda', ('135', 1)),\n",
              " ('toyota', ('156', 1)),\n",
              " ('toyota', ('156', 1)),\n",
              " ('volvo', ('114', 1)),\n",
              " ('toyota', ('161', 1)),\n",
              " ('bmw', ('101', 1)),\n",
              " ('alfa-romero', ('111', 1)),\n",
              " ('alfa-romero', ('154', 1)),\n",
              " ('mercury', ('175', 1)),\n",
              " ('volvo', ('114', 1)),\n",
              " ('toyota', ('161', 1)),\n",
              " ('peugot', ('97', 1)),\n",
              " ('peugot', ('95', 1)),\n",
              " ('volvo', ('114', 1)),\n",
              " ('peugot', ('95', 1)),\n",
              " ('bmw', ('101', 1)),\n",
              " ('peugot', ('95', 1)),\n",
              " ('nissan', ('160', 1)),\n",
              " ('audi', ('115', 1)),\n",
              " ('toyota', ('116', 1)),\n",
              " ('audi', ('110', 1)),\n",
              " ('peugot', ('95', 1)),\n",
              " ('peugot', ('142', 1)),\n",
              " ('saab', ('160', 1)),\n",
              " ('mazda', ('120', 1)),\n",
              " ('mazda', ('72', 1)),\n",
              " ('nissan', ('160', 1)),\n",
              " ('volvo', ('162', 1)),\n",
              " ('saab', ('160', 1)),\n",
              " ('audi', ('110', 1)),\n",
              " ('volvo', ('162', 1)),\n",
              " ('volvo', ('160', 1)),\n",
              " ('nissan', ('200', 1)),\n",
              " ('bmw', ('121', 1)),\n",
              " ('bmw', ('121', 1)),\n",
              " ('volvo', ('134', 1)),\n",
              " ('porsche', ('143', 1)),\n",
              " ('volvo', ('106', 1)),\n",
              " ('volvo', ('114', 1)),\n",
              " ('audi', ('140', 1)),\n",
              " ('bmw', ('121', 1)),\n",
              " ('mercedes-benz', ('123', 1)),\n",
              " ('mercedes-benz', ('123', 1)),\n",
              " ('mercedes-benz', ('123', 1)),\n",
              " ('bmw', ('182', 1)),\n",
              " ('mercedes-benz', ('123', 1)),\n",
              " ('jaguar', ('176', 1)),\n",
              " ('porsche', ('207', 1)),\n",
              " ('porsche', ('207', 1)),\n",
              " ('mercedes-benz', ('155', 1)),\n",
              " ('mercedes-benz', ('155', 1)),\n",
              " ('jaguar', ('176', 1)),\n",
              " ('jaguar', ('262', 1)),\n",
              " ('bmw', ('182', 1)),\n",
              " ('porsche', ('207', 1)),\n",
              " ('mercedes-benz', ('184', 1)),\n",
              " ('bmw', ('182', 1)),\n",
              " ('mercedes-benz', ('184', 1))]"
            ]
          },
          "metadata": {
            "tags": []
          },
          "execution_count": 30
        }
      ]
    },
    {
      "cell_type": "code",
      "metadata": {
        "id": "2_qOTBv2c5Du",
        "colab_type": "code",
        "colab": {
          "base_uri": "https://localhost:8080/",
          "height": 374
        },
        "outputId": "7655dc07-c4ed-48af-a18e-2c274c6c660a"
      },
      "source": [
        "# Apply the reduction by key (reduceByKey)\n",
        "# Calculates the HP total by maker and the total of vehicles by maker\n",
        "makers = cars_pair_rdd3.reduceByKey(lambda x,y: (int(x[0]) + int(y[0]), x[1] + y[1]))\n",
        "makers.collect()"
      ],
      "execution_count": 31,
      "outputs": [
        {
          "output_type": "execute_result",
          "data": {
            "text/plain": [
              "[('chevrolet', (188, 3)),\n",
              " ('mazda', (1390, 16)),\n",
              " ('mitsubishi', (1353, 13)),\n",
              " ('nissan', (1846, 18)),\n",
              " ('dodge', (675, 8)),\n",
              " ('plymouth', (607, 7)),\n",
              " ('saab', (760, 6)),\n",
              " ('volvo', (1408, 11)),\n",
              " ('alfa-romero', (376, 3)),\n",
              " ('mercedes-benz', (1170, 8)),\n",
              " ('jaguar', (614, 3)),\n",
              " ('subaru', (1035, 12)),\n",
              " ('toyota', (2969, 32)),\n",
              " ('honda', (1043, 13)),\n",
              " ('isuzu', (168, 2)),\n",
              " ('volkswagen', (973, 12)),\n",
              " ('peugot', (1098, 11)),\n",
              " ('audi', (687, 6)),\n",
              " ('bmw', (1111, 8)),\n",
              " ('mercury', ('175', 1)),\n",
              " ('porsche', (764, 4))]"
            ]
          },
          "metadata": {
            "tags": []
          },
          "execution_count": 31
        }
      ]
    },
    {
      "cell_type": "markdown",
      "metadata": {
        "id": "MoDPO6x3fAx0",
        "colab_type": "text"
      },
      "source": [
        "# Accumulators and Broadcast\n",
        "The Spark make a copy of the code to process the data and execute these copies, one by node in the cluster. **Any variable maked in the the code is local in the node**. The Spark generates copies these local variables, one in each node, that performs independently. But if we need that same variable to be manipulated only way across the cluster? We will use the broadcast and accumulators.\n",
        "\n",
        "These variables will be visible to whole spark cluster.\n",
        "*   **Broarcast variable:** read-only, is shared in whole cluster\n",
        "*   **Accumulator variable:** is shared in whole cluster, but can be refreshed in each node of cluster\n",
        "\n",
        "\n"
      ]
    },
    {
      "cell_type": "code",
      "metadata": {
        "id": "UyVtFGaTddUo",
        "colab_type": "code",
        "colab": {
          "base_uri": "https://localhost:8080/",
          "height": 374
        },
        "outputId": "b2ca52a0-9429-48f0-ea37-22a8301014ce"
      },
      "source": [
        "# Calc the HP mean dividing by total count\n",
        "makers.mapValues(lambda x: int(x[0])/int(x[1])).collect()"
      ],
      "execution_count": null,
      "outputs": [
        {
          "output_type": "execute_result",
          "data": {
            "text/plain": [
              "[('chevrolet', 62.666666666666664),\n",
              " ('mazda', 86.875),\n",
              " ('mitsubishi', 104.07692307692308),\n",
              " ('nissan', 102.55555555555556),\n",
              " ('dodge', 84.375),\n",
              " ('plymouth', 86.71428571428571),\n",
              " ('saab', 126.66666666666667),\n",
              " ('volvo', 128.0),\n",
              " ('alfa-romero', 125.33333333333333),\n",
              " ('mercedes-benz', 146.25),\n",
              " ('jaguar', 204.66666666666666),\n",
              " ('subaru', 86.25),\n",
              " ('toyota', 92.78125),\n",
              " ('honda', 80.23076923076923),\n",
              " ('isuzu', 84.0),\n",
              " ('volkswagen', 81.08333333333333),\n",
              " ('peugot', 99.81818181818181),\n",
              " ('audi', 114.5),\n",
              " ('bmw', 138.875),\n",
              " ('mercury', 175.0),\n",
              " ('porsche', 191.0)]"
            ]
          },
          "metadata": {
            "tags": []
          },
          "execution_count": 22
        }
      ]
    },
    {
      "cell_type": "code",
      "metadata": {
        "id": "izJ3z1ogewHa",
        "colab_type": "code",
        "colab": {}
      },
      "source": [
        "# Import cars's csv\n",
        "cars = sc.textFile('/content/drive/My Drive/Colab Notebooks/08-apache-spark/data/carros.csv')"
      ],
      "execution_count": null,
      "outputs": []
    },
    {
      "cell_type": "code",
      "metadata": {
        "id": "WYXLfktBgfoD",
        "colab_type": "code",
        "colab": {}
      },
      "source": [
        "# Initializing the Accumulator variable\n",
        "sedan_count = sc.accumulator(0)\n",
        "hatchback_count = sc.accumulator(0)"
      ],
      "execution_count": null,
      "outputs": []
    },
    {
      "cell_type": "code",
      "metadata": {
        "id": "A2_Wn7xTguD6",
        "colab_type": "code",
        "colab": {}
      },
      "source": [
        "# Initializing the Bradcast variable - read-only\n",
        "sedan_text = sc.broadcast('sedan')\n",
        "hatchback_text = sc.broadcast('hatchback')"
      ],
      "execution_count": null,
      "outputs": []
    },
    {
      "cell_type": "code",
      "metadata": {
        "id": "uPFupRJJh_as",
        "colab_type": "code",
        "colab": {
          "base_uri": "https://localhost:8080/",
          "height": 35
        },
        "outputId": "fed2d56b-32b9-4a93-9708-4c2e589ad0b8"
      },
      "source": [
        "sedan_text.value"
      ],
      "execution_count": null,
      "outputs": [
        {
          "output_type": "execute_result",
          "data": {
            "application/vnd.google.colaboratory.intrinsic+json": {
              "type": "string"
            },
            "text/plain": [
              "'sedan'"
            ]
          },
          "metadata": {
            "tags": []
          },
          "execution_count": 14
        }
      ]
    },
    {
      "cell_type": "code",
      "metadata": {
        "id": "wxWeU0OShE2Z",
        "colab_type": "code",
        "colab": {}
      },
      "source": [
        "def split_lines(line):\n",
        "\n",
        "  # To use the Accumulators variables\n",
        "  global sedan_count\n",
        "  global hatchback_count\n",
        "\n",
        "  # Use the broadcast variable to compare and add a count to accumulator\n",
        "  if sedan_text.value in line:\n",
        "    sedan_count += 1\n",
        "  if hatchback_text.value in line:\n",
        "    hatchback_count += 1\n",
        "\n",
        "  return line.split(',')"
      ],
      "execution_count": null,
      "outputs": []
    },
    {
      "cell_type": "code",
      "metadata": {
        "id": "VYRsRnxfiRCs",
        "colab_type": "code",
        "colab": {}
      },
      "source": [
        "# Map \n",
        "split_data = cars.map(split_lines)"
      ],
      "execution_count": null,
      "outputs": []
    },
    {
      "cell_type": "code",
      "metadata": {
        "id": "ZJ6HshU8jaa-",
        "colab_type": "code",
        "colab": {
          "base_uri": "https://localhost:8080/",
          "height": 34
        },
        "outputId": "48af0cd2-0f68-485e-cf7a-4b2ad8252654"
      },
      "source": [
        "# Action to execute the transformation (lazy evaluation)\n",
        "split_data.count()\n",
        "print(sedan_count,hatchback_count)"
      ],
      "execution_count": null,
      "outputs": [
        {
          "output_type": "stream",
          "text": [
            "92 67\n"
          ],
          "name": "stdout"
        }
      ]
    },
    {
      "cell_type": "code",
      "metadata": {
        "id": "mTAPmO0riXGJ",
        "colab_type": "code",
        "colab": {
          "base_uri": "https://localhost:8080/",
          "height": 34
        },
        "outputId": "54356a8b-82ff-4589-9faa-d0f758435ab0"
      },
      "source": [
        "split_data.count()"
      ],
      "execution_count": null,
      "outputs": [
        {
          "output_type": "execute_result",
          "data": {
            "text/plain": [
              "198"
            ]
          },
          "metadata": {
            "tags": []
          },
          "execution_count": 32
        }
      ]
    },
    {
      "cell_type": "code",
      "metadata": {
        "id": "JhSIa_hrjU4y",
        "colab_type": "code",
        "colab": {
          "base_uri": "https://localhost:8080/",
          "height": 34
        },
        "outputId": "02d300fc-3805-4c78-ceed-a0b89a4dcdc1"
      },
      "source": [
        "print(sedan_count,hatchback_count)"
      ],
      "execution_count": null,
      "outputs": [
        {
          "output_type": "stream",
          "text": [
            "184 134\n"
          ],
          "name": "stdout"
        }
      ]
    },
    {
      "cell_type": "markdown",
      "metadata": {
        "id": "eKeo0DA6v8EE",
        "colab_type": "text"
      },
      "source": [
        "# Partitions"
      ]
    },
    {
      "cell_type": "code",
      "metadata": {
        "id": "O-L5S4Qi0u6F",
        "colab_type": "code",
        "colab": {
          "base_uri": "https://localhost:8080/",
          "height": 34
        },
        "outputId": "6c53ab0a-4005-49c5-97d2-d9b0e0f23056"
      },
      "source": [
        "makers.getNumPartitions()"
      ],
      "execution_count": 32,
      "outputs": [
        {
          "output_type": "execute_result",
          "data": {
            "text/plain": [
              "2"
            ]
          },
          "metadata": {
            "tags": []
          },
          "execution_count": 32
        }
      ]
    },
    {
      "cell_type": "code",
      "metadata": {
        "id": "WcjOViYH0-ak",
        "colab_type": "code",
        "colab": {
          "base_uri": "https://localhost:8080/",
          "height": 34
        },
        "outputId": "136c61a7-9ef3-49a3-c6b9-32d6607cd333"
      },
      "source": [
        "#  Defining the partition number\n",
        "coll_data = sc.parallelize([3,5,4,7,4], 3)\n",
        "coll_data.cache()\n",
        "coll_data.count()"
      ],
      "execution_count": 33,
      "outputs": [
        {
          "output_type": "execute_result",
          "data": {
            "text/plain": [
              "5"
            ]
          },
          "metadata": {
            "tags": []
          },
          "execution_count": 33
        }
      ]
    },
    {
      "cell_type": "code",
      "metadata": {
        "id": "z9jqY-9Z1XWo",
        "colab_type": "code",
        "colab": {
          "base_uri": "https://localhost:8080/",
          "height": 34
        },
        "outputId": "d5909591-79c6-4ced-a0f4-b372f7d9c4b3"
      },
      "source": [
        "# Check the partitions\n",
        "coll_data.getNumPartitions()"
      ],
      "execution_count": 34,
      "outputs": [
        {
          "output_type": "execute_result",
          "data": {
            "text/plain": [
              "3"
            ]
          },
          "metadata": {
            "tags": []
          },
          "execution_count": 34
        }
      ]
    },
    {
      "cell_type": "code",
      "metadata": {
        "id": "iWwupFwt1t6c",
        "colab_type": "code",
        "colab": {
          "base_uri": "https://localhost:8080/",
          "height": 34
        },
        "outputId": "32f651b8-170a-456b-d1b3-678bc58436c3"
      },
      "source": [
        "# Check de default config to partitions\n",
        "print(sc.defaultParallelism)"
      ],
      "execution_count": 35,
      "outputs": [
        {
          "output_type": "stream",
          "text": [
            "2\n"
          ],
          "name": "stdout"
        }
      ]
    }
  ]
}
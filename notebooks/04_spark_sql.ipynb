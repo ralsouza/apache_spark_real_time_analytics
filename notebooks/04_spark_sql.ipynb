{
  "nbformat": 4,
  "nbformat_minor": 0,
  "metadata": {
    "colab": {
      "name": "04_spark_sql.ipynb",
      "provenance": [],
      "collapsed_sections": [],
      "mount_file_id": "1tds-2KceA7KzWFkYL7yyVWFhjNBUIE32",
      "authorship_tag": "ABX9TyPVwTXb4SOPJ2SBK3+G3iBH",
      "include_colab_link": true
    },
    "kernelspec": {
      "name": "python3",
      "display_name": "Python 3"
    }
  },
  "cells": [
    {
      "cell_type": "markdown",
      "metadata": {
        "id": "view-in-github",
        "colab_type": "text"
      },
      "source": [
        "<a href=\"https://colab.research.google.com/github/ralsouza/apache_spark_real_time_analytics/blob/master/notebooks/04_spark_sql.ipynb\" target=\"_parent\"><img src=\"https://colab.research.google.com/assets/colab-badge.svg\" alt=\"Open In Colab\"/></a>"
      ]
    },
    {
      "cell_type": "markdown",
      "metadata": {
        "id": "1u29zJJjPcKv",
        "colab_type": "text"
      },
      "source": [
        "# Install and Setup"
      ]
    },
    {
      "cell_type": "code",
      "metadata": {
        "id": "dAQ8vk6xPHR2",
        "colab_type": "code",
        "colab": {
          "base_uri": "https://localhost:8080/",
          "height": 459
        },
        "outputId": "11e01d15-39bb-463d-c7a9-df924ef35b31"
      },
      "source": [
        "!apt-get update"
      ],
      "execution_count": 1,
      "outputs": [
        {
          "output_type": "stream",
          "text": [
            "\r0% [Working]\r            \rGet:1 http://security.ubuntu.com/ubuntu bionic-security InRelease [88.7 kB]\n",
            "\r0% [Connecting to archive.ubuntu.com (91.189.88.142)] [1 InRelease 2,586 B/88.7\r                                                                               \rIgn:2 https://developer.download.nvidia.com/compute/cuda/repos/ubuntu1804/x86_64  InRelease\n",
            "\r0% [Waiting for headers] [1 InRelease 43.1 kB/88.7 kB 49%] [Waiting for headers\r                                                                               \rGet:3 https://cloud.r-project.org/bin/linux/ubuntu bionic-cran35/ InRelease [3,626 B]\n",
            "\r0% [Waiting for headers] [1 InRelease 51.8 kB/88.7 kB 58%] [3 InRelease 3,626 B\r0% [Waiting for headers] [1 InRelease 88.7 kB/88.7 kB 100%] [Waiting for header\r                                                                               \r0% [Waiting for headers] [Waiting for headers] [Waiting for headers]\r0% [3 InRelease gpgv 3,626 B] [Waiting for headers] [Waiting for headers] [Wait\r                                                                               \rHit:4 http://ppa.launchpad.net/graphics-drivers/ppa/ubuntu bionic InRelease\n",
            "\r0% [3 InRelease gpgv 3,626 B] [Waiting for headers] [Waiting for headers] [Conn\r                                                                               \rHit:5 http://archive.ubuntu.com/ubuntu bionic InRelease\n",
            "\r0% [3 InRelease gpgv 3,626 B] [Waiting for headers] [Waiting for headers] [Conn\r                                                                               \rIgn:6 https://developer.download.nvidia.com/compute/machine-learning/repos/ubuntu1804/x86_64  InRelease\n",
            "\r0% [3 InRelease gpgv 3,626 B] [Waiting for headers] [Connecting to ppa.launchpa\r                                                                               \rGet:7 https://developer.download.nvidia.com/compute/cuda/repos/ubuntu1804/x86_64  Release [697 B]\n",
            "\r0% [3 InRelease gpgv 3,626 B] [Waiting for headers] [7 Release 697 B/697 B 100%\r0% [3 InRelease gpgv 3,626 B] [Waiting for headers] [Connecting to ppa.launchpa\r                                                                               \rHit:8 https://developer.download.nvidia.com/compute/machine-learning/repos/ubuntu1804/x86_64  Release\n",
            "\r0% [3 InRelease gpgv 3,626 B] [Waiting for headers] [Connecting to ppa.launchpa\r                                                                               \rGet:9 https://developer.download.nvidia.com/compute/cuda/repos/ubuntu1804/x86_64  Release.gpg [836 B]\n",
            "\r0% [3 InRelease gpgv 3,626 B] [Waiting for headers] [9 Release.gpg 836 B/836 B \r0% [3 InRelease gpgv 3,626 B] [Waiting for headers] [Connecting to ppa.launchpa\r                                                                               \rGet:10 http://archive.ubuntu.com/ubuntu bionic-updates InRelease [88.7 kB]\n",
            "Get:11 http://ppa.launchpad.net/marutter/c2d4u3.5/ubuntu bionic InRelease [15.4 kB]\n",
            "Get:12 http://archive.ubuntu.com/ubuntu bionic-backports InRelease [74.6 kB]\n",
            "Get:13 http://security.ubuntu.com/ubuntu bionic-security/multiverse amd64 Packages [9,834 B]\n",
            "Get:14 http://security.ubuntu.com/ubuntu bionic-security/main amd64 Packages [1,042 kB]\n",
            "Get:15 http://security.ubuntu.com/ubuntu bionic-security/universe amd64 Packages [890 kB]\n",
            "Get:16 http://security.ubuntu.com/ubuntu bionic-security/restricted amd64 Packages [101 kB]\n",
            "Ign:18 https://developer.download.nvidia.com/compute/cuda/repos/ubuntu1804/x86_64  Packages\n",
            "Get:18 https://developer.download.nvidia.com/compute/cuda/repos/ubuntu1804/x86_64  Packages [255 kB]\n",
            "Get:19 http://ppa.launchpad.net/marutter/c2d4u3.5/ubuntu bionic/main Sources [1,857 kB]\n",
            "Get:20 http://archive.ubuntu.com/ubuntu bionic-updates/main amd64 Packages [1,341 kB]\n",
            "Get:21 http://archive.ubuntu.com/ubuntu bionic-updates/restricted amd64 Packages [117 kB]\n",
            "Get:22 http://archive.ubuntu.com/ubuntu bionic-updates/multiverse amd64 Packages [27.4 kB]\n",
            "Get:23 http://archive.ubuntu.com/ubuntu bionic-updates/universe amd64 Packages [1,418 kB]\n",
            "Get:24 http://ppa.launchpad.net/marutter/c2d4u3.5/ubuntu bionic/main amd64 Packages [896 kB]\n",
            "Fetched 8,225 kB in 3s (2,486 kB/s)\n",
            "Reading package lists... Done\n"
          ],
          "name": "stdout"
        }
      ]
    },
    {
      "cell_type": "code",
      "metadata": {
        "id": "sFaDbidBPfH8",
        "colab_type": "code",
        "colab": {}
      },
      "source": [
        "# Install the dependencies\n",
        "!apt-get install openjdk-8-jdk-headless -qq > /dev/null\n",
        "!wget -q https://archive.apache.org/dist/spark/spark-2.4.4/spark-2.4.4-bin-hadoop2.7.tgz\n",
        "!tar xf spark-2.4.4-bin-hadoop2.7.tgz\n",
        "!pip install -q findspark"
      ],
      "execution_count": 2,
      "outputs": []
    },
    {
      "cell_type": "code",
      "metadata": {
        "id": "EuOwi8RFPi6y",
        "colab_type": "code",
        "colab": {}
      },
      "source": [
        "# Environment variables\n",
        "import os\n",
        "os.environ[\"JAVA_HOME\"] = \"/usr/lib/jvm/java-8-openjdk-amd64\"\n",
        "os.environ[\"SPARK_HOME\"] = \"/content/spark-2.4.4-bin-hadoop2.7\"\n",
        " \n",
        "# tornar o pyspark \"importável\"\n",
        "import findspark\n",
        "findspark.init('spark-2.4.4-bin-hadoop2.7')"
      ],
      "execution_count": 3,
      "outputs": []
    },
    {
      "cell_type": "code",
      "metadata": {
        "id": "wUdJR4YqPllK",
        "colab_type": "code",
        "colab": {}
      },
      "source": [
        "# Libraries and Context Setup\n",
        "import pyspark\n",
        "from pyspark.sql import SparkSession\n",
        "from pyspark.sql import Row\n",
        "from pyspark import SparkContext, SparkConf\n",
        "\n",
        "# create the session\n",
        "conf = SparkConf().set(\"spark.ui.port\", \"4050\")\n",
        "\n",
        "# create the context\n",
        "sc = pyspark.SparkContext(conf=conf)\n",
        "\n",
        "# Instance Spark Session\n",
        "spark = SparkSession.builder.master('local').appName('My-SparkSQL').getOrCreate()\n",
        "\n",
        "# Create the SQL Context\n",
        "sqlContext = pyspark.SQLContext(sc)"
      ],
      "execution_count": 4,
      "outputs": []
    },
    {
      "cell_type": "code",
      "metadata": {
        "id": "G5b7rSn6Pn1C",
        "colab_type": "code",
        "colab": {
          "base_uri": "https://localhost:8080/",
          "height": 34
        },
        "outputId": "5da3fdb7-2079-4f12-e207-82a02990691a"
      },
      "source": [
        "# Check context\n",
        "print(sc)"
      ],
      "execution_count": 5,
      "outputs": [
        {
          "output_type": "stream",
          "text": [
            "<SparkContext master=local[*] appName=pyspark-shell>\n"
          ],
          "name": "stdout"
        }
      ]
    },
    {
      "cell_type": "code",
      "metadata": {
        "id": "jA4uaztgPp0v",
        "colab_type": "code",
        "colab": {}
      },
      "source": [
        "#  sc.stop()"
      ],
      "execution_count": null,
      "outputs": []
    },
    {
      "cell_type": "markdown",
      "metadata": {
        "id": "DqkHoloORtAg",
        "colab_type": "text"
      },
      "source": [
        "# Spark SQL - Spark Session and SQL Context"
      ]
    },
    {
      "cell_type": "code",
      "metadata": {
        "id": "h5PFkYy8Rtb3",
        "colab_type": "code",
        "colab": {}
      },
      "source": [
        "# Load cars dataset\n",
        "rows_rdd1 = sc.textFile('/content/drive/My Drive/Colab Notebooks/08-apache-spark/data/carros.csv')"
      ],
      "execution_count": 8,
      "outputs": []
    },
    {
      "cell_type": "code",
      "metadata": {
        "id": "LfgaE7bNRt0W",
        "colab_type": "code",
        "colab": {
          "base_uri": "https://localhost:8080/",
          "height": 34
        },
        "outputId": "f0eeb4f0-ed38-4576-cf72-3532b74353e7"
      },
      "source": [
        "# Count rows\n",
        "rows_rdd1.count()"
      ],
      "execution_count": 9,
      "outputs": [
        {
          "output_type": "execute_result",
          "data": {
            "text/plain": [
              "198"
            ]
          },
          "metadata": {
            "tags": []
          },
          "execution_count": 9
        }
      ]
    },
    {
      "cell_type": "code",
      "metadata": {
        "id": "n95K7VjsU6Cn",
        "colab_type": "code",
        "colab": {}
      },
      "source": [
        "# Remove the first row - Lazy Transformation 1\n",
        "rows_rdd2 = rows_rdd1.filter(lambda x: 'FUELTYPE' not in x)"
      ],
      "execution_count": 10,
      "outputs": []
    },
    {
      "cell_type": "code",
      "metadata": {
        "id": "prRnLURHVYnL",
        "colab_type": "code",
        "colab": {
          "base_uri": "https://localhost:8080/",
          "height": 34
        },
        "outputId": "28d4db49-b5f2-4694-871c-17d5b7823c61"
      },
      "source": [
        "# One row removed\n",
        "rows_rdd2.count()"
      ],
      "execution_count": 11,
      "outputs": [
        {
          "output_type": "execute_result",
          "data": {
            "text/plain": [
              "197"
            ]
          },
          "metadata": {
            "tags": []
          },
          "execution_count": 11
        }
      ]
    },
    {
      "cell_type": "code",
      "metadata": {
        "id": "H6ypbDcvVY35",
        "colab_type": "code",
        "colab": {}
      },
      "source": [
        "# Spliting the dataset in columns - Lazy Transformation 2\n",
        "rows_rdd3 = rows_rdd2.map(lambda line:line.split(','))"
      ],
      "execution_count": 12,
      "outputs": []
    },
    {
      "cell_type": "code",
      "metadata": {
        "id": "JPc_gGVKVZCo",
        "colab_type": "code",
        "colab": {}
      },
      "source": [
        "# Spliting the dataset in columns - Lazy Transformation 3\n",
        "rows_rdd4 = rows_rdd3.map(lambda p: Row(make=p[0],body=p[4],hp=int(p[7])))"
      ],
      "execution_count": 13,
      "outputs": []
    },
    {
      "cell_type": "code",
      "metadata": {
        "id": "BBpMD6EwVZN3",
        "colab_type": "code",
        "colab": {
          "base_uri": "https://localhost:8080/",
          "height": 34
        },
        "outputId": "3955e440-60f5-4e45-a796-77790f0e2480"
      },
      "source": [
        "print(rows_rdd4)"
      ],
      "execution_count": 14,
      "outputs": [
        {
          "output_type": "stream",
          "text": [
            "PythonRDD[6] at RDD at PythonRDD.scala:53\n"
          ],
          "name": "stdout"
        }
      ]
    },
    {
      "cell_type": "code",
      "metadata": {
        "id": "uaOmwgC3VZZQ",
        "colab_type": "code",
        "colab": {
          "base_uri": "https://localhost:8080/",
          "height": 1000
        },
        "outputId": "b527ce7e-1aa1-462c-d8e2-94e4da3cb6a3"
      },
      "source": [
        "# Collect action\n",
        "rows_rdd4.collect()"
      ],
      "execution_count": 15,
      "outputs": [
        {
          "output_type": "execute_result",
          "data": {
            "text/plain": [
              "[Row(body='hatchback', hp=69, make='subaru'),\n",
              " Row(body='hatchback', hp=48, make='chevrolet'),\n",
              " Row(body='hatchback', hp=68, make='mazda'),\n",
              " Row(body='hatchback', hp=62, make='toyota'),\n",
              " Row(body='hatchback', hp=68, make='mitsubishi'),\n",
              " Row(body='hatchback', hp=60, make='honda'),\n",
              " Row(body='sedan', hp=69, make='nissan'),\n",
              " Row(body='hatchback', hp=68, make='dodge'),\n",
              " Row(body='hatchback', hp=68, make='plymouth'),\n",
              " Row(body='hatchback', hp=68, make='mazda'),\n",
              " Row(body='hatchback', hp=68, make='mitsubishi'),\n",
              " Row(body='hatchback', hp=68, make='dodge'),\n",
              " Row(body='hatchback', hp=68, make='plymouth'),\n",
              " Row(body='hatchback', hp=70, make='chevrolet'),\n",
              " Row(body='hatchback', hp=62, make='toyota'),\n",
              " Row(body='hatchback', hp=68, make='dodge'),\n",
              " Row(body='hatchback', hp=58, make='honda'),\n",
              " Row(body='hatchback', hp=62, make='toyota'),\n",
              " Row(body='hatchback', hp=76, make='honda'),\n",
              " Row(body='sedan', hp=70, make='chevrolet'),\n",
              " Row(body='sedan', hp=69, make='nissan'),\n",
              " Row(body='hatchback', hp=68, make='mitsubishi'),\n",
              " Row(body='sedan', hp=68, make='dodge'),\n",
              " Row(body='sedan', hp=68, make='plymouth'),\n",
              " Row(body='sedan', hp=68, make='mazda'),\n",
              " Row(body='sedan', hp=78, make='isuzu'),\n",
              " Row(body='hatchback', hp=68, make='mazda'),\n",
              " Row(body='sedan', hp=69, make='nissan'),\n",
              " Row(body='hatchback', hp=76, make='honda'),\n",
              " Row(body='wagon', hp=62, make='toyota'),\n",
              " Row(body='sedan', hp=70, make='toyota'),\n",
              " Row(body='sedan', hp=88, make='mitsubishi'),\n",
              " Row(body='hatchback', hp=73, make='subaru'),\n",
              " Row(body='sedan', hp=55, make='nissan'),\n",
              " Row(body='sedan', hp=82, make='subaru'),\n",
              " Row(body='hatchback', hp=76, make='honda'),\n",
              " Row(body='hatchback', hp=70, make='toyota'),\n",
              " Row(body='sedan', hp=76, make='honda'),\n",
              " Row(body='wagon', hp=76, make='honda'),\n",
              " Row(body='sedan', hp=69, make='nissan'),\n",
              " Row(body='wagon', hp=69, make='nissan'),\n",
              " Row(body='sedan', hp=68, make='mazda'),\n",
              " Row(body='wagon', hp=82, make='subaru'),\n",
              " Row(body='sedan', hp=69, make='nissan'),\n",
              " Row(body='hatchback', hp=73, make='subaru'),\n",
              " Row(body='sedan', hp=68, make='dodge'),\n",
              " Row(body='sedan', hp=68, make='plymouth'),\n",
              " Row(body='hatchback', hp=102, make='mitsubishi'),\n",
              " Row(body='sedan', hp=70, make='toyota'),\n",
              " Row(body='sedan', hp=82, make='subaru'),\n",
              " Row(body='sedan', hp=52, make='volkswagen'),\n",
              " Row(body='hatchback', hp=56, make='toyota'),\n",
              " Row(body='hatchback', hp=69, make='nissan'),\n",
              " Row(body='hatchback', hp=86, make='honda'),\n",
              " Row(body='wagon', hp=62, make='toyota'),\n",
              " Row(body='sedan', hp=56, make='toyota'),\n",
              " Row(body='hatchback', hp=102, make='dodge'),\n",
              " Row(body='hatchback', hp=102, make='plymouth'),\n",
              " Row(body='sedan', hp=85, make='volkswagen'),\n",
              " Row(body='sedan', hp=52, make='volkswagen'),\n",
              " Row(body='wagon', hp=69, make='nissan'),\n",
              " Row(body='wagon', hp=82, make='subaru'),\n",
              " Row(body='sedan', hp=70, make='toyota'),\n",
              " Row(body='sedan', hp=88, make='mitsubishi'),\n",
              " Row(body='sedan', hp=85, make='volkswagen'),\n",
              " Row(body='hatchback', hp=70, make='toyota'),\n",
              " Row(body='hardtop', hp=69, make='nissan'),\n",
              " Row(body='hatchback', hp=70, make='toyota'),\n",
              " Row(body='hardtop', hp=116, make='toyota'),\n",
              " Row(body='sedan', hp=84, make='mazda'),\n",
              " Row(body='sedan', hp=85, make='volkswagen'),\n",
              " Row(body='hatchback', hp=88, make='mitsubishi'),\n",
              " Row(body='wagon', hp=62, make='toyota'),\n",
              " Row(body='sedan', hp=86, make='honda'),\n",
              " Row(body='hatchback', hp=84, make='mazda'),\n",
              " Row(body='wagon', hp=88, make='dodge'),\n",
              " Row(body='wagon', hp=88, make='plymouth'),\n",
              " Row(body='sedan', hp=92, make='toyota'),\n",
              " Row(body='hatchback', hp=97, make='nissan'),\n",
              " Row(body='hatchback', hp=86, make='honda'),\n",
              " Row(body='sedan', hp=82, make='subaru'),\n",
              " Row(body='sedan', hp=70, make='toyota'),\n",
              " Row(body='sedan', hp=116, make='mitsubishi'),\n",
              " Row(body='sedan', hp=116, make='mitsubishi'),\n",
              " Row(body='sedan', hp=112, make='toyota'),\n",
              " Row(body='sedan', hp=68, make='volkswagen'),\n",
              " Row(body='hatchback', hp=112, make='toyota'),\n",
              " Row(body='sedan', hp=97, make='nissan'),\n",
              " Row(body='hardtop', hp=116, make='toyota'),\n",
              " Row(body='hatchback', hp=116, make='mitsubishi'),\n",
              " Row(body='sedan', hp=94, make='subaru'),\n",
              " Row(body='hatchback', hp=90, make='volkswagen'),\n",
              " Row(body='hatchback', hp=92, make='toyota'),\n",
              " Row(body='hatchback', hp=116, make='toyota'),\n",
              " Row(body='sedan', hp=100, make='volkswagen'),\n",
              " Row(body='wagon', hp=94, make='subaru'),\n",
              " Row(body='sedan', hp=84, make='mazda'),\n",
              " Row(body='sedan', hp=86, make='honda'),\n",
              " Row(body='sedan', hp=100, make='honda'),\n",
              " Row(body='hatchback', hp=84, make='mazda'),\n",
              " Row(body='sedan', hp=73, make='toyota'),\n",
              " Row(body='sedan', hp=92, make='toyota'),\n",
              " Row(body='hatchback', hp=101, make='mazda'),\n",
              " Row(body='hatchback', hp=90, make='isuzu'),\n",
              " Row(body='hardtop', hp=116, make='toyota'),\n",
              " Row(body='hatchback', hp=84, make='mazda'),\n",
              " Row(body='hatchback', hp=92, make='toyota'),\n",
              " Row(body='sedan', hp=111, make='subaru'),\n",
              " Row(body='hatchback', hp=116, make='toyota'),\n",
              " Row(body='convertible', hp=90, make='volkswagen'),\n",
              " Row(body='wagon', hp=111, make='subaru'),\n",
              " Row(body='hatchback', hp=101, make='mazda'),\n",
              " Row(body='hatchback', hp=110, make='saab'),\n",
              " Row(body='sedan', hp=97, make='peugot'),\n",
              " Row(body='sedan', hp=110, make='saab'),\n",
              " Row(body='wagon', hp=88, make='volkswagen'),\n",
              " Row(body='wagon', hp=97, make='peugot'),\n",
              " Row(body='hatchback', hp=145, make='mitsubishi'),\n",
              " Row(body='hatchback', hp=145, make='plymouth'),\n",
              " Row(body='sedan', hp=114, make='volvo'),\n",
              " Row(body='sedan', hp=101, make='honda'),\n",
              " Row(body='hatchback', hp=145, make='dodge'),\n",
              " Row(body='sedan', hp=95, make='peugot'),\n",
              " Row(body='sedan', hp=110, make='volkswagen'),\n",
              " Row(body='wagon', hp=114, make='volvo'),\n",
              " Row(body='convertible', hp=111, make='alfa-romero'),\n",
              " Row(body='sedan', hp=152, make='nissan'),\n",
              " Row(body='sedan', hp=152, make='nissan'),\n",
              " Row(body='hatchback', hp=101, make='mazda'),\n",
              " Row(body='sedan', hp=68, make='volkswagen'),\n",
              " Row(body='wagon', hp=95, make='peugot'),\n",
              " Row(body='sedan', hp=102, make='audi'),\n",
              " Row(body='wagon', hp=152, make='nissan'),\n",
              " Row(body='hatchback', hp=145, make='mitsubishi'),\n",
              " Row(body='hatchback', hp=145, make='mitsubishi'),\n",
              " Row(body='hatchback', hp=110, make='saab'),\n",
              " Row(body='sedan', hp=110, make='audi'),\n",
              " Row(body='sedan', hp=110, make='saab'),\n",
              " Row(body='sedan', hp=95, make='peugot'),\n",
              " Row(body='hatchback', hp=135, make='mazda'),\n",
              " Row(body='sedan', hp=156, make='toyota'),\n",
              " Row(body='wagon', hp=156, make='toyota'),\n",
              " Row(body='sedan', hp=114, make='volvo'),\n",
              " Row(body='hatchback', hp=161, make='toyota'),\n",
              " Row(body='sedan', hp=101, make='bmw'),\n",
              " Row(body='convertible', hp=111, make='alfa-romero'),\n",
              " Row(body='hatchback', hp=154, make='alfa-romero'),\n",
              " Row(body='hatchback', hp=175, make='mercury'),\n",
              " Row(body='wagon', hp=114, make='volvo'),\n",
              " Row(body='hatchback', hp=161, make='toyota'),\n",
              " Row(body='sedan', hp=97, make='peugot'),\n",
              " Row(body='wagon', hp=95, make='peugot'),\n",
              " Row(body='sedan', hp=114, make='volvo'),\n",
              " Row(body='sedan', hp=95, make='peugot'),\n",
              " Row(body='sedan', hp=101, make='bmw'),\n",
              " Row(body='wagon', hp=95, make='peugot'),\n",
              " Row(body='hatchback', hp=160, make='nissan'),\n",
              " Row(body='sedan', hp=115, make='audi'),\n",
              " Row(body='convertible', hp=116, make='toyota'),\n",
              " Row(body='sedan', hp=110, make='audi'),\n",
              " Row(body='sedan', hp=95, make='peugot'),\n",
              " Row(body='sedan', hp=142, make='peugot'),\n",
              " Row(body='hatchback', hp=160, make='saab'),\n",
              " Row(body='sedan', hp=120, make='mazda'),\n",
              " Row(body='sedan', hp=72, make='mazda'),\n",
              " Row(body='hatchback', hp=160, make='nissan'),\n",
              " Row(body='sedan', hp=162, make='volvo'),\n",
              " Row(body='sedan', hp=160, make='saab'),\n",
              " Row(body='wagon', hp=110, make='audi'),\n",
              " Row(body='wagon', hp=162, make='volvo'),\n",
              " Row(body='sedan', hp=160, make='volvo'),\n",
              " Row(body='hatchback', hp=200, make='nissan'),\n",
              " Row(body='sedan', hp=121, make='bmw'),\n",
              " Row(body='sedan', hp=121, make='bmw'),\n",
              " Row(body='sedan', hp=134, make='volvo'),\n",
              " Row(body='hatchback', hp=143, make='porsche'),\n",
              " Row(body='sedan', hp=106, make='volvo'),\n",
              " Row(body='sedan', hp=114, make='volvo'),\n",
              " Row(body='sedan', hp=140, make='audi'),\n",
              " Row(body='sedan', hp=121, make='bmw'),\n",
              " Row(body='sedan', hp=123, make='mercedes-benz'),\n",
              " Row(body='hardtop', hp=123, make='mercedes-benz'),\n",
              " Row(body='wagon', hp=123, make='mercedes-benz'),\n",
              " Row(body='sedan', hp=182, make='bmw'),\n",
              " Row(body='sedan', hp=123, make='mercedes-benz'),\n",
              " Row(body='sedan', hp=176, make='jaguar'),\n",
              " Row(body='hardtop', hp=207, make='porsche'),\n",
              " Row(body='hardtop', hp=207, make='porsche'),\n",
              " Row(body='sedan', hp=155, make='mercedes-benz'),\n",
              " Row(body='convertible', hp=155, make='mercedes-benz'),\n",
              " Row(body='sedan', hp=176, make='jaguar'),\n",
              " Row(body='sedan', hp=262, make='jaguar'),\n",
              " Row(body='sedan', hp=182, make='bmw'),\n",
              " Row(body='convertible', hp=207, make='porsche'),\n",
              " Row(body='sedan', hp=184, make='mercedes-benz'),\n",
              " Row(body='sedan', hp=182, make='bmw'),\n",
              " Row(body='hardtop', hp=184, make='mercedes-benz')]"
            ]
          },
          "metadata": {
            "tags": []
          },
          "execution_count": 15
        }
      ]
    },
    {
      "cell_type": "code",
      "metadata": {
        "id": "r2T2wzBHVZxq",
        "colab_type": "code",
        "colab": {}
      },
      "source": [
        "# Create a dataframe from a RDD\n",
        "df_rows = spark.createDataFrame(rows_rdd4)"
      ],
      "execution_count": 16,
      "outputs": []
    },
    {
      "cell_type": "code",
      "metadata": {
        "id": "Lpp4QVjpVaFz",
        "colab_type": "code",
        "colab": {
          "base_uri": "https://localhost:8080/",
          "height": 459
        },
        "outputId": "f4779850-bd8f-4fab-8953-d64ac49fa81c"
      },
      "source": [
        "# Show dataframe\n",
        "df_rows.show()"
      ],
      "execution_count": 17,
      "outputs": [
        {
          "output_type": "stream",
          "text": [
            "+---------+---+----------+\n",
            "|     body| hp|      make|\n",
            "+---------+---+----------+\n",
            "|hatchback| 69|    subaru|\n",
            "|hatchback| 48| chevrolet|\n",
            "|hatchback| 68|     mazda|\n",
            "|hatchback| 62|    toyota|\n",
            "|hatchback| 68|mitsubishi|\n",
            "|hatchback| 60|     honda|\n",
            "|    sedan| 69|    nissan|\n",
            "|hatchback| 68|     dodge|\n",
            "|hatchback| 68|  plymouth|\n",
            "|hatchback| 68|     mazda|\n",
            "|hatchback| 68|mitsubishi|\n",
            "|hatchback| 68|     dodge|\n",
            "|hatchback| 68|  plymouth|\n",
            "|hatchback| 70| chevrolet|\n",
            "|hatchback| 62|    toyota|\n",
            "|hatchback| 68|     dodge|\n",
            "|hatchback| 58|     honda|\n",
            "|hatchback| 62|    toyota|\n",
            "|hatchback| 76|     honda|\n",
            "|    sedan| 70| chevrolet|\n",
            "+---------+---+----------+\n",
            "only showing top 20 rows\n",
            "\n"
          ],
          "name": "stdout"
        }
      ]
    },
    {
      "cell_type": "code",
      "metadata": {
        "id": "al3zfYvlVZmo",
        "colab_type": "code",
        "colab": {
          "base_uri": "https://localhost:8080/",
          "height": 34
        },
        "outputId": "5b9261f6-56d6-4232-f937-58c187a1fff6"
      },
      "source": [
        "# Check type\n",
        "type(df_rows)"
      ],
      "execution_count": 19,
      "outputs": [
        {
          "output_type": "execute_result",
          "data": {
            "text/plain": [
              "pyspark.sql.dataframe.DataFrame"
            ]
          },
          "metadata": {
            "tags": []
          },
          "execution_count": 19
        }
      ]
    },
    {
      "cell_type": "markdown",
      "metadata": {
        "id": "Fld4uK7peyZO",
        "colab_type": "text"
      },
      "source": [
        "## Using SQL commands with Spark"
      ]
    },
    {
      "cell_type": "code",
      "metadata": {
        "id": "pmaKZN5uVZkk",
        "colab_type": "code",
        "colab": {
          "base_uri": "https://localhost:8080/",
          "height": 459
        },
        "outputId": "a8f5113b-40ce-4a11-9485-33bd7031afa3"
      },
      "source": [
        "# Selecting all rows\n",
        "df_rows.select('*').show()"
      ],
      "execution_count": 20,
      "outputs": [
        {
          "output_type": "stream",
          "text": [
            "+---------+---+----------+\n",
            "|     body| hp|      make|\n",
            "+---------+---+----------+\n",
            "|hatchback| 69|    subaru|\n",
            "|hatchback| 48| chevrolet|\n",
            "|hatchback| 68|     mazda|\n",
            "|hatchback| 62|    toyota|\n",
            "|hatchback| 68|mitsubishi|\n",
            "|hatchback| 60|     honda|\n",
            "|    sedan| 69|    nissan|\n",
            "|hatchback| 68|     dodge|\n",
            "|hatchback| 68|  plymouth|\n",
            "|hatchback| 68|     mazda|\n",
            "|hatchback| 68|mitsubishi|\n",
            "|hatchback| 68|     dodge|\n",
            "|hatchback| 68|  plymouth|\n",
            "|hatchback| 70| chevrolet|\n",
            "|hatchback| 62|    toyota|\n",
            "|hatchback| 68|     dodge|\n",
            "|hatchback| 58|     honda|\n",
            "|hatchback| 62|    toyota|\n",
            "|hatchback| 76|     honda|\n",
            "|    sedan| 70| chevrolet|\n",
            "+---------+---+----------+\n",
            "only showing top 20 rows\n",
            "\n"
          ],
          "name": "stdout"
        }
      ]
    },
    {
      "cell_type": "code",
      "metadata": {
        "id": "w0ViUKG9eWFt",
        "colab_type": "code",
        "colab": {
          "base_uri": "https://localhost:8080/",
          "height": 459
        },
        "outputId": "8d0870ee-7261-4799-dbf0-25a0886f3a0a"
      },
      "source": [
        "# Select all rows sorting by make\n",
        "df_rows.orderBy('make').show()"
      ],
      "execution_count": 21,
      "outputs": [
        {
          "output_type": "stream",
          "text": [
            "+-----------+---+-----------+\n",
            "|       body| hp|       make|\n",
            "+-----------+---+-----------+\n",
            "|  hatchback|154|alfa-romero|\n",
            "|convertible|111|alfa-romero|\n",
            "|convertible|111|alfa-romero|\n",
            "|      sedan|110|       audi|\n",
            "|      sedan|115|       audi|\n",
            "|      sedan|110|       audi|\n",
            "|      wagon|110|       audi|\n",
            "|      sedan|140|       audi|\n",
            "|      sedan|102|       audi|\n",
            "|      sedan|101|        bmw|\n",
            "|      sedan|101|        bmw|\n",
            "|      sedan|121|        bmw|\n",
            "|      sedan|121|        bmw|\n",
            "|      sedan|182|        bmw|\n",
            "|      sedan|182|        bmw|\n",
            "|      sedan|121|        bmw|\n",
            "|      sedan|182|        bmw|\n",
            "|      sedan| 70|  chevrolet|\n",
            "|  hatchback| 70|  chevrolet|\n",
            "|  hatchback| 48|  chevrolet|\n",
            "+-----------+---+-----------+\n",
            "only showing top 20 rows\n",
            "\n"
          ],
          "name": "stdout"
        }
      ]
    },
    {
      "cell_type": "code",
      "metadata": {
        "id": "sYyVK6VgeWPh",
        "colab_type": "code",
        "colab": {}
      },
      "source": [
        "# Create a in-memory temporary table to use ANSI SQL\n",
        "df_rows.createOrReplaceTempView('tbl_rows')"
      ],
      "execution_count": 23,
      "outputs": []
    },
    {
      "cell_type": "code",
      "metadata": {
        "id": "LpNRonikeWbQ",
        "colab_type": "code",
        "colab": {
          "base_uri": "https://localhost:8080/",
          "height": 408
        },
        "outputId": "06676e06-9ab7-434a-b98c-6aef6bcd65cc"
      },
      "source": [
        "# Executing a ANSI SQL\n",
        "spark.sql(\"select * from tbl_rows where make = 'nissan'\").show()"
      ],
      "execution_count": 24,
      "outputs": [
        {
          "output_type": "stream",
          "text": [
            "+---------+---+------+\n",
            "|     body| hp|  make|\n",
            "+---------+---+------+\n",
            "|    sedan| 69|nissan|\n",
            "|    sedan| 69|nissan|\n",
            "|    sedan| 69|nissan|\n",
            "|    sedan| 55|nissan|\n",
            "|    sedan| 69|nissan|\n",
            "|    wagon| 69|nissan|\n",
            "|    sedan| 69|nissan|\n",
            "|hatchback| 69|nissan|\n",
            "|    wagon| 69|nissan|\n",
            "|  hardtop| 69|nissan|\n",
            "|hatchback| 97|nissan|\n",
            "|    sedan| 97|nissan|\n",
            "|    sedan|152|nissan|\n",
            "|    sedan|152|nissan|\n",
            "|    wagon|152|nissan|\n",
            "|hatchback|160|nissan|\n",
            "|hatchback|160|nissan|\n",
            "|hatchback|200|nissan|\n",
            "+---------+---+------+\n",
            "\n"
          ],
          "name": "stdout"
        }
      ]
    },
    {
      "cell_type": "code",
      "metadata": {
        "id": "jc6oflgPeWod",
        "colab_type": "code",
        "colab": {
          "base_uri": "https://localhost:8080/",
          "height": 459
        },
        "outputId": "34252e5d-2c2d-4c0a-f3e3-e017814fc853"
      },
      "source": [
        "# Selecting data with calcs\n",
        "spark.sql('select make,body,avg(hp) from tbl_rows group by make,body').show()"
      ],
      "execution_count": 25,
      "outputs": [
        {
          "output_type": "stream",
          "text": [
            "+-------------+-----------+-----------------+\n",
            "|         make|       body|          avg(hp)|\n",
            "+-------------+-----------+-----------------+\n",
            "|       nissan|      wagon|96.66666666666667|\n",
            "|       subaru|      sedan|             90.2|\n",
            "|     plymouth|      sedan|             68.0|\n",
            "|        dodge|  hatchback|             90.2|\n",
            "|       nissan|      sedan|             89.0|\n",
            "|        honda|      sedan|             89.8|\n",
            "|   mitsubishi|  hatchback|            105.0|\n",
            "|        mazda|      sedan|82.66666666666667|\n",
            "|  alfa-romero|convertible|            111.0|\n",
            "|mercedes-benz|convertible|            155.0|\n",
            "|     plymouth|      wagon|             88.0|\n",
            "|mercedes-benz|      wagon|            123.0|\n",
            "|        isuzu|  hatchback|             90.0|\n",
            "|       toyota|convertible|            116.0|\n",
            "|        mazda|  hatchback|             89.4|\n",
            "|    chevrolet|      sedan|             70.0|\n",
            "|      mercury|  hatchback|            175.0|\n",
            "|      porsche|  hatchback|            143.0|\n",
            "|        honda|      wagon|             76.0|\n",
            "|      porsche|convertible|            207.0|\n",
            "+-------------+-----------+-----------------+\n",
            "only showing top 20 rows\n",
            "\n"
          ],
          "name": "stdout"
        }
      ]
    },
    {
      "cell_type": "code",
      "metadata": {
        "id": "7u01eU8TeWvg",
        "colab_type": "code",
        "colab": {}
      },
      "source": [
        ""
      ],
      "execution_count": null,
      "outputs": []
    },
    {
      "cell_type": "code",
      "metadata": {
        "id": "W4lbbe8ZeW3U",
        "colab_type": "code",
        "colab": {}
      },
      "source": [
        ""
      ],
      "execution_count": null,
      "outputs": []
    },
    {
      "cell_type": "code",
      "metadata": {
        "id": "QGLBpxjueXEv",
        "colab_type": "code",
        "colab": {}
      },
      "source": [
        ""
      ],
      "execution_count": null,
      "outputs": []
    },
    {
      "cell_type": "code",
      "metadata": {
        "id": "auuTrrtYeXXw",
        "colab_type": "code",
        "colab": {}
      },
      "source": [
        ""
      ],
      "execution_count": null,
      "outputs": []
    },
    {
      "cell_type": "code",
      "metadata": {
        "id": "WjsPYxDdeXgQ",
        "colab_type": "code",
        "colab": {}
      },
      "source": [
        ""
      ],
      "execution_count": null,
      "outputs": []
    },
    {
      "cell_type": "code",
      "metadata": {
        "id": "Nl57yrJoeXz3",
        "colab_type": "code",
        "colab": {}
      },
      "source": [
        ""
      ],
      "execution_count": null,
      "outputs": []
    },
    {
      "cell_type": "markdown",
      "metadata": {
        "id": "sloRhWotPsL_",
        "colab_type": "text"
      },
      "source": [
        "# Monitor Jobs - Spark UI"
      ]
    },
    {
      "cell_type": "code",
      "metadata": {
        "id": "rXf_5cgHRLlw",
        "colab_type": "code",
        "colab": {
          "base_uri": "https://localhost:8080/",
          "height": 216
        },
        "outputId": "19aa1f29-a9e9-4a14-edff-b3030dc705dd"
      },
      "source": [
        "spark"
      ],
      "execution_count": null,
      "outputs": [
        {
          "output_type": "execute_result",
          "data": {
            "text/html": [
              "\n",
              "            <div>\n",
              "                <p><b>SparkSession - in-memory</b></p>\n",
              "                \n",
              "        <div>\n",
              "            <p><b>SparkContext</b></p>\n",
              "\n",
              "            <p><a href=\"http://b6c217884574:4050\">Spark UI</a></p>\n",
              "\n",
              "            <dl>\n",
              "              <dt>Version</dt>\n",
              "                <dd><code>v2.4.4</code></dd>\n",
              "              <dt>Master</dt>\n",
              "                <dd><code>local[*]</code></dd>\n",
              "              <dt>AppName</dt>\n",
              "                <dd><code>pyspark-shell</code></dd>\n",
              "            </dl>\n",
              "        </div>\n",
              "        \n",
              "            </div>\n",
              "        "
            ],
            "text/plain": [
              "<pyspark.sql.session.SparkSession at 0x7fcdf287cef0>"
            ]
          },
          "metadata": {
            "tags": []
          },
          "execution_count": 9
        }
      ]
    },
    {
      "cell_type": "code",
      "metadata": {
        "id": "RRoEruExRPK_",
        "colab_type": "code",
        "colab": {
          "base_uri": "https://localhost:8080/",
          "height": 255
        },
        "outputId": "92dcdb83-f701-49df-a76a-f586dd7a7a37"
      },
      "source": [
        "# If you are running this Colab on the Google hosted runtime, the cell below \n",
        "# will create a ngrok tunnel which will allow you to still check the Spark UI.\n",
        "!wget https://bin.equinox.io/c/4VmDzA7iaHb/ngrok-stable-linux-amd64.zip\n",
        "!unzip ngrok-stable-linux-amd64.zip\n",
        "get_ipython().system_raw('./ngrok http 4050 &')\n",
        "!curl -s http://localhost:4040/api/tunnels | python3 -c \\\n",
        "    \"import sys, json; print(json.load(sys.stdin)['tunnels'][0]['public_url'])\""
      ],
      "execution_count": null,
      "outputs": [
        {
          "output_type": "stream",
          "text": [
            "--2020-08-19 10:30:30--  https://bin.equinox.io/c/4VmDzA7iaHb/ngrok-stable-linux-amd64.zip\n",
            "Resolving bin.equinox.io (bin.equinox.io)... 54.159.87.23, 52.54.251.217, 34.233.175.36, ...\n",
            "Connecting to bin.equinox.io (bin.equinox.io)|54.159.87.23|:443... connected.\n",
            "HTTP request sent, awaiting response... 200 OK\n",
            "Length: 13773305 (13M) [application/octet-stream]\n",
            "Saving to: ‘ngrok-stable-linux-amd64.zip’\n",
            "\n",
            "\r          ngrok-sta   0%[                    ]       0  --.-KB/s               \r         ngrok-stab  86%[================>   ]  11.40M  57.0MB/s               \rngrok-stable-linux- 100%[===================>]  13.13M  60.9MB/s    in 0.2s    \n",
            "\n",
            "2020-08-19 10:30:31 (60.9 MB/s) - ‘ngrok-stable-linux-amd64.zip’ saved [13773305/13773305]\n",
            "\n",
            "Archive:  ngrok-stable-linux-amd64.zip\n",
            "  inflating: ngrok                   \n",
            "http://3f28f3706035.ngrok.io\n"
          ],
          "name": "stdout"
        }
      ]
    },
    {
      "cell_type": "markdown",
      "metadata": {
        "id": "JQIPY9lTRctN",
        "colab_type": "text"
      },
      "source": [
        ""
      ]
    }
  ]
}
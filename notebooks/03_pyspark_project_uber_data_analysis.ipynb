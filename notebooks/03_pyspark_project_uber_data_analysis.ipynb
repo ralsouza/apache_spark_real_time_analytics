{
  "nbformat": 4,
  "nbformat_minor": 0,
  "metadata": {
    "anaconda-cloud": {},
    "kernelspec": {
      "display_name": "Python 3",
      "language": "python",
      "name": "python3"
    },
    "language_info": {
      "codemirror_mode": {
        "name": "ipython",
        "version": 3
      },
      "file_extension": ".py",
      "mimetype": "text/x-python",
      "name": "python",
      "nbconvert_exporter": "python",
      "pygments_lexer": "ipython3",
      "version": "3.7.3"
    },
    "colab": {
      "name": "03_pyspark_project_uber_data_analysis.ipynb",
      "provenance": [],
      "collapsed_sections": [],
      "include_colab_link": true
    }
  },
  "cells": [
    {
      "cell_type": "markdown",
      "metadata": {
        "id": "view-in-github",
        "colab_type": "text"
      },
      "source": [
        "<a href=\"https://colab.research.google.com/github/ralsouza/apache_spark_real_time_analytics/blob/master/notebooks/03_pyspark_project_uber_data_analysis.ipynb\" target=\"_parent\"><img src=\"https://colab.research.google.com/assets/colab-badge.svg\" alt=\"Open In Colab\"/></a>"
      ]
    },
    {
      "cell_type": "markdown",
      "metadata": {
        "id": "PQKU05yNUlMG",
        "colab_type": "text"
      },
      "source": [
        "# Install and Setup"
      ]
    },
    {
      "cell_type": "code",
      "metadata": {
        "id": "cW2ZHo2aaPlF",
        "colab_type": "code",
        "colab": {}
      },
      "source": [
        "!apt-get update"
      ],
      "execution_count": null,
      "outputs": []
    },
    {
      "cell_type": "code",
      "metadata": {
        "id": "uwP4B_lgShz3",
        "colab_type": "code",
        "colab": {}
      },
      "source": [
        "# Install the dependencies\n",
        "!apt-get install openjdk-8-jdk-headless -qq > /dev/null\n",
        "!wget -q https://archive.apache.org/dist/spark/spark-2.4.4/spark-2.4.4-bin-hadoop2.7.tgz\n",
        "!tar xf spark-2.4.4-bin-hadoop2.7.tgz\n",
        "!pip install -q findspark"
      ],
      "execution_count": 2,
      "outputs": []
    },
    {
      "cell_type": "code",
      "metadata": {
        "id": "QfWfBigbUcoy",
        "colab_type": "code",
        "colab": {}
      },
      "source": [
        "# Environment variables\n",
        "import os\n",
        "os.environ[\"JAVA_HOME\"] = \"/usr/lib/jvm/java-8-openjdk-amd64\"\n",
        "os.environ[\"SPARK_HOME\"] = \"/content/spark-2.4.4-bin-hadoop2.7\"\n",
        " \n",
        "# tornar o pyspark \"importável\"\n",
        "import findspark\n",
        "findspark.init('spark-2.4.4-bin-hadoop2.7')"
      ],
      "execution_count": 3,
      "outputs": []
    },
    {
      "cell_type": "code",
      "metadata": {
        "id": "DADIOkmqUe0B",
        "colab_type": "code",
        "colab": {}
      },
      "source": [
        "# Libraries and Context Setup\n",
        "import pyspark\n",
        "from pyspark.sql import SparkSession\n",
        "from pyspark import SparkContext, SparkConf\n",
        "\n",
        "# create the session\n",
        "conf = SparkConf().set(\"spark.ui.port\", \"4050\")\n",
        "\n",
        "# create the context\n",
        "sc = pyspark.SparkContext(conf=conf)\n",
        "spark = SparkSession.builder.getOrCreate()\n",
        "sqlContext = pyspark.SQLContext(sc)"
      ],
      "execution_count": 4,
      "outputs": []
    },
    {
      "cell_type": "code",
      "metadata": {
        "id": "ZcSyNxr5UhPd",
        "colab_type": "code",
        "colab": {
          "base_uri": "https://localhost:8080/",
          "height": 34
        },
        "outputId": "3a845d4f-331e-477c-d292-6a8b94042ee1"
      },
      "source": [
        "# Check context\n",
        "print(sc)"
      ],
      "execution_count": null,
      "outputs": [
        {
          "output_type": "stream",
          "text": [
            "<SparkContext master=local[*] appName=pyspark-shell>\n"
          ],
          "name": "stdout"
        }
      ]
    },
    {
      "cell_type": "code",
      "metadata": {
        "id": "E_9d3jcz9021",
        "colab_type": "code",
        "colab": {}
      },
      "source": [
        "# sc.stop()"
      ],
      "execution_count": null,
      "outputs": []
    },
    {
      "cell_type": "markdown",
      "metadata": {
        "id": "MLjU-MmLSQG4",
        "colab_type": "text"
      },
      "source": [
        "# Mini-Projeto 1 - Analisando Dados do Uber com Spark "
      ]
    },
    {
      "cell_type": "markdown",
      "metadata": {
        "id": "a67VQMTfSQG5",
        "colab_type": "text"
      },
      "source": [
        "Dataset: https://github.com/fivethirtyeight/uber-tlc-foil-response"
      ]
    },
    {
      "cell_type": "markdown",
      "metadata": {
        "id": "hxCib4DrSQG9",
        "colab_type": "text"
      },
      "source": [
        "Esse conjunto de dados contém dados de mais de 4,5 milhões de captações Uber na cidade de Nova York de abril a setembro de 2014 e 14,3 milhões de captações Uber de janeiro a junho de 2015. Dados em nível de viagem sobre 10 outras empresas de veículos de aluguel (FHV) bem como dados agregados para 329 empresas de FHV, também estão incluídos. Todos os arquivos foram recebidos em 3 de agosto, 15 de setembro e 22 de setembro de 2015."
      ]
    },
    {
      "cell_type": "markdown",
      "metadata": {
        "id": "bPdImThZSQHA",
        "colab_type": "text"
      },
      "source": [
        "1- Quantos são e quais são as bases de carros do Uber (onde os carros ficam esperando passageiros)?\n",
        "\n",
        "2- Qual o total de veículos que passaram pela base B02617?\n",
        "\n",
        "3- Qual o total de corridas por base? Apresente de forma decrescente."
      ]
    },
    {
      "cell_type": "code",
      "metadata": {
        "id": "Wcz56diISQHC",
        "colab_type": "code",
        "colab": {}
      },
      "source": [
        "from pandas import read_csv"
      ],
      "execution_count": 5,
      "outputs": []
    },
    {
      "cell_type": "code",
      "metadata": {
        "id": "0bGDakOpbN0y",
        "colab_type": "code",
        "colab": {
          "base_uri": "https://localhost:8080/",
          "height": 122
        },
        "outputId": "94de7e96-5f81-4e79-9198-af993b270327"
      },
      "source": [
        "from google.colab import drive\n",
        "drive.mount('/content/drive')"
      ],
      "execution_count": 6,
      "outputs": [
        {
          "output_type": "stream",
          "text": [
            "Go to this URL in a browser: https://accounts.google.com/o/oauth2/auth?client_id=947318989803-6bn6qk8qdgf4n4g3pfee6491hc0brc4i.apps.googleusercontent.com&redirect_uri=urn%3aietf%3awg%3aoauth%3a2.0%3aoob&response_type=code&scope=email%20https%3a%2f%2fwww.googleapis.com%2fauth%2fdocs.test%20https%3a%2f%2fwww.googleapis.com%2fauth%2fdrive%20https%3a%2f%2fwww.googleapis.com%2fauth%2fdrive.photos.readonly%20https%3a%2f%2fwww.googleapis.com%2fauth%2fpeopleapi.readonly\n",
            "\n",
            "Enter your authorization code:\n",
            "··········\n",
            "Mounted at /content/drive\n"
          ],
          "name": "stdout"
        }
      ]
    },
    {
      "cell_type": "code",
      "metadata": {
        "id": "UD3jdRV1SQHL",
        "colab_type": "code",
        "colab": {}
      },
      "source": [
        "# Criando um objeto Pandas\n",
        "uberFile = read_csv('/content/drive/My Drive/Colab Notebooks/08-apache-spark/data/uber.csv')"
      ],
      "execution_count": 7,
      "outputs": []
    },
    {
      "cell_type": "code",
      "metadata": {
        "id": "fqHzt6bASQHT",
        "colab_type": "code",
        "colab": {
          "base_uri": "https://localhost:8080/",
          "height": 34
        },
        "outputId": "24374559-8f71-4d0e-c55f-365ccdb3caf7"
      },
      "source": [
        "type(uberFile)"
      ],
      "execution_count": null,
      "outputs": [
        {
          "output_type": "execute_result",
          "data": {
            "text/plain": [
              "pandas.core.frame.DataFrame"
            ]
          },
          "metadata": {
            "tags": []
          },
          "execution_count": 8
        }
      ]
    },
    {
      "cell_type": "code",
      "metadata": {
        "id": "-mxyghKKSQHb",
        "colab_type": "code",
        "colab": {
          "base_uri": "https://localhost:8080/",
          "height": 359
        },
        "outputId": "e0551b6d-733f-46ef-fda2-ef996c462156"
      },
      "source": [
        "# Visualizando as primeiras linhas\n",
        "uberFile.head(10)"
      ],
      "execution_count": 8,
      "outputs": [
        {
          "output_type": "execute_result",
          "data": {
            "text/html": [
              "<div>\n",
              "<style scoped>\n",
              "    .dataframe tbody tr th:only-of-type {\n",
              "        vertical-align: middle;\n",
              "    }\n",
              "\n",
              "    .dataframe tbody tr th {\n",
              "        vertical-align: top;\n",
              "    }\n",
              "\n",
              "    .dataframe thead th {\n",
              "        text-align: right;\n",
              "    }\n",
              "</style>\n",
              "<table border=\"1\" class=\"dataframe\">\n",
              "  <thead>\n",
              "    <tr style=\"text-align: right;\">\n",
              "      <th></th>\n",
              "      <th>dispatching_base_number</th>\n",
              "      <th>date</th>\n",
              "      <th>active_vehicles</th>\n",
              "      <th>trips</th>\n",
              "    </tr>\n",
              "  </thead>\n",
              "  <tbody>\n",
              "    <tr>\n",
              "      <th>0</th>\n",
              "      <td>B02512</td>\n",
              "      <td>1/1/2015</td>\n",
              "      <td>190</td>\n",
              "      <td>1132</td>\n",
              "    </tr>\n",
              "    <tr>\n",
              "      <th>1</th>\n",
              "      <td>B02765</td>\n",
              "      <td>1/1/2015</td>\n",
              "      <td>225</td>\n",
              "      <td>1765</td>\n",
              "    </tr>\n",
              "    <tr>\n",
              "      <th>2</th>\n",
              "      <td>B02764</td>\n",
              "      <td>1/1/2015</td>\n",
              "      <td>3427</td>\n",
              "      <td>29421</td>\n",
              "    </tr>\n",
              "    <tr>\n",
              "      <th>3</th>\n",
              "      <td>B02682</td>\n",
              "      <td>1/1/2015</td>\n",
              "      <td>945</td>\n",
              "      <td>7679</td>\n",
              "    </tr>\n",
              "    <tr>\n",
              "      <th>4</th>\n",
              "      <td>B02617</td>\n",
              "      <td>1/1/2015</td>\n",
              "      <td>1228</td>\n",
              "      <td>9537</td>\n",
              "    </tr>\n",
              "    <tr>\n",
              "      <th>5</th>\n",
              "      <td>B02598</td>\n",
              "      <td>1/1/2015</td>\n",
              "      <td>870</td>\n",
              "      <td>6903</td>\n",
              "    </tr>\n",
              "    <tr>\n",
              "      <th>6</th>\n",
              "      <td>B02598</td>\n",
              "      <td>1/2/2015</td>\n",
              "      <td>785</td>\n",
              "      <td>4768</td>\n",
              "    </tr>\n",
              "    <tr>\n",
              "      <th>7</th>\n",
              "      <td>B02617</td>\n",
              "      <td>1/2/2015</td>\n",
              "      <td>1137</td>\n",
              "      <td>7065</td>\n",
              "    </tr>\n",
              "    <tr>\n",
              "      <th>8</th>\n",
              "      <td>B02512</td>\n",
              "      <td>1/2/2015</td>\n",
              "      <td>175</td>\n",
              "      <td>875</td>\n",
              "    </tr>\n",
              "    <tr>\n",
              "      <th>9</th>\n",
              "      <td>B02682</td>\n",
              "      <td>1/2/2015</td>\n",
              "      <td>890</td>\n",
              "      <td>5506</td>\n",
              "    </tr>\n",
              "  </tbody>\n",
              "</table>\n",
              "</div>"
            ],
            "text/plain": [
              "  dispatching_base_number      date  active_vehicles  trips\n",
              "0                  B02512  1/1/2015              190   1132\n",
              "1                  B02765  1/1/2015              225   1765\n",
              "2                  B02764  1/1/2015             3427  29421\n",
              "3                  B02682  1/1/2015              945   7679\n",
              "4                  B02617  1/1/2015             1228   9537\n",
              "5                  B02598  1/1/2015              870   6903\n",
              "6                  B02598  1/2/2015              785   4768\n",
              "7                  B02617  1/2/2015             1137   7065\n",
              "8                  B02512  1/2/2015              175    875\n",
              "9                  B02682  1/2/2015              890   5506"
            ]
          },
          "metadata": {
            "tags": []
          },
          "execution_count": 8
        }
      ]
    },
    {
      "cell_type": "code",
      "metadata": {
        "id": "05QPjmfcSQHj",
        "colab_type": "code",
        "colab": {}
      },
      "source": [
        "# Tranformando o dataframe (Pandas) em um Dataframe (Spark)\n",
        "df_uber = spark.createDataFrame(uberFile)"
      ],
      "execution_count": 10,
      "outputs": []
    },
    {
      "cell_type": "code",
      "metadata": {
        "id": "X9m7sDbHSQHq",
        "colab_type": "code",
        "colab": {
          "base_uri": "https://localhost:8080/",
          "height": 34
        },
        "outputId": "d6450cf0-e9fe-491a-ce10-2ec39a0afe93"
      },
      "source": [
        "type(df_uber)"
      ],
      "execution_count": 11,
      "outputs": [
        {
          "output_type": "execute_result",
          "data": {
            "text/plain": [
              "pyspark.sql.dataframe.DataFrame"
            ]
          },
          "metadata": {
            "tags": []
          },
          "execution_count": 11
        }
      ]
    },
    {
      "cell_type": "code",
      "metadata": {
        "id": "KQdJjQbuSQH8",
        "colab_type": "code",
        "colab": {
          "base_uri": "https://localhost:8080/",
          "height": 34
        },
        "outputId": "789e217a-9817-42c2-d054-c46971e0c3b5"
      },
      "source": [
        "type(df_uber)"
      ],
      "execution_count": 17,
      "outputs": [
        {
          "output_type": "execute_result",
          "data": {
            "text/plain": [
              "pyspark.sql.dataframe.DataFrame"
            ]
          },
          "metadata": {
            "tags": []
          },
          "execution_count": 17
        }
      ]
    },
    {
      "cell_type": "code",
      "metadata": {
        "id": "8j4YltxJ7Ht2",
        "colab_type": "code",
        "colab": {
          "base_uri": "https://localhost:8080/",
          "height": 34
        },
        "outputId": "8f6f2233-4fb8-4111-9f53-34f03227361a"
      },
      "source": [
        "# Total rows\n",
        "df_uber.count()"
      ],
      "execution_count": 15,
      "outputs": [
        {
          "output_type": "execute_result",
          "data": {
            "text/plain": [
              "354"
            ]
          },
          "metadata": {
            "tags": []
          },
          "execution_count": 15
        }
      ]
    },
    {
      "cell_type": "code",
      "metadata": {
        "id": "IYHxwKUe7M5j",
        "colab_type": "code",
        "colab": {
          "base_uri": "https://localhost:8080/",
          "height": 119
        },
        "outputId": "86300dfe-0b53-431c-e2e9-8315b5d57aa4"
      },
      "source": [
        "# First row\n",
        "df_uber.printSchema()"
      ],
      "execution_count": 13,
      "outputs": [
        {
          "output_type": "stream",
          "text": [
            "root\n",
            " |-- dispatching_base_number: string (nullable = true)\n",
            " |-- date: string (nullable = true)\n",
            " |-- active_vehicles: long (nullable = true)\n",
            " |-- trips: long (nullable = true)\n",
            "\n"
          ],
          "name": "stdout"
        }
      ]
    },
    {
      "cell_type": "code",
      "metadata": {
        "id": "vl2qHvuYh1zQ",
        "colab_type": "code",
        "colab": {
          "base_uri": "https://localhost:8080/",
          "height": 459
        },
        "outputId": "c2685bd5-d61a-4e99-9cb3-d4e380f9973d"
      },
      "source": [
        "# Sample data\n",
        "df_uber.show()"
      ],
      "execution_count": 16,
      "outputs": [
        {
          "output_type": "stream",
          "text": [
            "+-----------------------+--------+---------------+-----+\n",
            "|dispatching_base_number|    date|active_vehicles|trips|\n",
            "+-----------------------+--------+---------------+-----+\n",
            "|                 B02512|1/1/2015|            190| 1132|\n",
            "|                 B02765|1/1/2015|            225| 1765|\n",
            "|                 B02764|1/1/2015|           3427|29421|\n",
            "|                 B02682|1/1/2015|            945| 7679|\n",
            "|                 B02617|1/1/2015|           1228| 9537|\n",
            "|                 B02598|1/1/2015|            870| 6903|\n",
            "|                 B02598|1/2/2015|            785| 4768|\n",
            "|                 B02617|1/2/2015|           1137| 7065|\n",
            "|                 B02512|1/2/2015|            175|  875|\n",
            "|                 B02682|1/2/2015|            890| 5506|\n",
            "|                 B02765|1/2/2015|            196| 1001|\n",
            "|                 B02764|1/2/2015|           3147|19974|\n",
            "|                 B02765|1/3/2015|            201| 1526|\n",
            "|                 B02617|1/3/2015|           1188|10664|\n",
            "|                 B02598|1/3/2015|            818| 7432|\n",
            "|                 B02682|1/3/2015|            915| 8010|\n",
            "|                 B02512|1/3/2015|            173| 1088|\n",
            "|                 B02764|1/3/2015|           3215|29729|\n",
            "|                 B02512|1/4/2015|            147|  791|\n",
            "|                 B02682|1/4/2015|            812| 5621|\n",
            "+-----------------------+--------+---------------+-----+\n",
            "only showing top 20 rows\n",
            "\n"
          ],
          "name": "stdout"
        }
      ]
    },
    {
      "cell_type": "code",
      "metadata": {
        "id": "zxmAkYnZ7B5A",
        "colab_type": "code",
        "colab": {
          "base_uri": "https://localhost:8080/",
          "height": 34
        },
        "outputId": "7281a075-8e49-4273-f7f9-a306604800d4"
      },
      "source": [
        "# Convert csv file to rdd\n",
        "uber_test = sc.textFile('/content/drive/My Drive/Colab Notebooks/08-apache-spark/data/uber.csv')\n",
        "type(uber_test)"
      ],
      "execution_count": 24,
      "outputs": [
        {
          "output_type": "execute_result",
          "data": {
            "text/plain": [
              "pyspark.rdd.RDD"
            ]
          },
          "metadata": {
            "tags": []
          },
          "execution_count": 24
        }
      ]
    },
    {
      "cell_type": "markdown",
      "metadata": {
        "id": "koeSvmzKUQNS",
        "colab_type": "text"
      },
      "source": [
        "# 1- Quantos são e quais são as bases de carros do Uber (onde os carros ficam esperando passageiros)?"
      ]
    },
    {
      "cell_type": "code",
      "metadata": {
        "id": "C7CVrjhnURK3",
        "colab_type": "code",
        "colab": {}
      },
      "source": [
        "df_uber_count = df_uber.groupBy('dispatching_base_number').count()"
      ],
      "execution_count": 25,
      "outputs": []
    },
    {
      "cell_type": "code",
      "metadata": {
        "id": "AuOP62_Wicmj",
        "colab_type": "code",
        "colab": {
          "base_uri": "https://localhost:8080/",
          "height": 204
        },
        "outputId": "1db0ed17-7462-4ba6-fc24-1a21a2ef77b9"
      },
      "source": [
        "df_uber_count.show()"
      ],
      "execution_count": 26,
      "outputs": [
        {
          "output_type": "stream",
          "text": [
            "+-----------------------+-----+\n",
            "|dispatching_base_number|count|\n",
            "+-----------------------+-----+\n",
            "|                 B02512|   59|\n",
            "|                 B02598|   59|\n",
            "|                 B02682|   59|\n",
            "|                 B02765|   59|\n",
            "|                 B02617|   59|\n",
            "|                 B02764|   59|\n",
            "+-----------------------+-----+\n",
            "\n"
          ],
          "name": "stdout"
        }
      ]
    },
    {
      "cell_type": "markdown",
      "metadata": {
        "id": "hAfmMOTjkmBc",
        "colab_type": "text"
      },
      "source": [
        "Temos 6 bases do uber."
      ]
    },
    {
      "cell_type": "markdown",
      "metadata": {
        "id": "C6q9F52OUUdT",
        "colab_type": "text"
      },
      "source": [
        "# 2- Qual o total de veículos que passaram pela base B02617?"
      ]
    },
    {
      "cell_type": "code",
      "metadata": {
        "id": "P4l40t2aUVvC",
        "colab_type": "code",
        "colab": {
          "base_uri": "https://localhost:8080/",
          "height": 119
        },
        "outputId": "7ffb2ab3-5b11-4217-e104-599f83ed3ff8"
      },
      "source": [
        "df_uber.groupBy('dispatching_base_number').count() \\\n",
        "  .where(df_uber.dispatching_base_number == 'B02617') \\\n",
        "  .show()"
      ],
      "execution_count": 32,
      "outputs": [
        {
          "output_type": "stream",
          "text": [
            "+-----------------------+-----+\n",
            "|dispatching_base_number|count|\n",
            "+-----------------------+-----+\n",
            "|                 B02617|   59|\n",
            "+-----------------------+-----+\n",
            "\n"
          ],
          "name": "stdout"
        }
      ]
    },
    {
      "cell_type": "markdown",
      "metadata": {
        "id": "TkBjP87KUZXF",
        "colab_type": "text"
      },
      "source": [
        "# 3- Qual o total de corridas por base? Apresente de forma decrescente."
      ]
    },
    {
      "cell_type": "code",
      "metadata": {
        "id": "RobvltGhUa2u",
        "colab_type": "code",
        "colab": {}
      },
      "source": [
        ""
      ],
      "execution_count": null,
      "outputs": []
    }
  ]
}
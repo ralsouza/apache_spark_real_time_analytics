{
  "nbformat": 4,
  "nbformat_minor": 0,
  "metadata": {
    "anaconda-cloud": {},
    "kernelspec": {
      "display_name": "Python 3",
      "language": "python",
      "name": "python3"
    },
    "language_info": {
      "codemirror_mode": {
        "name": "ipython",
        "version": 3
      },
      "file_extension": ".py",
      "mimetype": "text/x-python",
      "name": "python",
      "nbconvert_exporter": "python",
      "pygments_lexer": "ipython3",
      "version": "3.7.3"
    },
    "colab": {
      "name": "03_pyspark_project_uber_data_analysis.ipynb",
      "provenance": [],
      "collapsed_sections": [],
      "include_colab_link": true
    }
  },
  "cells": [
    {
      "cell_type": "markdown",
      "metadata": {
        "id": "view-in-github",
        "colab_type": "text"
      },
      "source": [
        "<a href=\"https://colab.research.google.com/github/ralsouza/apache_spark_real_time_analytics/blob/master/notebooks/03_pyspark_project_uber_data_analysis.ipynb\" target=\"_parent\"><img src=\"https://colab.research.google.com/assets/colab-badge.svg\" alt=\"Open In Colab\"/></a>"
      ]
    },
    {
      "cell_type": "markdown",
      "metadata": {
        "id": "PQKU05yNUlMG",
        "colab_type": "text"
      },
      "source": [
        "# Install and Setup"
      ]
    },
    {
      "cell_type": "code",
      "metadata": {
        "id": "cW2ZHo2aaPlF",
        "colab_type": "code",
        "colab": {
          "base_uri": "https://localhost:8080/",
          "height": 442
        },
        "outputId": "7c141a2e-3fdc-44b4-ae25-9e855ec398a2"
      },
      "source": [
        "!apt-get update"
      ],
      "execution_count": 1,
      "outputs": [
        {
          "output_type": "stream",
          "text": [
            "\r0% [Working]\r            \rGet:1 https://cloud.r-project.org/bin/linux/ubuntu bionic-cran35/ InRelease [3,626 B]\n",
            "\r0% [Connecting to archive.ubuntu.com] [Connecting to security.ubuntu.com (91.18\r0% [Connecting to archive.ubuntu.com] [Connecting to security.ubuntu.com (91.18\r0% [1 InRelease gpgv 3,626 B] [Connecting to archive.ubuntu.com] [Connecting to\r                                                                               \rIgn:2 https://developer.download.nvidia.com/compute/cuda/repos/ubuntu1804/x86_64  InRelease\n",
            "\r0% [1 InRelease gpgv 3,626 B] [Connecting to archive.ubuntu.com (91.189.88.142)\r0% [Connecting to archive.ubuntu.com (91.189.88.142)] [Waiting for headers] [Wa\r                                                                               \rIgn:3 https://developer.download.nvidia.com/compute/machine-learning/repos/ubuntu1804/x86_64  InRelease\n",
            "\r0% [Connecting to archive.ubuntu.com (91.189.88.142)] [Waiting for headers] [Wa\r                                                                               \rGet:4 https://developer.download.nvidia.com/compute/cuda/repos/ubuntu1804/x86_64  Release [697 B]\n",
            "\r0% [Connecting to archive.ubuntu.com (91.189.88.142)] [Waiting for headers] [4 \r0% [Connecting to archive.ubuntu.com (91.189.88.142)] [Waiting for headers] [Wa\r                                                                               \rHit:5 https://developer.download.nvidia.com/compute/machine-learning/repos/ubuntu1804/x86_64  Release\n",
            "\r0% [Connecting to archive.ubuntu.com (91.189.88.142)] [Waiting for headers] [Wa\r                                                                               \rGet:6 http://security.ubuntu.com/ubuntu bionic-security InRelease [88.7 kB]\n",
            "\r                                                                               \rHit:7 http://ppa.launchpad.net/graphics-drivers/ppa/ubuntu bionic InRelease\n",
            "\r0% [Waiting for headers] [6 InRelease 14.2 kB/88.7 kB 16%] [Connecting to ppa.l\r0% [Release.gpg gpgv 564 B] [Waiting for headers] [6 InRelease 14.2 kB/88.7 kB \r                                                                               \rGet:8 https://developer.download.nvidia.com/compute/cuda/repos/ubuntu1804/x86_64  Release.gpg [836 B]\n",
            "Hit:10 http://archive.ubuntu.com/ubuntu bionic InRelease\n",
            "Get:11 http://archive.ubuntu.com/ubuntu bionic-updates InRelease [88.7 kB]\n",
            "Get:12 http://ppa.launchpad.net/marutter/c2d4u3.5/ubuntu bionic InRelease [15.4 kB]\n",
            "Ign:13 https://developer.download.nvidia.com/compute/cuda/repos/ubuntu1804/x86_64  Packages\n",
            "Get:13 https://developer.download.nvidia.com/compute/cuda/repos/ubuntu1804/x86_64  Packages [255 kB]\n",
            "Get:14 http://security.ubuntu.com/ubuntu bionic-security/multiverse amd64 Packages [9,558 B]\n",
            "Get:15 http://archive.ubuntu.com/ubuntu bionic-backports InRelease [74.6 kB]\n",
            "Get:16 http://ppa.launchpad.net/marutter/c2d4u3.5/ubuntu bionic/main Sources [1,856 kB]\n",
            "Get:17 http://security.ubuntu.com/ubuntu bionic-security/universe amd64 Packages [882 kB]\n",
            "Get:18 http://archive.ubuntu.com/ubuntu bionic-updates/universe amd64 Packages [1,413 kB]\n",
            "Get:19 http://security.ubuntu.com/ubuntu bionic-security/main amd64 Packages [1,038 kB]\n",
            "Get:20 http://archive.ubuntu.com/ubuntu bionic-updates/main amd64 Packages [1,334 kB]\n",
            "Get:21 http://archive.ubuntu.com/ubuntu bionic-updates/restricted amd64 Packages [116 kB]\n",
            "Get:22 http://archive.ubuntu.com/ubuntu bionic-updates/multiverse amd64 Packages [27.1 kB]\n",
            "Get:23 http://ppa.launchpad.net/marutter/c2d4u3.5/ubuntu bionic/main amd64 Packages [895 kB]\n",
            "Fetched 8,099 kB in 6s (1,432 kB/s)\n",
            "Reading package lists... Done\n"
          ],
          "name": "stdout"
        }
      ]
    },
    {
      "cell_type": "code",
      "metadata": {
        "id": "uwP4B_lgShz3",
        "colab_type": "code",
        "colab": {}
      },
      "source": [
        "# Install the dependencies\n",
        "!apt-get install openjdk-8-jdk-headless -qq > /dev/null\n",
        "!wget -q https://archive.apache.org/dist/spark/spark-2.4.4/spark-2.4.4-bin-hadoop2.7.tgz\n",
        "!tar xf spark-2.4.4-bin-hadoop2.7.tgz\n",
        "!pip install -q findspark"
      ],
      "execution_count": 2,
      "outputs": []
    },
    {
      "cell_type": "code",
      "metadata": {
        "id": "QfWfBigbUcoy",
        "colab_type": "code",
        "colab": {}
      },
      "source": [
        "# Environment variables\n",
        "import os\n",
        "os.environ[\"JAVA_HOME\"] = \"/usr/lib/jvm/java-8-openjdk-amd64\"\n",
        "os.environ[\"SPARK_HOME\"] = \"/content/spark-2.4.4-bin-hadoop2.7\"\n",
        " \n",
        "# tornar o pyspark \"importável\"\n",
        "import findspark\n",
        "findspark.init('spark-2.4.4-bin-hadoop2.7')"
      ],
      "execution_count": 3,
      "outputs": []
    },
    {
      "cell_type": "code",
      "metadata": {
        "id": "DADIOkmqUe0B",
        "colab_type": "code",
        "colab": {}
      },
      "source": [
        "# Libraries and Context Setup\n",
        "import pyspark\n",
        "from pyspark.sql import SparkSession\n",
        "from pyspark import SparkContext, SparkConf\n",
        "\n",
        "# create the session\n",
        "conf = SparkConf().set(\"spark.ui.port\", \"4050\")\n",
        "\n",
        "# create the context\n",
        "sc = pyspark.SparkContext(conf=conf)\n",
        "spark = SparkSession.builder.getOrCreate()\n",
        "sqlContext = pyspark.SQLContext(sc)"
      ],
      "execution_count": 4,
      "outputs": []
    },
    {
      "cell_type": "code",
      "metadata": {
        "id": "ZcSyNxr5UhPd",
        "colab_type": "code",
        "colab": {
          "base_uri": "https://localhost:8080/",
          "height": 34
        },
        "outputId": "5aa7130a-e466-41c6-b173-50174381d146"
      },
      "source": [
        "# Check context\n",
        "print(sc)"
      ],
      "execution_count": 5,
      "outputs": [
        {
          "output_type": "stream",
          "text": [
            "<SparkContext master=local[*] appName=pyspark-shell>\n"
          ],
          "name": "stdout"
        }
      ]
    },
    {
      "cell_type": "code",
      "metadata": {
        "id": "E_9d3jcz9021",
        "colab_type": "code",
        "colab": {}
      },
      "source": [
        "# sc.stop()"
      ],
      "execution_count": null,
      "outputs": []
    },
    {
      "cell_type": "markdown",
      "metadata": {
        "id": "MLjU-MmLSQG4",
        "colab_type": "text"
      },
      "source": [
        "# Mini-Projeto 1 - Analisando Dados do Uber com Spark "
      ]
    },
    {
      "cell_type": "markdown",
      "metadata": {
        "id": "a67VQMTfSQG5",
        "colab_type": "text"
      },
      "source": [
        "Dataset: https://github.com/fivethirtyeight/uber-tlc-foil-response"
      ]
    },
    {
      "cell_type": "markdown",
      "metadata": {
        "id": "hxCib4DrSQG9",
        "colab_type": "text"
      },
      "source": [
        "Esse conjunto de dados contém dados de mais de 4,5 milhões de captações Uber na cidade de Nova York de abril a setembro de 2014 e 14,3 milhões de captações Uber de janeiro a junho de 2015. Dados em nível de viagem sobre 10 outras empresas de veículos de aluguel (FHV) bem como dados agregados para 329 empresas de FHV, também estão incluídos. Todos os arquivos foram recebidos em 3 de agosto, 15 de setembro e 22 de setembro de 2015."
      ]
    },
    {
      "cell_type": "markdown",
      "metadata": {
        "id": "bPdImThZSQHA",
        "colab_type": "text"
      },
      "source": [
        "1- Quantos são e quais são as bases de carros do Uber (onde os carros ficam esperando passageiros)?\n",
        "\n",
        "2- Qual o total de veículos que passaram pela base B02617?\n",
        "\n",
        "3- Qual o total de corridas por base? Apresente de forma decrescente."
      ]
    },
    {
      "cell_type": "code",
      "metadata": {
        "id": "Wcz56diISQHC",
        "colab_type": "code",
        "colab": {}
      },
      "source": [
        "from pandas import read_csv"
      ],
      "execution_count": 6,
      "outputs": []
    },
    {
      "cell_type": "code",
      "metadata": {
        "id": "0bGDakOpbN0y",
        "colab_type": "code",
        "colab": {
          "base_uri": "https://localhost:8080/",
          "height": 122
        },
        "outputId": "238f978c-cbd1-4dcb-8ae3-fc3d32133ac6"
      },
      "source": [
        "from google.colab import drive\n",
        "drive.mount('/content/drive')"
      ],
      "execution_count": 7,
      "outputs": [
        {
          "output_type": "stream",
          "text": [
            "Go to this URL in a browser: https://accounts.google.com/o/oauth2/auth?client_id=947318989803-6bn6qk8qdgf4n4g3pfee6491hc0brc4i.apps.googleusercontent.com&redirect_uri=urn%3aietf%3awg%3aoauth%3a2.0%3aoob&scope=email%20https%3a%2f%2fwww.googleapis.com%2fauth%2fdocs.test%20https%3a%2f%2fwww.googleapis.com%2fauth%2fdrive%20https%3a%2f%2fwww.googleapis.com%2fauth%2fdrive.photos.readonly%20https%3a%2f%2fwww.googleapis.com%2fauth%2fpeopleapi.readonly&response_type=code\n",
            "\n",
            "Enter your authorization code:\n",
            "··········\n",
            "Mounted at /content/drive\n"
          ],
          "name": "stdout"
        }
      ]
    },
    {
      "cell_type": "code",
      "metadata": {
        "id": "UD3jdRV1SQHL",
        "colab_type": "code",
        "colab": {}
      },
      "source": [
        "# Criando um objeto Pandas\n",
        "uberFile = read_csv('/content/drive/My Drive/Colab Notebooks/08-apache-spark/data/uber.csv')"
      ],
      "execution_count": 8,
      "outputs": []
    },
    {
      "cell_type": "code",
      "metadata": {
        "id": "fqHzt6bASQHT",
        "colab_type": "code",
        "colab": {
          "base_uri": "https://localhost:8080/",
          "height": 34
        },
        "outputId": "434aecc7-3726-4081-9fa7-6ae1906f0b2d"
      },
      "source": [
        "type(uberFile)"
      ],
      "execution_count": 9,
      "outputs": [
        {
          "output_type": "execute_result",
          "data": {
            "text/plain": [
              "pandas.core.frame.DataFrame"
            ]
          },
          "metadata": {
            "tags": []
          },
          "execution_count": 9
        }
      ]
    },
    {
      "cell_type": "code",
      "metadata": {
        "id": "-mxyghKKSQHb",
        "colab_type": "code",
        "colab": {
          "base_uri": "https://localhost:8080/",
          "height": 359
        },
        "outputId": "e0551b6d-733f-46ef-fda2-ef996c462156"
      },
      "source": [
        "# Visualizando as primeiras linhas\n",
        "uberFile.head(10)"
      ],
      "execution_count": null,
      "outputs": [
        {
          "output_type": "execute_result",
          "data": {
            "text/html": [
              "<div>\n",
              "<style scoped>\n",
              "    .dataframe tbody tr th:only-of-type {\n",
              "        vertical-align: middle;\n",
              "    }\n",
              "\n",
              "    .dataframe tbody tr th {\n",
              "        vertical-align: top;\n",
              "    }\n",
              "\n",
              "    .dataframe thead th {\n",
              "        text-align: right;\n",
              "    }\n",
              "</style>\n",
              "<table border=\"1\" class=\"dataframe\">\n",
              "  <thead>\n",
              "    <tr style=\"text-align: right;\">\n",
              "      <th></th>\n",
              "      <th>dispatching_base_number</th>\n",
              "      <th>date</th>\n",
              "      <th>active_vehicles</th>\n",
              "      <th>trips</th>\n",
              "    </tr>\n",
              "  </thead>\n",
              "  <tbody>\n",
              "    <tr>\n",
              "      <th>0</th>\n",
              "      <td>B02512</td>\n",
              "      <td>1/1/2015</td>\n",
              "      <td>190</td>\n",
              "      <td>1132</td>\n",
              "    </tr>\n",
              "    <tr>\n",
              "      <th>1</th>\n",
              "      <td>B02765</td>\n",
              "      <td>1/1/2015</td>\n",
              "      <td>225</td>\n",
              "      <td>1765</td>\n",
              "    </tr>\n",
              "    <tr>\n",
              "      <th>2</th>\n",
              "      <td>B02764</td>\n",
              "      <td>1/1/2015</td>\n",
              "      <td>3427</td>\n",
              "      <td>29421</td>\n",
              "    </tr>\n",
              "    <tr>\n",
              "      <th>3</th>\n",
              "      <td>B02682</td>\n",
              "      <td>1/1/2015</td>\n",
              "      <td>945</td>\n",
              "      <td>7679</td>\n",
              "    </tr>\n",
              "    <tr>\n",
              "      <th>4</th>\n",
              "      <td>B02617</td>\n",
              "      <td>1/1/2015</td>\n",
              "      <td>1228</td>\n",
              "      <td>9537</td>\n",
              "    </tr>\n",
              "    <tr>\n",
              "      <th>5</th>\n",
              "      <td>B02598</td>\n",
              "      <td>1/1/2015</td>\n",
              "      <td>870</td>\n",
              "      <td>6903</td>\n",
              "    </tr>\n",
              "    <tr>\n",
              "      <th>6</th>\n",
              "      <td>B02598</td>\n",
              "      <td>1/2/2015</td>\n",
              "      <td>785</td>\n",
              "      <td>4768</td>\n",
              "    </tr>\n",
              "    <tr>\n",
              "      <th>7</th>\n",
              "      <td>B02617</td>\n",
              "      <td>1/2/2015</td>\n",
              "      <td>1137</td>\n",
              "      <td>7065</td>\n",
              "    </tr>\n",
              "    <tr>\n",
              "      <th>8</th>\n",
              "      <td>B02512</td>\n",
              "      <td>1/2/2015</td>\n",
              "      <td>175</td>\n",
              "      <td>875</td>\n",
              "    </tr>\n",
              "    <tr>\n",
              "      <th>9</th>\n",
              "      <td>B02682</td>\n",
              "      <td>1/2/2015</td>\n",
              "      <td>890</td>\n",
              "      <td>5506</td>\n",
              "    </tr>\n",
              "  </tbody>\n",
              "</table>\n",
              "</div>"
            ],
            "text/plain": [
              "  dispatching_base_number      date  active_vehicles  trips\n",
              "0                  B02512  1/1/2015              190   1132\n",
              "1                  B02765  1/1/2015              225   1765\n",
              "2                  B02764  1/1/2015             3427  29421\n",
              "3                  B02682  1/1/2015              945   7679\n",
              "4                  B02617  1/1/2015             1228   9537\n",
              "5                  B02598  1/1/2015              870   6903\n",
              "6                  B02598  1/2/2015              785   4768\n",
              "7                  B02617  1/2/2015             1137   7065\n",
              "8                  B02512  1/2/2015              175    875\n",
              "9                  B02682  1/2/2015              890   5506"
            ]
          },
          "metadata": {
            "tags": []
          },
          "execution_count": 8
        }
      ]
    },
    {
      "cell_type": "code",
      "metadata": {
        "id": "05QPjmfcSQHj",
        "colab_type": "code",
        "colab": {}
      },
      "source": [
        "# Tranformando o dataframe (Pandas) em um Dataframe (Spark)\n",
        "df_uber = spark.createDataFrame(uberFile)"
      ],
      "execution_count": 11,
      "outputs": []
    },
    {
      "cell_type": "code",
      "metadata": {
        "id": "X9m7sDbHSQHq",
        "colab_type": "code",
        "colab": {
          "base_uri": "https://localhost:8080/",
          "height": 34
        },
        "outputId": "d6450cf0-e9fe-491a-ce10-2ec39a0afe93"
      },
      "source": [
        "type(df_uber)"
      ],
      "execution_count": null,
      "outputs": [
        {
          "output_type": "execute_result",
          "data": {
            "text/plain": [
              "pyspark.sql.dataframe.DataFrame"
            ]
          },
          "metadata": {
            "tags": []
          },
          "execution_count": 11
        }
      ]
    },
    {
      "cell_type": "code",
      "metadata": {
        "id": "KQdJjQbuSQH8",
        "colab_type": "code",
        "colab": {
          "base_uri": "https://localhost:8080/",
          "height": 34
        },
        "outputId": "789e217a-9817-42c2-d054-c46971e0c3b5"
      },
      "source": [
        "type(df_uber)"
      ],
      "execution_count": null,
      "outputs": [
        {
          "output_type": "execute_result",
          "data": {
            "text/plain": [
              "pyspark.sql.dataframe.DataFrame"
            ]
          },
          "metadata": {
            "tags": []
          },
          "execution_count": 17
        }
      ]
    },
    {
      "cell_type": "code",
      "metadata": {
        "id": "8j4YltxJ7Ht2",
        "colab_type": "code",
        "colab": {
          "base_uri": "https://localhost:8080/",
          "height": 34
        },
        "outputId": "8f6f2233-4fb8-4111-9f53-34f03227361a"
      },
      "source": [
        "# Total rows\n",
        "df_uber.count()"
      ],
      "execution_count": null,
      "outputs": [
        {
          "output_type": "execute_result",
          "data": {
            "text/plain": [
              "354"
            ]
          },
          "metadata": {
            "tags": []
          },
          "execution_count": 15
        }
      ]
    },
    {
      "cell_type": "code",
      "metadata": {
        "id": "IYHxwKUe7M5j",
        "colab_type": "code",
        "colab": {
          "base_uri": "https://localhost:8080/",
          "height": 119
        },
        "outputId": "86300dfe-0b53-431c-e2e9-8315b5d57aa4"
      },
      "source": [
        "# First row\n",
        "df_uber.printSchema()"
      ],
      "execution_count": null,
      "outputs": [
        {
          "output_type": "stream",
          "text": [
            "root\n",
            " |-- dispatching_base_number: string (nullable = true)\n",
            " |-- date: string (nullable = true)\n",
            " |-- active_vehicles: long (nullable = true)\n",
            " |-- trips: long (nullable = true)\n",
            "\n"
          ],
          "name": "stdout"
        }
      ]
    },
    {
      "cell_type": "code",
      "metadata": {
        "id": "vl2qHvuYh1zQ",
        "colab_type": "code",
        "colab": {
          "base_uri": "https://localhost:8080/",
          "height": 459
        },
        "outputId": "c2685bd5-d61a-4e99-9cb3-d4e380f9973d"
      },
      "source": [
        "# Sample data\n",
        "df_uber.show()"
      ],
      "execution_count": null,
      "outputs": [
        {
          "output_type": "stream",
          "text": [
            "+-----------------------+--------+---------------+-----+\n",
            "|dispatching_base_number|    date|active_vehicles|trips|\n",
            "+-----------------------+--------+---------------+-----+\n",
            "|                 B02512|1/1/2015|            190| 1132|\n",
            "|                 B02765|1/1/2015|            225| 1765|\n",
            "|                 B02764|1/1/2015|           3427|29421|\n",
            "|                 B02682|1/1/2015|            945| 7679|\n",
            "|                 B02617|1/1/2015|           1228| 9537|\n",
            "|                 B02598|1/1/2015|            870| 6903|\n",
            "|                 B02598|1/2/2015|            785| 4768|\n",
            "|                 B02617|1/2/2015|           1137| 7065|\n",
            "|                 B02512|1/2/2015|            175|  875|\n",
            "|                 B02682|1/2/2015|            890| 5506|\n",
            "|                 B02765|1/2/2015|            196| 1001|\n",
            "|                 B02764|1/2/2015|           3147|19974|\n",
            "|                 B02765|1/3/2015|            201| 1526|\n",
            "|                 B02617|1/3/2015|           1188|10664|\n",
            "|                 B02598|1/3/2015|            818| 7432|\n",
            "|                 B02682|1/3/2015|            915| 8010|\n",
            "|                 B02512|1/3/2015|            173| 1088|\n",
            "|                 B02764|1/3/2015|           3215|29729|\n",
            "|                 B02512|1/4/2015|            147|  791|\n",
            "|                 B02682|1/4/2015|            812| 5621|\n",
            "+-----------------------+--------+---------------+-----+\n",
            "only showing top 20 rows\n",
            "\n"
          ],
          "name": "stdout"
        }
      ]
    },
    {
      "cell_type": "code",
      "metadata": {
        "id": "zxmAkYnZ7B5A",
        "colab_type": "code",
        "colab": {
          "base_uri": "https://localhost:8080/",
          "height": 34
        },
        "outputId": "7281a075-8e49-4273-f7f9-a306604800d4"
      },
      "source": [
        "# Convert csv file to rdd\n",
        "uber_test = sc.textFile('/content/drive/My Drive/Colab Notebooks/08-apache-spark/data/uber.csv')\n",
        "type(uber_test)"
      ],
      "execution_count": null,
      "outputs": [
        {
          "output_type": "execute_result",
          "data": {
            "text/plain": [
              "pyspark.rdd.RDD"
            ]
          },
          "metadata": {
            "tags": []
          },
          "execution_count": 24
        }
      ]
    },
    {
      "cell_type": "markdown",
      "metadata": {
        "id": "koeSvmzKUQNS",
        "colab_type": "text"
      },
      "source": [
        "# 1- Quantos são e quais são as bases de carros do Uber (onde os carros ficam esperando passageiros)?"
      ]
    },
    {
      "cell_type": "code",
      "metadata": {
        "id": "C7CVrjhnURK3",
        "colab_type": "code",
        "colab": {}
      },
      "source": [
        "df_uber_count = df_uber.groupBy('dispatching_base_number').count()"
      ],
      "execution_count": null,
      "outputs": []
    },
    {
      "cell_type": "code",
      "metadata": {
        "id": "AuOP62_Wicmj",
        "colab_type": "code",
        "colab": {
          "base_uri": "https://localhost:8080/",
          "height": 204
        },
        "outputId": "1db0ed17-7462-4ba6-fc24-1a21a2ef77b9"
      },
      "source": [
        "df_uber_count.show()"
      ],
      "execution_count": null,
      "outputs": [
        {
          "output_type": "stream",
          "text": [
            "+-----------------------+-----+\n",
            "|dispatching_base_number|count|\n",
            "+-----------------------+-----+\n",
            "|                 B02512|   59|\n",
            "|                 B02598|   59|\n",
            "|                 B02682|   59|\n",
            "|                 B02765|   59|\n",
            "|                 B02617|   59|\n",
            "|                 B02764|   59|\n",
            "+-----------------------+-----+\n",
            "\n"
          ],
          "name": "stdout"
        }
      ]
    },
    {
      "cell_type": "markdown",
      "metadata": {
        "id": "hAfmMOTjkmBc",
        "colab_type": "text"
      },
      "source": [
        "Temos 6 bases do uber."
      ]
    },
    {
      "cell_type": "markdown",
      "metadata": {
        "id": "C6q9F52OUUdT",
        "colab_type": "text"
      },
      "source": [
        "# 2- Qual o total de veículos que passaram pela base B02617?"
      ]
    },
    {
      "cell_type": "code",
      "metadata": {
        "id": "P4l40t2aUVvC",
        "colab_type": "code",
        "colab": {
          "base_uri": "https://localhost:8080/",
          "height": 119
        },
        "outputId": "2d10cebb-27e3-4998-aeb8-11588a686c7b"
      },
      "source": [
        "df_uber.groupBy('dispatching_base_number').sum('active_vehicles') \\\n",
        "  .where(df_uber.dispatching_base_number == 'B02617') \\\n",
        "  .show()"
      ],
      "execution_count": null,
      "outputs": [
        {
          "output_type": "stream",
          "text": [
            "+-----------------------+--------------------+\n",
            "|dispatching_base_number|sum(active_vehicles)|\n",
            "+-----------------------+--------------------+\n",
            "|                 B02617|               79758|\n",
            "+-----------------------+--------------------+\n",
            "\n"
          ],
          "name": "stdout"
        }
      ]
    },
    {
      "cell_type": "markdown",
      "metadata": {
        "id": "TkBjP87KUZXF",
        "colab_type": "text"
      },
      "source": [
        "# 3- Qual o total de corridas por base? Apresente de forma decrescente."
      ]
    },
    {
      "cell_type": "code",
      "metadata": {
        "id": "B7vPJLLcS8rC",
        "colab_type": "code",
        "colab": {
          "base_uri": "https://localhost:8080/",
          "height": 204
        },
        "outputId": "50a258ce-98da-4bce-81c8-436f5c304a29"
      },
      "source": [
        "df_uber.groupBy('dispatching_base_number') \\\n",
        "  .sum('trips') \\\n",
        "  .orderBy('sum(trips)',ascending=False) \\\n",
        "  .show()"
      ],
      "execution_count": 12,
      "outputs": [
        {
          "output_type": "stream",
          "text": [
            "+-----------------------+----------+\n",
            "|dispatching_base_number|sum(trips)|\n",
            "+-----------------------+----------+\n",
            "|                 B02764|   1914449|\n",
            "|                 B02617|    725025|\n",
            "|                 B02682|    662509|\n",
            "|                 B02598|    540791|\n",
            "|                 B02765|    193670|\n",
            "|                 B02512|     93786|\n",
            "+-----------------------+----------+\n",
            "\n"
          ],
          "name": "stdout"
        }
      ]
    },
    {
      "cell_type": "markdown",
      "metadata": {
        "id": "Zbalzej9akiI",
        "colab_type": "text"
      },
      "source": [
        "# Other options with lambda functions and Spark rdd"
      ]
    },
    {
      "cell_type": "code",
      "metadata": {
        "id": "64ohOjfEVo1g",
        "colab_type": "code",
        "colab": {}
      },
      "source": [
        "# Making a RDD from a text file\n",
        "uber_rdd = sc.textFile('/content/drive/My Drive/Colab Notebooks/08-apache-spark/data/uber.csv')"
      ],
      "execution_count": 18,
      "outputs": []
    },
    {
      "cell_type": "code",
      "metadata": {
        "id": "J1cC5utHb7Y2",
        "colab_type": "code",
        "colab": {}
      },
      "source": [
        "uber_rows = uber_rdd.map(lambda row: row.split(','))"
      ],
      "execution_count": 19,
      "outputs": []
    },
    {
      "cell_type": "code",
      "metadata": {
        "id": "IYfzmhpecREt",
        "colab_type": "code",
        "colab": {
          "base_uri": "https://localhost:8080/",
          "height": 34
        },
        "outputId": "bf629d8f-dd12-408a-f52d-b87985938fc1"
      },
      "source": [
        "type(uber_rows)"
      ],
      "execution_count": 20,
      "outputs": [
        {
          "output_type": "execute_result",
          "data": {
            "text/plain": [
              "pyspark.rdd.PipelinedRDD"
            ]
          },
          "metadata": {
            "tags": []
          },
          "execution_count": 20
        }
      ]
    },
    {
      "cell_type": "code",
      "metadata": {
        "id": "gDQLndegcVt4",
        "colab_type": "code",
        "colab": {}
      },
      "source": [
        "# Save data of base B02617\n",
        "b02017_rdd = uber_rows.filter(lambda row: 'B02617' in row)"
      ],
      "execution_count": 26,
      "outputs": []
    },
    {
      "cell_type": "code",
      "metadata": {
        "id": "c1rGheHVfA7w",
        "colab_type": "code",
        "colab": {
          "base_uri": "https://localhost:8080/",
          "height": 1000
        },
        "outputId": "e926d0b8-2a6c-4a30-a019-f0b75d639a41"
      },
      "source": [
        "b02017_rdd.collect()"
      ],
      "execution_count": 27,
      "outputs": [
        {
          "output_type": "execute_result",
          "data": {
            "text/plain": [
              "[['B02617', '1/1/2015', '1228', '9537'],\n",
              " ['B02617', '1/2/2015', '1137', '7065'],\n",
              " ['B02617', '1/3/2015', '1188', '10664'],\n",
              " ['B02617', '1/4/2015', '1088', '7729'],\n",
              " ['B02617', '1/5/2015', '1218', '7899'],\n",
              " ['B02617', '1/6/2015', '1336', '10128'],\n",
              " ['B02617', '1/7/2015', '1363', '11528'],\n",
              " ['B02617', '1/8/2015', '1463', '13462'],\n",
              " ['B02617', '1/9/2015', '1455', '13165'],\n",
              " ['B02617', '1/10/2015', '1331', '13856'],\n",
              " ['B02617', '1/11/2015', '1228', '10932'],\n",
              " ['B02617', '1/12/2015', '1323', '10662'],\n",
              " ['B02617', '1/13/2015', '1342', '11825'],\n",
              " ['B02617', '1/14/2015', '1405', '11965'],\n",
              " ['B02617', '1/15/2015', '1457', '12539'],\n",
              " ['B02617', '1/16/2015', '1445', '12977'],\n",
              " ['B02617', '1/17/2015', '1306', '12676'],\n",
              " ['B02617', '1/18/2015', '1223', '12879'],\n",
              " ['B02617', '1/19/2015', '992', '7775'],\n",
              " ['B02617', '1/20/2015', '1350', '10015'],\n",
              " ['B02617', '1/21/2015', '1429', '10997'],\n",
              " ['B02617', '1/22/2015', '1471', '12143'],\n",
              " ['B02617', '1/23/2015', '1482', '13121'],\n",
              " ['B02617', '1/24/2015', '1367', '14143'],\n",
              " ['B02617', '1/25/2015', '1203', '10362'],\n",
              " ['B02617', '1/26/2015', '1150', '7608'],\n",
              " ['B02617', '1/27/2015', '596', '4325'],\n",
              " ['B02617', '1/28/2015', '1356', '10862'],\n",
              " ['B02617', '1/29/2015', '1474', '12600'],\n",
              " ['B02617', '1/30/2015', '1501', '14793'],\n",
              " ['B02617', '1/31/2015', '1394', '15756'],\n",
              " ['B02617', '2/1/2015', '1355', '13458'],\n",
              " ['B02617', '2/2/2015', '1217', '12216'],\n",
              " ['B02617', '2/3/2015', '1350', '12665'],\n",
              " ['B02617', '2/4/2015', '1393', '11959'],\n",
              " ['B02617', '2/5/2015', '1524', '14499'],\n",
              " ['B02617', '2/6/2015', '1526', '15417'],\n",
              " ['B02617', '2/7/2015', '1383', '13688'],\n",
              " ['B02617', '2/8/2015', '1256', '11004'],\n",
              " ['B02617', '2/9/2015', '1312', '10887'],\n",
              " ['B02617', '2/10/2015', '1364', '11401'],\n",
              " ['B02617', '2/11/2015', '1450', '12749'],\n",
              " ['B02617', '2/12/2015', '1532', '14263'],\n",
              " ['B02617', '2/13/2015', '1590', '16996'],\n",
              " ['B02617', '2/14/2015', '1486', '16999'],\n",
              " ['B02617', '2/15/2015', '1293', '14662'],\n",
              " ['B02617', '2/16/2015', '1214', '11824'],\n",
              " ['B02617', '2/17/2015', '1378', '12524'],\n",
              " ['B02617', '2/18/2015', '1394', '12016'],\n",
              " ['B02617', '2/19/2015', '1452', '14750'],\n",
              " ['B02617', '2/20/2015', '1574', '16856'],\n",
              " ['B02617', '2/21/2015', '1443', '16098'],\n",
              " ['B02617', '2/22/2015', '1248', '10696'],\n",
              " ['B02617', '2/23/2015', '1332', '11720'],\n",
              " ['B02617', '2/24/2015', '1456', '13719'],\n",
              " ['B02617', '2/25/2015', '1473', '12811'],\n",
              " ['B02617', '2/26/2015', '1539', '14461'],\n",
              " ['B02617', '2/27/2015', '1551', '14677'],\n",
              " ['B02617', '2/28/2015', '1372', '14022']]"
            ]
          },
          "metadata": {
            "tags": []
          },
          "execution_count": 27
        }
      ]
    },
    {
      "cell_type": "code",
      "metadata": {
        "id": "ptBQ-CvidlGU",
        "colab_type": "code",
        "colab": {
          "base_uri": "https://localhost:8080/",
          "height": 85
        },
        "outputId": "aa5e7155-1c8e-473e-e0a2-ce3dd94965c9"
      },
      "source": [
        "# Total of days that the number of trips was more than 16000\n",
        "b02017_rdd.filter(lambda row: int(row[3]) > 16000).collect()"
      ],
      "execution_count": 34,
      "outputs": [
        {
          "output_type": "execute_result",
          "data": {
            "text/plain": [
              "[['B02617', '2/13/2015', '1590', '16996'],\n",
              " ['B02617', '2/14/2015', '1486', '16999'],\n",
              " ['B02617', '2/20/2015', '1574', '16856'],\n",
              " ['B02617', '2/21/2015', '1443', '16098']]"
            ]
          },
          "metadata": {
            "tags": []
          },
          "execution_count": 34
        }
      ]
    },
    {
      "cell_type": "code",
      "metadata": {
        "id": "WIcDvMU6gIiU",
        "colab_type": "code",
        "colab": {
          "base_uri": "https://localhost:8080/",
          "height": 1000
        },
        "outputId": "eae3aae4-118a-4d84-db8e-e1b8be513f92"
      },
      "source": [
        "# Apply reduction to calculate the total per base, in decrescent order\n",
        "file_path = '/content/drive/My Drive/Colab Notebooks/08-apache-spark/data/uber.csv'\n",
        "\n",
        "uber_rdd2 = sc.textFile(file_path).filter(lambda row: 'base' not in row ).map(lambda row: row.split(','))\n",
        "# uber_rdd2 = sc.textFile(file_path).map(lambda row: row.split(','))\n",
        "\n",
        "uber_rdd2.collect()"
      ],
      "execution_count": 39,
      "outputs": [
        {
          "output_type": "execute_result",
          "data": {
            "text/plain": [
              "[['B02512', '1/1/2015', '190', '1132'],\n",
              " ['B02765', '1/1/2015', '225', '1765'],\n",
              " ['B02764', '1/1/2015', '3427', '29421'],\n",
              " ['B02682', '1/1/2015', '945', '7679'],\n",
              " ['B02617', '1/1/2015', '1228', '9537'],\n",
              " ['B02598', '1/1/2015', '870', '6903'],\n",
              " ['B02598', '1/2/2015', '785', '4768'],\n",
              " ['B02617', '1/2/2015', '1137', '7065'],\n",
              " ['B02512', '1/2/2015', '175', '875'],\n",
              " ['B02682', '1/2/2015', '890', '5506'],\n",
              " ['B02765', '1/2/2015', '196', '1001'],\n",
              " ['B02764', '1/2/2015', '3147', '19974'],\n",
              " ['B02765', '1/3/2015', '201', '1526'],\n",
              " ['B02617', '1/3/2015', '1188', '10664'],\n",
              " ['B02598', '1/3/2015', '818', '7432'],\n",
              " ['B02682', '1/3/2015', '915', '8010'],\n",
              " ['B02512', '1/3/2015', '173', '1088'],\n",
              " ['B02764', '1/3/2015', '3215', '29729'],\n",
              " ['B02512', '1/4/2015', '147', '791'],\n",
              " ['B02682', '1/4/2015', '812', '5621'],\n",
              " ['B02598', '1/4/2015', '746', '5223'],\n",
              " ['B02765', '1/4/2015', '183', '993'],\n",
              " ['B02617', '1/4/2015', '1088', '7729'],\n",
              " ['B02764', '1/4/2015', '2862', '20441'],\n",
              " ['B02512', '1/5/2015', '194', '984'],\n",
              " ['B02682', '1/5/2015', '951', '6012'],\n",
              " ['B02617', '1/5/2015', '1218', '7899'],\n",
              " ['B02764', '1/5/2015', '3387', '20926'],\n",
              " ['B02598', '1/5/2015', '907', '5798'],\n",
              " ['B02765', '1/5/2015', '227', '1133'],\n",
              " ['B02764', '1/6/2015', '3473', '25301'],\n",
              " ['B02682', '1/6/2015', '1022', '7491'],\n",
              " ['B02617', '1/6/2015', '1336', '10128'],\n",
              " ['B02765', '1/6/2015', '234', '1376'],\n",
              " ['B02512', '1/6/2015', '218', '1314'],\n",
              " ['B02598', '1/6/2015', '933', '6816'],\n",
              " ['B02617', '1/7/2015', '1363', '11528'],\n",
              " ['B02682', '1/7/2015', '1039', '9078'],\n",
              " ['B02764', '1/7/2015', '3603', '29949'],\n",
              " ['B02765', '1/7/2015', '248', '1704'],\n",
              " ['B02512', '1/7/2015', '217', '1446'],\n",
              " ['B02598', '1/7/2015', '974', '8397'],\n",
              " ['B02765', '1/8/2015', '262', '1911'],\n",
              " ['B02598', '1/8/2015', '1070', '10050'],\n",
              " ['B02512', '1/8/2015', '238', '1772'],\n",
              " ['B02682', '1/8/2015', '1135', '10416'],\n",
              " ['B02764', '1/8/2015', '3831', '33802'],\n",
              " ['B02617', '1/8/2015', '1463', '13462'],\n",
              " ['B02617', '1/9/2015', '1455', '13165'],\n",
              " ['B02512', '1/9/2015', '224', '1560'],\n",
              " ['B02764', '1/9/2015', '3820', '33517'],\n",
              " ['B02682', '1/9/2015', '1140', '10477'],\n",
              " ['B02598', '1/9/2015', '1070', '9538'],\n",
              " ['B02765', '1/9/2015', '280', '2039'],\n",
              " ['B02682', '1/10/2015', '1057', '11629'],\n",
              " ['B02617', '1/10/2015', '1331', '13856'],\n",
              " ['B02598', '1/10/2015', '949', '10287'],\n",
              " ['B02512', '1/10/2015', '206', '1646'],\n",
              " ['B02764', '1/10/2015', '3558', '38864'],\n",
              " ['B02765', '1/10/2015', '245', '2202'],\n",
              " ['B02765', '1/11/2015', '220', '1672'],\n",
              " ['B02598', '1/11/2015', '832', '7176'],\n",
              " ['B02682', '1/11/2015', '943', '8461'],\n",
              " ['B02764', '1/11/2015', '3186', '27681'],\n",
              " ['B02617', '1/11/2015', '1228', '10932'],\n",
              " ['B02512', '1/11/2015', '162', '1104'],\n",
              " ['B02764', '1/12/2015', '3499', '26852'],\n",
              " ['B02765', '1/12/2015', '279', '1711'],\n",
              " ['B02512', '1/12/2015', '217', '1399'],\n",
              " ['B02598', '1/12/2015', '964', '7915'],\n",
              " ['B02682', '1/12/2015', '1082', '9107'],\n",
              " ['B02617', '1/12/2015', '1323', '10662'],\n",
              " ['B02765', '1/13/2015', '258', '1697'],\n",
              " ['B02598', '1/13/2015', '975', '8713'],\n",
              " ['B02617', '1/13/2015', '1342', '11825'],\n",
              " ['B02512', '1/13/2015', '234', '1652'],\n",
              " ['B02764', '1/13/2015', '3658', '29983'],\n",
              " ['B02682', '1/13/2015', '1092', '9629'],\n",
              " ['B02764', '1/14/2015', '3736', '29550'],\n",
              " ['B02765', '1/14/2015', '271', '1600'],\n",
              " ['B02598', '1/14/2015', '1030', '8870'],\n",
              " ['B02512', '1/14/2015', '233', '1582'],\n",
              " ['B02617', '1/14/2015', '1405', '11965'],\n",
              " ['B02682', '1/14/2015', '1174', '9762'],\n",
              " ['B02512', '1/15/2015', '237', '1636'],\n",
              " ['B02682', '1/15/2015', '1208', '10391'],\n",
              " ['B02617', '1/15/2015', '1457', '12539'],\n",
              " ['B02765', '1/15/2015', '270', '1797'],\n",
              " ['B02764', '1/15/2015', '3840', '31214'],\n",
              " ['B02598', '1/15/2015', '1068', '9152'],\n",
              " ['B02617', '1/16/2015', '1445', '12977'],\n",
              " ['B02765', '1/16/2015', '290', '2082'],\n",
              " ['B02764', '1/16/2015', '3975', '34822'],\n",
              " ['B02682', '1/16/2015', '1250', '11280'],\n",
              " ['B02512', '1/16/2015', '234', '1481'],\n",
              " ['B02598', '1/16/2015', '1079', '9838'],\n",
              " ['B02598', '1/17/2015', '974', '9546'],\n",
              " ['B02512', '1/17/2015', '201', '1281'],\n",
              " ['B02682', '1/17/2015', '1137', '11382'],\n",
              " ['B02765', '1/17/2015', '252', '2160'],\n",
              " ['B02617', '1/17/2015', '1306', '12676'],\n",
              " ['B02764', '1/17/2015', '3657', '36318'],\n",
              " ['B02512', '1/18/2015', '177', '1521'],\n",
              " ['B02598', '1/18/2015', '869', '9443'],\n",
              " ['B02765', '1/18/2015', '248', '2287'],\n",
              " ['B02764', '1/18/2015', '3290', '35182'],\n",
              " ['B02682', '1/18/2015', '1056', '11161'],\n",
              " ['B02617', '1/18/2015', '1223', '12879'],\n",
              " ['B02682', '1/19/2015', '883', '7028'],\n",
              " ['B02617', '1/19/2015', '992', '7775'],\n",
              " ['B02765', '1/19/2015', '238', '1568'],\n",
              " ['B02764', '1/19/2015', '2958', '22750'],\n",
              " ['B02512', '1/19/2015', '168', '1025'],\n",
              " ['B02598', '1/19/2015', '706', '5609'],\n",
              " ['B02598', '1/20/2015', '944', '7206'],\n",
              " ['B02682', '1/20/2015', '1151', '8496'],\n",
              " ['B02512', '1/20/2015', '221', '1310'],\n",
              " ['B02764', '1/20/2015', '3654', '26137'],\n",
              " ['B02765', '1/20/2015', '272', '1608'],\n",
              " ['B02617', '1/20/2015', '1350', '10015'],\n",
              " ['B02764', '1/21/2015', '3718', '27344'],\n",
              " ['B02512', '1/21/2015', '242', '1519'],\n",
              " ['B02682', '1/21/2015', '1228', '9472'],\n",
              " ['B02598', '1/21/2015', '1035', '8041'],\n",
              " ['B02765', '1/21/2015', '296', '1774'],\n",
              " ['B02617', '1/21/2015', '1429', '10997'],\n",
              " ['B02617', '1/22/2015', '1471', '12143'],\n",
              " ['B02764', '1/22/2015', '3889', '30091'],\n",
              " ['B02512', '1/22/2015', '246', '1551'],\n",
              " ['B02598', '1/22/2015', '1071', '9080'],\n",
              " ['B02682', '1/22/2015', '1295', '10699'],\n",
              " ['B02765', '1/22/2015', '295', '2038'],\n",
              " ['B02598', '1/23/2015', '1093', '9343'],\n",
              " ['B02512', '1/23/2015', '246', '1670'],\n",
              " ['B02765', '1/23/2015', '299', '2162'],\n",
              " ['B02764', '1/23/2015', '4040', '33756'],\n",
              " ['B02617', '1/23/2015', '1482', '13121'],\n",
              " ['B02682', '1/23/2015', '1330', '11767'],\n",
              " ['B02598', '1/24/2015', '945', '10040'],\n",
              " ['B02764', '1/24/2015', '3652', '39187'],\n",
              " ['B02512', '1/24/2015', '211', '1608'],\n",
              " ['B02617', '1/24/2015', '1367', '14143'],\n",
              " ['B02682', '1/24/2015', '1223', '13355'],\n",
              " ['B02765', '1/24/2015', '245', '2376'],\n",
              " ['B02512', '1/25/2015', '183', '1190'],\n",
              " ['B02764', '1/25/2015', '3300', '28066'],\n",
              " ['B02765', '1/25/2015', '226', '1755'],\n",
              " ['B02598', '1/25/2015', '829', '7219'],\n",
              " ['B02682', '1/25/2015', '1046', '9303'],\n",
              " ['B02617', '1/25/2015', '1203', '10362'],\n",
              " ['B02617', '1/26/2015', '1150', '7608'],\n",
              " ['B02598', '1/26/2015', '860', '5919'],\n",
              " ['B02765', '1/26/2015', '230', '1363'],\n",
              " ['B02764', '1/26/2015', '3012', '19940'],\n",
              " ['B02682', '1/26/2015', '1084', '7565'],\n",
              " ['B02512', '1/26/2015', '197', '1000'],\n",
              " ['B02682', '1/27/2015', '600', '4414'],\n",
              " ['B02765', '1/27/2015', '135', '921'],\n",
              " ['B02617', '1/27/2015', '596', '4325'],\n",
              " ['B02598', '1/27/2015', '434', '2957'],\n",
              " ['B02512', '1/27/2015', '112', '629'],\n",
              " ['B02764', '1/27/2015', '1619', '11998'],\n",
              " ['B02764', '1/28/2015', '3692', '28137'],\n",
              " ['B02682', '1/28/2015', '1235', '10025'],\n",
              " ['B02765', '1/28/2015', '286', '1913'],\n",
              " ['B02617', '1/28/2015', '1356', '10862'],\n",
              " ['B02598', '1/28/2015', '1011', '8071'],\n",
              " ['B02512', '1/28/2015', '235', '1438'],\n",
              " ['B02617', '1/29/2015', '1474', '12600'],\n",
              " ['B02764', '1/29/2015', '3959', '31637'],\n",
              " ['B02682', '1/29/2015', '1316', '11485'],\n",
              " ['B02765', '1/29/2015', '295', '2086'],\n",
              " ['B02512', '1/29/2015', '250', '1687'],\n",
              " ['B02598', '1/29/2015', '1082', '9499'],\n",
              " ['B02512', '1/30/2015', '256', '2016'],\n",
              " ['B02617', '1/30/2015', '1501', '14793'],\n",
              " ['B02682', '1/30/2015', '1384', '13852'],\n",
              " ['B02764', '1/30/2015', '4124', '39110'],\n",
              " ['B02765', '1/30/2015', '322', '2785'],\n",
              " ['B02598', '1/30/2015', '1106', '11167'],\n",
              " ['B02765', '1/31/2015', '309', '3282'],\n",
              " ['B02512', '1/31/2015', '225', '1892'],\n",
              " ['B02617', '1/31/2015', '1394', '15756'],\n",
              " ['B02682', '1/31/2015', '1321', '15388'],\n",
              " ['B02764', '1/31/2015', '3947', '44297'],\n",
              " ['B02598', '1/31/2015', '1027', '11642'],\n",
              " ['B02598', '2/1/2015', '961', '9499'],\n",
              " ['B02682', '2/1/2015', '1214', '12436'],\n",
              " ['B02512', '2/1/2015', '193', '1377'],\n",
              " ['B02765', '2/1/2015', '289', '2672'],\n",
              " ['B02617', '2/1/2015', '1355', '13458'],\n",
              " ['B02764', '2/1/2015', '3740', '37468'],\n",
              " ['B02617', '2/2/2015', '1217', '12216'],\n",
              " ['B02682', '2/2/2015', '1152', '11981'],\n",
              " ['B02765', '2/2/2015', '275', '2607'],\n",
              " ['B02598', '2/2/2015', '939', '9511'],\n",
              " ['B02764', '2/2/2015', '3270', '30761'],\n",
              " ['B02512', '2/2/2015', '227', '1904'],\n",
              " ['B02765', '2/3/2015', '299', '2410'],\n",
              " ['B02598', '2/3/2015', '991', '9602'],\n",
              " ['B02512', '2/3/2015', '257', '1915'],\n",
              " ['B02764', '2/3/2015', '3674', '31641'],\n",
              " ['B02617', '2/3/2015', '1350', '12665'],\n",
              " ['B02682', '2/3/2015', '1269', '11955'],\n",
              " ['B02764', '2/4/2015', '3856', '29994'],\n",
              " ['B02765', '2/4/2015', '309', '2334'],\n",
              " ['B02512', '2/4/2015', '244', '1639'],\n",
              " ['B02682', '2/4/2015', '1311', '11309'],\n",
              " ['B02617', '2/4/2015', '1393', '11959'],\n",
              " ['B02598', '2/4/2015', '1072', '9600'],\n",
              " ['B02617', '2/5/2015', '1524', '14499'],\n",
              " ['B02682', '2/5/2015', '1418', '13782'],\n",
              " ['B02598', '2/5/2015', '1179', '11609'],\n",
              " ['B02512', '2/5/2015', '264', '2022'],\n",
              " ['B02765', '2/5/2015', '355', '3011'],\n",
              " ['B02764', '2/5/2015', '4093', '35990'],\n",
              " ['B02617', '2/6/2015', '1526', '15417'],\n",
              " ['B02765', '2/6/2015', '385', '3569'],\n",
              " ['B02598', '2/6/2015', '1181', '11897'],\n",
              " ['B02512', '2/6/2015', '261', '1989'],\n",
              " ['B02764', '2/6/2015', '4170', '38693'],\n",
              " ['B02682', '2/6/2015', '1414', '14375'],\n",
              " ['B02598', '2/7/2015', '1031', '10512'],\n",
              " ['B02512', '2/7/2015', '211', '1504'],\n",
              " ['B02617', '2/7/2015', '1383', '13688'],\n",
              " ['B02682', '2/7/2015', '1300', '13450'],\n",
              " ['B02764', '2/7/2015', '3849', '38530'],\n",
              " ['B02765', '2/7/2015', '345', '3473'],\n",
              " ['B02764', '2/8/2015', '3422', '29692'],\n",
              " ['B02765', '2/8/2015', '313', '2623'],\n",
              " ['B02598', '2/8/2015', '923', '8129'],\n",
              " ['B02617', '2/8/2015', '1256', '11004'],\n",
              " ['B02682', '2/8/2015', '1136', '10356'],\n",
              " ['B02512', '2/8/2015', '176', '1196'],\n",
              " ['B02617', '2/9/2015', '1312', '10887'],\n",
              " ['B02682', '2/9/2015', '1241', '10209'],\n",
              " ['B02598', '2/9/2015', '976', '8135'],\n",
              " ['B02764', '2/9/2015', '3543', '28266'],\n",
              " ['B02512', '2/9/2015', '228', '1565'],\n",
              " ['B02765', '2/9/2015', '388', '2894'],\n",
              " ['B02764', '2/10/2015', '3700', '29124'],\n",
              " ['B02512', '2/10/2015', '233', '1555'],\n",
              " ['B02617', '2/10/2015', '1364', '11401'],\n",
              " ['B02765', '2/10/2015', '422', '3432'],\n",
              " ['B02682', '2/10/2015', '1281', '10536'],\n",
              " ['B02598', '2/10/2015', '1029', '8718'],\n",
              " ['B02617', '2/11/2015', '1450', '12749'],\n",
              " ['B02764', '2/11/2015', '3849', '31889'],\n",
              " ['B02512', '2/11/2015', '255', '1831'],\n",
              " ['B02598', '2/11/2015', '1115', '10034'],\n",
              " ['B02765', '2/11/2015', '450', '3778'],\n",
              " ['B02682', '2/11/2015', '1396', '12189'],\n",
              " ['B02617', '2/12/2015', '1532', '14263'],\n",
              " ['B02512', '2/12/2015', '269', '2092'],\n",
              " ['B02682', '2/12/2015', '1468', '13786'],\n",
              " ['B02765', '2/12/2015', '536', '4609'],\n",
              " ['B02598', '2/12/2015', '1181', '11640'],\n",
              " ['B02764', '2/12/2015', '4137', '36844'],\n",
              " ['B02617', '2/13/2015', '1590', '16996'],\n",
              " ['B02682', '2/13/2015', '1523', '16088'],\n",
              " ['B02764', '2/13/2015', '4395', '43561'],\n",
              " ['B02765', '2/13/2015', '599', '5909'],\n",
              " ['B02512', '2/13/2015', '281', '2408'],\n",
              " ['B02598', '2/13/2015', '1216', '13062'],\n",
              " ['B02764', '2/14/2015', '4129', '45858'],\n",
              " ['B02512', '2/14/2015', '236', '2055'],\n",
              " ['B02598', '2/14/2015', '1111', '12678'],\n",
              " ['B02765', '2/14/2015', '583', '6307'],\n",
              " ['B02617', '2/14/2015', '1486', '16999'],\n",
              " ['B02682', '2/14/2015', '1428', '16448'],\n",
              " ['B02682', '2/15/2015', '1261', '14517'],\n",
              " ['B02764', '2/15/2015', '3651', '41209'],\n",
              " ['B02617', '2/15/2015', '1293', '14662'],\n",
              " ['B02765', '2/15/2015', '521', '5500'],\n",
              " ['B02512', '2/15/2015', '210', '1996'],\n",
              " ['B02598', '2/15/2015', '1003', '11517'],\n",
              " ['B02598', '2/16/2015', '934', '9052'],\n",
              " ['B02512', '2/16/2015', '207', '1576'],\n",
              " ['B02617', '2/16/2015', '1214', '11824'],\n",
              " ['B02764', '2/16/2015', '3524', '33448'],\n",
              " ['B02682', '2/16/2015', '1164', '11323'],\n",
              " ['B02765', '2/16/2015', '508', '4875'],\n",
              " ['B02764', '2/17/2015', '3826', '32473'],\n",
              " ['B02512', '2/17/2015', '241', '1797'],\n",
              " ['B02682', '2/17/2015', '1314', '11887'],\n",
              " ['B02617', '2/17/2015', '1378', '12524'],\n",
              " ['B02598', '2/17/2015', '1066', '9463'],\n",
              " ['B02765', '2/17/2015', '578', '4907'],\n",
              " ['B02598', '2/18/2015', '1078', '9538'],\n",
              " ['B02682', '2/18/2015', '1314', '11724'],\n",
              " ['B02617', '2/18/2015', '1394', '12016'],\n",
              " ['B02765', '2/18/2015', '586', '5059'],\n",
              " ['B02764', '2/18/2015', '3842', '32317'],\n",
              " ['B02512', '2/18/2015', '228', '1589'],\n",
              " ['B02598', '2/19/2015', '1127', '11739'],\n",
              " ['B02512', '2/19/2015', '250', '2120'],\n",
              " ['B02682', '2/19/2015', '1428', '14591'],\n",
              " ['B02764', '2/19/2015', '4110', '39110'],\n",
              " ['B02765', '2/19/2015', '663', '6447'],\n",
              " ['B02617', '2/19/2015', '1452', '14750'],\n",
              " ['B02764', '2/20/2015', '4384', '44755'],\n",
              " ['B02617', '2/20/2015', '1574', '16856'],\n",
              " ['B02598', '2/20/2015', '1186', '12758'],\n",
              " ['B02682', '2/20/2015', '1497', '16342'],\n",
              " ['B02765', '2/20/2015', '736', '7824'],\n",
              " ['B02512', '2/20/2015', '272', '2380'],\n",
              " ['B02598', '2/21/2015', '1044', '12132'],\n",
              " ['B02682', '2/21/2015', '1374', '16149'],\n",
              " ['B02765', '2/21/2015', '685', '7658'],\n",
              " ['B02617', '2/21/2015', '1443', '16098'],\n",
              " ['B02512', '2/21/2015', '238', '2149'],\n",
              " ['B02764', '2/21/2015', '3981', '44194'],\n",
              " ['B02512', '2/22/2015', '199', '1312'],\n",
              " ['B02617', '2/22/2015', '1248', '10696'],\n",
              " ['B02682', '2/22/2015', '1220', '10970'],\n",
              " ['B02764', '2/22/2015', '3478', '30157'],\n",
              " ['B02598', '2/22/2015', '909', '8271'],\n",
              " ['B02765', '2/22/2015', '566', '5034'],\n",
              " ['B02598', '2/23/2015', '966', '8943'],\n",
              " ['B02617', '2/23/2015', '1332', '11720'],\n",
              " ['B02764', '2/23/2015', '3734', '31173'],\n",
              " ['B02682', '2/23/2015', '1262', '11714'],\n",
              " ['B02765', '2/23/2015', '665', '5823'],\n",
              " ['B02512', '2/23/2015', '238', '1844'],\n",
              " ['B02764', '2/24/2015', '3965', '34686'],\n",
              " ['B02512', '2/24/2015', '247', '1869'],\n",
              " ['B02598', '2/24/2015', '1061', '9954'],\n",
              " ['B02682', '2/24/2015', '1346', '12497'],\n",
              " ['B02617', '2/24/2015', '1456', '13719'],\n",
              " ['B02765', '2/24/2015', '698', '6390'],\n",
              " ['B02512', '2/25/2015', '246', '1647'],\n",
              " ['B02598', '2/25/2015', '1076', '9405'],\n",
              " ['B02765', '2/25/2015', '706', '6178'],\n",
              " ['B02682', '2/25/2015', '1395', '12693'],\n",
              " ['B02617', '2/25/2015', '1473', '12811'],\n",
              " ['B02764', '2/25/2015', '3934', '31957'],\n",
              " ['B02598', '2/26/2015', '1134', '10661'],\n",
              " ['B02617', '2/26/2015', '1539', '14461'],\n",
              " ['B02682', '2/26/2015', '1465', '13814'],\n",
              " ['B02512', '2/26/2015', '243', '1797'],\n",
              " ['B02765', '2/26/2015', '745', '6744'],\n",
              " ['B02764', '2/26/2015', '4101', '36091'],\n",
              " ['B02765', '2/27/2015', '786', '7563'],\n",
              " ['B02617', '2/27/2015', '1551', '14677'],\n",
              " ['B02598', '2/27/2015', '1114', '10755'],\n",
              " ['B02512', '2/27/2015', '272', '2056'],\n",
              " ['B02764', '2/27/2015', '4253', '38780'],\n",
              " ['B02682', '2/27/2015', '1510', '14975'],\n",
              " ['B02598', '2/28/2015', '994', '10319'],\n",
              " ['B02764', '2/28/2015', '3952', '39812'],\n",
              " ['B02617', '2/28/2015', '1372', '14022'],\n",
              " ['B02682', '2/28/2015', '1386', '14472'],\n",
              " ['B02512', '2/28/2015', '230', '1803'],\n",
              " ['B02765', '2/28/2015', '747', '7753']]"
            ]
          },
          "metadata": {
            "tags": []
          },
          "execution_count": 39
        }
      ]
    },
    {
      "cell_type": "code",
      "metadata": {
        "id": "yZd36kxowr3U",
        "colab_type": "code",
        "colab": {
          "base_uri": "https://localhost:8080/",
          "height": 119
        },
        "outputId": "fe9ded62-51ae-4026-f583-0dc0fed46d28"
      },
      "source": [
        "# Apply reduction to calculate the total per base\n",
        "uber_rdd2.map(lambda kp: (kp[0], int(kp[3]))).reduceByKey(lambda k,v: k+v).takeOrdered(10,key=lambda x:-x[1])"
      ],
      "execution_count": 42,
      "outputs": [
        {
          "output_type": "execute_result",
          "data": {
            "text/plain": [
              "[('B02764', 1914449),\n",
              " ('B02617', 725025),\n",
              " ('B02682', 662509),\n",
              " ('B02598', 540791),\n",
              " ('B02765', 193670),\n",
              " ('B02512', 93786)]"
            ]
          },
          "metadata": {
            "tags": []
          },
          "execution_count": 42
        }
      ]
    }
  ]
}
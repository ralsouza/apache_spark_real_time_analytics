{
  "nbformat": 4,
  "nbformat_minor": 0,
  "metadata": {
    "anaconda-cloud": {},
    "kernelspec": {
      "display_name": "Python 3",
      "language": "python",
      "name": "python3"
    },
    "language_info": {
      "codemirror_mode": {
        "name": "ipython",
        "version": 3
      },
      "file_extension": ".py",
      "mimetype": "text/x-python",
      "name": "python",
      "nbconvert_exporter": "python",
      "pygments_lexer": "ipython3",
      "version": "3.7.3"
    },
    "colab": {
      "name": "03_pyspark_project_uber_data_analysis.ipynb",
      "provenance": [],
      "collapsed_sections": [],
      "include_colab_link": true
    }
  },
  "cells": [
    {
      "cell_type": "markdown",
      "metadata": {
        "id": "view-in-github",
        "colab_type": "text"
      },
      "source": [
        "<a href=\"https://colab.research.google.com/github/ralsouza/apache_spark_real_time_analytics/blob/master/notebooks/03_pyspark_project_uber_data_analysis.ipynb\" target=\"_parent\"><img src=\"https://colab.research.google.com/assets/colab-badge.svg\" alt=\"Open In Colab\"/></a>"
      ]
    },
    {
      "cell_type": "markdown",
      "metadata": {
        "id": "PQKU05yNUlMG",
        "colab_type": "text"
      },
      "source": [
        "# Install and Setup"
      ]
    },
    {
      "cell_type": "code",
      "metadata": {
        "id": "uwP4B_lgShz3",
        "colab_type": "code",
        "colab": {}
      },
      "source": [
        "# Install the dependencies\n",
        "!apt-get install openjdk-8-jdk-headless -qq > /dev/null\n",
        "!wget -q https://archive.apache.org/dist/spark/spark-2.4.4/spark-2.4.4-bin-hadoop2.7.tgz\n",
        "!tar xf spark-2.4.4-bin-hadoop2.7.tgz\n",
        "!pip install -q findspark"
      ],
      "execution_count": null,
      "outputs": []
    },
    {
      "cell_type": "code",
      "metadata": {
        "id": "QfWfBigbUcoy",
        "colab_type": "code",
        "colab": {}
      },
      "source": [
        "# Environment variables\n",
        "import os\n",
        "os.environ[\"JAVA_HOME\"] = \"/usr/lib/jvm/java-8-openjdk-amd64\"\n",
        "os.environ[\"SPARK_HOME\"] = \"/content/spark-2.4.4-bin-hadoop2.7\"\n",
        " \n",
        "# tornar o pyspark \"importável\"\n",
        "import findspark\n",
        "findspark.init('spark-2.4.4-bin-hadoop2.7')"
      ],
      "execution_count": null,
      "outputs": []
    },
    {
      "cell_type": "code",
      "metadata": {
        "id": "DADIOkmqUe0B",
        "colab_type": "code",
        "colab": {}
      },
      "source": [
        "# Libraries and Context Setup\n",
        "import pyspark\n",
        "from pyspark.sql import SparkSession\n",
        "from pyspark import SparkContext, SparkConf\n",
        "\n",
        "# create the session\n",
        "conf = SparkConf().set(\"spark.ui.port\", \"4050\")\n",
        "\n",
        "# create the context\n",
        "sc = pyspark.SparkContext(conf=conf)\n",
        "spark = SparkSession.builder.getOrCreate()"
      ],
      "execution_count": null,
      "outputs": []
    },
    {
      "cell_type": "code",
      "metadata": {
        "id": "ZcSyNxr5UhPd",
        "colab_type": "code",
        "colab": {}
      },
      "source": [
        "# Check context\n",
        "print(sc)"
      ],
      "execution_count": null,
      "outputs": []
    },
    {
      "cell_type": "markdown",
      "metadata": {
        "id": "MLjU-MmLSQG4",
        "colab_type": "text"
      },
      "source": [
        "# Mini-Projeto 1 - Analisando Dados do Uber com Spark "
      ]
    },
    {
      "cell_type": "markdown",
      "metadata": {
        "id": "a67VQMTfSQG5",
        "colab_type": "text"
      },
      "source": [
        "Dataset: https://github.com/fivethirtyeight/uber-tlc-foil-response"
      ]
    },
    {
      "cell_type": "markdown",
      "metadata": {
        "id": "hxCib4DrSQG9",
        "colab_type": "text"
      },
      "source": [
        "Esse conjunto de dados contém dados de mais de 4,5 milhões de captações Uber na cidade de Nova York de abril a setembro de 2014 e 14,3 milhões de captações Uber de janeiro a junho de 2015. Dados em nível de viagem sobre 10 outras empresas de veículos de aluguel (FHV) bem como dados agregados para 329 empresas de FHV, também estão incluídos. Todos os arquivos foram recebidos em 3 de agosto, 15 de setembro e 22 de setembro de 2015."
      ]
    },
    {
      "cell_type": "markdown",
      "metadata": {
        "id": "bPdImThZSQHA",
        "colab_type": "text"
      },
      "source": [
        "1- Quantos são e quais são as bases de carros do Uber (onde os carros ficam esperando passageiros)?\n",
        "\n",
        "2- Qual o total de veículos que passaram pela base B02617?\n",
        "\n",
        "3- Qual o total de corridas por base? Apresente de forma decrescente."
      ]
    },
    {
      "cell_type": "code",
      "metadata": {
        "id": "Wcz56diISQHC",
        "colab_type": "code",
        "colab": {}
      },
      "source": [
        "from pandas import read_csv"
      ],
      "execution_count": null,
      "outputs": []
    },
    {
      "cell_type": "code",
      "metadata": {
        "id": "UD3jdRV1SQHL",
        "colab_type": "code",
        "colab": {}
      },
      "source": [
        "# Criando um objeto Pandas\n",
        "uberFile = read_csv('/content/drive/My Drive/Colab Notebooks/08-apache-spark/data/uber.csv')"
      ],
      "execution_count": null,
      "outputs": []
    },
    {
      "cell_type": "code",
      "metadata": {
        "id": "fqHzt6bASQHT",
        "colab_type": "code",
        "colab": {},
        "outputId": "91e1ce87-845f-4131-c64e-8a696bfa96c5"
      },
      "source": [
        "type(uberFile)"
      ],
      "execution_count": null,
      "outputs": [
        {
          "output_type": "execute_result",
          "data": {
            "text/plain": [
              "pandas.core.frame.DataFrame"
            ]
          },
          "metadata": {
            "tags": []
          },
          "execution_count": 3
        }
      ]
    },
    {
      "cell_type": "code",
      "metadata": {
        "id": "-mxyghKKSQHb",
        "colab_type": "code",
        "colab": {},
        "outputId": "e1494a3b-9e0b-426f-bb56-5662778f4669"
      },
      "source": [
        "# Visualizando as primeiras linhas\n",
        "uberFile.head(10)"
      ],
      "execution_count": null,
      "outputs": [
        {
          "output_type": "execute_result",
          "data": {
            "text/html": [
              "<div>\n",
              "<style scoped>\n",
              "    .dataframe tbody tr th:only-of-type {\n",
              "        vertical-align: middle;\n",
              "    }\n",
              "\n",
              "    .dataframe tbody tr th {\n",
              "        vertical-align: top;\n",
              "    }\n",
              "\n",
              "    .dataframe thead th {\n",
              "        text-align: right;\n",
              "    }\n",
              "</style>\n",
              "<table border=\"1\" class=\"dataframe\">\n",
              "  <thead>\n",
              "    <tr style=\"text-align: right;\">\n",
              "      <th></th>\n",
              "      <th>dispatching_base_number</th>\n",
              "      <th>date</th>\n",
              "      <th>active_vehicles</th>\n",
              "      <th>trips</th>\n",
              "    </tr>\n",
              "  </thead>\n",
              "  <tbody>\n",
              "    <tr>\n",
              "      <th>0</th>\n",
              "      <td>B02512</td>\n",
              "      <td>1/1/2015</td>\n",
              "      <td>190</td>\n",
              "      <td>1132</td>\n",
              "    </tr>\n",
              "    <tr>\n",
              "      <th>1</th>\n",
              "      <td>B02765</td>\n",
              "      <td>1/1/2015</td>\n",
              "      <td>225</td>\n",
              "      <td>1765</td>\n",
              "    </tr>\n",
              "    <tr>\n",
              "      <th>2</th>\n",
              "      <td>B02764</td>\n",
              "      <td>1/1/2015</td>\n",
              "      <td>3427</td>\n",
              "      <td>29421</td>\n",
              "    </tr>\n",
              "    <tr>\n",
              "      <th>3</th>\n",
              "      <td>B02682</td>\n",
              "      <td>1/1/2015</td>\n",
              "      <td>945</td>\n",
              "      <td>7679</td>\n",
              "    </tr>\n",
              "    <tr>\n",
              "      <th>4</th>\n",
              "      <td>B02617</td>\n",
              "      <td>1/1/2015</td>\n",
              "      <td>1228</td>\n",
              "      <td>9537</td>\n",
              "    </tr>\n",
              "    <tr>\n",
              "      <th>5</th>\n",
              "      <td>B02598</td>\n",
              "      <td>1/1/2015</td>\n",
              "      <td>870</td>\n",
              "      <td>6903</td>\n",
              "    </tr>\n",
              "    <tr>\n",
              "      <th>6</th>\n",
              "      <td>B02598</td>\n",
              "      <td>1/2/2015</td>\n",
              "      <td>785</td>\n",
              "      <td>4768</td>\n",
              "    </tr>\n",
              "    <tr>\n",
              "      <th>7</th>\n",
              "      <td>B02617</td>\n",
              "      <td>1/2/2015</td>\n",
              "      <td>1137</td>\n",
              "      <td>7065</td>\n",
              "    </tr>\n",
              "    <tr>\n",
              "      <th>8</th>\n",
              "      <td>B02512</td>\n",
              "      <td>1/2/2015</td>\n",
              "      <td>175</td>\n",
              "      <td>875</td>\n",
              "    </tr>\n",
              "    <tr>\n",
              "      <th>9</th>\n",
              "      <td>B02682</td>\n",
              "      <td>1/2/2015</td>\n",
              "      <td>890</td>\n",
              "      <td>5506</td>\n",
              "    </tr>\n",
              "  </tbody>\n",
              "</table>\n",
              "</div>"
            ],
            "text/plain": [
              "  dispatching_base_number      date  active_vehicles  trips\n",
              "0                  B02512  1/1/2015              190   1132\n",
              "1                  B02765  1/1/2015              225   1765\n",
              "2                  B02764  1/1/2015             3427  29421\n",
              "3                  B02682  1/1/2015              945   7679\n",
              "4                  B02617  1/1/2015             1228   9537\n",
              "5                  B02598  1/1/2015              870   6903\n",
              "6                  B02598  1/2/2015              785   4768\n",
              "7                  B02617  1/2/2015             1137   7065\n",
              "8                  B02512  1/2/2015              175    875\n",
              "9                  B02682  1/2/2015              890   5506"
            ]
          },
          "metadata": {
            "tags": []
          },
          "execution_count": 4
        }
      ]
    },
    {
      "cell_type": "code",
      "metadata": {
        "id": "05QPjmfcSQHj",
        "colab_type": "code",
        "colab": {}
      },
      "source": [
        "# Tranformando o dataframe (Pandas) em um Dataframe (Spark)\n",
        "uberDF = sqlContext.createDataFrame(uberFile)"
      ],
      "execution_count": null,
      "outputs": []
    },
    {
      "cell_type": "code",
      "metadata": {
        "id": "X9m7sDbHSQHq",
        "colab_type": "code",
        "colab": {},
        "outputId": "bed944ad-2923-457f-e6a2-50e54190e1ce"
      },
      "source": [
        "type(uberDF)"
      ],
      "execution_count": null,
      "outputs": [
        {
          "output_type": "execute_result",
          "data": {
            "text/plain": [
              "pyspark.sql.dataframe.DataFrame"
            ]
          },
          "metadata": {
            "tags": []
          },
          "execution_count": 6
        }
      ]
    },
    {
      "cell_type": "code",
      "metadata": {
        "id": "zApHOcaYSQHy",
        "colab_type": "code",
        "colab": {}
      },
      "source": [
        "# Criando o RDD a partir do arquivo csv\n",
        "uberRDD = sc.textFile(\"data/uber.csv\")"
      ],
      "execution_count": null,
      "outputs": []
    },
    {
      "cell_type": "code",
      "metadata": {
        "id": "KQdJjQbuSQH8",
        "colab_type": "code",
        "colab": {},
        "outputId": "7edf37af-d6cd-4d9f-d44a-d6963786ffe0"
      },
      "source": [
        "type(uberRDD)"
      ],
      "execution_count": null,
      "outputs": [
        {
          "output_type": "execute_result",
          "data": {
            "text/plain": [
              "pyspark.rdd.RDD"
            ]
          },
          "metadata": {
            "tags": []
          },
          "execution_count": 8
        }
      ]
    }
  ]
}
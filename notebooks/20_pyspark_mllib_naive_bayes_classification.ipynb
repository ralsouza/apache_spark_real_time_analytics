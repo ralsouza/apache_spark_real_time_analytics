{
  "nbformat": 4,
  "nbformat_minor": 0,
  "metadata": {
    "colab": {
      "name": "20_pyspark_mllib_naive_bayes_classification.ipynb",
      "provenance": [],
      "collapsed_sections": [],
      "authorship_tag": "ABX9TyMUlJ4X7dEgqB5Yh+Ra5bCO",
      "include_colab_link": true
    },
    "kernelspec": {
      "name": "python3",
      "display_name": "Python 3"
    }
  },
  "cells": [
    {
      "cell_type": "markdown",
      "metadata": {
        "id": "view-in-github",
        "colab_type": "text"
      },
      "source": [
        "<a href=\"https://colab.research.google.com/github/ralsouza/apache_spark_real_time_analytics/blob/master/notebooks/20_pyspark_mllib_naive_bayes_classification.ipynb\" target=\"_parent\"><img src=\"https://colab.research.google.com/assets/colab-badge.svg\" alt=\"Open In Colab\"/></a>"
      ]
    },
    {
      "cell_type": "markdown",
      "metadata": {
        "id": "JKySrrB8neIf"
      },
      "source": [
        "# Spark - MLLib - Classification - Naive Bayes\n",
        "**Description:** \n",
        "*   Based on Bayes' theorem;\n",
        "*   The probability of an `Event A = P(A) is between 0 and 1`;\n",
        "*   The probability `P(A/B) = P(A intersect B) * P(A) / P(B)`;\n",
        "*   The `target variable` becomes the `Event A`;\n",
        "*   The model stores the conditional probability of the target variable for each possible value from predictor variables;\n",
        "\n",
        "**Advantages:**\n",
        "*   Faster and simple;\n",
        "*   Works well even with missing values;\n",
        "*   Provides the probability of an outcome;\n",
        "*   Excelent for categoric variables;\n",
        "\n",
        "**Disadvantages:**\n",
        "*   Doesn't work well with many numeric variables;\n",
        "*   Expects that the variables predict variables are independent;\n",
        "\n",
        "**Aplication:**\n",
        "*   Spam filter;\n",
        "*   Medical diagnosis;\n",
        "*   Document classification;\n",
        "    \n",
        "\n",
        "\n"
      ]
    },
    {
      "cell_type": "markdown",
      "metadata": {
        "id": "68n0tWYjtBOq"
      },
      "source": [
        "# Spam classification"
      ]
    },
    {
      "cell_type": "code",
      "metadata": {
        "id": "NtGZ8BFpnKXR"
      },
      "source": [
        "# 00:52"
      ],
      "execution_count": null,
      "outputs": []
    }
  ]
}
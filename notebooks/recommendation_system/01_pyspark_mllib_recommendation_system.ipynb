{
  "nbformat": 4,
  "nbformat_minor": 0,
  "metadata": {
    "colab": {
      "name": "01_pyspark_mllib_recommendation_system.ipynb",
      "provenance": [],
      "collapsed_sections": [],
      "mount_file_id": "1pVBTiQMfYCTE4GB76BD9konNVw-t4eVd",
      "authorship_tag": "ABX9TyPB8BOwaIRy3FpXWEjs2zHz",
      "include_colab_link": true
    },
    "kernelspec": {
      "name": "python3",
      "display_name": "Python 3"
    }
  },
  "cells": [
    {
      "cell_type": "markdown",
      "metadata": {
        "id": "view-in-github",
        "colab_type": "text"
      },
      "source": [
        "<a href=\"https://colab.research.google.com/github/ralsouza/apache_spark_real_time_analytics/blob/master/notebooks/recommendation_system/01_pyspark_mllib_recommendation_system.ipynb\" target=\"_parent\"><img src=\"https://colab.research.google.com/assets/colab-badge.svg\" alt=\"Open In Colab\"/></a>"
      ]
    },
    {
      "cell_type": "markdown",
      "metadata": {
        "id": "ohFgybv2Nf6o"
      },
      "source": [
        "# Spark MLLib - Recommendation System\n",
        "*   Also known as collaborative filter;\n",
        "*   Analyses data to understand people/entities behavior;\n",
        "*   The recommendation is done by behavioral similarity;\n",
        "*   The recommendation is based on person or items;\n",
        "*   Recommendation algorithms expect to receive data in a specific format: `[user_ID,item_ID,score]`;\n",
        "*   `Score`, also known `rating` indicates the preference from a user about an item. Can be boolean values, ratings or even sales volume;\n",
        "\n"
      ]
    },
    {
      "cell_type": "markdown",
      "metadata": {
        "id": "_8CQteyBQWCR"
      },
      "source": [
        "# PySpark Setup\n"
      ]
    },
    {
      "cell_type": "code",
      "metadata": {
        "id": "lh0j3zyCNMtR"
      },
      "source": [
        "!apt-get update"
      ],
      "execution_count": null,
      "outputs": []
    },
    {
      "cell_type": "code",
      "metadata": {
        "id": "3CaH4WeJML3W"
      },
      "source": [
        "# Install the dependencies\n",
        "!apt-get install openjdk-8-jdk-headless -qq > /dev/null\n",
        "!wget -q https://archive.apache.org/dist/spark/spark-2.4.4/spark-2.4.4-bin-hadoop2.7.tgz\n",
        "!tar xf spark-2.4.4-bin-hadoop2.7.tgz\n",
        "!pip install -q findspark"
      ],
      "execution_count": 2,
      "outputs": []
    },
    {
      "cell_type": "code",
      "metadata": {
        "id": "9gVdHVdQMOak"
      },
      "source": [
        "# Environment variables\n",
        "import os\n",
        "os.environ[\"JAVA_HOME\"] = \"/usr/lib/jvm/java-8-openjdk-amd64\"\n",
        "os.environ[\"SPARK_HOME\"] = \"/content/spark-2.4.4-bin-hadoop2.7\""
      ],
      "execution_count": 3,
      "outputs": []
    },
    {
      "cell_type": "code",
      "metadata": {
        "id": "LxbtkxtHMQYo"
      },
      "source": [
        "# Make pyspark \"importable\"\n",
        "import findspark\n",
        "findspark.init('spark-2.4.4-bin-hadoop2.7')"
      ],
      "execution_count": 4,
      "outputs": []
    },
    {
      "cell_type": "code",
      "metadata": {
        "id": "H0JAVO--MTx-"
      },
      "source": [
        "# Libraries and Context Setup\n",
        "import pyspark\n",
        "from pyspark.sql import SparkSession\n",
        "from pyspark import SparkContext, SparkConf"
      ],
      "execution_count": 5,
      "outputs": []
    },
    {
      "cell_type": "code",
      "metadata": {
        "id": "jVNB1NBrMWWf"
      },
      "source": [
        "# create the session\n",
        "conf = SparkConf().set(\"spark.ui.port\", \"4050\")\n",
        "\n",
        "# create the context\n",
        "sc = pyspark.SparkContext(conf=conf)\n",
        "\n",
        "\n",
        "# Instance Spark Session\n",
        "spark = SparkSession.builder.master('local').appName('spark_ml_lib').getOrCreate()\n",
        "\n",
        "# Create the SQL Context\n",
        "sqlContext = pyspark.SQLContext(sc)"
      ],
      "execution_count": 6,
      "outputs": []
    },
    {
      "cell_type": "markdown",
      "metadata": {
        "id": "6g-BiQ9wM16I"
      },
      "source": [
        "# Recommendation System"
      ]
    },
    {
      "cell_type": "code",
      "metadata": {
        "id": "9IXTfOKQNG9B"
      },
      "source": [
        "# Imports\n",
        "from pyspark.ml.recommendation import ALS"
      ],
      "execution_count": 7,
      "outputs": []
    },
    {
      "cell_type": "code",
      "metadata": {
        "id": "n9Y5L4QwNPV8"
      },
      "source": [
        "# Spark session\n",
        "sp_session = SparkSession.builder.master('local').appName('app_recom_system').getOrCreate()"
      ],
      "execution_count": 8,
      "outputs": []
    },
    {
      "cell_type": "code",
      "metadata": {
        "id": "XkvX133DNwHN"
      },
      "source": [
        "# Load data\n",
        "rdd_ratings = sc.textFile('/content/drive/My Drive/Colab Notebooks/08-apache-spark/data/mllib/user-item.txt')"
      ],
      "execution_count": 9,
      "outputs": []
    },
    {
      "cell_type": "code",
      "metadata": {
        "id": "1fW-2op2S79D",
        "outputId": "5582806a-a868-48c2-d61a-95f63d0d7c37",
        "colab": {
          "base_uri": "https://localhost:8080/"
        }
      },
      "source": [
        "# Show data, in ALS format - Alternating Least Squares (user,item,rating)\n",
        "rdd_ratings.collect()[:20]"
      ],
      "execution_count": 12,
      "outputs": [
        {
          "output_type": "execute_result",
          "data": {
            "text/plain": [
              "['1001,9001,10',\n",
              " '1001,9002,1',\n",
              " '1001,9003,9',\n",
              " '1002,9001,3',\n",
              " '1002,9002,5',\n",
              " '1002,9003,1',\n",
              " '1002,9004,10',\n",
              " '1003,9001,2',\n",
              " '1003,9002,6',\n",
              " '1003,9003,2',\n",
              " '1003,9004,9',\n",
              " '1003,9005,10',\n",
              " '1003,9006,8',\n",
              " '1003,9007,9',\n",
              " '1004,9001,9',\n",
              " '1004,9002,2',\n",
              " '1004,9003,8',\n",
              " '1004,9004,3',\n",
              " '1004,9010,10',\n",
              " '1004,9011,9']"
            ]
          },
          "metadata": {
            "tags": []
          },
          "execution_count": 12
        }
      ]
    },
    {
      "cell_type": "code",
      "metadata": {
        "id": "MxrMR22OS924"
      },
      "source": [
        "# Converting columns\n",
        "rdd_ratings2 = rdd_ratings.map(lambda l: l.split(',')).map(lambda l: (int(l[0]),int(l[1]),float(l[2])))"
      ],
      "execution_count": 15,
      "outputs": []
    },
    {
      "cell_type": "code",
      "metadata": {
        "id": "ajcXAEPZcVzo",
        "outputId": "f36e81d1-1ae2-4fce-ed7e-340e70eb9fdb",
        "colab": {
          "base_uri": "https://localhost:8080/"
        }
      },
      "source": [
        "# Check data\n",
        "rdd_ratings2.collect()[:20]"
      ],
      "execution_count": 17,
      "outputs": [
        {
          "output_type": "execute_result",
          "data": {
            "text/plain": [
              "[(1001, 9001, 10.0),\n",
              " (1001, 9002, 1.0),\n",
              " (1001, 9003, 9.0),\n",
              " (1002, 9001, 3.0),\n",
              " (1002, 9002, 5.0),\n",
              " (1002, 9003, 1.0),\n",
              " (1002, 9004, 10.0),\n",
              " (1003, 9001, 2.0),\n",
              " (1003, 9002, 6.0),\n",
              " (1003, 9003, 2.0),\n",
              " (1003, 9004, 9.0),\n",
              " (1003, 9005, 10.0),\n",
              " (1003, 9006, 8.0),\n",
              " (1003, 9007, 9.0),\n",
              " (1004, 9001, 9.0),\n",
              " (1004, 9002, 2.0),\n",
              " (1004, 9003, 8.0),\n",
              " (1004, 9004, 3.0),\n",
              " (1004, 9010, 10.0),\n",
              " (1004, 9011, 9.0)]"
            ]
          },
          "metadata": {
            "tags": []
          },
          "execution_count": 17
        }
      ]
    },
    {
      "cell_type": "code",
      "metadata": {
        "id": "0CJZCkcIcj-y"
      },
      "source": [
        "# Create a dataframe\n",
        "df_rating = sp_session.createDataFrame(rdd_ratings2,['user','item','rating'])"
      ],
      "execution_count": 18,
      "outputs": []
    },
    {
      "cell_type": "code",
      "metadata": {
        "id": "vsvhUOMuc1LM",
        "outputId": "a911306d-a570-48b4-e914-09a47c66cc06",
        "colab": {
          "base_uri": "https://localhost:8080/"
        }
      },
      "source": [
        "df_rating.show()"
      ],
      "execution_count": 19,
      "outputs": [
        {
          "output_type": "stream",
          "text": [
            "+----+----+------+\n",
            "|user|item|rating|\n",
            "+----+----+------+\n",
            "|1001|9001|  10.0|\n",
            "|1001|9002|   1.0|\n",
            "|1001|9003|   9.0|\n",
            "|1002|9001|   3.0|\n",
            "|1002|9002|   5.0|\n",
            "|1002|9003|   1.0|\n",
            "|1002|9004|  10.0|\n",
            "|1003|9001|   2.0|\n",
            "|1003|9002|   6.0|\n",
            "|1003|9003|   2.0|\n",
            "|1003|9004|   9.0|\n",
            "|1003|9005|  10.0|\n",
            "|1003|9006|   8.0|\n",
            "|1003|9007|   9.0|\n",
            "|1004|9001|   9.0|\n",
            "|1004|9002|   2.0|\n",
            "|1004|9003|   8.0|\n",
            "|1004|9004|   3.0|\n",
            "|1004|9010|  10.0|\n",
            "|1004|9011|   9.0|\n",
            "+----+----+------+\n",
            "only showing top 20 rows\n",
            "\n"
          ],
          "name": "stdout"
        }
      ]
    },
    {
      "cell_type": "markdown",
      "metadata": {
        "id": "yA0LIEImdWfi"
      },
      "source": [
        "# Creating the model\n",
        "`ALS - Alternating Least Squares` Algorithm to a recommendation system, that optimizes the `loss function` and works very well in parallel environments."
      ]
    },
    {
      "cell_type": "code",
      "metadata": {
        "id": "MhpZtcZRdCOS"
      },
      "source": [
        "als = ALS(rank=10,maxIter=5)\n",
        "model = als.fit(df_rating)"
      ],
      "execution_count": 20,
      "outputs": []
    },
    {
      "cell_type": "code",
      "metadata": {
        "id": "kElWoLS4gqaR",
        "outputId": "a87f2de4-ac9b-4fa8-bcd0-189dbc996b50",
        "colab": {
          "base_uri": "https://localhost:8080/"
        }
      },
      "source": [
        "# Extract the affinity score\n",
        "model.userFactors.orderBy('id').collect()"
      ],
      "execution_count": 21,
      "outputs": [
        {
          "output_type": "execute_result",
          "data": {
            "text/plain": [
              "[Row(id=1001, features=[0.9619649648666382, 0.6547734141349792, -0.26652851700782776, -0.009926089085638523, -0.21235449612140656, -0.2957074046134949, -0.08845337480306625, 1.1089266538619995, -0.3647739291191101, 0.3443385064601898]),\n",
              " Row(id=1002, features=[-0.1572585105895996, -0.917250394821167, 0.6700908541679382, -0.39680248498916626, -0.5441147685050964, -0.6537660956382751, 0.3588864505290985, 0.6562268137931824, 0.8832180500030518, -0.26746198534965515]),\n",
              " Row(id=1003, features=[-0.056894171983003616, -0.7523425221443176, 0.3572603166103363, -0.4809357523918152, 0.1021844670176506, -0.8870552182197571, 0.5259473323822021, 0.15355284512043, 0.8263186812400818, -0.21205703914165497]),\n",
              " Row(id=1004, features=[0.474994421005249, 0.3911818265914917, 0.010068115778267384, -0.3692135512828827, -0.20011432468891144, -0.4847201704978943, -0.1547415554523468, 1.2674859762191772, 0.056014977395534515, 0.3388582468032837]),\n",
              " Row(id=1005, features=[1.1054517030715942, 0.08229895681142807, -0.1568036526441574, 0.2655746340751648, -0.269103080034256, -0.4543265402317047, 0.4669458270072937, 0.5426387786865234, -0.17757835984230042, -0.04257417470216751]),\n",
              " Row(id=1006, features=[0.7005459666252136, 0.45433780550956726, -0.5199128985404968, -0.4375154674053192, 0.9687427282333374, -0.9302865266799927, 0.39688652753829956, 0.02953355200588703, 0.01644637994468212, 0.27955514192581177])]"
            ]
          },
          "metadata": {
            "tags": []
          },
          "execution_count": 21
        }
      ]
    },
    {
      "cell_type": "code",
      "metadata": {
        "id": "x1wSHLDRg14_"
      },
      "source": [
        "# Create a test dataset with users, items and ratings\n",
        "df_test = sp_session.createDataFrame([(1001,9003),(1001,9004),(1001,9005)],['user','item'])"
      ],
      "execution_count": 22,
      "outputs": []
    },
    {
      "cell_type": "code",
      "metadata": {
        "id": "2e8wapaihaO0",
        "outputId": "1b96e9c4-4a8f-4372-e4e5-5d0060d799d0",
        "colab": {
          "base_uri": "https://localhost:8080/"
        }
      },
      "source": [
        "df_test.show()"
      ],
      "execution_count": 24,
      "outputs": [
        {
          "output_type": "stream",
          "text": [
            "+----+----+\n",
            "|user|item|\n",
            "+----+----+\n",
            "|1001|9003|\n",
            "|1001|9004|\n",
            "|1001|9005|\n",
            "+----+----+\n",
            "\n"
          ],
          "name": "stdout"
        }
      ]
    },
    {
      "cell_type": "code",
      "metadata": {
        "id": "whzF2iS8hdNO",
        "outputId": "d97472d9-d866-46f1-d759-272f97bcae80",
        "colab": {
          "base_uri": "https://localhost:8080/"
        }
      },
      "source": [
        "# Make predictions\n",
        "# The lower the value, less chance do customer buy a product\n",
        "pred = (model.transform(df_test).collect())\n",
        "pred"
      ],
      "execution_count": 25,
      "outputs": [
        {
          "output_type": "execute_result",
          "data": {
            "text/plain": [
              "[Row(user=1001, item=9004, prediction=-0.7371293306350708),\n",
              " Row(user=1001, item=9005, prediction=-2.5490427017211914),\n",
              " Row(user=1001, item=9003, prediction=9.006467819213867)]"
            ]
          },
          "metadata": {
            "tags": []
          },
          "execution_count": 25
        }
      ]
    },
    {
      "cell_type": "markdown",
      "metadata": {
        "id": "CZBRnS7AiUqo"
      },
      "source": [
        "Reading outcomes:\n",
        "*   The user 1001 wont buy the item 9004, the prediction is negative\n",
        "*   The same is with item 9005\n",
        "*   Probably the user will buy the item 9003\n",
        "\n"
      ]
    }
  ]
}
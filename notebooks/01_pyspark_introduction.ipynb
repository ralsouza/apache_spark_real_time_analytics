{
  "nbformat": 4,
  "nbformat_minor": 0,
  "metadata": {
    "colab": {
      "name": "01_pyspark_introduction.ipynb",
      "provenance": [],
      "collapsed_sections": [],
      "mount_file_id": "1sqk16CkTF6gIsKhJfjrLQWw8-N5XHfpI",
      "authorship_tag": "ABX9TyN8vHfc3xmewhpsh3B2St5x",
      "include_colab_link": true
    },
    "kernelspec": {
      "name": "python3",
      "display_name": "Python 3"
    }
  },
  "cells": [
    {
      "cell_type": "markdown",
      "metadata": {
        "id": "view-in-github",
        "colab_type": "text"
      },
      "source": [
        "<a href=\"https://colab.research.google.com/github/ralsouza/apache_spark_real_time_analytics/blob/master/notebooks/01_pyspark_introduction.ipynb\" target=\"_parent\"><img src=\"https://colab.research.google.com/assets/colab-badge.svg\" alt=\"Open In Colab\"/></a>"
      ]
    },
    {
      "cell_type": "markdown",
      "metadata": {
        "id": "lcvzXjMtREF9",
        "colab_type": "text"
      },
      "source": [
        "# 1. Install"
      ]
    },
    {
      "cell_type": "code",
      "metadata": {
        "id": "MCutjJI1PCIa",
        "colab_type": "code",
        "colab": {}
      },
      "source": [
        "# instalar as dependências\n",
        "!apt-get install openjdk-8-jdk-headless -qq > /dev/null\n",
        "!wget -q https://archive.apache.org/dist/spark/spark-2.4.4/spark-2.4.4-bin-hadoop2.7.tgz\n",
        "!tar xf spark-2.4.4-bin-hadoop2.7.tgz\n",
        "!pip install -q findspark"
      ],
      "execution_count": 8,
      "outputs": []
    },
    {
      "cell_type": "code",
      "metadata": {
        "id": "AFxI1rhTP0EY",
        "colab_type": "code",
        "colab": {}
      },
      "source": [
        "# configurar as variáveis de ambiente\n",
        "import os\n",
        "os.environ[\"JAVA_HOME\"] = \"/usr/lib/jvm/java-8-openjdk-amd64\"\n",
        "os.environ[\"SPARK_HOME\"] = \"/content/spark-2.4.4-bin-hadoop2.7\"\n",
        " \n",
        "# tornar o pyspark \"importável\"\n",
        "import findspark\n",
        "findspark.init('spark-2.4.4-bin-hadoop2.7')"
      ],
      "execution_count": 11,
      "outputs": []
    },
    {
      "cell_type": "code",
      "metadata": {
        "id": "na5gbGcUQtCy",
        "colab_type": "code",
        "colab": {}
      },
      "source": [
        "# iniciar uma sessão local e importar dados do Airbnb\n",
        "# from pyspark.sql import SparkSession\n",
        "# sc = SparkSession.builder.master('local[*]').getOrCreate()\n",
        " \n",
        "# download do http para arquivo local\n",
        "# !wget --quiet --show-progress http://data.insideairbnb.com/brazil/rj/rio-de-janeiro/2019-07-15/visualisations/listings.csv\n",
        " \n",
        "# carregar dados do Airbnb\n",
        "# df_spark = sc.read.csv(\"./listings.csv\", inferSchema=True, header=True)\n",
        " \n",
        "# ver algumas informações sobre os tipos de dados de cada coluna\n",
        "# df_spark.printSchema()"
      ],
      "execution_count": null,
      "outputs": []
    },
    {
      "cell_type": "markdown",
      "metadata": {
        "id": "Haja9PCXRJ2S",
        "colab_type": "text"
      },
      "source": [
        "# 2. Pyspark Introduction"
      ]
    },
    {
      "cell_type": "code",
      "metadata": {
        "id": "lznInPjYUzci",
        "colab_type": "code",
        "colab": {}
      },
      "source": [
        "from pyspark import SparkContext\n",
        "sc = SparkContext(\"local[*]\", \"My First App\")"
      ],
      "execution_count": 14,
      "outputs": []
    },
    {
      "cell_type": "code",
      "metadata": {
        "id": "RFOBm-HVYXio",
        "colab_type": "code",
        "colab": {}
      },
      "source": [
        "# Stoping Context\n",
        "# sc.stop()"
      ],
      "execution_count": 13,
      "outputs": []
    },
    {
      "cell_type": "code",
      "metadata": {
        "id": "n_s6nwH-RR3S",
        "colab_type": "code",
        "colab": {
          "base_uri": "https://localhost:8080/",
          "height": 51
        },
        "outputId": "56cbea12-b02d-481e-b4a0-9e1e18b048fb"
      },
      "source": [
        "import sys\n",
        "print(sys.version)"
      ],
      "execution_count": null,
      "outputs": [
        {
          "output_type": "stream",
          "text": [
            "3.6.9 (default, Apr 18 2020, 01:56:04) \n",
            "[GCC 8.4.0]\n"
          ],
          "name": "stdout"
        }
      ]
    },
    {
      "cell_type": "code",
      "metadata": {
        "id": "aCWZKkqTRXex",
        "colab_type": "code",
        "colab": {
          "base_uri": "https://localhost:8080/",
          "height": 34
        },
        "outputId": "8ee5fa7d-1ac4-4469-bb26-930aed1e6b75"
      },
      "source": [
        "# Print session context (Spark Context)\n",
        "print(sc)"
      ],
      "execution_count": null,
      "outputs": [
        {
          "output_type": "stream",
          "text": [
            "<SparkContext master=local[*] appName=My First App>\n"
          ],
          "name": "stdout"
        }
      ]
    },
    {
      "cell_type": "code",
      "metadata": {
        "id": "2nd4LnQfRhod",
        "colab_type": "code",
        "colab": {
          "base_uri": "https://localhost:8080/",
          "height": 34
        },
        "outputId": "1a2108c0-4de2-40c7-8ea1-2e9b202e4bc6"
      },
      "source": [
        "# Version context\n",
        "print(sc.version)"
      ],
      "execution_count": null,
      "outputs": [
        {
          "output_type": "stream",
          "text": [
            "2.4.4\n"
          ],
          "name": "stdout"
        }
      ]
    },
    {
      "cell_type": "code",
      "metadata": {
        "id": "_ERw3iWdRxHp",
        "colab_type": "code",
        "colab": {}
      },
      "source": [
        "# Testing Spark and creating a RDD\n",
        "# We can't put a Python list in a Spark cluster, it's needed to convert it to \n",
        "# a RDD\n",
        "lst = [25,90,81,37,776,3320]\n",
        "test_data = sc.parallelize(lst,10)"
      ],
      "execution_count": 15,
      "outputs": []
    },
    {
      "cell_type": "code",
      "metadata": {
        "id": "2sn1Lky6S2d1",
        "colab_type": "code",
        "colab": {}
      },
      "source": [
        "# What does sc.parallelize?\n",
        "?sc.parallelize\n",
        "\n",
        "# Signature: sc.parallelize(c, numSlices=None)\n",
        "# Docstring:\n",
        "# Distribute a local Python collection to form an RDD (Resilient Distribuited \n",
        "# Dataset). \n",
        "# Using xrange\n",
        "# is recommended if the input represents a range for performance.\n",
        "\n",
        "# >>> sc.parallelize([0, 2, 3, 4, 6], 5).glom().collect()\n",
        "# [[0], [2], [3], [4], [6]]\n",
        "# >>> sc.parallelize(xrange(0, 6, 2), 5).glom().collect()\n",
        "# [[], [0], [], [2], [4]]\n",
        "# File:      /content/spark-2.4.4-bin-hadoop2.7/python/pyspark/context.py\n",
        "# Type:      method"
      ],
      "execution_count": null,
      "outputs": []
    },
    {
      "cell_type": "code",
      "metadata": {
        "id": "DcpdaHVFZWk4",
        "colab_type": "code",
        "colab": {
          "base_uri": "https://localhost:8080/",
          "height": 34
        },
        "outputId": "ef2f73b4-cb87-4579-fd7f-d44a58b5a91d"
      },
      "source": [
        "# Check data type\n",
        "type(test_data)"
      ],
      "execution_count": null,
      "outputs": [
        {
          "output_type": "execute_result",
          "data": {
            "text/plain": [
              "pyspark.rdd.RDD"
            ]
          },
          "metadata": {
            "tags": []
          },
          "execution_count": 25
        }
      ]
    },
    {
      "cell_type": "code",
      "metadata": {
        "id": "LxHyUSuLZoPL",
        "colab_type": "code",
        "colab": {
          "base_uri": "https://localhost:8080/",
          "height": 34
        },
        "outputId": "12c90854-53c6-4dda-9975-00a5cde8d439"
      },
      "source": [
        "# Counting data\n",
        "test_data.count()"
      ],
      "execution_count": null,
      "outputs": [
        {
          "output_type": "execute_result",
          "data": {
            "text/plain": [
              "6"
            ]
          },
          "metadata": {
            "tags": []
          },
          "execution_count": 26
        }
      ]
    },
    {
      "cell_type": "code",
      "metadata": {
        "id": "Ln_Yv0gvZvUX",
        "colab_type": "code",
        "colab": {
          "base_uri": "https://localhost:8080/",
          "height": 34
        },
        "outputId": "56388ae5-e66c-43ba-dfc3-771853d58a82"
      },
      "source": [
        "# List values\n",
        "test_data.collect()"
      ],
      "execution_count": null,
      "outputs": [
        {
          "output_type": "execute_result",
          "data": {
            "text/plain": [
              "[25, 90, 81, 37, 776, 3320]"
            ]
          },
          "metadata": {
            "tags": []
          },
          "execution_count": 7
        }
      ]
    },
    {
      "cell_type": "markdown",
      "metadata": {
        "id": "8qhkP2AVab5i",
        "colab_type": "text"
      },
      "source": [
        "# 2. Executing an Spark Application\n",
        "RDDs are distribuited collections of items, RDDs can created from Hadoop (HDFS files), through transformations from others RDDs, from non-relational or relational databases or local files. RDDs are immutable."
      ]
    },
    {
      "cell_type": "code",
      "metadata": {
        "id": "k7cnZn76ZxpO",
        "colab_type": "code",
        "colab": {}
      },
      "source": [
        "# Making a RDD from a CSV file\n",
        "sentiment_rdd = sc.textFile('/content/drive/My Drive/Colab Notebooks/08-apache-spark/data/sentimentos.csv')"
      ],
      "execution_count": 16,
      "outputs": []
    },
    {
      "cell_type": "code",
      "metadata": {
        "id": "DNEu8BTyid5H",
        "colab_type": "code",
        "colab": {
          "base_uri": "https://localhost:8080/",
          "height": 34
        },
        "outputId": "1a0c8a96-1c0b-44af-a778-b660a2b16461"
      },
      "source": [
        "# Check type\n",
        "type(sentiment_rdd)"
      ],
      "execution_count": 17,
      "outputs": [
        {
          "output_type": "execute_result",
          "data": {
            "text/plain": [
              "pyspark.rdd.RDD"
            ]
          },
          "metadata": {
            "tags": []
          },
          "execution_count": 17
        }
      ]
    },
    {
      "cell_type": "code",
      "metadata": {
        "id": "lwIBMvIRiiuW",
        "colab_type": "code",
        "colab": {
          "base_uri": "https://localhost:8080/",
          "height": 34
        },
        "outputId": "915ba382-29cf-40db-f503-4ba10d146e7f"
      },
      "source": [
        "# Action: Counting the number of rows\n",
        "sentiment_rdd.count()"
      ],
      "execution_count": 18,
      "outputs": [
        {
          "output_type": "execute_result",
          "data": {
            "text/plain": [
              "100"
            ]
          },
          "metadata": {
            "tags": []
          },
          "execution_count": 18
        }
      ]
    },
    {
      "cell_type": "code",
      "metadata": {
        "id": "_mA7dnPmivHj",
        "colab_type": "code",
        "colab": {
          "base_uri": "https://localhost:8080/",
          "height": 102
        },
        "outputId": "eac8a606-c710-42ad-b314-418b5fcc697f"
      },
      "source": [
        "# Listing the 5 firsts rows\n",
        "sentiment_rdd.take(5)"
      ],
      "execution_count": 19,
      "outputs": [
        {
          "output_type": "execute_result",
          "data": {
            "text/plain": [
              "['positivo,Esse livro é incrível.',\n",
              " 'positivo,Um dos melhores livros que eu já li.',\n",
              " 'positivo,um dos melhores livros que eu já li',\n",
              " 'positivo,Acho que ele tem um conteúdo que vai além do que está em sua descrição.',\n",
              " 'positivo,O Sol é para todos é profundo e emocionante']"
            ]
          },
          "metadata": {
            "tags": []
          },
          "execution_count": 19
        }
      ]
    },
    {
      "cell_type": "code",
      "metadata": {
        "id": "0cu4HOMJi39Q",
        "colab_type": "code",
        "colab": {}
      },
      "source": [
        "# Transforming data: Transform lower case to upper case\n",
        "transf_rdd = sentiment_rdd.map(lambda x: x.upper())"
      ],
      "execution_count": 20,
      "outputs": []
    },
    {
      "cell_type": "code",
      "metadata": {
        "id": "bL6Lk3XgjXfE",
        "colab_type": "code",
        "colab": {
          "base_uri": "https://localhost:8080/",
          "height": 102
        },
        "outputId": "9dea15f7-306b-4995-cde0-43e4ffbe5cf4"
      },
      "source": [
        "transf_rdd.take(5)"
      ],
      "execution_count": 21,
      "outputs": [
        {
          "output_type": "execute_result",
          "data": {
            "text/plain": [
              "['POSITIVO,ESSE LIVRO É INCRÍVEL.',\n",
              " 'POSITIVO,UM DOS MELHORES LIVROS QUE EU JÁ LI.',\n",
              " 'POSITIVO,UM DOS MELHORES LIVROS QUE EU JÁ LI',\n",
              " 'POSITIVO,ACHO QUE ELE TEM UM CONTEÚDO QUE VAI ALÉM DO QUE ESTÁ EM SUA DESCRIÇÃO.',\n",
              " 'POSITIVO,O SOL É PARA TODOS É PROFUNDO E EMOCIONANTE']"
            ]
          },
          "metadata": {
            "tags": []
          },
          "execution_count": 21
        }
      ]
    },
    {
      "cell_type": "code",
      "metadata": {
        "id": "8Y3eKHKNjeGN",
        "colab_type": "code",
        "colab": {
          "base_uri": "https://localhost:8080/",
          "height": 37
        },
        "outputId": "26b3016d-a999-4838-a51a-f79542acb0fc"
      },
      "source": [
        "# Return only the first row\n",
        "transf_rdd.first()"
      ],
      "execution_count": 23,
      "outputs": [
        {
          "output_type": "execute_result",
          "data": {
            "application/vnd.google.colaboratory.intrinsic+json": {
              "type": "string"
            },
            "text/plain": [
              "'POSITIVO,ESSE LIVRO É INCRÍVEL.'"
            ]
          },
          "metadata": {
            "tags": []
          },
          "execution_count": 23
        }
      ]
    },
    {
      "cell_type": "code",
      "metadata": {
        "id": "0dfWrstkkTIu",
        "colab_type": "code",
        "colab": {}
      },
      "source": [
        "# Apply a filter \n",
        "rows_with_sol = sentiment_rdd.filter(lambda line: 'Sol' in line)"
      ],
      "execution_count": 24,
      "outputs": []
    },
    {
      "cell_type": "code",
      "metadata": {
        "id": "iaiGj28Tklik",
        "colab_type": "code",
        "colab": {
          "base_uri": "https://localhost:8080/",
          "height": 34
        },
        "outputId": "dc07eb1d-5b27-49c3-e084-6182f9e0ec07"
      },
      "source": [
        "type(rows_with_sol)"
      ],
      "execution_count": 25,
      "outputs": [
        {
          "output_type": "execute_result",
          "data": {
            "text/plain": [
              "pyspark.rdd.PipelinedRDD"
            ]
          },
          "metadata": {
            "tags": []
          },
          "execution_count": 25
        }
      ]
    },
    {
      "cell_type": "code",
      "metadata": {
        "id": "PU8V-Lkdkoar",
        "colab_type": "code",
        "colab": {
          "base_uri": "https://localhost:8080/",
          "height": 34
        },
        "outputId": "2651f073-f313-4e90-c929-a58eac07f288"
      },
      "source": [
        "rows_with_sol.count()"
      ],
      "execution_count": 26,
      "outputs": [
        {
          "output_type": "execute_result",
          "data": {
            "text/plain": [
              "3"
            ]
          },
          "metadata": {
            "tags": []
          },
          "execution_count": 26
        }
      ]
    },
    {
      "cell_type": "markdown",
      "metadata": {
        "id": "0WSc2Y4MlVkq",
        "colab_type": "text"
      },
      "source": [
        "First the `map()` function determines the lenght of each row, making a RDD. The `reduce()` function is called to search the row with the greatest number of characters. The argument to the functions `map()` and `reduce()` are anonymous functions maked with lambda (from the Python language)."
      ]
    },
    {
      "cell_type": "code",
      "metadata": {
        "id": "DUrDppX9lA_k",
        "colab_type": "code",
        "colab": {
          "base_uri": "https://localhost:8080/",
          "height": 34
        },
        "outputId": "9a75bc7f-c9f0-4125-a257-aec6b7498de5"
      },
      "source": [
        "sentiment_rdd.map(lambda line: len(line.split())).reduce(lambda a, b: a if (a > b) else b)"
      ],
      "execution_count": 28,
      "outputs": [
        {
          "output_type": "execute_result",
          "data": {
            "text/plain": [
              "27"
            ]
          },
          "metadata": {
            "tags": []
          },
          "execution_count": 28
        }
      ]
    },
    {
      "cell_type": "code",
      "metadata": {
        "id": "czhGiSuKmdI-",
        "colab_type": "code",
        "colab": {
          "base_uri": "https://localhost:8080/",
          "height": 34
        },
        "outputId": "442be8c1-e12c-44d0-c49e-2ada4d274528"
      },
      "source": [
        "# This command can be rewrite like this\n",
        "def max(a,b):\n",
        "  if a > b:\n",
        "    return a\n",
        "  else:\n",
        "    return b\n",
        "\n",
        "sentiment_rdd.map(lambda line: len(line.split())).reduce(max)"
      ],
      "execution_count": 29,
      "outputs": [
        {
          "output_type": "execute_result",
          "data": {
            "text/plain": [
              "27"
            ]
          },
          "metadata": {
            "tags": []
          },
          "execution_count": 29
        }
      ]
    },
    {
      "cell_type": "code",
      "metadata": {
        "id": "4itWhu_xnDq1",
        "colab_type": "code",
        "colab": {}
      },
      "source": [
        ""
      ],
      "execution_count": null,
      "outputs": []
    }
  ]
}
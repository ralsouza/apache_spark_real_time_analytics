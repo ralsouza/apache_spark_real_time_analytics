{
  "nbformat": 4,
  "nbformat_minor": 0,
  "metadata": {
    "colab": {
      "name": "01_pyspark_introduction.ipynb",
      "provenance": [],
      "collapsed_sections": [],
      "mount_file_id": "1sqk16CkTF6gIsKhJfjrLQWw8-N5XHfpI",
      "authorship_tag": "ABX9TyNWynOJn1P8x9G4JYotydSG",
      "include_colab_link": true
    },
    "kernelspec": {
      "name": "python3",
      "display_name": "Python 3"
    }
  },
  "cells": [
    {
      "cell_type": "markdown",
      "metadata": {
        "id": "view-in-github",
        "colab_type": "text"
      },
      "source": [
        "<a href=\"https://colab.research.google.com/github/ralsouza/apache_spark_real_time_analytics/blob/master/notebooks/01_pyspark_introduction.ipynb\" target=\"_parent\"><img src=\"https://colab.research.google.com/assets/colab-badge.svg\" alt=\"Open In Colab\"/></a>"
      ]
    },
    {
      "cell_type": "markdown",
      "metadata": {
        "id": "lcvzXjMtREF9",
        "colab_type": "text"
      },
      "source": [
        "# 1. Install"
      ]
    },
    {
      "cell_type": "code",
      "metadata": {
        "id": "MCutjJI1PCIa",
        "colab_type": "code",
        "colab": {}
      },
      "source": [
        "# instalar as dependências\n",
        "!apt-get install openjdk-8-jdk-headless -qq > /dev/null\n",
        "!wget -q https://archive.apache.org/dist/spark/spark-2.4.4/spark-2.4.4-bin-hadoop2.7.tgz\n",
        "!tar xf spark-2.4.4-bin-hadoop2.7.tgz\n",
        "!pip install -q findspark"
      ],
      "execution_count": 38,
      "outputs": []
    },
    {
      "cell_type": "code",
      "metadata": {
        "id": "AFxI1rhTP0EY",
        "colab_type": "code",
        "colab": {}
      },
      "source": [
        "# configurar as variáveis de ambiente\n",
        "import os\n",
        "os.environ[\"JAVA_HOME\"] = \"/usr/lib/jvm/java-8-openjdk-amd64\"\n",
        "os.environ[\"SPARK_HOME\"] = \"/content/spark-2.4.4-bin-hadoop2.7\"\n",
        " \n",
        "# tornar o pyspark \"importável\"\n",
        "import findspark\n",
        "findspark.init('spark-2.4.4-bin-hadoop2.7')"
      ],
      "execution_count": 39,
      "outputs": []
    },
    {
      "cell_type": "code",
      "metadata": {
        "id": "na5gbGcUQtCy",
        "colab_type": "code",
        "colab": {}
      },
      "source": [
        "# iniciar uma sessão local e importar dados do Airbnb\n",
        "# from pyspark.sql import SparkSession\n",
        "# sc = SparkSession.builder.master('local[*]').getOrCreate()\n",
        " \n",
        "# download do http para arquivo local\n",
        "# !wget --quiet --show-progress http://data.insideairbnb.com/brazil/rj/rio-de-janeiro/2019-07-15/visualisations/listings.csv\n",
        " \n",
        "# carregar dados do Airbnb\n",
        "# df_spark = sc.read.csv(\"./listings.csv\", inferSchema=True, header=True)\n",
        " \n",
        "# ver algumas informações sobre os tipos de dados de cada coluna\n",
        "# df_spark.printSchema()"
      ],
      "execution_count": null,
      "outputs": []
    },
    {
      "cell_type": "markdown",
      "metadata": {
        "id": "Haja9PCXRJ2S",
        "colab_type": "text"
      },
      "source": [
        "# 1. Pyspark Introduction"
      ]
    },
    {
      "cell_type": "code",
      "metadata": {
        "id": "lznInPjYUzci",
        "colab_type": "code",
        "colab": {}
      },
      "source": [
        "import pyspark\n",
        "from pyspark.sql import SparkSession\n",
        "from pyspark import SparkContext, SparkConf\n",
        "\n",
        "# create the session\n",
        "conf = SparkConf().set(\"spark.ui.port\", \"4050\")\n",
        "\n",
        "# create the context\n",
        "sc = pyspark.SparkContext(conf=conf)\n",
        "spark = SparkSession.builder.getOrCreate()\n",
        "# sc = SparkContext(\"local[*]\", \"My First App\")"
      ],
      "execution_count": 46,
      "outputs": []
    },
    {
      "cell_type": "code",
      "metadata": {
        "id": "RFOBm-HVYXio",
        "colab_type": "code",
        "colab": {}
      },
      "source": [
        "# Stoping Context\n",
        "# sc.stop()"
      ],
      "execution_count": 45,
      "outputs": []
    },
    {
      "cell_type": "code",
      "metadata": {
        "id": "n_s6nwH-RR3S",
        "colab_type": "code",
        "colab": {
          "base_uri": "https://localhost:8080/",
          "height": 51
        },
        "outputId": "0e29455b-c7c7-4e1e-985b-b0d06c32a769"
      },
      "source": [
        "import sys\n",
        "print(sys.version)"
      ],
      "execution_count": 47,
      "outputs": [
        {
          "output_type": "stream",
          "text": [
            "3.6.9 (default, Apr 18 2020, 01:56:04) \n",
            "[GCC 8.4.0]\n"
          ],
          "name": "stdout"
        }
      ]
    },
    {
      "cell_type": "code",
      "metadata": {
        "id": "aCWZKkqTRXex",
        "colab_type": "code",
        "colab": {
          "base_uri": "https://localhost:8080/",
          "height": 34
        },
        "outputId": "8d228666-9696-46e4-9a9f-c19d8b9a9c60"
      },
      "source": [
        "# Print session context (Spark Context)\n",
        "print(sc)"
      ],
      "execution_count": 48,
      "outputs": [
        {
          "output_type": "stream",
          "text": [
            "<SparkContext master=local[*] appName=pyspark-shell>\n"
          ],
          "name": "stdout"
        }
      ]
    },
    {
      "cell_type": "code",
      "metadata": {
        "id": "2nd4LnQfRhod",
        "colab_type": "code",
        "colab": {
          "base_uri": "https://localhost:8080/",
          "height": 34
        },
        "outputId": "ccfec25c-69ee-4eff-b53f-cdec1b035842"
      },
      "source": [
        "# Version context\n",
        "print(sc.version)"
      ],
      "execution_count": 49,
      "outputs": [
        {
          "output_type": "stream",
          "text": [
            "2.4.4\n"
          ],
          "name": "stdout"
        }
      ]
    },
    {
      "cell_type": "code",
      "metadata": {
        "id": "_ERw3iWdRxHp",
        "colab_type": "code",
        "colab": {}
      },
      "source": [
        "# Testing Spark and creating a RDD\n",
        "# We can't put a Python list in a Spark cluster, it's needed to convert it to \n",
        "# a RDD\n",
        "lst = [25,90,81,37,776,3320]\n",
        "test_data = sc.parallelize(lst,10)"
      ],
      "execution_count": 50,
      "outputs": []
    },
    {
      "cell_type": "code",
      "metadata": {
        "id": "2sn1Lky6S2d1",
        "colab_type": "code",
        "colab": {}
      },
      "source": [
        "# What does sc.parallelize?\n",
        "?sc.parallelize\n",
        "\n",
        "# Signature: sc.parallelize(c, numSlices=None)\n",
        "# Docstring:\n",
        "# Distribute a local Python collection to form an RDD (Resilient Distribuited \n",
        "# Dataset). \n",
        "# Using xrange\n",
        "# is recommended if the input represents a range for performance.\n",
        "\n",
        "# >>> sc.parallelize([0, 2, 3, 4, 6], 5).glom().collect()\n",
        "# [[0], [2], [3], [4], [6]]\n",
        "# >>> sc.parallelize(xrange(0, 6, 2), 5).glom().collect()\n",
        "# [[], [0], [], [2], [4]]\n",
        "# File:      /content/spark-2.4.4-bin-hadoop2.7/python/pyspark/context.py\n",
        "# Type:      method"
      ],
      "execution_count": null,
      "outputs": []
    },
    {
      "cell_type": "code",
      "metadata": {
        "id": "DcpdaHVFZWk4",
        "colab_type": "code",
        "colab": {
          "base_uri": "https://localhost:8080/",
          "height": 34
        },
        "outputId": "ef2f73b4-cb87-4579-fd7f-d44a58b5a91d"
      },
      "source": [
        "# Check data type\n",
        "type(test_data)"
      ],
      "execution_count": null,
      "outputs": [
        {
          "output_type": "execute_result",
          "data": {
            "text/plain": [
              "pyspark.rdd.RDD"
            ]
          },
          "metadata": {
            "tags": []
          },
          "execution_count": 25
        }
      ]
    },
    {
      "cell_type": "code",
      "metadata": {
        "id": "LxHyUSuLZoPL",
        "colab_type": "code",
        "colab": {
          "base_uri": "https://localhost:8080/",
          "height": 34
        },
        "outputId": "678d63a7-f0d5-42a1-fc07-71311470a2a6"
      },
      "source": [
        "# Counting data\n",
        "test_data.count()"
      ],
      "execution_count": 51,
      "outputs": [
        {
          "output_type": "execute_result",
          "data": {
            "text/plain": [
              "6"
            ]
          },
          "metadata": {
            "tags": []
          },
          "execution_count": 51
        }
      ]
    },
    {
      "cell_type": "code",
      "metadata": {
        "id": "Ln_Yv0gvZvUX",
        "colab_type": "code",
        "colab": {
          "base_uri": "https://localhost:8080/",
          "height": 34
        },
        "outputId": "355bc772-fc11-4683-cf15-b5e903753e0d"
      },
      "source": [
        "# List values\n",
        "test_data.collect()"
      ],
      "execution_count": 52,
      "outputs": [
        {
          "output_type": "execute_result",
          "data": {
            "text/plain": [
              "[25, 90, 81, 37, 776, 3320]"
            ]
          },
          "metadata": {
            "tags": []
          },
          "execution_count": 52
        }
      ]
    },
    {
      "cell_type": "markdown",
      "metadata": {
        "id": "8qhkP2AVab5i",
        "colab_type": "text"
      },
      "source": [
        "# 2. Executing an Spark Application\n",
        "RDDs are distribuited collections of items, RDDs can created from Hadoop (HDFS files), through transformations from others RDDs, from non-relational or relational databases or local files. RDDs are immutable."
      ]
    },
    {
      "cell_type": "code",
      "metadata": {
        "id": "k7cnZn76ZxpO",
        "colab_type": "code",
        "colab": {}
      },
      "source": [
        "# Making a RDD from a CSV file\n",
        "sentiment_rdd = sc.textFile('/content/drive/My Drive/Colab Notebooks/08-apache-spark/data/sentimentos.csv')"
      ],
      "execution_count": 53,
      "outputs": []
    },
    {
      "cell_type": "code",
      "metadata": {
        "id": "DNEu8BTyid5H",
        "colab_type": "code",
        "colab": {
          "base_uri": "https://localhost:8080/",
          "height": 34
        },
        "outputId": "41fa9254-d14b-4da2-b58d-f904cc83a4d2"
      },
      "source": [
        "# Check type\n",
        "type(sentiment_rdd)"
      ],
      "execution_count": 54,
      "outputs": [
        {
          "output_type": "execute_result",
          "data": {
            "text/plain": [
              "pyspark.rdd.RDD"
            ]
          },
          "metadata": {
            "tags": []
          },
          "execution_count": 54
        }
      ]
    },
    {
      "cell_type": "code",
      "metadata": {
        "id": "lwIBMvIRiiuW",
        "colab_type": "code",
        "colab": {
          "base_uri": "https://localhost:8080/",
          "height": 34
        },
        "outputId": "445e8dbd-0399-4f4e-9584-25c2263f2588"
      },
      "source": [
        "# Action: Counting the number of rows\n",
        "sentiment_rdd.count()"
      ],
      "execution_count": 34,
      "outputs": [
        {
          "output_type": "execute_result",
          "data": {
            "text/plain": [
              "100"
            ]
          },
          "metadata": {
            "tags": []
          },
          "execution_count": 34
        }
      ]
    },
    {
      "cell_type": "code",
      "metadata": {
        "id": "_mA7dnPmivHj",
        "colab_type": "code",
        "colab": {
          "base_uri": "https://localhost:8080/",
          "height": 102
        },
        "outputId": "c745d1b9-a795-4ed2-dc8c-c74860aa9b73"
      },
      "source": [
        "# Listing the 5 firsts rows\n",
        "sentiment_rdd.take(5)"
      ],
      "execution_count": 9,
      "outputs": [
        {
          "output_type": "execute_result",
          "data": {
            "text/plain": [
              "['positivo,Esse livro é incrível.',\n",
              " 'positivo,Um dos melhores livros que eu já li.',\n",
              " 'positivo,um dos melhores livros que eu já li',\n",
              " 'positivo,Acho que ele tem um conteúdo que vai além do que está em sua descrição.',\n",
              " 'positivo,O Sol é para todos é profundo e emocionante']"
            ]
          },
          "metadata": {
            "tags": []
          },
          "execution_count": 9
        }
      ]
    },
    {
      "cell_type": "code",
      "metadata": {
        "id": "0cu4HOMJi39Q",
        "colab_type": "code",
        "colab": {}
      },
      "source": [
        "# Transforming data: Transform lower case to upper case\n",
        "transf_rdd = sentiment_rdd.map(lambda x: x.upper())"
      ],
      "execution_count": 10,
      "outputs": []
    },
    {
      "cell_type": "code",
      "metadata": {
        "id": "bL6Lk3XgjXfE",
        "colab_type": "code",
        "colab": {
          "base_uri": "https://localhost:8080/",
          "height": 102
        },
        "outputId": "b87935a3-187a-4c03-d27a-7000470179ef"
      },
      "source": [
        "transf_rdd.take(5)"
      ],
      "execution_count": 11,
      "outputs": [
        {
          "output_type": "execute_result",
          "data": {
            "text/plain": [
              "['POSITIVO,ESSE LIVRO É INCRÍVEL.',\n",
              " 'POSITIVO,UM DOS MELHORES LIVROS QUE EU JÁ LI.',\n",
              " 'POSITIVO,UM DOS MELHORES LIVROS QUE EU JÁ LI',\n",
              " 'POSITIVO,ACHO QUE ELE TEM UM CONTEÚDO QUE VAI ALÉM DO QUE ESTÁ EM SUA DESCRIÇÃO.',\n",
              " 'POSITIVO,O SOL É PARA TODOS É PROFUNDO E EMOCIONANTE']"
            ]
          },
          "metadata": {
            "tags": []
          },
          "execution_count": 11
        }
      ]
    },
    {
      "cell_type": "code",
      "metadata": {
        "id": "8Y3eKHKNjeGN",
        "colab_type": "code",
        "colab": {
          "base_uri": "https://localhost:8080/",
          "height": 37
        },
        "outputId": "26b3016d-a999-4838-a51a-f79542acb0fc"
      },
      "source": [
        "# Return only the first row\n",
        "transf_rdd.first()"
      ],
      "execution_count": null,
      "outputs": [
        {
          "output_type": "execute_result",
          "data": {
            "application/vnd.google.colaboratory.intrinsic+json": {
              "type": "string"
            },
            "text/plain": [
              "'POSITIVO,ESSE LIVRO É INCRÍVEL.'"
            ]
          },
          "metadata": {
            "tags": []
          },
          "execution_count": 23
        }
      ]
    },
    {
      "cell_type": "code",
      "metadata": {
        "id": "0dfWrstkkTIu",
        "colab_type": "code",
        "colab": {}
      },
      "source": [
        "# Apply a filter \n",
        "rows_with_sol = sentiment_rdd.filter(lambda line: 'Sol' in line)"
      ],
      "execution_count": null,
      "outputs": []
    },
    {
      "cell_type": "code",
      "metadata": {
        "id": "iaiGj28Tklik",
        "colab_type": "code",
        "colab": {
          "base_uri": "https://localhost:8080/",
          "height": 34
        },
        "outputId": "dc07eb1d-5b27-49c3-e084-6182f9e0ec07"
      },
      "source": [
        "type(rows_with_sol)"
      ],
      "execution_count": null,
      "outputs": [
        {
          "output_type": "execute_result",
          "data": {
            "text/plain": [
              "pyspark.rdd.PipelinedRDD"
            ]
          },
          "metadata": {
            "tags": []
          },
          "execution_count": 25
        }
      ]
    },
    {
      "cell_type": "code",
      "metadata": {
        "id": "PU8V-Lkdkoar",
        "colab_type": "code",
        "colab": {
          "base_uri": "https://localhost:8080/",
          "height": 34
        },
        "outputId": "2651f073-f313-4e90-c929-a58eac07f288"
      },
      "source": [
        "rows_with_sol.count()"
      ],
      "execution_count": null,
      "outputs": [
        {
          "output_type": "execute_result",
          "data": {
            "text/plain": [
              "3"
            ]
          },
          "metadata": {
            "tags": []
          },
          "execution_count": 26
        }
      ]
    },
    {
      "cell_type": "markdown",
      "metadata": {
        "id": "0WSc2Y4MlVkq",
        "colab_type": "text"
      },
      "source": [
        "First the `map()` function determines the lenght of each row, making a RDD. The `reduce()` function is called to search the row with the greatest number of characters. The argument to the functions `map()` and `reduce()` are anonymous functions maked with lambda (from the Python language)."
      ]
    },
    {
      "cell_type": "code",
      "metadata": {
        "id": "DUrDppX9lA_k",
        "colab_type": "code",
        "colab": {
          "base_uri": "https://localhost:8080/",
          "height": 34
        },
        "outputId": "8fcbaddb-d10a-4c59-8ebc-a7620bc3ab68"
      },
      "source": [
        "sentiment_rdd.map(lambda line: len(line.split())).reduce(lambda a, b: a if (a > b) else b)"
      ],
      "execution_count": 55,
      "outputs": [
        {
          "output_type": "execute_result",
          "data": {
            "text/plain": [
              "27"
            ]
          },
          "metadata": {
            "tags": []
          },
          "execution_count": 55
        }
      ]
    },
    {
      "cell_type": "code",
      "metadata": {
        "id": "czhGiSuKmdI-",
        "colab_type": "code",
        "colab": {
          "base_uri": "https://localhost:8080/",
          "height": 34
        },
        "outputId": "442be8c1-e12c-44d0-c49e-2ada4d274528"
      },
      "source": [
        "# This command can be rewrite like this\n",
        "def max(a,b):\n",
        "  if a > b:\n",
        "    return a\n",
        "  else:\n",
        "    return b\n",
        "\n",
        "sentiment_rdd.map(lambda line: len(line.split())).reduce(max)"
      ],
      "execution_count": null,
      "outputs": [
        {
          "output_type": "execute_result",
          "data": {
            "text/plain": [
              "27"
            ]
          },
          "metadata": {
            "tags": []
          },
          "execution_count": 29
        }
      ]
    },
    {
      "cell_type": "markdown",
      "metadata": {
        "id": "aveEl-Jf-idZ",
        "colab_type": "text"
      },
      "source": [
        "# 3. MapReduce Operation"
      ]
    },
    {
      "cell_type": "code",
      "metadata": {
        "id": "4itWhu_xnDq1",
        "colab_type": "code",
        "colab": {
          "base_uri": "https://localhost:8080/",
          "height": 1000
        },
        "outputId": "4816fa7c-c661-420e-9071-bd4c9be3bf04"
      },
      "source": [
        "# Count words in the dataset\n",
        "count_words = sentiment_rdd.flatMap(lambda line: line.split()).map(lambda word: (word,1)).reduceByKey(lambda a, b: a + b)\n",
        "\n",
        "count_words.collect()"
      ],
      "execution_count": 56,
      "outputs": [
        {
          "output_type": "execute_result",
          "data": {
            "text/plain": [
              "[('livro', 5),\n",
              " ('que', 13),\n",
              " ('li.', 4),\n",
              " ('positivo,um', 3),\n",
              " ('li', 1),\n",
              " ('positivo,Acho', 1),\n",
              " ('tem', 1),\n",
              " ('um', 3),\n",
              " ('vai', 1),\n",
              " ('do', 2),\n",
              " ('em', 1),\n",
              " ('descrição.', 1),\n",
              " ('positivo,O', 2),\n",
              " ('para', 5),\n",
              " ('todos', 4),\n",
              " ('positivo,Me', 1),\n",
              " ('este', 1),\n",
              " ('livro,', 1),\n",
              " ('antigo', 1),\n",
              " ('uma', 4),\n",
              " ('história', 1),\n",
              " ('antiga', 1),\n",
              " ('positivo,The', 6),\n",
              " ('Da', 38),\n",
              " ('Vinci', 45),\n",
              " ('Code', 24),\n",
              " ('is', 17),\n",
              " ('good', 3),\n",
              " ('movie...', 1),\n",
              " ('thought', 2),\n",
              " ('was', 4),\n",
              " ('pretty', 1),\n",
              " ('book.', 4),\n",
              " ('realmente', 1),\n",
              " ('deveria', 1),\n",
              " ('todas', 1),\n",
              " ('as', 1),\n",
              " ('pessoas.', 1),\n",
              " ('an', 6),\n",
              " ('*', 2),\n",
              " ('book', 2),\n",
              " ('turn', 1),\n",
              " ('positivo,Harper', 1),\n",
              " ('aborda', 1),\n",
              " ('muito', 3),\n",
              " ('polêmicos,', 1),\n",
              " ('como', 1),\n",
              " ('Bullying,', 1),\n",
              " ('olhos', 1),\n",
              " ('inocentes', 1),\n",
              " ('positivo,i', 4),\n",
              " ('love', 6),\n",
              " ('da', 13),\n",
              " ('code....', 1),\n",
              " ('loved', 5),\n",
              " ('code..', 2),\n",
              " ('VINCI', 4),\n",
              " ('BEAUTIFUL', 1),\n",
              " ('positivo,THE', 1),\n",
              " ('slash', 1),\n",
              " ('race.', 1),\n",
              " ('positivo,Hey', 1),\n",
              " ('The', 13),\n",
              " ('Code!..', 1),\n",
              " ('positivo,also', 1),\n",
              " ('sobre', 2),\n",
              " ('relação', 1),\n",
              " ('educação', 1),\n",
              " ('pais', 1),\n",
              " ('filhos,', 1),\n",
              " ('fala', 1),\n",
              " ('like', 3),\n",
              " ('Angels', 1),\n",
              " ('Demons', 1),\n",
              " ('more', 2),\n",
              " ('really', 5),\n",
              " ('positivo,Da', 4),\n",
              " ('s', 1),\n",
              " ('positivo,And', 1),\n",
              " ('we', 2),\n",
              " ('awesome.', 2),\n",
              " ('awesome', 6),\n",
              " ('book!', 2),\n",
              " ('positivo,oh', 1),\n",
              " ('code.', 3),\n",
              " ('ripping', 1),\n",
              " ('music', 1),\n",
              " ('cold...', 1),\n",
              " ('[', 1),\n",
              " ('tell', 1),\n",
              " ('anyone', 1),\n",
              " ('but', 3),\n",
              " ('of', 4),\n",
              " ('positivo,Os', 1),\n",
              " ('personagens', 1),\n",
              " ('positivo,omg', 1),\n",
              " ('i', 5),\n",
              " ('falar', 1),\n",
              " ('INCRÍVEL?', 1),\n",
              " ('O', 1),\n",
              " ('sol', 1),\n",
              " ('negativo,da', 2),\n",
              " ('terrible', 1),\n",
              " ('negativo,i', 2),\n",
              " ('movie', 1),\n",
              " ('think', 2),\n",
              " ('this', 2),\n",
              " ('bolsters', 1),\n",
              " ('arguments', 1),\n",
              " ('both', 1),\n",
              " ('know', 2),\n",
              " ('inaccurate.', 1),\n",
              " ('hate', 9),\n",
              " ('negativo,The', 4),\n",
              " ('say', 1),\n",
              " ('evil', 1),\n",
              " ('sucked', 4),\n",
              " ('long', 1),\n",
              " ('slow.....', 1),\n",
              " ('negativo,not', 1),\n",
              " ('sure', 1),\n",
              " ('already', 1),\n",
              " ('threw', 1),\n",
              " ('at', 2),\n",
              " ('negativo,This', 1),\n",
              " ('why', 1),\n",
              " ('Code:', 1),\n",
              " ('pop', 1),\n",
              " ('question', 1),\n",
              " ('congrats', 1),\n",
              " ('beating', 1),\n",
              " ('Jay', 1),\n",
              " ('must', 1),\n",
              " ('Rickards', 1),\n",
              " ('when', 1),\n",
              " ('beat', 1),\n",
              " ('them', 1),\n",
              " ('in', 1),\n",
              " ('balls', 1),\n",
              " ('worst', 1),\n",
              " ('shit', 1),\n",
              " (\"I've\", 1),\n",
              " ('ever', 1),\n",
              " ('God', 1),\n",
              " ('Has', 1),\n",
              " ('told', 1),\n",
              " ('nans', 1),\n",
              " ('before', 1),\n",
              " ('said', 1),\n",
              " (\"'!!\", 1),\n",
              " ('negativo,Sol', 1),\n",
              " ('ruim', 9),\n",
              " ('negativo,Livro', 9),\n",
              " ('negativo,the', 1),\n",
              " ('sucks', 1),\n",
              " ('negativo,\"poderia', 2),\n",
              " ('ter', 2),\n",
              " ('sido', 2),\n",
              " ('melhor\"', 2),\n",
              " ('raso', 1),\n",
              " ('negativo,well', 1),\n",
              " ('SUCKS!!', 1),\n",
              " ('ass', 1),\n",
              " (\"you're\", 1),\n",
              " ('code...', 1),\n",
              " ('esqueci', 1),\n",
              " ('negativo,todos', 1),\n",
              " ('disseram', 1),\n",
              " ('mas', 1),\n",
              " ('achei', 1),\n",
              " ('negativo,abaixo', 1),\n",
              " ('das', 1),\n",
              " ('expectativas', 1),\n",
              " ('negativo,muito', 1),\n",
              " ('gostei.', 1),\n",
              " ('infantil!', 1),\n",
              " ('positivo,Esse', 1),\n",
              " ('é', 6),\n",
              " ('incrível.', 1),\n",
              " ('positivo,Um', 3),\n",
              " ('dos', 5),\n",
              " ('melhores', 5),\n",
              " ('livros', 5),\n",
              " ('eu', 5),\n",
              " ('já', 5),\n",
              " ('ele', 1),\n",
              " ('conteúdo', 2),\n",
              " ('além', 1),\n",
              " ('está', 1),\n",
              " ('sua', 1),\n",
              " ('Sol', 2),\n",
              " ('profundo', 1),\n",
              " ('e', 8),\n",
              " ('emocionante', 1),\n",
              " ('encantei', 1),\n",
              " ('por', 2),\n",
              " ('positivo,Este', 1),\n",
              " ('apesar', 1),\n",
              " ('de', 8),\n",
              " ('com', 1),\n",
              " ('trata', 1),\n",
              " ('época', 1),\n",
              " ('mais', 1),\n",
              " ('ainda,', 1),\n",
              " ('possui', 1),\n",
              " ('atual', 1),\n",
              " ('extrema', 1),\n",
              " ('importância.', 1),\n",
              " ('actually', 1),\n",
              " ('a', 8),\n",
              " ('positivo,I', 8),\n",
              " ('the', 23),\n",
              " ('ser', 1),\n",
              " ('lido', 1),\n",
              " ('amazing', 2),\n",
              " ('positivo,then', 1),\n",
              " ('I', 7),\n",
              " ('on', 2),\n",
              " ('light', 1),\n",
              " ('and', 10),\n",
              " ('radio', 1),\n",
              " ('enjoy', 1),\n",
              " ('my', 2),\n",
              " ('Code.', 12),\n",
              " ('Lee', 1),\n",
              " ('temas', 1),\n",
              " ('o', 3),\n",
              " ('racismo', 1),\n",
              " ('pelos', 1),\n",
              " ('criança', 1),\n",
              " ('7', 1),\n",
              " ('anos.', 1),\n",
              " ('vinci', 17),\n",
              " ('positivo,TO', 1),\n",
              " ('NIGHT::', 1),\n",
              " ('THE', 2),\n",
              " ('DA', 4),\n",
              " ('CODE', 3),\n",
              " ('AND', 1),\n",
              " ('A', 1),\n",
              " ('MIND...', 1),\n",
              " ('AN', 1),\n",
              " ('AWESOME', 1),\n",
              " ('BOOK....', 1),\n",
              " ('positivo,very', 1),\n",
              " ('code', 12),\n",
              " ('positivo,Ele', 1),\n",
              " ('relata', 1),\n",
              " ('respeito,', 1),\n",
              " ('individualidade', 1),\n",
              " ('mais.', 1),\n",
              " ('then', 2),\n",
              " ('movie.', 2),\n",
              " ('amazing.', 1),\n",
              " ('positivo,Book', 1),\n",
              " ('(', 1),\n",
              " ('):', 1),\n",
              " ('Code..', 2),\n",
              " ('went', 1),\n",
              " ('to', 4),\n",
              " ('see', 1),\n",
              " ('awesome!', 1),\n",
              " ('SUCH', 1),\n",
              " ('LOVE', 1),\n",
              " ('CODE...', 1),\n",
              " ('so', 1),\n",
              " ('beautiful', 1),\n",
              " ('Code...', 2),\n",
              " ('miss', 1),\n",
              " ('acoustic', 1),\n",
              " ('positivo,looks', 1),\n",
              " ('amazingly', 1),\n",
              " ('fun', 1),\n",
              " ('possibly', 1),\n",
              " ('bit', 1),\n",
              " (\"don't\", 1),\n",
              " (']', 1),\n",
              " ('course', 1),\n",
              " ('positivo,\"I', 1),\n",
              " ('\"\"', 1),\n",
              " ('Code!\"', 1),\n",
              " ('LOVED', 1),\n",
              " ('positivo,da', 1),\n",
              " ('são', 1),\n",
              " ('maravilhosos...', 1),\n",
              " ('that', 3),\n",
              " ('such', 1),\n",
              " ('desde', 1),\n",
              " ('me', 2),\n",
              " ('conquistou', 1),\n",
              " ('forma', 1),\n",
              " ('pura!', 1),\n",
              " ('boring.', 1),\n",
              " ('negativo,Da', 4),\n",
              " ('does', 1),\n",
              " ('suck.', 2),\n",
              " ('negativo,I', 10),\n",
              " ('England', 1),\n",
              " ('sucks...', 2),\n",
              " ('negativo,And', 2),\n",
              " ('better..-We', 1),\n",
              " ('all', 1),\n",
              " ('bogus', 1),\n",
              " ('you', 3),\n",
              " ('too', 2),\n",
              " ('if', 2),\n",
              " ('because', 1),\n",
              " ('it', 2),\n",
              " ('takes', 1),\n",
              " ('nothing', 1),\n",
              " ('fucking', 2),\n",
              " ('culture', 1),\n",
              " ('phenomenon', 1),\n",
              " ('get', 1),\n",
              " ('people', 1),\n",
              " ('things.', 1),\n",
              " ('did', 1),\n",
              " ('suck', 1),\n",
              " ('been', 1),\n",
              " ('time', 1),\n",
              " ('finals.', 1),\n",
              " ('sucks.', 1),\n",
              " ('hated', 3),\n",
              " ('going', 1),\n",
              " ('sucks..', 1),\n",
              " ('also', 1),\n",
              " (\"it's\", 1),\n",
              " ('piece', 1),\n",
              " ('read.', 1),\n",
              " ('negativo,Thank', 1),\n",
              " ('Someone', 1),\n",
              " ('Sense', 1),\n",
              " ('negativo,RACHEL', 1),\n",
              " ('could', 1),\n",
              " ('your', 1),\n",
              " ('libarian', 1),\n",
              " (\"hated'The\", 1),\n",
              " ('Livro', 1),\n",
              " ('btw..', 1),\n",
              " ('negativo,simples', 1),\n",
              " ('negativo,O', 1),\n",
              " ('não', 2),\n",
              " ('todos.', 1),\n",
              " ('wondering.', 1),\n",
              " ('negativo,about', 1),\n",
              " ('how', 1),\n",
              " ('much', 1),\n",
              " ('absolutely', 1),\n",
              " ('loathe', 1),\n",
              " ('ruim...', 2),\n",
              " ('negativo,já', 1),\n",
              " ('tão', 1),\n",
              " ('foi.', 1),\n",
              " ('era', 1),\n",
              " ('bom,', 1),\n",
              " ('negativo,Não', 1)]"
            ]
          },
          "metadata": {
            "tags": []
          },
          "execution_count": 56
        }
      ]
    },
    {
      "cell_type": "markdown",
      "metadata": {
        "id": "gvt82G8BDIVl",
        "colab_type": "text"
      },
      "source": [
        "# 4. Monitor Jobs - Spark UI\n",
        "In the Spark UI, you can monitor the progress of your job and debug the performance bottlenecks (if your Colab is running with a local runtime)."
      ]
    },
    {
      "cell_type": "code",
      "metadata": {
        "id": "IPUSXTCkKOBW",
        "colab_type": "code",
        "colab": {
          "base_uri": "https://localhost:8080/",
          "height": 216
        },
        "outputId": "e5d74006-0e77-4c80-fdda-1d7b264d602b"
      },
      "source": [
        "spark"
      ],
      "execution_count": 57,
      "outputs": [
        {
          "output_type": "execute_result",
          "data": {
            "text/html": [
              "\n",
              "            <div>\n",
              "                <p><b>SparkSession - in-memory</b></p>\n",
              "                \n",
              "        <div>\n",
              "            <p><b>SparkContext</b></p>\n",
              "\n",
              "            <p><a href=\"http://367b187da8d4:4050\">Spark UI</a></p>\n",
              "\n",
              "            <dl>\n",
              "              <dt>Version</dt>\n",
              "                <dd><code>v2.4.4</code></dd>\n",
              "              <dt>Master</dt>\n",
              "                <dd><code>local[*]</code></dd>\n",
              "              <dt>AppName</dt>\n",
              "                <dd><code>pyspark-shell</code></dd>\n",
              "            </dl>\n",
              "        </div>\n",
              "        \n",
              "            </div>\n",
              "        "
            ],
            "text/plain": [
              "<pyspark.sql.session.SparkSession at 0x7fea53e82080>"
            ]
          },
          "metadata": {
            "tags": []
          },
          "execution_count": 57
        }
      ]
    },
    {
      "cell_type": "code",
      "metadata": {
        "id": "-7REE83-_Yfu",
        "colab_type": "code",
        "colab": {
          "base_uri": "https://localhost:8080/",
          "height": 272
        },
        "outputId": "e6f04738-a812-4969-80b9-98597dd767ca"
      },
      "source": [
        "# If you are running this Colab on the Google hosted runtime, the cell below \n",
        "# will create a ngrok tunnel which will allow you to still check the Spark UI.\n",
        "!wget https://bin.equinox.io/c/4VmDzA7iaHb/ngrok-stable-linux-amd64.zip\n",
        "!unzip ngrok-stable-linux-amd64.zip\n",
        "get_ipython().system_raw('./ngrok http 4050 &')\n",
        "!curl -s http://localhost:4040/api/tunnels | python3 -c \\\n",
        "    \"import sys, json; print(json.load(sys.stdin)['tunnels'][0]['public_url'])\""
      ],
      "execution_count": 58,
      "outputs": [
        {
          "output_type": "stream",
          "text": [
            "--2020-07-25 22:48:08--  https://bin.equinox.io/c/4VmDzA7iaHb/ngrok-stable-linux-amd64.zip\n",
            "Resolving bin.equinox.io (bin.equinox.io)... 3.233.171.45, 54.84.116.182, 52.201.131.65, ...\n",
            "Connecting to bin.equinox.io (bin.equinox.io)|3.233.171.45|:443... connected.\n",
            "HTTP request sent, awaiting response... 200 OK\n",
            "Length: 13773305 (13M) [application/octet-stream]\n",
            "Saving to: ‘ngrok-stable-linux-amd64.zip.3’\n",
            "\n",
            "\r          ngrok-sta   0%[                    ]       0  --.-KB/s               \r         ngrok-stab  77%[==============>     ]  10.12M  50.6MB/s               \rngrok-stable-linux- 100%[===================>]  13.13M  55.6MB/s    in 0.2s    \n",
            "\n",
            "2020-07-25 22:48:09 (55.6 MB/s) - ‘ngrok-stable-linux-amd64.zip.3’ saved [13773305/13773305]\n",
            "\n",
            "Archive:  ngrok-stable-linux-amd64.zip\n",
            "replace ngrok? [y]es, [n]o, [A]ll, [N]one, [r]ename: y\n",
            "  inflating: ngrok                   \n",
            "https://14a306d6fd15.ngrok.io\n"
          ],
          "name": "stdout"
        }
      ]
    }
  ]
}
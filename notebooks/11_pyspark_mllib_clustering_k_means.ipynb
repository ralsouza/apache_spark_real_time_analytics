{
  "nbformat": 4,
  "nbformat_minor": 0,
  "metadata": {
    "colab": {
      "name": "11_pyspark_mllib_clustering_k_means.ipynb",
      "provenance": [],
      "collapsed_sections": [],
      "mount_file_id": "1uT7caGGFa-9CA7kLff4T0NbbylRuU2kq",
      "authorship_tag": "ABX9TyNsaaiemtTAV7RBhqj0X0Aq",
      "include_colab_link": true
    },
    "kernelspec": {
      "name": "python3",
      "display_name": "Python 3"
    }
  },
  "cells": [
    {
      "cell_type": "markdown",
      "metadata": {
        "id": "view-in-github",
        "colab_type": "text"
      },
      "source": [
        "<a href=\"https://colab.research.google.com/github/ralsouza/apache_spark_real_time_analytics/blob/master/notebooks/11_pyspark_mllib_clustering_k_means.ipynb\" target=\"_parent\"><img src=\"https://colab.research.google.com/assets/colab-badge.svg\" alt=\"Open In Colab\"/></a>"
      ]
    },
    {
      "cell_type": "markdown",
      "metadata": {
        "id": "3WOFeIAAuyLp"
      },
      "source": [
        "# Clustering K-Means\n",
        "\n",
        "**Description:**\n",
        "*   Unsupervised algorithm;\n",
        "*   Grouping data by simility;\n",
        "*   Partitions the data by a `k` number of clusters, with each observation belongs to a just one cluster;\n",
        "*   The clusterizations is made measuring the distance between the data points and grouping them;\n",
        "*   Multiple distance measures may be used, such as, `Euclidian Distance` and `Manhattan Distance`;\n",
        "\n",
        "**Advantages:**\n",
        "*   Faster;\n",
        "*   Efficient to many variables;\n",
        "\n",
        "**Disvantages:**\n",
        "*   The `k` value must be know;\n",
        "*   The initial value of `k` influences on created clusters;\n",
        "\n",
        "**Application:**\n",
        "*   Priliminary grouping before applying classification techniques;\n",
        "*   Geographic clustering;\n",
        "\n"
      ]
    },
    {
      "cell_type": "markdown",
      "metadata": {
        "id": "wEhesXYmo-Ie"
      },
      "source": [
        "# Setup Spark\n"
      ]
    },
    {
      "cell_type": "code",
      "metadata": {
        "id": "fkV_39QPpAz6"
      },
      "source": [
        "!apt-get update"
      ],
      "execution_count": null,
      "outputs": []
    },
    {
      "cell_type": "code",
      "metadata": {
        "id": "cWrZAuUJpA-e"
      },
      "source": [
        "\n",
        "\n",
        "# Install the dependencies\n",
        "!apt-get install openjdk-8-jdk-headless -qq > /dev/null\n",
        "!wget -q https://archive.apache.org/dist/spark/spark-2.4.4/spark-2.4.4-bin-hadoop2.7.tgz\n",
        "!tar xf spark-2.4.4-bin-hadoop2.7.tgz\n",
        "!pip install -q findspark"
      ],
      "execution_count": 2,
      "outputs": []
    },
    {
      "cell_type": "code",
      "metadata": {
        "id": "vYq1kbyjpBHJ"
      },
      "source": [
        "# Environment variables\n",
        "import os\n",
        "os.environ[\"JAVA_HOME\"] = \"/usr/lib/jvm/java-8-openjdk-amd64\"\n",
        "os.environ[\"SPARK_HOME\"] = \"/content/spark-2.4.4-bin-hadoop2.7\""
      ],
      "execution_count": 3,
      "outputs": []
    },
    {
      "cell_type": "code",
      "metadata": {
        "id": "_LCIoFAhp_MR"
      },
      "source": [
        "# Make pyspark \"importable\"\n",
        "import findspark\n",
        "findspark.init('spark-2.4.4-bin-hadoop2.7')"
      ],
      "execution_count": 4,
      "outputs": []
    },
    {
      "cell_type": "code",
      "metadata": {
        "id": "3QmgzSkDp_Yl"
      },
      "source": [
        "# Libraries and Context Setup\n",
        "import pyspark\n",
        "from pyspark.sql import SparkSession\n",
        "from pyspark import SparkContext, SparkConf"
      ],
      "execution_count": 5,
      "outputs": []
    },
    {
      "cell_type": "code",
      "metadata": {
        "id": "Pv8t6WjWpBUo"
      },
      "source": [
        "# create the session\n",
        "conf = SparkConf().set(\"spark.ui.port\", \"4050\")\n",
        "\n",
        "# create the context\n",
        "sc = pyspark.SparkContext(conf=conf)\n",
        "\n",
        "\n",
        "# Instance Spark Session\n",
        "spark = SparkSession.builder.master('local').appName('spark_ml_lib').getOrCreate()\n",
        "\n",
        "# Create the SQL Context\n",
        "sqlContext = pyspark.SQLContext(sc)"
      ],
      "execution_count": null,
      "outputs": []
    },
    {
      "cell_type": "markdown",
      "metadata": {
        "id": "RTIAKHuN0oXV"
      },
      "source": [
        "# Grouping cars"
      ]
    },
    {
      "cell_type": "code",
      "metadata": {
        "id": "p01-TxGzuYz-"
      },
      "source": [
        "# Libraries\n",
        "import math\n",
        "import pandas as pd\n",
        "from pyspark.sql import Row\n",
        "from pyspark.ml.linalg import Vectors\n",
        "from pyspark.ml.clustering import KMeans\n",
        "import matplotlib.pylab as plt\n",
        "%matplotlib inline"
      ],
      "execution_count": 8,
      "outputs": []
    },
    {
      "cell_type": "code",
      "metadata": {
        "id": "8Q2ooZIbzlod"
      },
      "source": [
        "# Spark Session\n",
        "sp_session = SparkSession.builder.master('local').appName('app_spark_mllib').getOrCreate()"
      ],
      "execution_count": 9,
      "outputs": []
    },
    {
      "cell_type": "code",
      "metadata": {
        "id": "eP8-wIzv4KRF"
      },
      "source": [
        "# Load data\n",
        "rdd_cars = sc.textFile('/content/drive/My Drive/Colab Notebooks/08-apache-spark/data/mllib/carros2.csv')"
      ],
      "execution_count": 10,
      "outputs": []
    },
    {
      "cell_type": "code",
      "metadata": {
        "id": "xrDZJ--X5KTA",
        "outputId": "043451d4-9097-4e75-d189-b35f53f82aad",
        "colab": {
          "base_uri": "https://localhost:8080/"
        }
      },
      "source": [
        "rdd_cars.cache()"
      ],
      "execution_count": 11,
      "outputs": [
        {
          "output_type": "execute_result",
          "data": {
            "text/plain": [
              "/content/drive/My Drive/Colab Notebooks/08-apache-spark/data/mllib/carros2.csv MapPartitionsRDD[1] at textFile at NativeMethodAccessorImpl.java:0"
            ]
          },
          "metadata": {
            "tags": []
          },
          "execution_count": 11
        }
      ]
    },
    {
      "cell_type": "code",
      "metadata": {
        "id": "JzXjri9m5Mv5",
        "outputId": "a77de538-e4de-46af-fa65-dd3bacfe69e7",
        "colab": {
          "base_uri": "https://localhost:8080/"
        }
      },
      "source": [
        "# Remove the header\n",
        "first_row = rdd_cars.first()\n",
        "rdd_cars2 = rdd_cars.filter(lambda x: x != first_row)\n",
        "rdd_cars2.count()"
      ],
      "execution_count": 12,
      "outputs": [
        {
          "output_type": "execute_result",
          "data": {
            "text/plain": [
              "197"
            ]
          },
          "metadata": {
            "tags": []
          },
          "execution_count": 12
        }
      ]
    },
    {
      "cell_type": "code",
      "metadata": {
        "id": "0zLP3ZwV5usA",
        "outputId": "cfaac6bb-575b-4a5c-911e-ba21f0e4cf4e",
        "colab": {
          "base_uri": "https://localhost:8080/",
          "height": 102
        }
      },
      "source": [
        "rdd_cars2.take(5)"
      ],
      "execution_count": null,
      "outputs": [
        {
          "output_type": "execute_result",
          "data": {
            "text/plain": [
              "['subaru,gas,std,two,hatchback,fwd,four,69,4900,31,36,5118',\n",
              " 'chevrolet,gas,std,two,hatchback,fwd,three,48,5100,47,53,5151',\n",
              " 'mazda,gas,std,two,hatchback,fwd,four,68,5000,30,31,5195',\n",
              " 'toyota,gas,std,two,hatchback,fwd,four,62,4800,35,39,5348',\n",
              " 'mitsubishi,gas,std,two,hatchback,fwd,four,68,5500,37,41,5389']"
            ]
          },
          "metadata": {
            "tags": []
          },
          "execution_count": 15
        }
      ]
    },
    {
      "cell_type": "code",
      "metadata": {
        "id": "a9_4UUiO5759"
      },
      "source": [
        "# Converting and cleaning\n",
        "def transform_to_numeric(input_str):\n",
        "  \n",
        "  att_list = input_str.split(',')\n",
        "\n",
        "  doors = 1.0 if att_list[3] == 'two' else 2.0\n",
        "  body = 1.0 if att_list[4] == 'sedan' else 2.0\n",
        "\n",
        "  rows = Row(DOORS = doors, BODY = float(body), HP = float(att_list[7]), \n",
        "             RPM = float(att_list[8]), MPG = float(att_list[9]))\n",
        "  \n",
        "  return rows"
      ],
      "execution_count": 13,
      "outputs": []
    },
    {
      "cell_type": "code",
      "metadata": {
        "id": "t-Apykra7a_D",
        "outputId": "bb0e8d46-735a-40e0-9262-c6b19793a4fc",
        "colab": {
          "base_uri": "https://localhost:8080/"
        }
      },
      "source": [
        "# Apply function\n",
        "rdd_cars3 = rdd_cars2.map(transform_to_numeric)\n",
        "\n",
        "# Persist in memory, could be .cache()\n",
        "rdd_cars3.persist()\n",
        "\n",
        "rdd_cars3.take(3)"
      ],
      "execution_count": 14,
      "outputs": [
        {
          "output_type": "execute_result",
          "data": {
            "text/plain": [
              "[Row(BODY=2.0, DOORS=1.0, HP=69.0, MPG=31.0, RPM=4900.0),\n",
              " Row(BODY=2.0, DOORS=1.0, HP=48.0, MPG=47.0, RPM=5100.0),\n",
              " Row(BODY=2.0, DOORS=1.0, HP=68.0, MPG=30.0, RPM=5000.0)]"
            ]
          },
          "metadata": {
            "tags": []
          },
          "execution_count": 14
        }
      ]
    },
    {
      "cell_type": "code",
      "metadata": {
        "id": "Chr9ibm_81rA",
        "outputId": "157d6b2f-2af0-48b9-d01c-5ffdb29c7e52",
        "colab": {
          "base_uri": "https://localhost:8080/"
        }
      },
      "source": [
        "# Transform to dataframe\n",
        "df_cars = sp_session.createDataFrame(rdd_cars3)\n",
        "df_cars.show(5)"
      ],
      "execution_count": 15,
      "outputs": [
        {
          "output_type": "stream",
          "text": [
            "+----+-----+----+----+------+\n",
            "|BODY|DOORS|  HP| MPG|   RPM|\n",
            "+----+-----+----+----+------+\n",
            "| 2.0|  1.0|69.0|31.0|4900.0|\n",
            "| 2.0|  1.0|48.0|47.0|5100.0|\n",
            "| 2.0|  1.0|68.0|30.0|5000.0|\n",
            "| 2.0|  1.0|62.0|35.0|4800.0|\n",
            "| 2.0|  1.0|68.0|37.0|5500.0|\n",
            "+----+-----+----+----+------+\n",
            "only showing top 5 rows\n",
            "\n"
          ],
          "name": "stdout"
        }
      ]
    },
    {
      "cell_type": "code",
      "metadata": {
        "id": "84KYdGDw9Et9"
      },
      "source": [
        "# Summarizing with Pandas\n",
        "desc_cars = df_cars.describe().toPandas()"
      ],
      "execution_count": 16,
      "outputs": []
    },
    {
      "cell_type": "code",
      "metadata": {
        "id": "BTw1tBTnBWMH",
        "outputId": "277fb679-c8e6-4b03-d89e-a3e991821394",
        "colab": {
          "base_uri": "https://localhost:8080/",
          "height": 221
        }
      },
      "source": [
        "# Show dataframe\n",
        "desc_cars"
      ],
      "execution_count": 17,
      "outputs": [
        {
          "output_type": "execute_result",
          "data": {
            "text/html": [
              "<div>\n",
              "<style scoped>\n",
              "    .dataframe tbody tr th:only-of-type {\n",
              "        vertical-align: middle;\n",
              "    }\n",
              "\n",
              "    .dataframe tbody tr th {\n",
              "        vertical-align: top;\n",
              "    }\n",
              "\n",
              "    .dataframe thead th {\n",
              "        text-align: right;\n",
              "    }\n",
              "</style>\n",
              "<table border=\"1\" class=\"dataframe\">\n",
              "  <thead>\n",
              "    <tr style=\"text-align: right;\">\n",
              "      <th></th>\n",
              "      <th>summary</th>\n",
              "      <th>BODY</th>\n",
              "      <th>DOORS</th>\n",
              "      <th>HP</th>\n",
              "      <th>MPG</th>\n",
              "      <th>RPM</th>\n",
              "    </tr>\n",
              "  </thead>\n",
              "  <tbody>\n",
              "    <tr>\n",
              "      <th>0</th>\n",
              "      <td>count</td>\n",
              "      <td>197</td>\n",
              "      <td>197</td>\n",
              "      <td>197</td>\n",
              "      <td>197</td>\n",
              "      <td>197</td>\n",
              "    </tr>\n",
              "    <tr>\n",
              "      <th>1</th>\n",
              "      <td>mean</td>\n",
              "      <td>1.532994923857868</td>\n",
              "      <td>1.5685279187817258</td>\n",
              "      <td>103.60406091370558</td>\n",
              "      <td>25.15228426395939</td>\n",
              "      <td>5118.0203045685275</td>\n",
              "    </tr>\n",
              "    <tr>\n",
              "      <th>2</th>\n",
              "      <td>stddev</td>\n",
              "      <td>0.5001812579359883</td>\n",
              "      <td>0.49654352778167493</td>\n",
              "      <td>37.639205349518356</td>\n",
              "      <td>6.437862917085915</td>\n",
              "      <td>481.03591405011446</td>\n",
              "    </tr>\n",
              "    <tr>\n",
              "      <th>3</th>\n",
              "      <td>min</td>\n",
              "      <td>1.0</td>\n",
              "      <td>1.0</td>\n",
              "      <td>48.0</td>\n",
              "      <td>13.0</td>\n",
              "      <td>4150.0</td>\n",
              "    </tr>\n",
              "    <tr>\n",
              "      <th>4</th>\n",
              "      <td>max</td>\n",
              "      <td>2.0</td>\n",
              "      <td>2.0</td>\n",
              "      <td>262.0</td>\n",
              "      <td>49.0</td>\n",
              "      <td>6600.0</td>\n",
              "    </tr>\n",
              "  </tbody>\n",
              "</table>\n",
              "</div>"
            ],
            "text/plain": [
              "  summary                BODY  ...                MPG                 RPM\n",
              "0   count                 197  ...                197                 197\n",
              "1    mean   1.532994923857868  ...  25.15228426395939  5118.0203045685275\n",
              "2  stddev  0.5001812579359883  ...  6.437862917085915  481.03591405011446\n",
              "3     min                 1.0  ...               13.0              4150.0\n",
              "4     max                 2.0  ...               49.0              6600.0\n",
              "\n",
              "[5 rows x 6 columns]"
            ]
          },
          "metadata": {
            "tags": []
          },
          "execution_count": 17
        }
      ]
    },
    {
      "cell_type": "code",
      "metadata": {
        "id": "bCojB-LbBjJh"
      },
      "source": [
        "# Get means and deviations converting to lists\n",
        "cars_means = desc_cars.iloc[1,1:5].values.tolist()\n",
        "cars_devs  =  desc_cars.iloc[2,1:5].values.tolist()"
      ],
      "execution_count": 18,
      "outputs": []
    },
    {
      "cell_type": "code",
      "metadata": {
        "id": "IWA1SMbNCFea",
        "outputId": "8d59abd4-04e9-42ce-b44c-5e65d1c15ccd",
        "colab": {
          "base_uri": "https://localhost:8080/",
          "height": 85
        }
      },
      "source": [
        "cars_means"
      ],
      "execution_count": null,
      "outputs": [
        {
          "output_type": "execute_result",
          "data": {
            "text/plain": [
              "['1.532994923857868',\n",
              " '1.5685279187817258',\n",
              " '103.60406091370558',\n",
              " '25.15228426395939']"
            ]
          },
          "metadata": {
            "tags": []
          },
          "execution_count": 33
        }
      ]
    },
    {
      "cell_type": "code",
      "metadata": {
        "id": "N0U3wLiyCGmD",
        "outputId": "fba30751-8fe0-4f55-dcf9-afeab32dab85",
        "colab": {
          "base_uri": "https://localhost:8080/",
          "height": 85
        }
      },
      "source": [
        "cars_devs"
      ],
      "execution_count": null,
      "outputs": [
        {
          "output_type": "execute_result",
          "data": {
            "text/plain": [
              "['0.5001812579359883',\n",
              " '0.49654352778167493',\n",
              " '37.639205349518356',\n",
              " '6.437862917085915']"
            ]
          },
          "metadata": {
            "tags": []
          },
          "execution_count": 34
        }
      ]
    },
    {
      "cell_type": "code",
      "metadata": {
        "id": "xkSw5eVvCIKO"
      },
      "source": [
        "# Store the variables to the broadcast variables - broadcast variables are read-only\n",
        "bc_means = sc.broadcast(cars_means)\n",
        "bc_devs = sc.broadcast(cars_devs)"
      ],
      "execution_count": 19,
      "outputs": []
    },
    {
      "cell_type": "code",
      "metadata": {
        "id": "QoIu81m3FBBH"
      },
      "source": [
        "# Function to centralize and apply a scale on data. Each value will be subtracted\n",
        "# from the mean and then divided by the standard deviation\n",
        "\n",
        "def center_and_scale(row):\n",
        "  \n",
        "  global cars_means\n",
        "  global cars_devs\n",
        "\n",
        "  mean_array = bc_means.value\n",
        "  std_dev    = bc_devs.value \n",
        "\n",
        "  ret_array = []\n",
        "\n",
        "  for i in range(len(mean_array)):\n",
        "    ret_array.append(float((row[i]) - float(mean_array[i])) / float(std_dev[i]))\n",
        "\n",
        "  return Vectors.dense(ret_array)"
      ],
      "execution_count": 26,
      "outputs": []
    },
    {
      "cell_type": "code",
      "metadata": {
        "id": "8IfFU2EM9F0k"
      },
      "source": [
        "rdd_cars4 = df_cars.rdd.map(center_and_scale)"
      ],
      "execution_count": 27,
      "outputs": []
    },
    {
      "cell_type": "code",
      "metadata": {
        "id": "BqTtTQEh9NrJ",
        "outputId": "69d45ac8-c739-43e9-ec00-125392296492",
        "colab": {
          "base_uri": "https://localhost:8080/"
        }
      },
      "source": [
        "rdd_cars4.collect()[:10]"
      ],
      "execution_count": 29,
      "outputs": [
        {
          "output_type": "execute_result",
          "data": {
            "text/plain": [
              "[DenseVector([0.9337, -1.145, -0.9194, 0.9083]),\n",
              " DenseVector([0.9337, -1.145, -1.4773, 3.3936]),\n",
              " DenseVector([0.9337, -1.145, -0.9459, 0.753]),\n",
              " DenseVector([0.9337, -1.145, -1.1053, 1.5297]),\n",
              " DenseVector([0.9337, -1.145, -0.9459, 1.8403]),\n",
              " DenseVector([0.9337, -1.145, -1.1585, 1.9956]),\n",
              " DenseVector([-1.0656, -1.145, -0.9194, 0.9083]),\n",
              " DenseVector([0.9337, -1.145, -0.9459, 1.8403]),\n",
              " DenseVector([0.9337, -1.145, -0.9459, 1.8403]),\n",
              " DenseVector([0.9337, -1.145, -0.9459, 0.9083])]"
            ]
          },
          "metadata": {
            "tags": []
          },
          "execution_count": 29
        }
      ]
    },
    {
      "cell_type": "code",
      "metadata": {
        "id": "rhW81BYj9R3y",
        "outputId": "d23d7914-4aad-4fde-f62c-9e759ecc11a3",
        "colab": {
          "base_uri": "https://localhost:8080/"
        }
      },
      "source": [
        "# Creating the dataframe\n",
        "rdd_cars5 = rdd_cars4.map(lambda f: Row(features = f))\n",
        "df_cars = sp_session.createDataFrame(rdd_cars5)\n",
        "df_cars.select('features').show(10)"
      ],
      "execution_count": 30,
      "outputs": [
        {
          "output_type": "stream",
          "text": [
            "+--------------------+\n",
            "|            features|\n",
            "+--------------------+\n",
            "|[0.93367168148051...|\n",
            "|[0.93367168148051...|\n",
            "|[0.93367168148051...|\n",
            "|[0.93367168148051...|\n",
            "|[0.93367168148051...|\n",
            "|[0.93367168148051...|\n",
            "|[-1.0656035495158...|\n",
            "|[0.93367168148051...|\n",
            "|[0.93367168148051...|\n",
            "|[0.93367168148051...|\n",
            "+--------------------+\n",
            "only showing top 10 rows\n",
            "\n"
          ],
          "name": "stdout"
        }
      ]
    },
    {
      "cell_type": "code",
      "metadata": {
        "id": "t0Xq_c2K_mos"
      },
      "source": [
        "# Creating the model\n",
        "kmeans = KMeans(k=3,seed=1)\n",
        "model = kmeans.fit(df_cars)"
      ],
      "execution_count": 33,
      "outputs": []
    },
    {
      "cell_type": "code",
      "metadata": {
        "id": "q5FNUscfAAdE",
        "outputId": "ef9c11ea-8c68-44bd-f324-65a9b474f397",
        "colab": {
          "base_uri": "https://localhost:8080/"
        }
      },
      "source": [
        "# Show predictions - Note that doesn't exist a train dataset\n",
        "pred = model.transform(df_cars)\n",
        "pred.show()"
      ],
      "execution_count": 35,
      "outputs": [
        {
          "output_type": "stream",
          "text": [
            "+--------------------+----------+\n",
            "|            features|prediction|\n",
            "+--------------------+----------+\n",
            "|[0.93367168148051...|         1|\n",
            "|[0.93367168148051...|         1|\n",
            "|[0.93367168148051...|         1|\n",
            "|[0.93367168148051...|         1|\n",
            "|[0.93367168148051...|         1|\n",
            "|[0.93367168148051...|         1|\n",
            "|[-1.0656035495158...|         0|\n",
            "|[0.93367168148051...|         1|\n",
            "|[0.93367168148051...|         1|\n",
            "|[0.93367168148051...|         1|\n",
            "|[0.93367168148051...|         1|\n",
            "|[0.93367168148051...|         1|\n",
            "|[0.93367168148051...|         1|\n",
            "|[0.93367168148051...|         1|\n",
            "|[0.93367168148051...|         1|\n",
            "|[0.93367168148051...|         1|\n",
            "|[0.93367168148051...|         1|\n",
            "|[0.93367168148051...|         1|\n",
            "|[0.93367168148051...|         1|\n",
            "|[-1.0656035495158...|         0|\n",
            "+--------------------+----------+\n",
            "only showing top 20 rows\n",
            "\n"
          ],
          "name": "stdout"
        }
      ]
    },
    {
      "cell_type": "code",
      "metadata": {
        "id": "VWWFbfSsA_w8"
      },
      "source": [
        "# After many transformations, we need to make a reverse engineering to get the features back\n",
        "\n",
        "def unstrip_data(input):\n",
        "  return (input['prediction'], input['features'][0], input['features'][1], input['features'][2], input['features'][3])"
      ],
      "execution_count": 37,
      "outputs": []
    },
    {
      "cell_type": "code",
      "metadata": {
        "id": "qhaswj4KB1G6"
      },
      "source": [
        "rdd_cars6 = pred.rdd.map(unstrip_data)\n",
        "pred_list = rdd_cars6.collect()\n",
        "pred_pd = pd.DataFrame(pred_list)"
      ],
      "execution_count": 39,
      "outputs": []
    },
    {
      "cell_type": "code",
      "metadata": {
        "id": "dQzXhcbkCIYD",
        "outputId": "846efd97-6d16-4de2-b2cd-a6c8f9ffb233",
        "colab": {
          "base_uri": "https://localhost:8080/",
          "height": 286
        }
      },
      "source": [
        "# Show clusters by similarity\n",
        "\n",
        "plt.cla()\n",
        "plt.scatter(pred_pd[3],pred_pd[4],c=pred_pd[0])\n",
        "plt.show()"
      ],
      "execution_count": 41,
      "outputs": [
        {
          "output_type": "display_data",
          "data": {
            "image/png": "[encoded data removed]",
            "text/plain": [
              "<Figure size 432x288 with 1 Axes>"
            ]
          },
          "metadata": {
            "tags": [],
            "needs_background": "light"
          }
        }
      ]
    }
  ]
}
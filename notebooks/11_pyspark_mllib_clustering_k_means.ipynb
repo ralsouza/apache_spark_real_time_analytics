{
  "nbformat": 4,
  "nbformat_minor": 0,
  "metadata": {
    "colab": {
      "name": "11_pyspark_mllib_clustering_k_means.ipynb",
      "provenance": [],
      "collapsed_sections": [],
      "authorship_tag": "ABX9TyN9Zs4m4DD3pSFVvWNUu8C8",
      "include_colab_link": true
    },
    "kernelspec": {
      "name": "python3",
      "display_name": "Python 3"
    }
  },
  "cells": [
    {
      "cell_type": "markdown",
      "metadata": {
        "id": "view-in-github",
        "colab_type": "text"
      },
      "source": [
        "<a href=\"https://colab.research.google.com/github/ralsouza/apache_spark_real_time_analytics/blob/master/notebooks/11_pyspark_mllib_clustering_k_means.ipynb\" target=\"_parent\"><img src=\"https://colab.research.google.com/assets/colab-badge.svg\" alt=\"Open In Colab\"/></a>"
      ]
    },
    {
      "cell_type": "markdown",
      "metadata": {
        "id": "3WOFeIAAuyLp"
      },
      "source": [
        "# Clustering K-Means\n",
        "\n",
        "**Description:**\n",
        "*   Unsupervised algorithm;\n",
        "*   Grouping data by simility;\n",
        "*   Partitions the data by a `k` number of clusters, with each observation belongs to a just one cluster;\n",
        "*   The clusterizations is made measuring the distance between the data points and grouping them;\n",
        "*   Multiple distance measures may be used, such as, `Euclidian Distance` and `Manhattan Distance`;\n",
        "\n",
        "**Advantages:**\n",
        "*   Faster;\n",
        "*   Efficient to many variables;\n",
        "\n",
        "**Disvantages:**\n",
        "*   The `k` value must be know;\n",
        "*   The initial value of `k` influences on created clusters;\n",
        "\n",
        "**Application:**\n",
        "*   Priliminary grouping before applying classification techniques;\n",
        "*   Geographic clustering;\n",
        "\n"
      ]
    },
    {
      "cell_type": "markdown",
      "metadata": {
        "id": "RTIAKHuN0oXV"
      },
      "source": [
        "# Grouping cars"
      ]
    },
    {
      "cell_type": "code",
      "metadata": {
        "id": "p01-TxGzuYz-"
      },
      "source": [
        "# Libraries\n"
      ],
      "execution_count": null,
      "outputs": []
    }
  ]
}
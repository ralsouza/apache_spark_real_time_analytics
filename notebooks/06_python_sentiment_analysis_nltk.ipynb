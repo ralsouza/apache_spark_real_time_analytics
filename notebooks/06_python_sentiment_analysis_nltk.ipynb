{
  "nbformat": 4,
  "nbformat_minor": 0,
  "metadata": {
    "anaconda-cloud": {},
    "kernelspec": {
      "display_name": "Python 3",
      "language": "python",
      "name": "python3"
    },
    "language_info": {
      "codemirror_mode": {
        "name": "ipython",
        "version": 3
      },
      "file_extension": ".py",
      "mimetype": "text/x-python",
      "name": "python",
      "nbconvert_exporter": "python",
      "pygments_lexer": "ipython3",
      "version": "3.7.3"
    },
    "colab": {
      "name": "06_python_sentiment_analysis_nltk.ipynb",
      "provenance": [],
      "collapsed_sections": [
        "djGeGX_xa972",
        "T6Z4lLcCa98n",
        "fegH1PB_a99J",
        "9hvT5qHua99e",
        "i71MOL2Ca99q"
      ],
      "include_colab_link": true
    }
  },
  "cells": [
    {
      "cell_type": "markdown",
      "metadata": {
        "id": "view-in-github",
        "colab_type": "text"
      },
      "source": [
        "<a href=\"https://colab.research.google.com/github/ralsouza/apache_spark_real_time_analytics/blob/master/notebooks/06_python_sentiment_analysis_nltk.ipynb\" target=\"_parent\"><img src=\"https://colab.research.google.com/assets/colab-badge.svg\" alt=\"Open In Colab\"/></a>"
      ]
    },
    {
      "cell_type": "markdown",
      "metadata": {
        "id": "CUbZjSkJa96X",
        "colab_type": "text"
      },
      "source": [
        "# Processamento de Linguagem Natural com Python - NLTK"
      ]
    },
    {
      "cell_type": "markdown",
      "metadata": {
        "id": "hYS0XnE3a96Z",
        "colab_type": "text"
      },
      "source": [
        "## Instalação do pacote NLTK\n",
        "http://www.nltk.org/install.html"
      ]
    },
    {
      "cell_type": "code",
      "metadata": {
        "id": "vNxfIWKaa96b",
        "colab_type": "code",
        "colab": {},
        "outputId": "7cc28223-f09b-4524-adf9-e7869fe347c1"
      },
      "source": [
        "# Instalação do módulo NLTK\n",
        "!pip install nltk"
      ],
      "execution_count": null,
      "outputs": [
        {
          "output_type": "stream",
          "text": [
            "Requirement already satisfied: nltk in /Users/dmpm/anaconda3/lib/python3.7/site-packages (3.4)\r\n",
            "Requirement already satisfied: six in /Users/dmpm/anaconda3/lib/python3.7/site-packages (from nltk) (1.12.0)\r\n",
            "Requirement already satisfied: singledispatch in /Users/dmpm/anaconda3/lib/python3.7/site-packages (from nltk) (3.4.0.3)\r\n"
          ],
          "name": "stdout"
        }
      ]
    },
    {
      "cell_type": "code",
      "metadata": {
        "id": "jjZuiepJa96m",
        "colab_type": "code",
        "colab": {}
      },
      "source": [
        "import nltk"
      ],
      "execution_count": null,
      "outputs": []
    },
    {
      "cell_type": "code",
      "metadata": {
        "id": "u7QWaZHGa96t",
        "colab_type": "code",
        "colab": {},
        "outputId": "83368d17-b4b1-45ab-e4d6-8c2c2df7caef"
      },
      "source": [
        "# Instalando os arquivos de dados do NLTK\n",
        "# Clique em Download quando solicitado\n",
        "nltk.download()"
      ],
      "execution_count": null,
      "outputs": [
        {
          "output_type": "stream",
          "text": [
            "showing info https://raw.githubusercontent.com/nltk/nltk_data/gh-pages/index.xml\n"
          ],
          "name": "stdout"
        },
        {
          "output_type": "execute_result",
          "data": {
            "text/plain": [
              "True"
            ]
          },
          "metadata": {
            "tags": []
          },
          "execution_count": 3
        }
      ]
    },
    {
      "cell_type": "markdown",
      "metadata": {
        "id": "qBHRpQEqa96y",
        "colab_type": "text"
      },
      "source": [
        "### Leia a definição e execute as células para compreender o código de cada uma e o conceito que está sendo demonstrado"
      ]
    },
    {
      "cell_type": "markdown",
      "metadata": {
        "id": "cfmqnYena960",
        "colab_type": "text"
      },
      "source": [
        "## Tokenization"
      ]
    },
    {
      "cell_type": "markdown",
      "metadata": {
        "id": "_TkMrTWYa961",
        "colab_type": "text"
      },
      "source": [
        "Processo de dividir uma string em listas de pedaços ou \"tokens\". Um token é uma parte inteira. Por exemplos: uma palavra é um token em uma sentença. Uma sentença é um token em um parágrafo."
      ]
    },
    {
      "cell_type": "markdown",
      "metadata": {
        "id": "hss9Txu0a963",
        "colab_type": "text"
      },
      "source": [
        "### Dividindo um parágrafo em frases"
      ]
    },
    {
      "cell_type": "code",
      "metadata": {
        "id": "N3dQ4pFaa964",
        "colab_type": "code",
        "colab": {}
      },
      "source": [
        "paragrafo = \"Oi. Bom saber que você está aprendendo PLN. Obrigado por estar conosco.\""
      ],
      "execution_count": null,
      "outputs": []
    },
    {
      "cell_type": "code",
      "metadata": {
        "id": "Ocdi7kh_a969",
        "colab_type": "code",
        "colab": {}
      },
      "source": [
        "from nltk.tokenize import sent_tokenize"
      ],
      "execution_count": null,
      "outputs": []
    },
    {
      "cell_type": "code",
      "metadata": {
        "id": "p9f2iqIya97I",
        "colab_type": "code",
        "colab": {},
        "outputId": "3afc147b-4d7c-4861-d7ec-b62a4a4bccec"
      },
      "source": [
        "# Dividindo o parágrafo em frases\n",
        "sent_tokenize(paragrafo)"
      ],
      "execution_count": null,
      "outputs": [
        {
          "output_type": "execute_result",
          "data": {
            "text/plain": [
              "['Oi.',\n",
              " 'Bom saber que você está aprendendo PLN.',\n",
              " 'Obrigado por estar conosco.']"
            ]
          },
          "metadata": {
            "tags": []
          },
          "execution_count": 6
        }
      ]
    },
    {
      "cell_type": "code",
      "metadata": {
        "id": "MKns0XyDa97V",
        "colab_type": "code",
        "colab": {}
      },
      "source": [
        "import nltk.data"
      ],
      "execution_count": null,
      "outputs": []
    },
    {
      "cell_type": "code",
      "metadata": {
        "id": "hJv2Ajrva97a",
        "colab_type": "code",
        "colab": {}
      },
      "source": [
        "# Utilizando dados do pacote NLTK\n",
        "tokenizer = nltk.data.load('tokenizers/punkt/PY3/english.pickle')\n",
        "\n",
        "# Load no windows\n",
        "#tokenizer = nltk.data.load('tokenizers/punkt/english.pickle')"
      ],
      "execution_count": null,
      "outputs": []
    },
    {
      "cell_type": "code",
      "metadata": {
        "id": "7HeDUaEYa97g",
        "colab_type": "code",
        "colab": {},
        "outputId": "bfb50e9a-cd30-46d2-fc70-c892ac60a2ab"
      },
      "source": [
        "tokenizer.tokenize(paragrafo)"
      ],
      "execution_count": null,
      "outputs": [
        {
          "output_type": "execute_result",
          "data": {
            "text/plain": [
              "['Oi.',\n",
              " 'Bom saber que você está aprendendo PLN.',\n",
              " 'Obrigado por estar conosco.']"
            ]
          },
          "metadata": {
            "tags": []
          },
          "execution_count": 9
        }
      ]
    },
    {
      "cell_type": "code",
      "metadata": {
        "id": "VGqhNLbya97j",
        "colab_type": "code",
        "colab": {}
      },
      "source": [
        "# Dados em espanhol\n",
        "spanish_tokenizer = nltk.data.load('tokenizers/punkt/PY3/spanish.pickle')\n",
        "\n",
        "# Load no windows\n",
        "#spanish_tokenizer = nltk.data.load('tokenizers/punkt/spanish.pickle')"
      ],
      "execution_count": null,
      "outputs": []
    },
    {
      "cell_type": "code",
      "metadata": {
        "id": "HaGNANARa97p",
        "colab_type": "code",
        "colab": {},
        "outputId": "cb2d6659-6c92-43a3-a748-fa437ef37737"
      },
      "source": [
        "spanish_tokenizer.tokenize('Hola amigo. Estoy bien.')"
      ],
      "execution_count": null,
      "outputs": [
        {
          "output_type": "execute_result",
          "data": {
            "text/plain": [
              "['Hola amigo.', 'Estoy bien.']"
            ]
          },
          "metadata": {
            "tags": []
          },
          "execution_count": 11
        }
      ]
    },
    {
      "cell_type": "code",
      "metadata": {
        "id": "WvZCaz5ra97w",
        "colab_type": "code",
        "colab": {},
        "outputId": "813ad004-50fa-4d5f-84e6-11e48774518d"
      },
      "source": [
        "spanish_tokenizer"
      ],
      "execution_count": null,
      "outputs": [
        {
          "output_type": "execute_result",
          "data": {
            "text/plain": [
              "<nltk.tokenize.punkt.PunktSentenceTokenizer at 0x1a1d2a4dd8>"
            ]
          },
          "metadata": {
            "tags": []
          },
          "execution_count": 12
        }
      ]
    },
    {
      "cell_type": "markdown",
      "metadata": {
        "id": "djGeGX_xa972",
        "colab_type": "text"
      },
      "source": [
        "### Dividindo uma frase em palavras"
      ]
    },
    {
      "cell_type": "code",
      "metadata": {
        "id": "tX2t5GNBa973",
        "colab_type": "code",
        "colab": {}
      },
      "source": [
        "from nltk.tokenize import word_tokenize"
      ],
      "execution_count": null,
      "outputs": []
    },
    {
      "cell_type": "code",
      "metadata": {
        "id": "poGsQb5pa978",
        "colab_type": "code",
        "colab": {},
        "outputId": "16ee2f72-3aec-4fa2-a7ff-97a29835188c"
      },
      "source": [
        "word_tokenize('Data Science Academy')"
      ],
      "execution_count": null,
      "outputs": [
        {
          "output_type": "execute_result",
          "data": {
            "text/plain": [
              "['Data', 'Science', 'Academy']"
            ]
          },
          "metadata": {
            "tags": []
          },
          "execution_count": 14
        }
      ]
    },
    {
      "cell_type": "code",
      "metadata": {
        "id": "ESSd6Pt2a98A",
        "colab_type": "code",
        "colab": {}
      },
      "source": [
        "from nltk.tokenize import TreebankWordTokenizer"
      ],
      "execution_count": null,
      "outputs": []
    },
    {
      "cell_type": "code",
      "metadata": {
        "id": "O_PLxvnba98D",
        "colab_type": "code",
        "colab": {}
      },
      "source": [
        "tokenizer = TreebankWordTokenizer()"
      ],
      "execution_count": null,
      "outputs": []
    },
    {
      "cell_type": "code",
      "metadata": {
        "id": "ipjDK0AYa98F",
        "colab_type": "code",
        "colab": {},
        "outputId": "f5c55e03-af60-4e29-fe6a-ab905061aee2"
      },
      "source": [
        "tokenizer.tokenize('Hello World.')"
      ],
      "execution_count": null,
      "outputs": [
        {
          "output_type": "execute_result",
          "data": {
            "text/plain": [
              "['Hello', 'World', '.']"
            ]
          },
          "metadata": {
            "tags": []
          },
          "execution_count": 17
        }
      ]
    },
    {
      "cell_type": "code",
      "metadata": {
        "id": "mCzMjsSNa98L",
        "colab_type": "code",
        "colab": {},
        "outputId": "bb234b2b-5497-4ed1-d209-483cc400d74b"
      },
      "source": [
        "word_tokenize(\"can't\")"
      ],
      "execution_count": null,
      "outputs": [
        {
          "output_type": "execute_result",
          "data": {
            "text/plain": [
              "['ca', \"n't\"]"
            ]
          },
          "metadata": {
            "tags": []
          },
          "execution_count": 18
        }
      ]
    },
    {
      "cell_type": "code",
      "metadata": {
        "id": "0lc5AA8ya98O",
        "colab_type": "code",
        "colab": {}
      },
      "source": [
        "from nltk.tokenize import WordPunctTokenizer"
      ],
      "execution_count": null,
      "outputs": []
    },
    {
      "cell_type": "code",
      "metadata": {
        "id": "kkOqZqYxa98S",
        "colab_type": "code",
        "colab": {}
      },
      "source": [
        "tokenizer = WordPunctTokenizer()"
      ],
      "execution_count": null,
      "outputs": []
    },
    {
      "cell_type": "code",
      "metadata": {
        "id": "xsNOSi6ja98V",
        "colab_type": "code",
        "colab": {},
        "outputId": "2c3a1ebd-73af-43c0-efe1-3a9a57dd3c23"
      },
      "source": [
        "tokenizer.tokenize(\"Can't is a contraction.\")"
      ],
      "execution_count": null,
      "outputs": [
        {
          "output_type": "execute_result",
          "data": {
            "text/plain": [
              "['Can', \"'\", 't', 'is', 'a', 'contraction', '.']"
            ]
          },
          "metadata": {
            "tags": []
          },
          "execution_count": 21
        }
      ]
    },
    {
      "cell_type": "code",
      "metadata": {
        "id": "911YV3f8a98X",
        "colab_type": "code",
        "colab": {}
      },
      "source": [
        "from nltk.tokenize import RegexpTokenizer"
      ],
      "execution_count": null,
      "outputs": []
    },
    {
      "cell_type": "code",
      "metadata": {
        "id": "yyMl8q_Pa98Z",
        "colab_type": "code",
        "colab": {}
      },
      "source": [
        "tokenizer = RegexpTokenizer(\"[\\w']+\")"
      ],
      "execution_count": null,
      "outputs": []
    },
    {
      "cell_type": "code",
      "metadata": {
        "id": "Bp-48JMba98b",
        "colab_type": "code",
        "colab": {},
        "outputId": "bf026e53-6d0e-463d-e66b-9f209bf0a813"
      },
      "source": [
        "tokenizer.tokenize(\"Can't is a contraction.\")"
      ],
      "execution_count": null,
      "outputs": [
        {
          "output_type": "execute_result",
          "data": {
            "text/plain": [
              "[\"Can't\", 'is', 'a', 'contraction']"
            ]
          },
          "metadata": {
            "tags": []
          },
          "execution_count": 24
        }
      ]
    },
    {
      "cell_type": "code",
      "metadata": {
        "id": "LbuN2uoPa98e",
        "colab_type": "code",
        "colab": {}
      },
      "source": [
        "from nltk.tokenize import regexp_tokenize"
      ],
      "execution_count": null,
      "outputs": []
    },
    {
      "cell_type": "code",
      "metadata": {
        "id": "APk7o5jha98g",
        "colab_type": "code",
        "colab": {},
        "outputId": "9cbf2b91-1b8b-410a-ee86-5802a65dfe8b"
      },
      "source": [
        "regexp_tokenize(\"Can't is a contraction.\", \"[\\w']+\")"
      ],
      "execution_count": null,
      "outputs": [
        {
          "output_type": "execute_result",
          "data": {
            "text/plain": [
              "[\"Can't\", 'is', 'a', 'contraction']"
            ]
          },
          "metadata": {
            "tags": []
          },
          "execution_count": 26
        }
      ]
    },
    {
      "cell_type": "code",
      "metadata": {
        "id": "OrIj9Gcta98i",
        "colab_type": "code",
        "colab": {}
      },
      "source": [
        "tokenizer = RegexpTokenizer('\\s+', gaps = True)"
      ],
      "execution_count": null,
      "outputs": []
    },
    {
      "cell_type": "code",
      "metadata": {
        "id": "gc3cH73Ga98k",
        "colab_type": "code",
        "colab": {},
        "outputId": "124f8e20-fd4b-4426-dd47-194d0c622c21"
      },
      "source": [
        "tokenizer.tokenize(\"Can't is a contraction.\")"
      ],
      "execution_count": null,
      "outputs": [
        {
          "output_type": "execute_result",
          "data": {
            "text/plain": [
              "[\"Can't\", 'is', 'a', 'contraction.']"
            ]
          },
          "metadata": {
            "tags": []
          },
          "execution_count": 28
        }
      ]
    },
    {
      "cell_type": "markdown",
      "metadata": {
        "collapsed": true,
        "id": "T6Z4lLcCa98n",
        "colab_type": "text"
      },
      "source": [
        "### Treinando um Tokenizer"
      ]
    },
    {
      "cell_type": "code",
      "metadata": {
        "id": "Ck3u1HWSa98o",
        "colab_type": "code",
        "colab": {}
      },
      "source": [
        "from nltk.tokenize import PunktSentenceTokenizer\n",
        "from nltk.corpus import webtext"
      ],
      "execution_count": null,
      "outputs": []
    },
    {
      "cell_type": "code",
      "metadata": {
        "id": "xcKl_muka98q",
        "colab_type": "code",
        "colab": {}
      },
      "source": [
        "# /Users/dmpm/nltk_data/corpora/webtext\n",
        "texto = webtext.raw('overheard.txt')"
      ],
      "execution_count": null,
      "outputs": []
    },
    {
      "cell_type": "code",
      "metadata": {
        "id": "Bt8vx7Gga98s",
        "colab_type": "code",
        "colab": {}
      },
      "source": [
        "sent_tokenizer = PunktSentenceTokenizer(texto)"
      ],
      "execution_count": null,
      "outputs": []
    },
    {
      "cell_type": "code",
      "metadata": {
        "id": "uple8eaEa98u",
        "colab_type": "code",
        "colab": {}
      },
      "source": [
        "sents1 = sent_tokenizer.tokenize(texto)"
      ],
      "execution_count": null,
      "outputs": []
    },
    {
      "cell_type": "code",
      "metadata": {
        "id": "ax-zi0pZa98v",
        "colab_type": "code",
        "colab": {},
        "outputId": "b4923657-bff2-4d15-e379-57a4ddbcde4d"
      },
      "source": [
        "sents1[0]"
      ],
      "execution_count": null,
      "outputs": [
        {
          "output_type": "execute_result",
          "data": {
            "text/plain": [
              "'White guy: So, do you have any plans for this evening?'"
            ]
          },
          "metadata": {
            "tags": []
          },
          "execution_count": 33
        }
      ]
    },
    {
      "cell_type": "code",
      "metadata": {
        "id": "RAd1rpQoa98y",
        "colab_type": "code",
        "colab": {}
      },
      "source": [
        "from nltk.tokenize import sent_tokenize"
      ],
      "execution_count": null,
      "outputs": []
    },
    {
      "cell_type": "code",
      "metadata": {
        "id": "WqFdyMLta980",
        "colab_type": "code",
        "colab": {}
      },
      "source": [
        "sents2 = sent_tokenize(texto)"
      ],
      "execution_count": null,
      "outputs": []
    },
    {
      "cell_type": "code",
      "metadata": {
        "id": "Sc5kR1Nwa982",
        "colab_type": "code",
        "colab": {},
        "outputId": "a8e0425b-2031-4867-8311-d2b72c10b04f"
      },
      "source": [
        "sents2[0]"
      ],
      "execution_count": null,
      "outputs": [
        {
          "output_type": "execute_result",
          "data": {
            "text/plain": [
              "'White guy: So, do you have any plans for this evening?'"
            ]
          },
          "metadata": {
            "tags": []
          },
          "execution_count": 36
        }
      ]
    },
    {
      "cell_type": "code",
      "metadata": {
        "id": "p2-Ke48-a985",
        "colab_type": "code",
        "colab": {},
        "outputId": "9dd87591-3455-405d-9083-19e70501495a"
      },
      "source": [
        "sents1[678]"
      ],
      "execution_count": null,
      "outputs": [
        {
          "output_type": "execute_result",
          "data": {
            "text/plain": [
              "'Girl: But you already have a Big Mac...'"
            ]
          },
          "metadata": {
            "tags": []
          },
          "execution_count": 37
        }
      ]
    },
    {
      "cell_type": "code",
      "metadata": {
        "id": "Erxh5oD1a987",
        "colab_type": "code",
        "colab": {},
        "outputId": "a44c7559-3a58-4593-94e2-a65a6ad5e764"
      },
      "source": [
        "sents2[678]"
      ],
      "execution_count": null,
      "outputs": [
        {
          "output_type": "execute_result",
          "data": {
            "text/plain": [
              "'Girl: But you already have a Big Mac...\\nHobo: Oh, this is all theatrical.'"
            ]
          },
          "metadata": {
            "tags": []
          },
          "execution_count": 38
        }
      ]
    },
    {
      "cell_type": "code",
      "metadata": {
        "id": "YmlRmo53a98-",
        "colab_type": "code",
        "colab": {}
      },
      "source": [
        "# Inserindo caminho em sistema Windows\n",
        "with open('/Users/dmpm/nltk_data/corpora/webtext/overheard.txt', encoding = 'ISO-8859-2') as f:\n",
        "    texto = f.read()\n",
        "    \n",
        "# Path para o Windows\n",
        "# with open('C:/Users/usuario/AppData/Roaming/nltk_data/corpora/webtext/overheard.txt', encoding = 'ISO-8859-2') as f:\n",
        "#    texto = f.read()"
      ],
      "execution_count": null,
      "outputs": []
    },
    {
      "cell_type": "code",
      "metadata": {
        "id": "VcapnCGUa99B",
        "colab_type": "code",
        "colab": {}
      },
      "source": [
        "sent_tokenizer = PunktSentenceTokenizer(texto)"
      ],
      "execution_count": null,
      "outputs": []
    },
    {
      "cell_type": "code",
      "metadata": {
        "id": "79VD16YIa99D",
        "colab_type": "code",
        "colab": {}
      },
      "source": [
        "sents = sent_tokenizer.tokenize(texto)"
      ],
      "execution_count": null,
      "outputs": []
    },
    {
      "cell_type": "code",
      "metadata": {
        "id": "4bfESEnMa99F",
        "colab_type": "code",
        "colab": {},
        "outputId": "069464e2-62af-48cc-dcf9-6897fb1ea868"
      },
      "source": [
        "sents[0]"
      ],
      "execution_count": null,
      "outputs": [
        {
          "output_type": "execute_result",
          "data": {
            "text/plain": [
              "'White guy: So, do you have any plans for this evening?'"
            ]
          },
          "metadata": {
            "tags": []
          },
          "execution_count": 42
        }
      ]
    },
    {
      "cell_type": "code",
      "metadata": {
        "id": "cPvdWKkZa99H",
        "colab_type": "code",
        "colab": {},
        "outputId": "ca3c2a62-1795-435f-aa07-cfa0d5243a68"
      },
      "source": [
        "sents[678]"
      ],
      "execution_count": null,
      "outputs": [
        {
          "output_type": "execute_result",
          "data": {
            "text/plain": [
              "'Girl: But you already have a Big Mac...'"
            ]
          },
          "metadata": {
            "tags": []
          },
          "execution_count": 43
        }
      ]
    },
    {
      "cell_type": "markdown",
      "metadata": {
        "id": "fegH1PB_a99J",
        "colab_type": "text"
      },
      "source": [
        "## Stopwords"
      ]
    },
    {
      "cell_type": "markdown",
      "metadata": {
        "id": "2-9lFnqxa99J",
        "colab_type": "text"
      },
      "source": [
        "Stopwords são palavras comuns que normalmente não contribuem para o significado de uma frase, pelo menos com relação ao propósito da informação e do processamento da linguagem natural. São palavras como \"The\" e \"a\" ((em inglês) ou \"O/A\" e \"Um/Uma\" ((em português). Muitos mecanismos de busca filtram estas palavras (stopwords), como forma de economizar espaço em seus índices de pesquisa."
      ]
    },
    {
      "cell_type": "code",
      "metadata": {
        "id": "Ng17FN0-a99J",
        "colab_type": "code",
        "colab": {}
      },
      "source": [
        "from nltk.corpus import stopwords"
      ],
      "execution_count": null,
      "outputs": []
    },
    {
      "cell_type": "code",
      "metadata": {
        "id": "cjc5gYAza99L",
        "colab_type": "code",
        "colab": {}
      },
      "source": [
        "english_stops = set(stopwords.words('english'))"
      ],
      "execution_count": null,
      "outputs": []
    },
    {
      "cell_type": "code",
      "metadata": {
        "id": "CRi2-K_Qa99N",
        "colab_type": "code",
        "colab": {}
      },
      "source": [
        "words = [\"Can't\", 'is', 'a', 'contraction']"
      ],
      "execution_count": null,
      "outputs": []
    },
    {
      "cell_type": "code",
      "metadata": {
        "id": "orLwFDk4a99P",
        "colab_type": "code",
        "colab": {},
        "outputId": "dde02387-06d3-4292-dc9b-cf7d4d51f4c5"
      },
      "source": [
        "[word for word in words if word not in english_stops]"
      ],
      "execution_count": null,
      "outputs": [
        {
          "output_type": "execute_result",
          "data": {
            "text/plain": [
              "[\"Can't\", 'contraction']"
            ]
          },
          "metadata": {
            "tags": []
          },
          "execution_count": 47
        }
      ]
    },
    {
      "cell_type": "code",
      "metadata": {
        "id": "-tcOsHPwa99R",
        "colab_type": "code",
        "colab": {}
      },
      "source": [
        "portuguese_stops = set(stopwords.words('portuguese'))"
      ],
      "execution_count": null,
      "outputs": []
    },
    {
      "cell_type": "code",
      "metadata": {
        "id": "Mp2ENxY2a99T",
        "colab_type": "code",
        "colab": {}
      },
      "source": [
        "palavras = [\"Aquilo\", 'é', 'um', 'gato']"
      ],
      "execution_count": null,
      "outputs": []
    },
    {
      "cell_type": "code",
      "metadata": {
        "id": "nDOJF1gqa99V",
        "colab_type": "code",
        "colab": {},
        "outputId": "2ffa9dc9-82cd-41db-8d1b-85a868e5220a"
      },
      "source": [
        "[palavra for palavra in palavras if palavra not in portuguese_stops]"
      ],
      "execution_count": null,
      "outputs": [
        {
          "output_type": "execute_result",
          "data": {
            "text/plain": [
              "['Aquilo', 'é', 'gato']"
            ]
          },
          "metadata": {
            "tags": []
          },
          "execution_count": 50
        }
      ]
    },
    {
      "cell_type": "code",
      "metadata": {
        "id": "JviWsFXda99Y",
        "colab_type": "code",
        "colab": {},
        "outputId": "540c6560-4898-41a2-d994-6d24e6d7ac4c"
      },
      "source": [
        "stopwords.fileids()"
      ],
      "execution_count": null,
      "outputs": [
        {
          "output_type": "execute_result",
          "data": {
            "text/plain": [
              "['arabic',\n",
              " 'azerbaijani',\n",
              " 'danish',\n",
              " 'dutch',\n",
              " 'english',\n",
              " 'finnish',\n",
              " 'french',\n",
              " 'german',\n",
              " 'greek',\n",
              " 'hungarian',\n",
              " 'indonesian',\n",
              " 'italian',\n",
              " 'kazakh',\n",
              " 'nepali',\n",
              " 'norwegian',\n",
              " 'portuguese',\n",
              " 'romanian',\n",
              " 'russian',\n",
              " 'spanish',\n",
              " 'swedish',\n",
              " 'turkish']"
            ]
          },
          "metadata": {
            "tags": []
          },
          "execution_count": 51
        }
      ]
    },
    {
      "cell_type": "code",
      "metadata": {
        "id": "87dqxV6da99a",
        "colab_type": "code",
        "colab": {},
        "outputId": "27465b50-92bd-407a-b832-fd28f24f4f2e"
      },
      "source": [
        "stopwords.words('portuguese')"
      ],
      "execution_count": null,
      "outputs": [
        {
          "output_type": "execute_result",
          "data": {
            "text/plain": [
              "['de',\n",
              " 'a',\n",
              " 'o',\n",
              " 'que',\n",
              " 'e',\n",
              " 'do',\n",
              " 'da',\n",
              " 'em',\n",
              " 'um',\n",
              " 'para',\n",
              " 'com',\n",
              " 'não',\n",
              " 'uma',\n",
              " 'os',\n",
              " 'no',\n",
              " 'se',\n",
              " 'na',\n",
              " 'por',\n",
              " 'mais',\n",
              " 'as',\n",
              " 'dos',\n",
              " 'como',\n",
              " 'mas',\n",
              " 'ao',\n",
              " 'ele',\n",
              " 'das',\n",
              " 'à',\n",
              " 'seu',\n",
              " 'sua',\n",
              " 'ou',\n",
              " 'quando',\n",
              " 'muito',\n",
              " 'nos',\n",
              " 'já',\n",
              " 'eu',\n",
              " 'também',\n",
              " 'só',\n",
              " 'pelo',\n",
              " 'pela',\n",
              " 'até',\n",
              " 'isso',\n",
              " 'ela',\n",
              " 'entre',\n",
              " 'depois',\n",
              " 'sem',\n",
              " 'mesmo',\n",
              " 'aos',\n",
              " 'seus',\n",
              " 'quem',\n",
              " 'nas',\n",
              " 'me',\n",
              " 'esse',\n",
              " 'eles',\n",
              " 'você',\n",
              " 'essa',\n",
              " 'num',\n",
              " 'nem',\n",
              " 'suas',\n",
              " 'meu',\n",
              " 'às',\n",
              " 'minha',\n",
              " 'numa',\n",
              " 'pelos',\n",
              " 'elas',\n",
              " 'qual',\n",
              " 'nós',\n",
              " 'lhe',\n",
              " 'deles',\n",
              " 'essas',\n",
              " 'esses',\n",
              " 'pelas',\n",
              " 'este',\n",
              " 'dele',\n",
              " 'tu',\n",
              " 'te',\n",
              " 'vocês',\n",
              " 'vos',\n",
              " 'lhes',\n",
              " 'meus',\n",
              " 'minhas',\n",
              " 'teu',\n",
              " 'tua',\n",
              " 'teus',\n",
              " 'tuas',\n",
              " 'nosso',\n",
              " 'nossa',\n",
              " 'nossos',\n",
              " 'nossas',\n",
              " 'dela',\n",
              " 'delas',\n",
              " 'esta',\n",
              " 'estes',\n",
              " 'estas',\n",
              " 'aquele',\n",
              " 'aquela',\n",
              " 'aqueles',\n",
              " 'aquelas',\n",
              " 'isto',\n",
              " 'aquilo',\n",
              " 'estou',\n",
              " 'está',\n",
              " 'estamos',\n",
              " 'estão',\n",
              " 'estive',\n",
              " 'esteve',\n",
              " 'estivemos',\n",
              " 'estiveram',\n",
              " 'estava',\n",
              " 'estávamos',\n",
              " 'estavam',\n",
              " 'estivera',\n",
              " 'estivéramos',\n",
              " 'esteja',\n",
              " 'estejamos',\n",
              " 'estejam',\n",
              " 'estivesse',\n",
              " 'estivéssemos',\n",
              " 'estivessem',\n",
              " 'estiver',\n",
              " 'estivermos',\n",
              " 'estiverem',\n",
              " 'hei',\n",
              " 'há',\n",
              " 'havemos',\n",
              " 'hão',\n",
              " 'houve',\n",
              " 'houvemos',\n",
              " 'houveram',\n",
              " 'houvera',\n",
              " 'houvéramos',\n",
              " 'haja',\n",
              " 'hajamos',\n",
              " 'hajam',\n",
              " 'houvesse',\n",
              " 'houvéssemos',\n",
              " 'houvessem',\n",
              " 'houver',\n",
              " 'houvermos',\n",
              " 'houverem',\n",
              " 'houverei',\n",
              " 'houverá',\n",
              " 'houveremos',\n",
              " 'houverão',\n",
              " 'houveria',\n",
              " 'houveríamos',\n",
              " 'houveriam',\n",
              " 'sou',\n",
              " 'somos',\n",
              " 'são',\n",
              " 'era',\n",
              " 'éramos',\n",
              " 'eram',\n",
              " 'fui',\n",
              " 'foi',\n",
              " 'fomos',\n",
              " 'foram',\n",
              " 'fora',\n",
              " 'fôramos',\n",
              " 'seja',\n",
              " 'sejamos',\n",
              " 'sejam',\n",
              " 'fosse',\n",
              " 'fôssemos',\n",
              " 'fossem',\n",
              " 'for',\n",
              " 'formos',\n",
              " 'forem',\n",
              " 'serei',\n",
              " 'será',\n",
              " 'seremos',\n",
              " 'serão',\n",
              " 'seria',\n",
              " 'seríamos',\n",
              " 'seriam',\n",
              " 'tenho',\n",
              " 'tem',\n",
              " 'temos',\n",
              " 'tém',\n",
              " 'tinha',\n",
              " 'tínhamos',\n",
              " 'tinham',\n",
              " 'tive',\n",
              " 'teve',\n",
              " 'tivemos',\n",
              " 'tiveram',\n",
              " 'tivera',\n",
              " 'tivéramos',\n",
              " 'tenha',\n",
              " 'tenhamos',\n",
              " 'tenham',\n",
              " 'tivesse',\n",
              " 'tivéssemos',\n",
              " 'tivessem',\n",
              " 'tiver',\n",
              " 'tivermos',\n",
              " 'tiverem',\n",
              " 'terei',\n",
              " 'terá',\n",
              " 'teremos',\n",
              " 'terão',\n",
              " 'teria',\n",
              " 'teríamos',\n",
              " 'teriam']"
            ]
          },
          "metadata": {
            "tags": []
          },
          "execution_count": 52
        }
      ]
    },
    {
      "cell_type": "markdown",
      "metadata": {
        "id": "9hvT5qHua99e",
        "colab_type": "text"
      },
      "source": [
        "### Wordnet"
      ]
    },
    {
      "cell_type": "markdown",
      "metadata": {
        "id": "w5HYNdRma99e",
        "colab_type": "text"
      },
      "source": [
        "WordNet é um banco de dados léxico (em Inglês). É uma espécie de dicionário criado especificamente para processamento de linguagem natural."
      ]
    },
    {
      "cell_type": "code",
      "metadata": {
        "id": "mDzdwsdza99f",
        "colab_type": "code",
        "colab": {}
      },
      "source": [
        "from nltk.corpus import wordnet"
      ],
      "execution_count": null,
      "outputs": []
    },
    {
      "cell_type": "code",
      "metadata": {
        "id": "LyeFalR9a99g",
        "colab_type": "code",
        "colab": {}
      },
      "source": [
        "syn = wordnet.synsets('cookbook')[0]"
      ],
      "execution_count": null,
      "outputs": []
    },
    {
      "cell_type": "code",
      "metadata": {
        "id": "xPq4Zpyaa99i",
        "colab_type": "code",
        "colab": {},
        "outputId": "e022c8c5-a5b8-4a22-b338-c6efe591e374"
      },
      "source": [
        "syn.name()"
      ],
      "execution_count": null,
      "outputs": [
        {
          "output_type": "execute_result",
          "data": {
            "text/plain": [
              "'cookbook.n.01'"
            ]
          },
          "metadata": {
            "tags": []
          },
          "execution_count": 55
        }
      ]
    },
    {
      "cell_type": "code",
      "metadata": {
        "id": "jZHm8m9ca99k",
        "colab_type": "code",
        "colab": {},
        "outputId": "d6ee4ee5-3452-4280-8656-3d788117b233"
      },
      "source": [
        "syn.definition()"
      ],
      "execution_count": null,
      "outputs": [
        {
          "output_type": "execute_result",
          "data": {
            "text/plain": [
              "'a book of recipes and cooking directions'"
            ]
          },
          "metadata": {
            "tags": []
          },
          "execution_count": 56
        }
      ]
    },
    {
      "cell_type": "code",
      "metadata": {
        "id": "t6AQHgNFa99o",
        "colab_type": "code",
        "colab": {},
        "outputId": "f0560c00-a3f1-4a9b-a4af-4e2a0221827a"
      },
      "source": [
        "wordnet.synsets('cooking')[0].examples()"
      ],
      "execution_count": null,
      "outputs": [
        {
          "output_type": "execute_result",
          "data": {
            "text/plain": [
              "['cooking can be a great art',\n",
              " 'people are needed who have experience in cookery',\n",
              " 'he left the preparation of meals to his wife']"
            ]
          },
          "metadata": {
            "tags": []
          },
          "execution_count": 57
        }
      ]
    },
    {
      "cell_type": "markdown",
      "metadata": {
        "id": "i71MOL2Ca99q",
        "colab_type": "text"
      },
      "source": [
        "## Collocations"
      ]
    },
    {
      "cell_type": "markdown",
      "metadata": {
        "id": "ERPAJRQga99q",
        "colab_type": "text"
      },
      "source": [
        "Collocations são duas ou mais palavras que tendem a aparecer frequentemente juntas, como \"Estados Unidos\" ou \"Rio Grande do Sul\". Essas palavras podem gerar diversas combinações e por isso o contexto também é importante no processamento de linguagem natural."
      ]
    },
    {
      "cell_type": "code",
      "metadata": {
        "id": "Qb7bgrafa99r",
        "colab_type": "code",
        "colab": {}
      },
      "source": [
        "from nltk.corpus import webtext\n",
        "from nltk.collocations import BigramCollocationFinder\n",
        "from nltk.metrics import BigramAssocMeasures"
      ],
      "execution_count": null,
      "outputs": []
    },
    {
      "cell_type": "code",
      "metadata": {
        "id": "8iyEZaRya99t",
        "colab_type": "code",
        "colab": {}
      },
      "source": [
        "words = [w.lower() for w in webtext.words('grail.txt')]"
      ],
      "execution_count": null,
      "outputs": []
    },
    {
      "cell_type": "code",
      "metadata": {
        "id": "t3EifSLHa99u",
        "colab_type": "code",
        "colab": {}
      },
      "source": [
        "bcf = BigramCollocationFinder.from_words(words)"
      ],
      "execution_count": null,
      "outputs": []
    },
    {
      "cell_type": "code",
      "metadata": {
        "id": "_2Ml74apa99w",
        "colab_type": "code",
        "colab": {},
        "outputId": "c5cf2430-2963-4404-e3fd-80af9ab1b28f"
      },
      "source": [
        "bcf.nbest(BigramAssocMeasures.likelihood_ratio, 4)"
      ],
      "execution_count": null,
      "outputs": [
        {
          "output_type": "execute_result",
          "data": {
            "text/plain": [
              "[(\"'\", 's'), ('arthur', ':'), ('#', '1'), (\"'\", 't')]"
            ]
          },
          "metadata": {
            "tags": []
          },
          "execution_count": 61
        }
      ]
    },
    {
      "cell_type": "code",
      "metadata": {
        "id": "NJy6uvkIa99y",
        "colab_type": "code",
        "colab": {}
      },
      "source": [
        "from nltk.corpus import stopwords"
      ],
      "execution_count": null,
      "outputs": []
    },
    {
      "cell_type": "code",
      "metadata": {
        "id": "SGfvSqpja99z",
        "colab_type": "code",
        "colab": {}
      },
      "source": [
        "stopset = set(stopwords.words('english'))"
      ],
      "execution_count": null,
      "outputs": []
    },
    {
      "cell_type": "code",
      "metadata": {
        "id": "IdrVe_HEa991",
        "colab_type": "code",
        "colab": {}
      },
      "source": [
        "filter_stops = lambda w: len(w) < 3 or w in stopset"
      ],
      "execution_count": null,
      "outputs": []
    },
    {
      "cell_type": "code",
      "metadata": {
        "id": "2P8VgrfMa992",
        "colab_type": "code",
        "colab": {}
      },
      "source": [
        "bcf.apply_word_filter(filter_stops)"
      ],
      "execution_count": null,
      "outputs": []
    },
    {
      "cell_type": "code",
      "metadata": {
        "id": "KzK7Fekha994",
        "colab_type": "code",
        "colab": {},
        "outputId": "1de11d3c-878f-41ca-fd15-274d40f4d9a6"
      },
      "source": [
        "bcf.nbest(BigramAssocMeasures.likelihood_ratio, 4)"
      ],
      "execution_count": null,
      "outputs": [
        {
          "output_type": "execute_result",
          "data": {
            "text/plain": [
              "[('black', 'knight'),\n",
              " ('clop', 'clop'),\n",
              " ('head', 'knight'),\n",
              " ('mumble', 'mumble')]"
            ]
          },
          "metadata": {
            "tags": []
          },
          "execution_count": 66
        }
      ]
    },
    {
      "cell_type": "markdown",
      "metadata": {
        "id": "tUuI8ATka997",
        "colab_type": "text"
      },
      "source": [
        "## Stemming Words"
      ]
    },
    {
      "cell_type": "markdown",
      "metadata": {
        "id": "06KmXqVIa997",
        "colab_type": "text"
      },
      "source": [
        "Stemming é a técnica de remover sufixos e prefixos de uma palavra, chamada stem. Por exemplo, o stem da palavra cooking é cook. Um bom algoritmo sabe que \"ing\" é um sufixo e pode ser removido. Stemming é muito usado em mecanismos de buscas para indexação de palavras. Ao invés de armazenar todas as formas de uma palavras, um mecamismo de busca armazena apenas o stem da palavra, reduzindo o tamanho do índice e aumentando a performance do processo de busca."
      ]
    },
    {
      "cell_type": "code",
      "metadata": {
        "id": "ro7EwOoaa997",
        "colab_type": "code",
        "colab": {}
      },
      "source": [
        "from nltk.stem import PorterStemmer"
      ],
      "execution_count": null,
      "outputs": []
    },
    {
      "cell_type": "code",
      "metadata": {
        "id": "U66kmR38a99-",
        "colab_type": "code",
        "colab": {}
      },
      "source": [
        "stemmer = PorterStemmer()"
      ],
      "execution_count": null,
      "outputs": []
    },
    {
      "cell_type": "code",
      "metadata": {
        "id": "6bvVbQXYa9-A",
        "colab_type": "code",
        "colab": {},
        "outputId": "9ad647ab-7681-48ce-ac66-b7bd847985c7"
      },
      "source": [
        "stemmer.stem('cooking')"
      ],
      "execution_count": null,
      "outputs": [
        {
          "output_type": "execute_result",
          "data": {
            "text/plain": [
              "'cook'"
            ]
          },
          "metadata": {
            "tags": []
          },
          "execution_count": 69
        }
      ]
    },
    {
      "cell_type": "code",
      "metadata": {
        "id": "oyz-a5Qva9-B",
        "colab_type": "code",
        "colab": {},
        "outputId": "a8e7d39f-ba52-4df9-ac0c-76dbb0c03ac5"
      },
      "source": [
        "stemmer.stem('cookery')"
      ],
      "execution_count": null,
      "outputs": [
        {
          "output_type": "execute_result",
          "data": {
            "text/plain": [
              "'cookeri'"
            ]
          },
          "metadata": {
            "tags": []
          },
          "execution_count": 70
        }
      ]
    },
    {
      "cell_type": "code",
      "metadata": {
        "id": "sFe-XkPea9-D",
        "colab_type": "code",
        "colab": {}
      },
      "source": [
        "from nltk.stem import LancasterStemmer"
      ],
      "execution_count": null,
      "outputs": []
    },
    {
      "cell_type": "code",
      "metadata": {
        "id": "aZNvuPopa9-F",
        "colab_type": "code",
        "colab": {}
      },
      "source": [
        "stemmer = LancasterStemmer()"
      ],
      "execution_count": null,
      "outputs": []
    },
    {
      "cell_type": "code",
      "metadata": {
        "id": "XQu761Wna9-G",
        "colab_type": "code",
        "colab": {},
        "outputId": "579debbd-d668-46e9-bccb-9b258b1b79b8"
      },
      "source": [
        "stemmer.stem('cooking')"
      ],
      "execution_count": null,
      "outputs": [
        {
          "output_type": "execute_result",
          "data": {
            "text/plain": [
              "'cook'"
            ]
          },
          "metadata": {
            "tags": []
          },
          "execution_count": 73
        }
      ]
    },
    {
      "cell_type": "code",
      "metadata": {
        "id": "QAmSbNcfa9-I",
        "colab_type": "code",
        "colab": {},
        "outputId": "9c4acc7e-4081-4333-be6b-19a97243b8b8"
      },
      "source": [
        "stemmer.stem('cookery')"
      ],
      "execution_count": null,
      "outputs": [
        {
          "output_type": "execute_result",
          "data": {
            "text/plain": [
              "'cookery'"
            ]
          },
          "metadata": {
            "tags": []
          },
          "execution_count": 74
        }
      ]
    },
    {
      "cell_type": "code",
      "metadata": {
        "id": "5wYd1zt1a9-J",
        "colab_type": "code",
        "colab": {}
      },
      "source": [
        "from nltk.stem import RegexpStemmer"
      ],
      "execution_count": null,
      "outputs": []
    },
    {
      "cell_type": "code",
      "metadata": {
        "id": "3y-298nba9-L",
        "colab_type": "code",
        "colab": {}
      },
      "source": [
        "stemmer = RegexpStemmer('ing')"
      ],
      "execution_count": null,
      "outputs": []
    },
    {
      "cell_type": "code",
      "metadata": {
        "id": "c2Lv7CaPa9-M",
        "colab_type": "code",
        "colab": {},
        "outputId": "6c812a44-9721-4c2e-dbcc-08e91a2c64db"
      },
      "source": [
        "stemmer.stem('cooking')"
      ],
      "execution_count": null,
      "outputs": [
        {
          "output_type": "execute_result",
          "data": {
            "text/plain": [
              "'cook'"
            ]
          },
          "metadata": {
            "tags": []
          },
          "execution_count": 77
        }
      ]
    },
    {
      "cell_type": "code",
      "metadata": {
        "id": "-9TKX32aa9-N",
        "colab_type": "code",
        "colab": {}
      },
      "source": [
        "from nltk.stem import SnowballStemmer"
      ],
      "execution_count": null,
      "outputs": []
    },
    {
      "cell_type": "code",
      "metadata": {
        "id": "Lc9g-UK0a9-O",
        "colab_type": "code",
        "colab": {},
        "outputId": "03d5b69f-98b9-4b8e-defa-f37b8eb759c8"
      },
      "source": [
        "SnowballStemmer.languages"
      ],
      "execution_count": null,
      "outputs": [
        {
          "output_type": "execute_result",
          "data": {
            "text/plain": [
              "('arabic',\n",
              " 'danish',\n",
              " 'dutch',\n",
              " 'english',\n",
              " 'finnish',\n",
              " 'french',\n",
              " 'german',\n",
              " 'hungarian',\n",
              " 'italian',\n",
              " 'norwegian',\n",
              " 'porter',\n",
              " 'portuguese',\n",
              " 'romanian',\n",
              " 'russian',\n",
              " 'spanish',\n",
              " 'swedish')"
            ]
          },
          "metadata": {
            "tags": []
          },
          "execution_count": 79
        }
      ]
    },
    {
      "cell_type": "code",
      "metadata": {
        "id": "aaZyeU_Ea9-Q",
        "colab_type": "code",
        "colab": {}
      },
      "source": [
        "spanish_stemmer = SnowballStemmer('portuguese')"
      ],
      "execution_count": null,
      "outputs": []
    },
    {
      "cell_type": "code",
      "metadata": {
        "id": "FnvN_xVRa9-R",
        "colab_type": "code",
        "colab": {},
        "outputId": "99844902-3613-492b-a08c-291c8f5695e2"
      },
      "source": [
        "spanish_stemmer.stem('Tudo bem')"
      ],
      "execution_count": null,
      "outputs": [
        {
          "output_type": "execute_result",
          "data": {
            "text/plain": [
              "'tudo b'"
            ]
          },
          "metadata": {
            "tags": []
          },
          "execution_count": 81
        }
      ]
    },
    {
      "cell_type": "markdown",
      "metadata": {
        "id": "r1tiWd_0a9-S",
        "colab_type": "text"
      },
      "source": [
        "### Corpus"
      ]
    },
    {
      "cell_type": "markdown",
      "metadata": {
        "id": "xloDZ1Sxa9-T",
        "colab_type": "text"
      },
      "source": [
        "Corpus é uma coleção de documentos de texto e Corpora é o plural de Corpus. Esse termo vem da palavra em Latim para corpo (nesse caso, o corpo de um texto). Um Corpus customizado é uma coleção de arquivos de texto organizados em um diretório.\n",
        "\n",
        "Se você for treinar seu próprio modelo como parte de um processo de classificação de texto (como análise de texto), você ter;a que criar seu próprio Corpus e treiná-lo."
      ]
    },
    {
      "cell_type": "code",
      "metadata": {
        "id": "T7V49mHla9-T",
        "colab_type": "code",
        "colab": {}
      },
      "source": [
        "from nltk.corpus.reader import WordListCorpusReader"
      ],
      "execution_count": null,
      "outputs": []
    },
    {
      "cell_type": "code",
      "metadata": {
        "id": "yfKQs7ila9-V",
        "colab_type": "code",
        "colab": {}
      },
      "source": [
        "# Criando um Corpus (arquivo palavras.txt no mesmo diretório do Jupyter Notebook)\n",
        "reader = WordListCorpusReader('.', ['palavras.txt'])"
      ],
      "execution_count": null,
      "outputs": []
    },
    {
      "cell_type": "code",
      "metadata": {
        "id": "MtUQBz9ca9-W",
        "colab_type": "code",
        "colab": {},
        "outputId": "44b46d34-e370-4ae3-9fd1-abbed7dbfa09"
      },
      "source": [
        "reader.words()"
      ],
      "execution_count": null,
      "outputs": [
        {
          "output_type": "execute_result",
          "data": {
            "text/plain": [
              "['Big Data', 'Data Science', 'Inteligência Artificial', 'Deep Learning']"
            ]
          },
          "metadata": {
            "tags": []
          },
          "execution_count": 84
        }
      ]
    },
    {
      "cell_type": "code",
      "metadata": {
        "id": "OfhXvcv9a9-Y",
        "colab_type": "code",
        "colab": {},
        "outputId": "3488cf17-aaf0-43b9-a16c-a3fb8f1db6b0"
      },
      "source": [
        "reader.fileids()"
      ],
      "execution_count": null,
      "outputs": [
        {
          "output_type": "execute_result",
          "data": {
            "text/plain": [
              "['palavras.txt']"
            ]
          },
          "metadata": {
            "tags": []
          },
          "execution_count": 85
        }
      ]
    },
    {
      "cell_type": "code",
      "metadata": {
        "id": "K5AQuhtsa9-a",
        "colab_type": "code",
        "colab": {},
        "outputId": "df55d356-c026-436c-b145-75998a5accbe"
      },
      "source": [
        "reader.raw()"
      ],
      "execution_count": null,
      "outputs": [
        {
          "output_type": "execute_result",
          "data": {
            "text/plain": [
              "'Big Data\\nData Science\\nInteligência Artificial\\nDeep Learning'"
            ]
          },
          "metadata": {
            "tags": []
          },
          "execution_count": 86
        }
      ]
    },
    {
      "cell_type": "code",
      "metadata": {
        "id": "vL4ZS3Qxa9-c",
        "colab_type": "code",
        "colab": {}
      },
      "source": [
        "from nltk.tokenize import line_tokenize"
      ],
      "execution_count": null,
      "outputs": []
    },
    {
      "cell_type": "code",
      "metadata": {
        "id": "UTk_NPdDa9-e",
        "colab_type": "code",
        "colab": {},
        "outputId": "fd51998e-eb4b-4e8a-9e92-eb09cfdb5ae3"
      },
      "source": [
        "line_tokenize(reader.raw())"
      ],
      "execution_count": null,
      "outputs": [
        {
          "output_type": "execute_result",
          "data": {
            "text/plain": [
              "['Big Data', 'Data Science', 'Inteligência Artificial', 'Deep Learning']"
            ]
          },
          "metadata": {
            "tags": []
          },
          "execution_count": 88
        }
      ]
    },
    {
      "cell_type": "code",
      "metadata": {
        "id": "k3wZoOPAa9-f",
        "colab_type": "code",
        "colab": {}
      },
      "source": [
        "from nltk.corpus import brown"
      ],
      "execution_count": null,
      "outputs": []
    },
    {
      "cell_type": "code",
      "metadata": {
        "id": "pqW1Zpf4a9-g",
        "colab_type": "code",
        "colab": {},
        "outputId": "07bd031d-0f28-428c-b948-0117fb58af58"
      },
      "source": [
        "brown.categories()"
      ],
      "execution_count": null,
      "outputs": [
        {
          "output_type": "execute_result",
          "data": {
            "text/plain": [
              "['adventure',\n",
              " 'belles_lettres',\n",
              " 'editorial',\n",
              " 'fiction',\n",
              " 'government',\n",
              " 'hobbies',\n",
              " 'humor',\n",
              " 'learned',\n",
              " 'lore',\n",
              " 'mystery',\n",
              " 'news',\n",
              " 'religion',\n",
              " 'reviews',\n",
              " 'romance',\n",
              " 'science_fiction']"
            ]
          },
          "metadata": {
            "tags": []
          },
          "execution_count": 90
        }
      ]
    }
  ]
}
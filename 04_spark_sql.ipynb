{
  "nbformat": 4,
  "nbformat_minor": 0,
  "metadata": {
    "colab": {
      "name": "04_spark_sql.ipynb",
      "provenance": [],
      "collapsed_sections": [],
      "mount_file_id": "1tds-2KceA7KzWFkYL7yyVWFhjNBUIE32",
      "authorship_tag": "ABX9TyPKY/hy7hWY4YdqpuwPnf+Z",
      "include_colab_link": true
    },
    "kernelspec": {
      "name": "python3",
      "display_name": "Python 3"
    }
  },
  "cells": [
    {
      "cell_type": "markdown",
      "metadata": {
        "id": "view-in-github",
        "colab_type": "text"
      },
      "source": [
        "<a href=\"https://colab.research.google.com/github/ralsouza/apache_spark_real_time_analytics/blob/master/04_spark_sql.ipynb\" target=\"_parent\"><img src=\"https://colab.research.google.com/assets/colab-badge.svg\" alt=\"Open In Colab\"/></a>"
      ]
    },
    {
      "cell_type": "markdown",
      "metadata": {
        "id": "1u29zJJjPcKv",
        "colab_type": "text"
      },
      "source": [
        "# Install and Setup"
      ]
    },
    {
      "cell_type": "code",
      "metadata": {
        "id": "dAQ8vk6xPHR2",
        "colab_type": "code",
        "colab": {
          "base_uri": "https://localhost:8080/",
          "height": 385
        },
        "outputId": "0fbc38db-06de-405d-eb4b-bd579065e4bd"
      },
      "source": [
        "!apt-get update"
      ],
      "execution_count": 1,
      "outputs": [
        {
          "output_type": "stream",
          "text": [
            "Get:1 https://cloud.r-project.org/bin/linux/ubuntu bionic-cran35/ InRelease [3,626 B]\n",
            "Ign:2 https://developer.download.nvidia.com/compute/cuda/repos/ubuntu1804/x86_64  InRelease\n",
            "Get:3 http://security.ubuntu.com/ubuntu bionic-security InRelease [88.7 kB]\n",
            "Get:4 https://cloud.r-project.org/bin/linux/ubuntu bionic-cran35/ Packages [95.7 kB]\n",
            "Ign:5 https://developer.download.nvidia.com/compute/machine-learning/repos/ubuntu1804/x86_64  InRelease\n",
            "Hit:6 https://developer.download.nvidia.com/compute/cuda/repos/ubuntu1804/x86_64  Release\n",
            "Hit:7 http://archive.ubuntu.com/ubuntu bionic InRelease\n",
            "Hit:8 https://developer.download.nvidia.com/compute/machine-learning/repos/ubuntu1804/x86_64  Release\n",
            "Get:10 http://archive.ubuntu.com/ubuntu bionic-updates InRelease [88.7 kB]\n",
            "Get:11 http://ppa.launchpad.net/graphics-drivers/ppa/ubuntu bionic InRelease [21.3 kB]\n",
            "Get:13 http://security.ubuntu.com/ubuntu bionic-security/main amd64 Packages [1,045 kB]\n",
            "Get:14 http://ppa.launchpad.net/marutter/c2d4u3.5/ubuntu bionic InRelease [15.4 kB]\n",
            "Get:15 http://archive.ubuntu.com/ubuntu bionic-backports InRelease [74.6 kB]\n",
            "Get:16 http://archive.ubuntu.com/ubuntu bionic-updates/main amd64 Packages [1,341 kB]\n",
            "Get:17 http://ppa.launchpad.net/graphics-drivers/ppa/ubuntu bionic/main amd64 Packages [43.0 kB]\n",
            "Get:18 http://security.ubuntu.com/ubuntu bionic-security/universe amd64 Packages [890 kB]\n",
            "Get:19 http://ppa.launchpad.net/marutter/c2d4u3.5/ubuntu bionic/main Sources [1,863 kB]\n",
            "Get:20 http://archive.ubuntu.com/ubuntu bionic-updates/universe amd64 Packages [1,418 kB]\n",
            "Get:21 http://ppa.launchpad.net/marutter/c2d4u3.5/ubuntu bionic/main amd64 Packages [899 kB]\n",
            "Fetched 7,888 kB in 6s (1,218 kB/s)\n",
            "Reading package lists... Done\n"
          ],
          "name": "stdout"
        }
      ]
    },
    {
      "cell_type": "code",
      "metadata": {
        "id": "sFaDbidBPfH8",
        "colab_type": "code",
        "colab": {}
      },
      "source": [
        "# Install the dependencies\n",
        "!apt-get install openjdk-8-jdk-headless -qq > /dev/null\n",
        "!wget -q https://archive.apache.org/dist/spark/spark-2.4.4/spark-2.4.4-bin-hadoop2.7.tgz\n",
        "!tar xf spark-2.4.4-bin-hadoop2.7.tgz\n",
        "!pip install -q findspark"
      ],
      "execution_count": 2,
      "outputs": []
    },
    {
      "cell_type": "code",
      "metadata": {
        "id": "EuOwi8RFPi6y",
        "colab_type": "code",
        "colab": {}
      },
      "source": [
        "# Environment variables\n",
        "import os\n",
        "os.environ[\"JAVA_HOME\"] = \"/usr/lib/jvm/java-8-openjdk-amd64\"\n",
        "os.environ[\"SPARK_HOME\"] = \"/content/spark-2.4.4-bin-hadoop2.7\"\n",
        " \n",
        "# tornar o pyspark \"importável\"\n",
        "import findspark\n",
        "findspark.init('spark-2.4.4-bin-hadoop2.7')"
      ],
      "execution_count": 3,
      "outputs": []
    },
    {
      "cell_type": "code",
      "metadata": {
        "id": "wUdJR4YqPllK",
        "colab_type": "code",
        "colab": {
          "base_uri": "https://localhost:8080/",
          "height": 287
        },
        "outputId": "cfc30f26-1be5-4965-8b6e-6bb4abcfc5d3"
      },
      "source": [
        "# Libraries and Context Setup\n",
        "import pyspark\n",
        "from pyspark.sql import SparkSession\n",
        "from pyspark.sql import Row\n",
        "from pyspark import SparkContext, SparkConf\n",
        "\n",
        "# create the session\n",
        "conf = SparkConf().set(\"spark.ui.port\", \"4050\")\n",
        "\n",
        "# create the context\n",
        "sc = pyspark.SparkContext(conf=conf)\n",
        "\n",
        "# Instance Spark Session\n",
        "spark = SparkSession.builder.master('local').appName('My-SparkSQL').getOrCreate()\n",
        "\n",
        "# Create the SQL Context\n",
        "sqlContext = pyspark.SQLContext(sc)"
      ],
      "execution_count": 6,
      "outputs": [
        {
          "output_type": "error",
          "ename": "ValueError",
          "evalue": "ignored",
          "traceback": [
            "\u001b[0;31m---------------------------------------------------------------------------\u001b[0m",
            "\u001b[0;31mValueError\u001b[0m                                Traceback (most recent call last)",
            "\u001b[0;32m<ipython-input-6-2997a18f07aa>\u001b[0m in \u001b[0;36m<module>\u001b[0;34m()\u001b[0m\n\u001b[1;32m      9\u001b[0m \u001b[0;34m\u001b[0m\u001b[0m\n\u001b[1;32m     10\u001b[0m \u001b[0;31m# create the context\u001b[0m\u001b[0;34m\u001b[0m\u001b[0;34m\u001b[0m\u001b[0;34m\u001b[0m\u001b[0m\n\u001b[0;32m---> 11\u001b[0;31m \u001b[0msc\u001b[0m \u001b[0;34m=\u001b[0m \u001b[0mpyspark\u001b[0m\u001b[0;34m.\u001b[0m\u001b[0mSparkContext\u001b[0m\u001b[0;34m(\u001b[0m\u001b[0mconf\u001b[0m\u001b[0;34m=\u001b[0m\u001b[0mconf\u001b[0m\u001b[0;34m)\u001b[0m\u001b[0;34m\u001b[0m\u001b[0;34m\u001b[0m\u001b[0m\n\u001b[0m\u001b[1;32m     12\u001b[0m \u001b[0;34m\u001b[0m\u001b[0m\n\u001b[1;32m     13\u001b[0m \u001b[0;31m# Instance Spark Session\u001b[0m\u001b[0;34m\u001b[0m\u001b[0;34m\u001b[0m\u001b[0;34m\u001b[0m\u001b[0m\n",
            "\u001b[0;32m/content/spark-2.4.4-bin-hadoop2.7/python/pyspark/context.py\u001b[0m in \u001b[0;36m__init__\u001b[0;34m(self, master, appName, sparkHome, pyFiles, environment, batchSize, serializer, conf, gateway, jsc, profiler_cls)\u001b[0m\n\u001b[1;32m    131\u001b[0m                     \" note this option will be removed in Spark 3.0\")\n\u001b[1;32m    132\u001b[0m \u001b[0;34m\u001b[0m\u001b[0m\n\u001b[0;32m--> 133\u001b[0;31m         \u001b[0mSparkContext\u001b[0m\u001b[0;34m.\u001b[0m\u001b[0m_ensure_initialized\u001b[0m\u001b[0;34m(\u001b[0m\u001b[0mself\u001b[0m\u001b[0;34m,\u001b[0m \u001b[0mgateway\u001b[0m\u001b[0;34m=\u001b[0m\u001b[0mgateway\u001b[0m\u001b[0;34m,\u001b[0m \u001b[0mconf\u001b[0m\u001b[0;34m=\u001b[0m\u001b[0mconf\u001b[0m\u001b[0;34m)\u001b[0m\u001b[0;34m\u001b[0m\u001b[0;34m\u001b[0m\u001b[0m\n\u001b[0m\u001b[1;32m    134\u001b[0m         \u001b[0;32mtry\u001b[0m\u001b[0;34m:\u001b[0m\u001b[0;34m\u001b[0m\u001b[0;34m\u001b[0m\u001b[0m\n\u001b[1;32m    135\u001b[0m             self._do_init(master, appName, sparkHome, pyFiles, environment, batchSize, serializer,\n",
            "\u001b[0;32m/content/spark-2.4.4-bin-hadoop2.7/python/pyspark/context.py\u001b[0m in \u001b[0;36m_ensure_initialized\u001b[0;34m(cls, instance, gateway, conf)\u001b[0m\n\u001b[1;32m    330\u001b[0m                         \u001b[0;34m\" created by %s at %s:%s \"\u001b[0m\u001b[0;34m\u001b[0m\u001b[0;34m\u001b[0m\u001b[0m\n\u001b[1;32m    331\u001b[0m                         % (currentAppName, currentMaster,\n\u001b[0;32m--> 332\u001b[0;31m                             callsite.function, callsite.file, callsite.linenum))\n\u001b[0m\u001b[1;32m    333\u001b[0m                 \u001b[0;32melse\u001b[0m\u001b[0;34m:\u001b[0m\u001b[0;34m\u001b[0m\u001b[0;34m\u001b[0m\u001b[0m\n\u001b[1;32m    334\u001b[0m                     \u001b[0mSparkContext\u001b[0m\u001b[0;34m.\u001b[0m\u001b[0m_active_spark_context\u001b[0m \u001b[0;34m=\u001b[0m \u001b[0minstance\u001b[0m\u001b[0;34m\u001b[0m\u001b[0;34m\u001b[0m\u001b[0m\n",
            "\u001b[0;31mValueError\u001b[0m: Cannot run multiple SparkContexts at once; existing SparkContext(app=pyspark-shell, master=local[*]) created by __init__ at <ipython-input-4-2997a18f07aa>:11 "
          ]
        }
      ]
    },
    {
      "cell_type": "code",
      "metadata": {
        "id": "G5b7rSn6Pn1C",
        "colab_type": "code",
        "colab": {
          "base_uri": "https://localhost:8080/",
          "height": 34
        },
        "outputId": "5da3fdb7-2079-4f12-e207-82a02990691a"
      },
      "source": [
        "# Check context\n",
        "print(sc)"
      ],
      "execution_count": null,
      "outputs": [
        {
          "output_type": "stream",
          "text": [
            "<SparkContext master=local[*] appName=pyspark-shell>\n"
          ],
          "name": "stdout"
        }
      ]
    },
    {
      "cell_type": "code",
      "metadata": {
        "id": "jA4uaztgPp0v",
        "colab_type": "code",
        "colab": {}
      },
      "source": [
        "#  sc.stop()"
      ],
      "execution_count": null,
      "outputs": []
    },
    {
      "cell_type": "markdown",
      "metadata": {
        "id": "DqkHoloORtAg",
        "colab_type": "text"
      },
      "source": [
        "# Spark SQL - Spark Session and SQL Context"
      ]
    },
    {
      "cell_type": "code",
      "metadata": {
        "id": "h5PFkYy8Rtb3",
        "colab_type": "code",
        "colab": {}
      },
      "source": [
        "# Load cars dataset\n",
        "rows_rdd1 = sc.textFile('/content/drive/My Drive/Colab Notebooks/08-apache-spark/data/carros.csv')"
      ],
      "execution_count": null,
      "outputs": []
    },
    {
      "cell_type": "code",
      "metadata": {
        "id": "LfgaE7bNRt0W",
        "colab_type": "code",
        "colab": {
          "base_uri": "https://localhost:8080/",
          "height": 34
        },
        "outputId": "27c9f938-9815-4aba-b805-59e5915dc1eb"
      },
      "source": [
        "# Count rows\n",
        "rows_rdd1.count()"
      ],
      "execution_count": null,
      "outputs": [
        {
          "output_type": "execute_result",
          "data": {
            "text/plain": [
              "198"
            ]
          },
          "metadata": {
            "tags": []
          },
          "execution_count": 6
        }
      ]
    },
    {
      "cell_type": "code",
      "metadata": {
        "id": "n95K7VjsU6Cn",
        "colab_type": "code",
        "colab": {}
      },
      "source": [
        "# Remove the first row - Lazy Transformation 1\n",
        "rows_rdd2 = rows_rdd1.filter(lambda x: 'FUELTYPE' not in x)"
      ],
      "execution_count": null,
      "outputs": []
    },
    {
      "cell_type": "code",
      "metadata": {
        "id": "prRnLURHVYnL",
        "colab_type": "code",
        "colab": {
          "base_uri": "https://localhost:8080/",
          "height": 34
        },
        "outputId": "396b7b6b-ec08-41e6-a1fe-ffe98f709088"
      },
      "source": [
        "# One row removed\n",
        "rows_rdd2.count()"
      ],
      "execution_count": null,
      "outputs": [
        {
          "output_type": "execute_result",
          "data": {
            "text/plain": [
              "197"
            ]
          },
          "metadata": {
            "tags": []
          },
          "execution_count": 8
        }
      ]
    },
    {
      "cell_type": "code",
      "metadata": {
        "id": "H6ypbDcvVY35",
        "colab_type": "code",
        "colab": {}
      },
      "source": [
        "# Spliting the dataset in columns - Lazy Transformation 2\n",
        "rows_rdd3 = rows_rdd2.map(lambda line:line.split(','))"
      ],
      "execution_count": null,
      "outputs": []
    },
    {
      "cell_type": "code",
      "metadata": {
        "id": "JPc_gGVKVZCo",
        "colab_type": "code",
        "colab": {}
      },
      "source": [
        "# Spliting the dataset in columns - Lazy Transformation 3\n",
        "rows_rdd4 = rows_rdd3.map(lambda p: Row(make=p[0],body=p[4],hp=int(p[7])))"
      ],
      "execution_count": null,
      "outputs": []
    },
    {
      "cell_type": "code",
      "metadata": {
        "id": "BBpMD6EwVZN3",
        "colab_type": "code",
        "colab": {
          "base_uri": "https://localhost:8080/",
          "height": 34
        },
        "outputId": "34427ed9-4774-44eb-cfb5-d824171ea032"
      },
      "source": [
        "print(rows_rdd4)"
      ],
      "execution_count": null,
      "outputs": [
        {
          "output_type": "stream",
          "text": [
            "PythonRDD[4] at RDD at PythonRDD.scala:53\n"
          ],
          "name": "stdout"
        }
      ]
    },
    {
      "cell_type": "code",
      "metadata": {
        "id": "uaOmwgC3VZZQ",
        "colab_type": "code",
        "colab": {
          "base_uri": "https://localhost:8080/",
          "height": 1000
        },
        "outputId": "283be066-9a88-45f8-93f4-8f39c0441343"
      },
      "source": [
        "# Collect action\n",
        "rows_rdd4.collect()"
      ],
      "execution_count": null,
      "outputs": [
        {
          "output_type": "execute_result",
          "data": {
            "text/plain": [
              "[Row(body='hatchback', hp=69, make='subaru'),\n",
              " Row(body='hatchback', hp=48, make='chevrolet'),\n",
              " Row(body='hatchback', hp=68, make='mazda'),\n",
              " Row(body='hatchback', hp=62, make='toyota'),\n",
              " Row(body='hatchback', hp=68, make='mitsubishi'),\n",
              " Row(body='hatchback', hp=60, make='honda'),\n",
              " Row(body='sedan', hp=69, make='nissan'),\n",
              " Row(body='hatchback', hp=68, make='dodge'),\n",
              " Row(body='hatchback', hp=68, make='plymouth'),\n",
              " Row(body='hatchback', hp=68, make='mazda'),\n",
              " Row(body='hatchback', hp=68, make='mitsubishi'),\n",
              " Row(body='hatchback', hp=68, make='dodge'),\n",
              " Row(body='hatchback', hp=68, make='plymouth'),\n",
              " Row(body='hatchback', hp=70, make='chevrolet'),\n",
              " Row(body='hatchback', hp=62, make='toyota'),\n",
              " Row(body='hatchback', hp=68, make='dodge'),\n",
              " Row(body='hatchback', hp=58, make='honda'),\n",
              " Row(body='hatchback', hp=62, make='toyota'),\n",
              " Row(body='hatchback', hp=76, make='honda'),\n",
              " Row(body='sedan', hp=70, make='chevrolet'),\n",
              " Row(body='sedan', hp=69, make='nissan'),\n",
              " Row(body='hatchback', hp=68, make='mitsubishi'),\n",
              " Row(body='sedan', hp=68, make='dodge'),\n",
              " Row(body='sedan', hp=68, make='plymouth'),\n",
              " Row(body='sedan', hp=68, make='mazda'),\n",
              " Row(body='sedan', hp=78, make='isuzu'),\n",
              " Row(body='hatchback', hp=68, make='mazda'),\n",
              " Row(body='sedan', hp=69, make='nissan'),\n",
              " Row(body='hatchback', hp=76, make='honda'),\n",
              " Row(body='wagon', hp=62, make='toyota'),\n",
              " Row(body='sedan', hp=70, make='toyota'),\n",
              " Row(body='sedan', hp=88, make='mitsubishi'),\n",
              " Row(body='hatchback', hp=73, make='subaru'),\n",
              " Row(body='sedan', hp=55, make='nissan'),\n",
              " Row(body='sedan', hp=82, make='subaru'),\n",
              " Row(body='hatchback', hp=76, make='honda'),\n",
              " Row(body='hatchback', hp=70, make='toyota'),\n",
              " Row(body='sedan', hp=76, make='honda'),\n",
              " Row(body='wagon', hp=76, make='honda'),\n",
              " Row(body='sedan', hp=69, make='nissan'),\n",
              " Row(body='wagon', hp=69, make='nissan'),\n",
              " Row(body='sedan', hp=68, make='mazda'),\n",
              " Row(body='wagon', hp=82, make='subaru'),\n",
              " Row(body='sedan', hp=69, make='nissan'),\n",
              " Row(body='hatchback', hp=73, make='subaru'),\n",
              " Row(body='sedan', hp=68, make='dodge'),\n",
              " Row(body='sedan', hp=68, make='plymouth'),\n",
              " Row(body='hatchback', hp=102, make='mitsubishi'),\n",
              " Row(body='sedan', hp=70, make='toyota'),\n",
              " Row(body='sedan', hp=82, make='subaru'),\n",
              " Row(body='sedan', hp=52, make='volkswagen'),\n",
              " Row(body='hatchback', hp=56, make='toyota'),\n",
              " Row(body='hatchback', hp=69, make='nissan'),\n",
              " Row(body='hatchback', hp=86, make='honda'),\n",
              " Row(body='wagon', hp=62, make='toyota'),\n",
              " Row(body='sedan', hp=56, make='toyota'),\n",
              " Row(body='hatchback', hp=102, make='dodge'),\n",
              " Row(body='hatchback', hp=102, make='plymouth'),\n",
              " Row(body='sedan', hp=85, make='volkswagen'),\n",
              " Row(body='sedan', hp=52, make='volkswagen'),\n",
              " Row(body='wagon', hp=69, make='nissan'),\n",
              " Row(body='wagon', hp=82, make='subaru'),\n",
              " Row(body='sedan', hp=70, make='toyota'),\n",
              " Row(body='sedan', hp=88, make='mitsubishi'),\n",
              " Row(body='sedan', hp=85, make='volkswagen'),\n",
              " Row(body='hatchback', hp=70, make='toyota'),\n",
              " Row(body='hardtop', hp=69, make='nissan'),\n",
              " Row(body='hatchback', hp=70, make='toyota'),\n",
              " Row(body='hardtop', hp=116, make='toyota'),\n",
              " Row(body='sedan', hp=84, make='mazda'),\n",
              " Row(body='sedan', hp=85, make='volkswagen'),\n",
              " Row(body='hatchback', hp=88, make='mitsubishi'),\n",
              " Row(body='wagon', hp=62, make='toyota'),\n",
              " Row(body='sedan', hp=86, make='honda'),\n",
              " Row(body='hatchback', hp=84, make='mazda'),\n",
              " Row(body='wagon', hp=88, make='dodge'),\n",
              " Row(body='wagon', hp=88, make='plymouth'),\n",
              " Row(body='sedan', hp=92, make='toyota'),\n",
              " Row(body='hatchback', hp=97, make='nissan'),\n",
              " Row(body='hatchback', hp=86, make='honda'),\n",
              " Row(body='sedan', hp=82, make='subaru'),\n",
              " Row(body='sedan', hp=70, make='toyota'),\n",
              " Row(body='sedan', hp=116, make='mitsubishi'),\n",
              " Row(body='sedan', hp=116, make='mitsubishi'),\n",
              " Row(body='sedan', hp=112, make='toyota'),\n",
              " Row(body='sedan', hp=68, make='volkswagen'),\n",
              " Row(body='hatchback', hp=112, make='toyota'),\n",
              " Row(body='sedan', hp=97, make='nissan'),\n",
              " Row(body='hardtop', hp=116, make='toyota'),\n",
              " Row(body='hatchback', hp=116, make='mitsubishi'),\n",
              " Row(body='sedan', hp=94, make='subaru'),\n",
              " Row(body='hatchback', hp=90, make='volkswagen'),\n",
              " Row(body='hatchback', hp=92, make='toyota'),\n",
              " Row(body='hatchback', hp=116, make='toyota'),\n",
              " Row(body='sedan', hp=100, make='volkswagen'),\n",
              " Row(body='wagon', hp=94, make='subaru'),\n",
              " Row(body='sedan', hp=84, make='mazda'),\n",
              " Row(body='sedan', hp=86, make='honda'),\n",
              " Row(body='sedan', hp=100, make='honda'),\n",
              " Row(body='hatchback', hp=84, make='mazda'),\n",
              " Row(body='sedan', hp=73, make='toyota'),\n",
              " Row(body='sedan', hp=92, make='toyota'),\n",
              " Row(body='hatchback', hp=101, make='mazda'),\n",
              " Row(body='hatchback', hp=90, make='isuzu'),\n",
              " Row(body='hardtop', hp=116, make='toyota'),\n",
              " Row(body='hatchback', hp=84, make='mazda'),\n",
              " Row(body='hatchback', hp=92, make='toyota'),\n",
              " Row(body='sedan', hp=111, make='subaru'),\n",
              " Row(body='hatchback', hp=116, make='toyota'),\n",
              " Row(body='convertible', hp=90, make='volkswagen'),\n",
              " Row(body='wagon', hp=111, make='subaru'),\n",
              " Row(body='hatchback', hp=101, make='mazda'),\n",
              " Row(body='hatchback', hp=110, make='saab'),\n",
              " Row(body='sedan', hp=97, make='peugot'),\n",
              " Row(body='sedan', hp=110, make='saab'),\n",
              " Row(body='wagon', hp=88, make='volkswagen'),\n",
              " Row(body='wagon', hp=97, make='peugot'),\n",
              " Row(body='hatchback', hp=145, make='mitsubishi'),\n",
              " Row(body='hatchback', hp=145, make='plymouth'),\n",
              " Row(body='sedan', hp=114, make='volvo'),\n",
              " Row(body='sedan', hp=101, make='honda'),\n",
              " Row(body='hatchback', hp=145, make='dodge'),\n",
              " Row(body='sedan', hp=95, make='peugot'),\n",
              " Row(body='sedan', hp=110, make='volkswagen'),\n",
              " Row(body='wagon', hp=114, make='volvo'),\n",
              " Row(body='convertible', hp=111, make='alfa-romero'),\n",
              " Row(body='sedan', hp=152, make='nissan'),\n",
              " Row(body='sedan', hp=152, make='nissan'),\n",
              " Row(body='hatchback', hp=101, make='mazda'),\n",
              " Row(body='sedan', hp=68, make='volkswagen'),\n",
              " Row(body='wagon', hp=95, make='peugot'),\n",
              " Row(body='sedan', hp=102, make='audi'),\n",
              " Row(body='wagon', hp=152, make='nissan'),\n",
              " Row(body='hatchback', hp=145, make='mitsubishi'),\n",
              " Row(body='hatchback', hp=145, make='mitsubishi'),\n",
              " Row(body='hatchback', hp=110, make='saab'),\n",
              " Row(body='sedan', hp=110, make='audi'),\n",
              " Row(body='sedan', hp=110, make='saab'),\n",
              " Row(body='sedan', hp=95, make='peugot'),\n",
              " Row(body='hatchback', hp=135, make='mazda'),\n",
              " Row(body='sedan', hp=156, make='toyota'),\n",
              " Row(body='wagon', hp=156, make='toyota'),\n",
              " Row(body='sedan', hp=114, make='volvo'),\n",
              " Row(body='hatchback', hp=161, make='toyota'),\n",
              " Row(body='sedan', hp=101, make='bmw'),\n",
              " Row(body='convertible', hp=111, make='alfa-romero'),\n",
              " Row(body='hatchback', hp=154, make='alfa-romero'),\n",
              " Row(body='hatchback', hp=175, make='mercury'),\n",
              " Row(body='wagon', hp=114, make='volvo'),\n",
              " Row(body='hatchback', hp=161, make='toyota'),\n",
              " Row(body='sedan', hp=97, make='peugot'),\n",
              " Row(body='wagon', hp=95, make='peugot'),\n",
              " Row(body='sedan', hp=114, make='volvo'),\n",
              " Row(body='sedan', hp=95, make='peugot'),\n",
              " Row(body='sedan', hp=101, make='bmw'),\n",
              " Row(body='wagon', hp=95, make='peugot'),\n",
              " Row(body='hatchback', hp=160, make='nissan'),\n",
              " Row(body='sedan', hp=115, make='audi'),\n",
              " Row(body='convertible', hp=116, make='toyota'),\n",
              " Row(body='sedan', hp=110, make='audi'),\n",
              " Row(body='sedan', hp=95, make='peugot'),\n",
              " Row(body='sedan', hp=142, make='peugot'),\n",
              " Row(body='hatchback', hp=160, make='saab'),\n",
              " Row(body='sedan', hp=120, make='mazda'),\n",
              " Row(body='sedan', hp=72, make='mazda'),\n",
              " Row(body='hatchback', hp=160, make='nissan'),\n",
              " Row(body='sedan', hp=162, make='volvo'),\n",
              " Row(body='sedan', hp=160, make='saab'),\n",
              " Row(body='wagon', hp=110, make='audi'),\n",
              " Row(body='wagon', hp=162, make='volvo'),\n",
              " Row(body='sedan', hp=160, make='volvo'),\n",
              " Row(body='hatchback', hp=200, make='nissan'),\n",
              " Row(body='sedan', hp=121, make='bmw'),\n",
              " Row(body='sedan', hp=121, make='bmw'),\n",
              " Row(body='sedan', hp=134, make='volvo'),\n",
              " Row(body='hatchback', hp=143, make='porsche'),\n",
              " Row(body='sedan', hp=106, make='volvo'),\n",
              " Row(body='sedan', hp=114, make='volvo'),\n",
              " Row(body='sedan', hp=140, make='audi'),\n",
              " Row(body='sedan', hp=121, make='bmw'),\n",
              " Row(body='sedan', hp=123, make='mercedes-benz'),\n",
              " Row(body='hardtop', hp=123, make='mercedes-benz'),\n",
              " Row(body='wagon', hp=123, make='mercedes-benz'),\n",
              " Row(body='sedan', hp=182, make='bmw'),\n",
              " Row(body='sedan', hp=123, make='mercedes-benz'),\n",
              " Row(body='sedan', hp=176, make='jaguar'),\n",
              " Row(body='hardtop', hp=207, make='porsche'),\n",
              " Row(body='hardtop', hp=207, make='porsche'),\n",
              " Row(body='sedan', hp=155, make='mercedes-benz'),\n",
              " Row(body='convertible', hp=155, make='mercedes-benz'),\n",
              " Row(body='sedan', hp=176, make='jaguar'),\n",
              " Row(body='sedan', hp=262, make='jaguar'),\n",
              " Row(body='sedan', hp=182, make='bmw'),\n",
              " Row(body='convertible', hp=207, make='porsche'),\n",
              " Row(body='sedan', hp=184, make='mercedes-benz'),\n",
              " Row(body='sedan', hp=182, make='bmw'),\n",
              " Row(body='hardtop', hp=184, make='mercedes-benz')]"
            ]
          },
          "metadata": {
            "tags": []
          },
          "execution_count": 12
        }
      ]
    },
    {
      "cell_type": "code",
      "metadata": {
        "id": "r2T2wzBHVZxq",
        "colab_type": "code",
        "colab": {}
      },
      "source": [
        "# Create a dataframe from a RDD\n",
        "df_rows = spark.createDataFrame(rows_rdd4)"
      ],
      "execution_count": null,
      "outputs": []
    },
    {
      "cell_type": "code",
      "metadata": {
        "id": "Lpp4QVjpVaFz",
        "colab_type": "code",
        "colab": {
          "base_uri": "https://localhost:8080/",
          "height": 459
        },
        "outputId": "f20cb722-e995-4fa4-eae1-a2f430552f71"
      },
      "source": [
        "# Show dataframe\n",
        "df_rows.show()"
      ],
      "execution_count": null,
      "outputs": [
        {
          "output_type": "stream",
          "text": [
            "+---------+---+----------+\n",
            "|     body| hp|      make|\n",
            "+---------+---+----------+\n",
            "|hatchback| 69|    subaru|\n",
            "|hatchback| 48| chevrolet|\n",
            "|hatchback| 68|     mazda|\n",
            "|hatchback| 62|    toyota|\n",
            "|hatchback| 68|mitsubishi|\n",
            "|hatchback| 60|     honda|\n",
            "|    sedan| 69|    nissan|\n",
            "|hatchback| 68|     dodge|\n",
            "|hatchback| 68|  plymouth|\n",
            "|hatchback| 68|     mazda|\n",
            "|hatchback| 68|mitsubishi|\n",
            "|hatchback| 68|     dodge|\n",
            "|hatchback| 68|  plymouth|\n",
            "|hatchback| 70| chevrolet|\n",
            "|hatchback| 62|    toyota|\n",
            "|hatchback| 68|     dodge|\n",
            "|hatchback| 58|     honda|\n",
            "|hatchback| 62|    toyota|\n",
            "|hatchback| 76|     honda|\n",
            "|    sedan| 70| chevrolet|\n",
            "+---------+---+----------+\n",
            "only showing top 20 rows\n",
            "\n"
          ],
          "name": "stdout"
        }
      ]
    },
    {
      "cell_type": "code",
      "metadata": {
        "id": "al3zfYvlVZmo",
        "colab_type": "code",
        "colab": {
          "base_uri": "https://localhost:8080/",
          "height": 34
        },
        "outputId": "8c3d9047-d9a5-42c3-8c57-38d6aeb581ac"
      },
      "source": [
        "# Check type\n",
        "type(df_rows)"
      ],
      "execution_count": null,
      "outputs": [
        {
          "output_type": "execute_result",
          "data": {
            "text/plain": [
              "pyspark.sql.dataframe.DataFrame"
            ]
          },
          "metadata": {
            "tags": []
          },
          "execution_count": 17
        }
      ]
    },
    {
      "cell_type": "markdown",
      "metadata": {
        "id": "Fld4uK7peyZO",
        "colab_type": "text"
      },
      "source": [
        "## Using SQL commands with Spark"
      ]
    },
    {
      "cell_type": "code",
      "metadata": {
        "id": "pmaKZN5uVZkk",
        "colab_type": "code",
        "colab": {
          "base_uri": "https://localhost:8080/",
          "height": 459
        },
        "outputId": "20049060-508e-45ae-cdcd-a1a05d16cc41"
      },
      "source": [
        "# Selecting all rows\n",
        "df_rows.select('*').show()"
      ],
      "execution_count": null,
      "outputs": [
        {
          "output_type": "stream",
          "text": [
            "+---------+---+----------+\n",
            "|     body| hp|      make|\n",
            "+---------+---+----------+\n",
            "|hatchback| 69|    subaru|\n",
            "|hatchback| 48| chevrolet|\n",
            "|hatchback| 68|     mazda|\n",
            "|hatchback| 62|    toyota|\n",
            "|hatchback| 68|mitsubishi|\n",
            "|hatchback| 60|     honda|\n",
            "|    sedan| 69|    nissan|\n",
            "|hatchback| 68|     dodge|\n",
            "|hatchback| 68|  plymouth|\n",
            "|hatchback| 68|     mazda|\n",
            "|hatchback| 68|mitsubishi|\n",
            "|hatchback| 68|     dodge|\n",
            "|hatchback| 68|  plymouth|\n",
            "|hatchback| 70| chevrolet|\n",
            "|hatchback| 62|    toyota|\n",
            "|hatchback| 68|     dodge|\n",
            "|hatchback| 58|     honda|\n",
            "|hatchback| 62|    toyota|\n",
            "|hatchback| 76|     honda|\n",
            "|    sedan| 70| chevrolet|\n",
            "+---------+---+----------+\n",
            "only showing top 20 rows\n",
            "\n"
          ],
          "name": "stdout"
        }
      ]
    },
    {
      "cell_type": "code",
      "metadata": {
        "id": "w0ViUKG9eWFt",
        "colab_type": "code",
        "colab": {
          "base_uri": "https://localhost:8080/",
          "height": 459
        },
        "outputId": "790c6d7d-68dd-4b79-8f98-1f1edc7a0e46"
      },
      "source": [
        "# Select all rows sorting by make\n",
        "df_rows.orderBy('make').show()"
      ],
      "execution_count": null,
      "outputs": [
        {
          "output_type": "stream",
          "text": [
            "+-----------+---+-----------+\n",
            "|       body| hp|       make|\n",
            "+-----------+---+-----------+\n",
            "|  hatchback|154|alfa-romero|\n",
            "|convertible|111|alfa-romero|\n",
            "|convertible|111|alfa-romero|\n",
            "|      sedan|110|       audi|\n",
            "|      sedan|115|       audi|\n",
            "|      sedan|110|       audi|\n",
            "|      wagon|110|       audi|\n",
            "|      sedan|140|       audi|\n",
            "|      sedan|102|       audi|\n",
            "|      sedan|101|        bmw|\n",
            "|      sedan|101|        bmw|\n",
            "|      sedan|121|        bmw|\n",
            "|      sedan|121|        bmw|\n",
            "|      sedan|182|        bmw|\n",
            "|      sedan|182|        bmw|\n",
            "|      sedan|121|        bmw|\n",
            "|      sedan|182|        bmw|\n",
            "|      sedan| 70|  chevrolet|\n",
            "|  hatchback| 70|  chevrolet|\n",
            "|  hatchback| 48|  chevrolet|\n",
            "+-----------+---+-----------+\n",
            "only showing top 20 rows\n",
            "\n"
          ],
          "name": "stdout"
        }
      ]
    },
    {
      "cell_type": "code",
      "metadata": {
        "id": "sYyVK6VgeWPh",
        "colab_type": "code",
        "colab": {}
      },
      "source": [
        "# Create a in-memory temporary table to use ANSI SQL\n",
        "df_rows.createOrReplaceTempView('tbl_rows')"
      ],
      "execution_count": null,
      "outputs": []
    },
    {
      "cell_type": "code",
      "metadata": {
        "id": "LpNRonikeWbQ",
        "colab_type": "code",
        "colab": {
          "base_uri": "https://localhost:8080/",
          "height": 408
        },
        "outputId": "10c4a6d3-9dde-41e7-a69e-f7af1782b0b4"
      },
      "source": [
        "# Executing a ANSI SQL\n",
        "spark.sql(\"select * from tbl_rows where make = 'nissan'\").show()"
      ],
      "execution_count": null,
      "outputs": [
        {
          "output_type": "stream",
          "text": [
            "+---------+---+------+\n",
            "|     body| hp|  make|\n",
            "+---------+---+------+\n",
            "|    sedan| 69|nissan|\n",
            "|    sedan| 69|nissan|\n",
            "|    sedan| 69|nissan|\n",
            "|    sedan| 55|nissan|\n",
            "|    sedan| 69|nissan|\n",
            "|    wagon| 69|nissan|\n",
            "|    sedan| 69|nissan|\n",
            "|hatchback| 69|nissan|\n",
            "|    wagon| 69|nissan|\n",
            "|  hardtop| 69|nissan|\n",
            "|hatchback| 97|nissan|\n",
            "|    sedan| 97|nissan|\n",
            "|    sedan|152|nissan|\n",
            "|    sedan|152|nissan|\n",
            "|    wagon|152|nissan|\n",
            "|hatchback|160|nissan|\n",
            "|hatchback|160|nissan|\n",
            "|hatchback|200|nissan|\n",
            "+---------+---+------+\n",
            "\n"
          ],
          "name": "stdout"
        }
      ]
    },
    {
      "cell_type": "code",
      "metadata": {
        "id": "jc6oflgPeWod",
        "colab_type": "code",
        "colab": {
          "base_uri": "https://localhost:8080/",
          "height": 459
        },
        "outputId": "a23d9b90-0a9e-42f2-c008-9e5ed5341394"
      },
      "source": [
        "# Selecting data with calcs\n",
        "spark.sql('select make,body,avg(hp) from tbl_rows group by make,body').show()"
      ],
      "execution_count": null,
      "outputs": [
        {
          "output_type": "stream",
          "text": [
            "+-------------+-----------+-----------------+\n",
            "|         make|       body|          avg(hp)|\n",
            "+-------------+-----------+-----------------+\n",
            "|       nissan|      wagon|96.66666666666667|\n",
            "|       subaru|      sedan|             90.2|\n",
            "|     plymouth|      sedan|             68.0|\n",
            "|        dodge|  hatchback|             90.2|\n",
            "|       nissan|      sedan|             89.0|\n",
            "|        honda|      sedan|             89.8|\n",
            "|   mitsubishi|  hatchback|            105.0|\n",
            "|        mazda|      sedan|82.66666666666667|\n",
            "|  alfa-romero|convertible|            111.0|\n",
            "|mercedes-benz|convertible|            155.0|\n",
            "|     plymouth|      wagon|             88.0|\n",
            "|mercedes-benz|      wagon|            123.0|\n",
            "|        isuzu|  hatchback|             90.0|\n",
            "|       toyota|convertible|            116.0|\n",
            "|        mazda|  hatchback|             89.4|\n",
            "|    chevrolet|      sedan|             70.0|\n",
            "|      mercury|  hatchback|            175.0|\n",
            "|      porsche|  hatchback|            143.0|\n",
            "|        honda|      wagon|             76.0|\n",
            "|      porsche|convertible|            207.0|\n",
            "+-------------+-----------+-----------------+\n",
            "only showing top 20 rows\n",
            "\n"
          ],
          "name": "stdout"
        }
      ]
    },
    {
      "cell_type": "markdown",
      "metadata": {
        "id": "_bXA2OnYAu3-",
        "colab_type": "text"
      },
      "source": [
        "## Spark SQL and CSV files"
      ]
    },
    {
      "cell_type": "code",
      "metadata": {
        "id": "7u01eU8TeWvg",
        "colab_type": "code",
        "colab": {}
      },
      "source": [
        "df_cars = spark.read.csv('/content/drive/My Drive/Colab Notebooks/08-apache-spark/data/carros.csv',header=True)"
      ],
      "execution_count": null,
      "outputs": []
    },
    {
      "cell_type": "code",
      "metadata": {
        "id": "W4lbbe8ZeW3U",
        "colab_type": "code",
        "colab": {
          "base_uri": "https://localhost:8080/",
          "height": 34
        },
        "outputId": "3d3b0a86-dd72-4797-b40d-d0f91257a671"
      },
      "source": [
        "type(df_cars)"
      ],
      "execution_count": null,
      "outputs": [
        {
          "output_type": "execute_result",
          "data": {
            "text/plain": [
              "pyspark.sql.dataframe.DataFrame"
            ]
          },
          "metadata": {
            "tags": []
          },
          "execution_count": 24
        }
      ]
    },
    {
      "cell_type": "code",
      "metadata": {
        "id": "QGLBpxjueXEv",
        "colab_type": "code",
        "colab": {
          "base_uri": "https://localhost:8080/",
          "height": 459
        },
        "outputId": "5a628d68-7127-480c-ad21-930061d30bf9"
      },
      "source": [
        "df_cars.show()"
      ],
      "execution_count": null,
      "outputs": [
        {
          "output_type": "stream",
          "text": [
            "+----------+--------+------+-----+---------+-----+---------+---+----+--------+-------+-----+\n",
            "|      MAKE|FUELTYPE|ASPIRE|DOORS|     BODY|DRIVE|CYLINDERS| HP| RPM|MPG-CITY|MPG-HWY|PRICE|\n",
            "+----------+--------+------+-----+---------+-----+---------+---+----+--------+-------+-----+\n",
            "|    subaru|     gas|   std|  two|hatchback|  fwd|     four| 69|4900|      31|     36| 5118|\n",
            "| chevrolet|     gas|   std|  two|hatchback|  fwd|    three| 48|5100|      47|     53| 5151|\n",
            "|     mazda|     gas|   std|  two|hatchback|  fwd|     four| 68|5000|      30|     31| 5195|\n",
            "|    toyota|     gas|   std|  two|hatchback|  fwd|     four| 62|4800|      35|     39| 5348|\n",
            "|mitsubishi|     gas|   std|  two|hatchback|  fwd|     four| 68|5500|      37|     41| 5389|\n",
            "|     honda|     gas|   std|  two|hatchback|  fwd|     four| 60|5500|      38|     42| 5399|\n",
            "|    nissan|     gas|   std|  two|    sedan|  fwd|     four| 69|5200|      31|     37| 5499|\n",
            "|     dodge|     gas|   std|  two|hatchback|  fwd|     four| 68|5500|      37|     41| 5572|\n",
            "|  plymouth|     gas|   std|  two|hatchback|  fwd|     four| 68|5500|      37|     41| 5572|\n",
            "|     mazda|     gas|   std|  two|hatchback|  fwd|     four| 68|5000|      31|     38| 6095|\n",
            "|mitsubishi|     gas|   std|  two|hatchback|  fwd|     four| 68|5500|      31|     38| 6189|\n",
            "|     dodge|     gas|   std| four|hatchback|  fwd|     four| 68|5500|      31|     38| 6229|\n",
            "|  plymouth|     gas|   std| four|hatchback|  fwd|     four| 68|5500|      31|     38| 6229|\n",
            "| chevrolet|     gas|   std|  two|hatchback|  fwd|     four| 70|5400|      38|     43| 6295|\n",
            "|    toyota|     gas|   std|  two|hatchback|  fwd|     four| 62|4800|      31|     38| 6338|\n",
            "|     dodge|     gas|   std|  two|hatchback|  fwd|     four| 68|5500|      31|     38| 6377|\n",
            "|     honda|     gas|   std|  two|hatchback|  fwd|     four| 58|4800|      49|     54| 6479|\n",
            "|    toyota|     gas|   std| four|hatchback|  fwd|     four| 62|4800|      31|     38| 6488|\n",
            "|     honda|     gas|   std|  two|hatchback|  fwd|     four| 76|6000|      30|     34| 6529|\n",
            "| chevrolet|     gas|   std| four|    sedan|  fwd|     four| 70|5400|      38|     43| 6575|\n",
            "+----------+--------+------+-----+---------+-----+---------+---+----+--------+-------+-----+\n",
            "only showing top 20 rows\n",
            "\n"
          ],
          "name": "stdout"
        }
      ]
    },
    {
      "cell_type": "code",
      "metadata": {
        "id": "auuTrrtYeXXw",
        "colab_type": "code",
        "colab": {}
      },
      "source": [
        "# Exporting the the dataframe to a temp table in-memory\n",
        "df_cars.createOrReplaceTempView('tbl_cars')"
      ],
      "execution_count": null,
      "outputs": []
    },
    {
      "cell_type": "code",
      "metadata": {
        "id": "Nl57yrJoeXz3",
        "colab_type": "code",
        "colab": {
          "base_uri": "https://localhost:8080/",
          "height": 119
        },
        "outputId": "7f0f5149-4e6f-4d4b-c18e-15e8f0409d7f"
      },
      "source": [
        "# Executing a SQL instruction\n",
        "spark.sql(\"select make,hp,price from tbl_cars where CYLINDERS = 'three'\").show()"
      ],
      "execution_count": null,
      "outputs": [
        {
          "output_type": "stream",
          "text": [
            "+---------+---+-----+\n",
            "|     make| hp|price|\n",
            "+---------+---+-----+\n",
            "|chevrolet| 48| 5151|\n",
            "+---------+---+-----+\n",
            "\n"
          ],
          "name": "stdout"
        }
      ]
    },
    {
      "cell_type": "code",
      "metadata": {
        "id": "0sX6kMo_BkoC",
        "colab_type": "code",
        "colab": {}
      },
      "source": [
        "# storing in an object\n",
        "cars_tt = spark.sql(\"select make,hp,price from tbl_cars where CYLINDERS = 'three'\")"
      ],
      "execution_count": null,
      "outputs": []
    },
    {
      "cell_type": "code",
      "metadata": {
        "id": "1BgmngO6Bk7T",
        "colab_type": "code",
        "colab": {
          "base_uri": "https://localhost:8080/",
          "height": 119
        },
        "outputId": "7d921edb-af83-48bf-aba2-202d9fe168f8"
      },
      "source": [
        "cars_tt.show()"
      ],
      "execution_count": null,
      "outputs": [
        {
          "output_type": "stream",
          "text": [
            "+---------+---+-----+\n",
            "|     make| hp|price|\n",
            "+---------+---+-----+\n",
            "|chevrolet| 48| 5151|\n",
            "+---------+---+-----+\n",
            "\n"
          ],
          "name": "stdout"
        }
      ]
    },
    {
      "cell_type": "markdown",
      "metadata": {
        "id": "k7UhGrijIHxP",
        "colab_type": "text"
      },
      "source": [
        "# Applying Machine Learning"
      ]
    },
    {
      "cell_type": "code",
      "metadata": {
        "id": "f3jdpFZeBlDd",
        "colab_type": "code",
        "colab": {
          "base_uri": "https://localhost:8080/",
          "height": 54
        },
        "outputId": "e150856a-cc62-47f8-c4c4-c36abc91215c"
      },
      "source": [
        "# Loading data from csv\n",
        "cars = sc.textFile('/content/drive/My Drive/Colab Notebooks/08-apache-spark/data/carros.csv')\n",
        "\n",
        "# Put data into cache\n",
        "cars.cache()"
      ],
      "execution_count": 10,
      "outputs": [
        {
          "output_type": "execute_result",
          "data": {
            "text/plain": [
              "/content/drive/My Drive/Colab Notebooks/08-apache-spark/data/carros.csv MapPartitionsRDD[7] at textFile at NativeMethodAccessorImpl.java:0"
            ]
          },
          "metadata": {
            "tags": []
          },
          "execution_count": 10
        }
      ]
    },
    {
      "cell_type": "code",
      "metadata": {
        "id": "Lu46-1x9Blg6",
        "colab_type": "code",
        "colab": {
          "base_uri": "https://localhost:8080/",
          "height": 54
        },
        "outputId": "f39d98ba-e87e-4d37-c374-04b2718430c3"
      },
      "source": [
        "# Remove the data's header\n",
        "header = cars.first()\n",
        "\n",
        "# Select all rows except the header\n",
        "rows = cars.filter(lambda x:x != header)\n",
        "\n",
        "# Count selected rows\n",
        "rows.count()"
      ],
      "execution_count": 13,
      "outputs": [
        {
          "output_type": "execute_result",
          "data": {
            "text/plain": [
              "197"
            ]
          },
          "metadata": {
            "tags": []
          },
          "execution_count": 13
        }
      ]
    },
    {
      "cell_type": "code",
      "metadata": {
        "id": "g86NLKeNBl3N",
        "colab_type": "code",
        "colab": {}
      },
      "source": [
        "# Import Row function again\n",
        "from pyspark.sql import Row"
      ],
      "execution_count": 14,
      "outputs": []
    },
    {
      "cell_type": "code",
      "metadata": {
        "id": "KxhGSlm6BlYu",
        "colab_type": "code",
        "colab": {}
      },
      "source": [
        "# Convert to a vector with rows\n",
        "def transform_to_numeric(input_str):\n",
        "  att_list = input_str.split(',')\n",
        "  doors = 1.0 if att_list[3] == 'two' else 2.0\n",
        "  body = 1.0 if att_list[4] == 'sedan' else 2.0\n",
        "\n",
        "  # Filtering non-necessary columns in this step, giving a data structure to rdd\n",
        "  values = Row(DOORS = doors, BODY = float(body), HP = float(att_list[7]),\n",
        "               RMP=float(att_list[8]),MPG=float(att_list[9]))\n",
        "\n",
        "  return values"
      ],
      "execution_count": 24,
      "outputs": []
    },
    {
      "cell_type": "code",
      "metadata": {
        "id": "bqVv2LdXBlQU",
        "colab_type": "code",
        "colab": {
          "base_uri": "https://localhost:8080/",
          "height": 1000
        },
        "outputId": "7b18914d-c590-4e0b-fa7f-85e16c25570c"
      },
      "source": [
        "# Applying the function and persisting in the memory\n",
        "auto_map = rows.map(transform_to_numeric)\n",
        "auto_map.persist()\n",
        "auto_map.collect()"
      ],
      "execution_count": 25,
      "outputs": [
        {
          "output_type": "execute_result",
          "data": {
            "text/plain": [
              "[Row(BODY=2.0, DOORS=1.0, HP=69.0, MPG=31.0, RMP=4900.0),\n",
              " Row(BODY=2.0, DOORS=1.0, HP=48.0, MPG=47.0, RMP=5100.0),\n",
              " Row(BODY=2.0, DOORS=1.0, HP=68.0, MPG=30.0, RMP=5000.0),\n",
              " Row(BODY=2.0, DOORS=1.0, HP=62.0, MPG=35.0, RMP=4800.0),\n",
              " Row(BODY=2.0, DOORS=1.0, HP=68.0, MPG=37.0, RMP=5500.0),\n",
              " Row(BODY=2.0, DOORS=1.0, HP=60.0, MPG=38.0, RMP=5500.0),\n",
              " Row(BODY=1.0, DOORS=1.0, HP=69.0, MPG=31.0, RMP=5200.0),\n",
              " Row(BODY=2.0, DOORS=1.0, HP=68.0, MPG=37.0, RMP=5500.0),\n",
              " Row(BODY=2.0, DOORS=1.0, HP=68.0, MPG=37.0, RMP=5500.0),\n",
              " Row(BODY=2.0, DOORS=1.0, HP=68.0, MPG=31.0, RMP=5000.0),\n",
              " Row(BODY=2.0, DOORS=1.0, HP=68.0, MPG=31.0, RMP=5500.0),\n",
              " Row(BODY=2.0, DOORS=2.0, HP=68.0, MPG=31.0, RMP=5500.0),\n",
              " Row(BODY=2.0, DOORS=2.0, HP=68.0, MPG=31.0, RMP=5500.0),\n",
              " Row(BODY=2.0, DOORS=1.0, HP=70.0, MPG=38.0, RMP=5400.0),\n",
              " Row(BODY=2.0, DOORS=1.0, HP=62.0, MPG=31.0, RMP=4800.0),\n",
              " Row(BODY=2.0, DOORS=1.0, HP=68.0, MPG=31.0, RMP=5500.0),\n",
              " Row(BODY=2.0, DOORS=1.0, HP=58.0, MPG=49.0, RMP=4800.0),\n",
              " Row(BODY=2.0, DOORS=2.0, HP=62.0, MPG=31.0, RMP=4800.0),\n",
              " Row(BODY=2.0, DOORS=1.0, HP=76.0, MPG=30.0, RMP=6000.0),\n",
              " Row(BODY=1.0, DOORS=2.0, HP=70.0, MPG=38.0, RMP=5400.0),\n",
              " Row(BODY=1.0, DOORS=1.0, HP=69.0, MPG=31.0, RMP=5200.0),\n",
              " Row(BODY=2.0, DOORS=1.0, HP=68.0, MPG=31.0, RMP=5500.0),\n",
              " Row(BODY=1.0, DOORS=2.0, HP=68.0, MPG=31.0, RMP=5500.0),\n",
              " Row(BODY=1.0, DOORS=2.0, HP=68.0, MPG=31.0, RMP=5500.0),\n",
              " Row(BODY=1.0, DOORS=2.0, HP=68.0, MPG=31.0, RMP=5000.0),\n",
              " Row(BODY=1.0, DOORS=2.0, HP=78.0, MPG=24.0, RMP=4800.0),\n",
              " Row(BODY=2.0, DOORS=1.0, HP=68.0, MPG=31.0, RMP=5000.0),\n",
              " Row(BODY=1.0, DOORS=2.0, HP=69.0, MPG=31.0, RMP=5200.0),\n",
              " Row(BODY=2.0, DOORS=1.0, HP=76.0, MPG=31.0, RMP=6000.0),\n",
              " Row(BODY=2.0, DOORS=2.0, HP=62.0, MPG=31.0, RMP=4800.0),\n",
              " Row(BODY=1.0, DOORS=2.0, HP=70.0, MPG=30.0, RMP=4800.0),\n",
              " Row(BODY=1.0, DOORS=2.0, HP=88.0, MPG=25.0, RMP=5000.0),\n",
              " Row(BODY=2.0, DOORS=1.0, HP=73.0, MPG=26.0, RMP=4400.0),\n",
              " Row(BODY=1.0, DOORS=1.0, HP=55.0, MPG=45.0, RMP=4800.0),\n",
              " Row(BODY=1.0, DOORS=2.0, HP=82.0, MPG=32.0, RMP=4800.0),\n",
              " Row(BODY=2.0, DOORS=1.0, HP=76.0, MPG=30.0, RMP=6000.0),\n",
              " Row(BODY=2.0, DOORS=2.0, HP=70.0, MPG=30.0, RMP=4800.0),\n",
              " Row(BODY=1.0, DOORS=2.0, HP=76.0, MPG=30.0, RMP=6000.0),\n",
              " Row(BODY=2.0, DOORS=2.0, HP=76.0, MPG=30.0, RMP=6000.0),\n",
              " Row(BODY=1.0, DOORS=1.0, HP=69.0, MPG=31.0, RMP=5200.0),\n",
              " Row(BODY=2.0, DOORS=2.0, HP=69.0, MPG=31.0, RMP=5200.0),\n",
              " Row(BODY=1.0, DOORS=2.0, HP=68.0, MPG=31.0, RMP=5000.0),\n",
              " Row(BODY=2.0, DOORS=2.0, HP=82.0, MPG=28.0, RMP=4800.0),\n",
              " Row(BODY=1.0, DOORS=2.0, HP=69.0, MPG=31.0, RMP=5200.0),\n",
              " Row(BODY=2.0, DOORS=1.0, HP=73.0, MPG=26.0, RMP=4400.0),\n",
              " Row(BODY=1.0, DOORS=2.0, HP=68.0, MPG=31.0, RMP=5500.0),\n",
              " Row(BODY=1.0, DOORS=2.0, HP=68.0, MPG=31.0, RMP=5500.0),\n",
              " Row(BODY=2.0, DOORS=1.0, HP=102.0, MPG=24.0, RMP=5500.0),\n",
              " Row(BODY=1.0, DOORS=2.0, HP=70.0, MPG=38.0, RMP=4800.0),\n",
              " Row(BODY=1.0, DOORS=2.0, HP=82.0, MPG=28.0, RMP=4400.0),\n",
              " Row(BODY=1.0, DOORS=1.0, HP=52.0, MPG=37.0, RMP=4800.0),\n",
              " Row(BODY=2.0, DOORS=2.0, HP=56.0, MPG=38.0, RMP=4500.0),\n",
              " Row(BODY=2.0, DOORS=1.0, HP=69.0, MPG=31.0, RMP=5200.0),\n",
              " Row(BODY=2.0, DOORS=1.0, HP=86.0, MPG=27.0, RMP=5800.0),\n",
              " Row(BODY=2.0, DOORS=2.0, HP=62.0, MPG=27.0, RMP=4800.0),\n",
              " Row(BODY=1.0, DOORS=2.0, HP=56.0, MPG=34.0, RMP=4500.0),\n",
              " Row(BODY=2.0, DOORS=1.0, HP=102.0, MPG=24.0, RMP=5500.0),\n",
              " Row(BODY=2.0, DOORS=1.0, HP=102.0, MPG=24.0, RMP=5500.0),\n",
              " Row(BODY=1.0, DOORS=1.0, HP=85.0, MPG=27.0, RMP=5250.0),\n",
              " Row(BODY=1.0, DOORS=2.0, HP=52.0, MPG=37.0, RMP=4800.0),\n",
              " Row(BODY=2.0, DOORS=2.0, HP=69.0, MPG=31.0, RMP=5200.0),\n",
              " Row(BODY=2.0, DOORS=2.0, HP=82.0, MPG=23.0, RMP=4800.0),\n",
              " Row(BODY=1.0, DOORS=1.0, HP=70.0, MPG=29.0, RMP=4800.0),\n",
              " Row(BODY=1.0, DOORS=2.0, HP=88.0, MPG=25.0, RMP=5000.0),\n",
              " Row(BODY=1.0, DOORS=2.0, HP=85.0, MPG=27.0, RMP=5250.0),\n",
              " Row(BODY=2.0, DOORS=1.0, HP=70.0, MPG=29.0, RMP=4800.0),\n",
              " Row(BODY=2.0, DOORS=1.0, HP=69.0, MPG=31.0, RMP=5200.0),\n",
              " Row(BODY=2.0, DOORS=2.0, HP=70.0, MPG=28.0, RMP=4800.0),\n",
              " Row(BODY=2.0, DOORS=1.0, HP=116.0, MPG=24.0, RMP=4800.0),\n",
              " Row(BODY=1.0, DOORS=2.0, HP=84.0, MPG=26.0, RMP=4800.0),\n",
              " Row(BODY=1.0, DOORS=2.0, HP=85.0, MPG=27.0, RMP=5250.0),\n",
              " Row(BODY=2.0, DOORS=1.0, HP=88.0, MPG=25.0, RMP=5000.0),\n",
              " Row(BODY=2.0, DOORS=2.0, HP=62.0, MPG=27.0, RMP=4800.0),\n",
              " Row(BODY=1.0, DOORS=2.0, HP=86.0, MPG=27.0, RMP=5800.0),\n",
              " Row(BODY=2.0, DOORS=1.0, HP=84.0, MPG=26.0, RMP=4800.0),\n",
              " Row(BODY=2.0, DOORS=2.0, HP=88.0, MPG=24.0, RMP=5000.0),\n",
              " Row(BODY=2.0, DOORS=2.0, HP=88.0, MPG=24.0, RMP=5000.0),\n",
              " Row(BODY=1.0, DOORS=2.0, HP=92.0, MPG=29.0, RMP=4200.0),\n",
              " Row(BODY=2.0, DOORS=2.0, HP=97.0, MPG=27.0, RMP=5200.0),\n",
              " Row(BODY=2.0, DOORS=1.0, HP=86.0, MPG=27.0, RMP=5800.0),\n",
              " Row(BODY=1.0, DOORS=2.0, HP=82.0, MPG=24.0, RMP=4800.0),\n",
              " Row(BODY=1.0, DOORS=2.0, HP=70.0, MPG=28.0, RMP=4800.0),\n",
              " Row(BODY=1.0, DOORS=2.0, HP=116.0, MPG=23.0, RMP=5500.0),\n",
              " Row(BODY=1.0, DOORS=2.0, HP=116.0, MPG=23.0, RMP=5500.0),\n",
              " Row(BODY=1.0, DOORS=1.0, HP=112.0, MPG=26.0, RMP=6600.0),\n",
              " Row(BODY=1.0, DOORS=2.0, HP=68.0, MPG=37.0, RMP=4500.0),\n",
              " Row(BODY=2.0, DOORS=1.0, HP=112.0, MPG=26.0, RMP=6600.0),\n",
              " Row(BODY=1.0, DOORS=2.0, HP=97.0, MPG=27.0, RMP=5200.0),\n",
              " Row(BODY=2.0, DOORS=1.0, HP=116.0, MPG=24.0, RMP=4800.0),\n",
              " Row(BODY=2.0, DOORS=1.0, HP=116.0, MPG=23.0, RMP=5500.0),\n",
              " Row(BODY=1.0, DOORS=2.0, HP=94.0, MPG=26.0, RMP=5200.0),\n",
              " Row(BODY=2.0, DOORS=1.0, HP=90.0, MPG=24.0, RMP=5500.0),\n",
              " Row(BODY=2.0, DOORS=2.0, HP=92.0, MPG=27.0, RMP=4200.0),\n",
              " Row(BODY=2.0, DOORS=1.0, HP=116.0, MPG=24.0, RMP=4800.0),\n",
              " Row(BODY=1.0, DOORS=2.0, HP=100.0, MPG=26.0, RMP=5500.0),\n",
              " Row(BODY=2.0, DOORS=2.0, HP=94.0, MPG=25.0, RMP=5200.0),\n",
              " Row(BODY=1.0, DOORS=2.0, HP=84.0, MPG=26.0, RMP=4800.0),\n",
              " Row(BODY=1.0, DOORS=2.0, HP=86.0, MPG=27.0, RMP=5800.0),\n",
              " Row(BODY=1.0, DOORS=1.0, HP=100.0, MPG=25.0, RMP=5500.0),\n",
              " Row(BODY=2.0, DOORS=1.0, HP=84.0, MPG=26.0, RMP=4800.0),\n",
              " Row(BODY=1.0, DOORS=2.0, HP=73.0, MPG=30.0, RMP=4500.0),\n",
              " Row(BODY=1.0, DOORS=2.0, HP=92.0, MPG=27.0, RMP=4200.0),\n",
              " Row(BODY=2.0, DOORS=1.0, HP=101.0, MPG=17.0, RMP=6000.0),\n",
              " Row(BODY=2.0, DOORS=1.0, HP=90.0, MPG=24.0, RMP=5000.0),\n",
              " Row(BODY=2.0, DOORS=1.0, HP=116.0, MPG=24.0, RMP=4800.0),\n",
              " Row(BODY=2.0, DOORS=2.0, HP=84.0, MPG=26.0, RMP=4800.0),\n",
              " Row(BODY=2.0, DOORS=2.0, HP=92.0, MPG=27.0, RMP=4200.0),\n",
              " Row(BODY=1.0, DOORS=2.0, HP=111.0, MPG=24.0, RMP=4800.0),\n",
              " Row(BODY=2.0, DOORS=1.0, HP=116.0, MPG=24.0, RMP=4800.0),\n",
              " Row(BODY=2.0, DOORS=1.0, HP=90.0, MPG=24.0, RMP=5500.0),\n",
              " Row(BODY=2.0, DOORS=2.0, HP=111.0, MPG=23.0, RMP=4800.0),\n",
              " Row(BODY=2.0, DOORS=1.0, HP=101.0, MPG=17.0, RMP=6000.0),\n",
              " Row(BODY=2.0, DOORS=1.0, HP=110.0, MPG=21.0, RMP=5250.0),\n",
              " Row(BODY=1.0, DOORS=2.0, HP=97.0, MPG=19.0, RMP=5000.0),\n",
              " Row(BODY=1.0, DOORS=2.0, HP=110.0, MPG=21.0, RMP=5250.0),\n",
              " Row(BODY=2.0, DOORS=2.0, HP=88.0, MPG=25.0, RMP=5500.0),\n",
              " Row(BODY=2.0, DOORS=2.0, HP=97.0, MPG=19.0, RMP=5000.0),\n",
              " Row(BODY=2.0, DOORS=1.0, HP=145.0, MPG=19.0, RMP=5000.0),\n",
              " Row(BODY=2.0, DOORS=1.0, HP=145.0, MPG=19.0, RMP=5000.0),\n",
              " Row(BODY=1.0, DOORS=2.0, HP=114.0, MPG=23.0, RMP=5400.0),\n",
              " Row(BODY=1.0, DOORS=2.0, HP=101.0, MPG=24.0, RMP=5800.0),\n",
              " Row(BODY=2.0, DOORS=1.0, HP=145.0, MPG=19.0, RMP=5000.0),\n",
              " Row(BODY=1.0, DOORS=2.0, HP=95.0, MPG=28.0, RMP=4150.0),\n",
              " Row(BODY=1.0, DOORS=2.0, HP=110.0, MPG=19.0, RMP=5500.0),\n",
              " Row(BODY=2.0, DOORS=2.0, HP=114.0, MPG=23.0, RMP=5400.0),\n",
              " Row(BODY=2.0, DOORS=1.0, HP=111.0, MPG=21.0, RMP=5000.0),\n",
              " Row(BODY=1.0, DOORS=2.0, HP=152.0, MPG=17.0, RMP=5200.0),\n",
              " Row(BODY=1.0, DOORS=2.0, HP=152.0, MPG=19.0, RMP=5200.0),\n",
              " Row(BODY=2.0, DOORS=1.0, HP=101.0, MPG=17.0, RMP=6000.0),\n",
              " Row(BODY=1.0, DOORS=2.0, HP=68.0, MPG=33.0, RMP=4500.0),\n",
              " Row(BODY=2.0, DOORS=2.0, HP=95.0, MPG=25.0, RMP=4150.0),\n",
              " Row(BODY=1.0, DOORS=2.0, HP=102.0, MPG=24.0, RMP=5500.0),\n",
              " Row(BODY=2.0, DOORS=2.0, HP=152.0, MPG=17.0, RMP=5200.0),\n",
              " Row(BODY=2.0, DOORS=1.0, HP=145.0, MPG=19.0, RMP=5000.0),\n",
              " Row(BODY=2.0, DOORS=1.0, HP=145.0, MPG=19.0, RMP=5000.0),\n",
              " Row(BODY=2.0, DOORS=1.0, HP=110.0, MPG=21.0, RMP=5250.0),\n",
              " Row(BODY=1.0, DOORS=1.0, HP=110.0, MPG=19.0, RMP=5500.0),\n",
              " Row(BODY=1.0, DOORS=2.0, HP=110.0, MPG=21.0, RMP=5250.0),\n",
              " Row(BODY=1.0, DOORS=2.0, HP=95.0, MPG=19.0, RMP=5000.0),\n",
              " Row(BODY=2.0, DOORS=1.0, HP=135.0, MPG=16.0, RMP=6000.0),\n",
              " Row(BODY=1.0, DOORS=2.0, HP=156.0, MPG=20.0, RMP=5200.0),\n",
              " Row(BODY=2.0, DOORS=2.0, HP=156.0, MPG=19.0, RMP=5200.0),\n",
              " Row(BODY=1.0, DOORS=2.0, HP=114.0, MPG=24.0, RMP=5400.0),\n",
              " Row(BODY=2.0, DOORS=1.0, HP=161.0, MPG=19.0, RMP=5200.0),\n",
              " Row(BODY=1.0, DOORS=1.0, HP=101.0, MPG=23.0, RMP=5800.0),\n",
              " Row(BODY=2.0, DOORS=1.0, HP=111.0, MPG=21.0, RMP=5000.0),\n",
              " Row(BODY=2.0, DOORS=1.0, HP=154.0, MPG=19.0, RMP=5000.0),\n",
              " Row(BODY=2.0, DOORS=1.0, HP=175.0, MPG=19.0, RMP=5000.0),\n",
              " Row(BODY=2.0, DOORS=2.0, HP=114.0, MPG=24.0, RMP=5400.0),\n",
              " Row(BODY=2.0, DOORS=1.0, HP=161.0, MPG=20.0, RMP=5200.0),\n",
              " Row(BODY=1.0, DOORS=2.0, HP=97.0, MPG=19.0, RMP=5000.0),\n",
              " Row(BODY=2.0, DOORS=2.0, HP=95.0, MPG=19.0, RMP=5000.0),\n",
              " Row(BODY=1.0, DOORS=2.0, HP=114.0, MPG=23.0, RMP=5400.0),\n",
              " Row(BODY=1.0, DOORS=2.0, HP=95.0, MPG=28.0, RMP=4150.0),\n",
              " Row(BODY=1.0, DOORS=2.0, HP=101.0, MPG=23.0, RMP=5800.0),\n",
              " Row(BODY=2.0, DOORS=2.0, HP=95.0, MPG=25.0, RMP=4150.0),\n",
              " Row(BODY=2.0, DOORS=1.0, HP=160.0, MPG=19.0, RMP=5200.0),\n",
              " Row(BODY=1.0, DOORS=2.0, HP=115.0, MPG=18.0, RMP=5500.0),\n",
              " Row(BODY=2.0, DOORS=1.0, HP=116.0, MPG=24.0, RMP=4800.0),\n",
              " Row(BODY=1.0, DOORS=2.0, HP=110.0, MPG=19.0, RMP=5500.0),\n",
              " Row(BODY=1.0, DOORS=2.0, HP=95.0, MPG=28.0, RMP=4150.0),\n",
              " Row(BODY=1.0, DOORS=2.0, HP=142.0, MPG=18.0, RMP=5600.0),\n",
              " Row(BODY=2.0, DOORS=1.0, HP=160.0, MPG=19.0, RMP=5500.0),\n",
              " Row(BODY=1.0, DOORS=2.0, HP=120.0, MPG=19.0, RMP=5000.0),\n",
              " Row(BODY=1.0, DOORS=2.0, HP=72.0, MPG=31.0, RMP=4200.0),\n",
              " Row(BODY=2.0, DOORS=1.0, HP=160.0, MPG=19.0, RMP=5200.0),\n",
              " Row(BODY=1.0, DOORS=2.0, HP=162.0, MPG=17.0, RMP=5100.0),\n",
              " Row(BODY=1.0, DOORS=2.0, HP=160.0, MPG=19.0, RMP=5500.0),\n",
              " Row(BODY=2.0, DOORS=2.0, HP=110.0, MPG=19.0, RMP=5500.0),\n",
              " Row(BODY=2.0, DOORS=2.0, HP=162.0, MPG=17.0, RMP=5100.0),\n",
              " Row(BODY=1.0, DOORS=2.0, HP=160.0, MPG=19.0, RMP=5300.0),\n",
              " Row(BODY=2.0, DOORS=1.0, HP=200.0, MPG=17.0, RMP=5200.0),\n",
              " Row(BODY=1.0, DOORS=1.0, HP=121.0, MPG=21.0, RMP=4250.0),\n",
              " Row(BODY=1.0, DOORS=2.0, HP=121.0, MPG=21.0, RMP=4250.0),\n",
              " Row(BODY=1.0, DOORS=2.0, HP=134.0, MPG=18.0, RMP=5500.0),\n",
              " Row(BODY=2.0, DOORS=1.0, HP=143.0, MPG=19.0, RMP=5500.0),\n",
              " Row(BODY=1.0, DOORS=2.0, HP=106.0, MPG=26.0, RMP=4800.0),\n",
              " Row(BODY=1.0, DOORS=2.0, HP=114.0, MPG=19.0, RMP=5400.0),\n",
              " Row(BODY=1.0, DOORS=2.0, HP=140.0, MPG=17.0, RMP=5500.0),\n",
              " Row(BODY=1.0, DOORS=2.0, HP=121.0, MPG=20.0, RMP=4250.0),\n",
              " Row(BODY=1.0, DOORS=2.0, HP=123.0, MPG=22.0, RMP=4350.0),\n",
              " Row(BODY=2.0, DOORS=1.0, HP=123.0, MPG=22.0, RMP=4350.0),\n",
              " Row(BODY=2.0, DOORS=2.0, HP=123.0, MPG=22.0, RMP=4350.0),\n",
              " Row(BODY=1.0, DOORS=2.0, HP=182.0, MPG=16.0, RMP=5400.0),\n",
              " Row(BODY=1.0, DOORS=2.0, HP=123.0, MPG=22.0, RMP=4350.0),\n",
              " Row(BODY=1.0, DOORS=2.0, HP=176.0, MPG=15.0, RMP=4750.0),\n",
              " Row(BODY=2.0, DOORS=1.0, HP=207.0, MPG=17.0, RMP=5900.0),\n",
              " Row(BODY=2.0, DOORS=1.0, HP=207.0, MPG=17.0, RMP=5900.0),\n",
              " Row(BODY=1.0, DOORS=2.0, HP=155.0, MPG=16.0, RMP=4750.0),\n",
              " Row(BODY=2.0, DOORS=1.0, HP=155.0, MPG=16.0, RMP=4750.0),\n",
              " Row(BODY=1.0, DOORS=2.0, HP=176.0, MPG=15.0, RMP=4750.0),\n",
              " Row(BODY=1.0, DOORS=1.0, HP=262.0, MPG=13.0, RMP=5000.0),\n",
              " Row(BODY=1.0, DOORS=2.0, HP=182.0, MPG=15.0, RMP=5400.0),\n",
              " Row(BODY=2.0, DOORS=1.0, HP=207.0, MPG=17.0, RMP=5900.0),\n",
              " Row(BODY=1.0, DOORS=2.0, HP=184.0, MPG=14.0, RMP=4500.0),\n",
              " Row(BODY=1.0, DOORS=1.0, HP=182.0, MPG=16.0, RMP=5400.0),\n",
              " Row(BODY=2.0, DOORS=1.0, HP=184.0, MPG=14.0, RMP=4500.0)]"
            ]
          },
          "metadata": {
            "tags": []
          },
          "execution_count": 25
        }
      ]
    },
    {
      "cell_type": "markdown",
      "metadata": {
        "id": "dPmfJ9vsNm7o",
        "colab_type": "text"
      },
      "source": [
        "# Continue at 04:21"
      ]
    },
    {
      "cell_type": "code",
      "metadata": {
        "id": "NLspm_5VBlOg",
        "colab_type": "code",
        "colab": {}
      },
      "source": [
        ""
      ],
      "execution_count": null,
      "outputs": []
    },
    {
      "cell_type": "code",
      "metadata": {
        "id": "VQQ9x4otBlMM",
        "colab_type": "code",
        "colab": {}
      },
      "source": [
        ""
      ],
      "execution_count": null,
      "outputs": []
    },
    {
      "cell_type": "markdown",
      "metadata": {
        "id": "sloRhWotPsL_",
        "colab_type": "text"
      },
      "source": [
        "# Monitor Jobs - Spark UI"
      ]
    },
    {
      "cell_type": "code",
      "metadata": {
        "id": "rXf_5cgHRLlw",
        "colab_type": "code",
        "colab": {
          "base_uri": "https://localhost:8080/",
          "height": 216
        },
        "outputId": "19aa1f29-a9e9-4a14-edff-b3030dc705dd"
      },
      "source": [
        "spark"
      ],
      "execution_count": null,
      "outputs": [
        {
          "output_type": "execute_result",
          "data": {
            "text/html": [
              "\n",
              "            <div>\n",
              "                <p><b>SparkSession - in-memory</b></p>\n",
              "                \n",
              "        <div>\n",
              "            <p><b>SparkContext</b></p>\n",
              "\n",
              "            <p><a href=\"http://b6c217884574:4050\">Spark UI</a></p>\n",
              "\n",
              "            <dl>\n",
              "              <dt>Version</dt>\n",
              "                <dd><code>v2.4.4</code></dd>\n",
              "              <dt>Master</dt>\n",
              "                <dd><code>local[*]</code></dd>\n",
              "              <dt>AppName</dt>\n",
              "                <dd><code>pyspark-shell</code></dd>\n",
              "            </dl>\n",
              "        </div>\n",
              "        \n",
              "            </div>\n",
              "        "
            ],
            "text/plain": [
              "<pyspark.sql.session.SparkSession at 0x7fcdf287cef0>"
            ]
          },
          "metadata": {
            "tags": []
          },
          "execution_count": 9
        }
      ]
    },
    {
      "cell_type": "code",
      "metadata": {
        "id": "RRoEruExRPK_",
        "colab_type": "code",
        "colab": {
          "base_uri": "https://localhost:8080/",
          "height": 255
        },
        "outputId": "92dcdb83-f701-49df-a76a-f586dd7a7a37"
      },
      "source": [
        "# If you are running this Colab on the Google hosted runtime, the cell below \n",
        "# will create a ngrok tunnel which will allow you to still check the Spark UI.\n",
        "!wget https://bin.equinox.io/c/4VmDzA7iaHb/ngrok-stable-linux-amd64.zip\n",
        "!unzip ngrok-stable-linux-amd64.zip\n",
        "get_ipython().system_raw('./ngrok http 4050 &')\n",
        "!curl -s http://localhost:4040/api/tunnels | python3 -c \\\n",
        "    \"import sys, json; print(json.load(sys.stdin)['tunnels'][0]['public_url'])\""
      ],
      "execution_count": null,
      "outputs": [
        {
          "output_type": "stream",
          "text": [
            "--2020-08-19 10:30:30--  https://bin.equinox.io/c/4VmDzA7iaHb/ngrok-stable-linux-amd64.zip\n",
            "Resolving bin.equinox.io (bin.equinox.io)... 54.159.87.23, 52.54.251.217, 34.233.175.36, ...\n",
            "Connecting to bin.equinox.io (bin.equinox.io)|54.159.87.23|:443... connected.\n",
            "HTTP request sent, awaiting response... 200 OK\n",
            "Length: 13773305 (13M) [application/octet-stream]\n",
            "Saving to: ‘ngrok-stable-linux-amd64.zip’\n",
            "\n",
            "\r          ngrok-sta   0%[                    ]       0  --.-KB/s               \r         ngrok-stab  86%[================>   ]  11.40M  57.0MB/s               \rngrok-stable-linux- 100%[===================>]  13.13M  60.9MB/s    in 0.2s    \n",
            "\n",
            "2020-08-19 10:30:31 (60.9 MB/s) - ‘ngrok-stable-linux-amd64.zip’ saved [13773305/13773305]\n",
            "\n",
            "Archive:  ngrok-stable-linux-amd64.zip\n",
            "  inflating: ngrok                   \n",
            "http://3f28f3706035.ngrok.io\n"
          ],
          "name": "stdout"
        }
      ]
    },
    {
      "cell_type": "markdown",
      "metadata": {
        "id": "JQIPY9lTRctN",
        "colab_type": "text"
      },
      "source": [
        ""
      ]
    }
  ]
}
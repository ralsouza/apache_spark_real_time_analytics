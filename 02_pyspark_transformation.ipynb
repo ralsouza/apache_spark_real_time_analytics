{
  "nbformat": 4,
  "nbformat_minor": 0,
  "metadata": {
    "colab": {
      "name": "02_pyspark_transformation.ipynb",
      "provenance": [],
      "collapsed_sections": [],
      "toc_visible": true,
      "mount_file_id": "1Vo6uT9NrHfZ4v_wc_dAzaw1m9x5uB-PQ",
      "authorship_tag": "ABX9TyMbrLBWJ9Cc50FoAt2nSOlu",
      "include_colab_link": true
    },
    "kernelspec": {
      "name": "python3",
      "display_name": "Python 3"
    }
  },
  "cells": [
    {
      "cell_type": "markdown",
      "metadata": {
        "id": "view-in-github",
        "colab_type": "text"
      },
      "source": [
        "<a href=\"https://colab.research.google.com/github/ralsouza/apache_spark_real_time_analytics/blob/master/02_pyspark_transformation.ipynb\" target=\"_parent\"><img src=\"https://colab.research.google.com/assets/colab-badge.svg\" alt=\"Open In Colab\"/></a>"
      ]
    },
    {
      "cell_type": "markdown",
      "metadata": {
        "id": "lzLMmbSfPn3Z",
        "colab_type": "text"
      },
      "source": [
        "# Install & Setup"
      ]
    },
    {
      "cell_type": "code",
      "metadata": {
        "id": "epFmLGmnPj6h",
        "colab_type": "code",
        "colab": {}
      },
      "source": [
        "# Install the dependencies\n",
        "!apt-get install openjdk-8-jdk-headless -qq > /dev/null\n",
        "!wget -q https://archive.apache.org/dist/spark/spark-2.4.4/spark-2.4.4-bin-hadoop2.7.tgz\n",
        "!tar xf spark-2.4.4-bin-hadoop2.7.tgz\n",
        "!pip install -q findspark"
      ],
      "execution_count": 1,
      "outputs": []
    },
    {
      "cell_type": "code",
      "metadata": {
        "id": "_cfn9o3LPu55",
        "colab_type": "code",
        "colab": {}
      },
      "source": [
        "# Environment variables\n",
        "import os\n",
        "os.environ[\"JAVA_HOME\"] = \"/usr/lib/jvm/java-8-openjdk-amd64\"\n",
        "os.environ[\"SPARK_HOME\"] = \"/content/spark-2.4.4-bin-hadoop2.7\"\n",
        " \n",
        "# tornar o pyspark \"importável\"\n",
        "import findspark\n",
        "findspark.init('spark-2.4.4-bin-hadoop2.7')"
      ],
      "execution_count": 2,
      "outputs": []
    },
    {
      "cell_type": "code",
      "metadata": {
        "id": "W3QN53L4QTHc",
        "colab_type": "code",
        "colab": {}
      },
      "source": [
        "# Libraries and Context Setup\n",
        "import pyspark\n",
        "from pyspark.sql import SparkSession\n",
        "from pyspark import SparkContext, SparkConf\n",
        "\n",
        "# create the session\n",
        "conf = SparkConf().set(\"spark.ui.port\", \"4050\")\n",
        "\n",
        "# create the context\n",
        "sc = pyspark.SparkContext(conf=conf)\n",
        "spark = SparkSession.builder.getOrCreate()"
      ],
      "execution_count": 3,
      "outputs": []
    },
    {
      "cell_type": "code",
      "metadata": {
        "id": "bPeDAO5HQi6I",
        "colab_type": "code",
        "colab": {
          "base_uri": "https://localhost:8080/",
          "height": 34
        },
        "outputId": "a56bf0d8-c1a6-403e-ffa3-2f536288f46a"
      },
      "source": [
        "# Check context\n",
        "print(sc)"
      ],
      "execution_count": null,
      "outputs": [
        {
          "output_type": "stream",
          "text": [
            "<SparkContext master=local[*] appName=pyspark-shell>\n"
          ],
          "name": "stdout"
        }
      ]
    },
    {
      "cell_type": "markdown",
      "metadata": {
        "id": "REk0rOBcQFR1",
        "colab_type": "text"
      },
      "source": [
        "# Transformation"
      ]
    },
    {
      "cell_type": "code",
      "metadata": {
        "id": "r2A2MeIpP6Xk",
        "colab_type": "code",
        "colab": {}
      },
      "source": [
        "# Python list\n",
        "lst1 = [124,940,652,102,397]"
      ],
      "execution_count": null,
      "outputs": []
    },
    {
      "cell_type": "code",
      "metadata": {
        "id": "NZ5bOia0ReOt",
        "colab_type": "code",
        "colab": {
          "base_uri": "https://localhost:8080/",
          "height": 34
        },
        "outputId": "379c1b80-939d-4a3d-9df9-15ac2d6c0209"
      },
      "source": [
        "# Check data type\n",
        "type(lst1)"
      ],
      "execution_count": null,
      "outputs": [
        {
          "output_type": "execute_result",
          "data": {
            "text/plain": [
              "list"
            ]
          },
          "metadata": {
            "tags": []
          },
          "execution_count": 6
        }
      ]
    },
    {
      "cell_type": "code",
      "metadata": {
        "id": "II26s85iRilj",
        "colab_type": "code",
        "colab": {}
      },
      "source": [
        "# Load data into a collection\n",
        "lst1_rdd = sc.parallelize(lst1)"
      ],
      "execution_count": null,
      "outputs": []
    },
    {
      "cell_type": "code",
      "metadata": {
        "id": "gxgFSma-Rst8",
        "colab_type": "code",
        "colab": {
          "base_uri": "https://localhost:8080/",
          "height": 34
        },
        "outputId": "4ee3d632-1fc4-4de9-e5ea-bff52bd4d61d"
      },
      "source": [
        "# Check data type\n",
        "type(lst1_rdd)"
      ],
      "execution_count": null,
      "outputs": [
        {
          "output_type": "execute_result",
          "data": {
            "text/plain": [
              "pyspark.rdd.RDD"
            ]
          },
          "metadata": {
            "tags": []
          },
          "execution_count": 11
        }
      ]
    },
    {
      "cell_type": "code",
      "metadata": {
        "id": "qnNlL6d-RzOj",
        "colab_type": "code",
        "colab": {
          "base_uri": "https://localhost:8080/",
          "height": 34
        },
        "outputId": "8327efb3-c8be-4b00-f54e-697ebff65c86"
      },
      "source": [
        "# Print collection\n",
        "lst1_rdd.collect()"
      ],
      "execution_count": null,
      "outputs": [
        {
          "output_type": "execute_result",
          "data": {
            "text/plain": [
              "[124, 940, 652, 102, 397]"
            ]
          },
          "metadata": {
            "tags": []
          },
          "execution_count": 13
        }
      ]
    },
    {
      "cell_type": "code",
      "metadata": {
        "id": "D87B9PXmSFxH",
        "colab_type": "code",
        "colab": {
          "base_uri": "https://localhost:8080/",
          "height": 34
        },
        "outputId": "1d0204d6-4cd4-4820-c7c3-346d5d089e58"
      },
      "source": [
        "# Counting elements\n",
        "lst1_rdd.count()"
      ],
      "execution_count": null,
      "outputs": [
        {
          "output_type": "execute_result",
          "data": {
            "text/plain": [
              "5"
            ]
          },
          "metadata": {
            "tags": []
          },
          "execution_count": 14
        }
      ]
    },
    {
      "cell_type": "code",
      "metadata": {
        "id": "LleFiF7SSM7O",
        "colab_type": "code",
        "colab": {}
      },
      "source": [
        "# Load RDD from a text file\n",
        "file = '/content/drive/My Drive/Colab Notebooks/08-apache-spark/data/carros.csv'\n",
        "auto_data_rdd = sc.textFile(file)"
      ],
      "execution_count": null,
      "outputs": []
    },
    {
      "cell_type": "code",
      "metadata": {
        "id": "Z3gAE5bWTGD1",
        "colab_type": "code",
        "colab": {
          "base_uri": "https://localhost:8080/",
          "height": 34
        },
        "outputId": "2de0ff32-0c66-4774-e577-ab5a171f4565"
      },
      "source": [
        "# Check data type\n",
        "type(auto_data_rdd)"
      ],
      "execution_count": null,
      "outputs": [
        {
          "output_type": "execute_result",
          "data": {
            "text/plain": [
              "pyspark.rdd.RDD"
            ]
          },
          "metadata": {
            "tags": []
          },
          "execution_count": 16
        }
      ]
    },
    {
      "cell_type": "code",
      "metadata": {
        "id": "1E1UcnvoTMY9",
        "colab_type": "code",
        "colab": {
          "base_uri": "https://localhost:8080/",
          "height": 37
        },
        "outputId": "f361045e-7255-467a-a9bc-8494d2498096"
      },
      "source": [
        "# An action operation - Returning the first row from dataset, the header\n",
        "auto_data_rdd.first()"
      ],
      "execution_count": null,
      "outputs": [
        {
          "output_type": "execute_result",
          "data": {
            "application/vnd.google.colaboratory.intrinsic+json": {
              "type": "string"
            },
            "text/plain": [
              "'MAKE,FUELTYPE,ASPIRE,DOORS,BODY,DRIVE,CYLINDERS,HP,RPM,MPG-CITY,MPG-HWY,PRICE'"
            ]
          },
          "metadata": {
            "tags": []
          },
          "execution_count": 17
        }
      ]
    },
    {
      "cell_type": "code",
      "metadata": {
        "id": "EDdAEzVITfHp",
        "colab_type": "code",
        "colab": {
          "base_uri": "https://localhost:8080/",
          "height": 102
        },
        "outputId": "86e56de8-90ae-46c0-bb2d-7c371b9c0de7"
      },
      "source": [
        "# Returning the 5 firsts rows and the header\n",
        "auto_data_rdd.take(5)"
      ],
      "execution_count": null,
      "outputs": [
        {
          "output_type": "execute_result",
          "data": {
            "text/plain": [
              "['MAKE,FUELTYPE,ASPIRE,DOORS,BODY,DRIVE,CYLINDERS,HP,RPM,MPG-CITY,MPG-HWY,PRICE',\n",
              " 'subaru,gas,std,two,hatchback,fwd,four,69,4900,31,36,5118',\n",
              " 'chevrolet,gas,std,two,hatchback,fwd,three,48,5100,47,53,5151',\n",
              " 'mazda,gas,std,two,hatchback,fwd,four,68,5000,30,31,5195',\n",
              " 'toyota,gas,std,two,hatchback,fwd,four,62,4800,35,39,5348']"
            ]
          },
          "metadata": {
            "tags": []
          },
          "execution_count": 18
        }
      ]
    },
    {
      "cell_type": "code",
      "metadata": {
        "id": "uD6aTwYgTvbc",
        "colab_type": "code",
        "colab": {
          "base_uri": "https://localhost:8080/",
          "height": 54
        },
        "outputId": "af6d9eb7-38cc-4bc4-f8f8-23075c43d192"
      },
      "source": [
        "# Each partition generates a new computation process\n",
        "# But we can persist the data into a cache to be used for other actions\n",
        "# without necessity of a new computation\n",
        "auto_data_rdd.cache()"
      ],
      "execution_count": null,
      "outputs": [
        {
          "output_type": "execute_result",
          "data": {
            "text/plain": [
              "/content/drive/My Drive/Colab Notebooks/08-apache-spark/data/carros.csv MapPartitionsRDD[4] at textFile at NativeMethodAccessorImpl.java:0"
            ]
          },
          "metadata": {
            "tags": []
          },
          "execution_count": 19
        }
      ]
    },
    {
      "cell_type": "code",
      "metadata": {
        "id": "oFiLV4XUUeoB",
        "colab_type": "code",
        "colab": {
          "base_uri": "https://localhost:8080/",
          "height": 1000
        },
        "outputId": "4596e134-41b6-4336-d81b-63ad28e65508"
      },
      "source": [
        "# List all rows\n",
        "for row in auto_data_rdd.collect():\n",
        "  print(row)"
      ],
      "execution_count": null,
      "outputs": [
        {
          "output_type": "stream",
          "text": [
            "MAKE,FUELTYPE,ASPIRE,DOORS,BODY,DRIVE,CYLINDERS,HP,RPM,MPG-CITY,MPG-HWY,PRICE\n",
            "subaru,gas,std,two,hatchback,fwd,four,69,4900,31,36,5118\n",
            "chevrolet,gas,std,two,hatchback,fwd,three,48,5100,47,53,5151\n",
            "mazda,gas,std,two,hatchback,fwd,four,68,5000,30,31,5195\n",
            "toyota,gas,std,two,hatchback,fwd,four,62,4800,35,39,5348\n",
            "mitsubishi,gas,std,two,hatchback,fwd,four,68,5500,37,41,5389\n",
            "honda,gas,std,two,hatchback,fwd,four,60,5500,38,42,5399\n",
            "nissan,gas,std,two,sedan,fwd,four,69,5200,31,37,5499\n",
            "dodge,gas,std,two,hatchback,fwd,four,68,5500,37,41,5572\n",
            "plymouth,gas,std,two,hatchback,fwd,four,68,5500,37,41,5572\n",
            "mazda,gas,std,two,hatchback,fwd,four,68,5000,31,38,6095\n",
            "mitsubishi,gas,std,two,hatchback,fwd,four,68,5500,31,38,6189\n",
            "dodge,gas,std,four,hatchback,fwd,four,68,5500,31,38,6229\n",
            "plymouth,gas,std,four,hatchback,fwd,four,68,5500,31,38,6229\n",
            "chevrolet,gas,std,two,hatchback,fwd,four,70,5400,38,43,6295\n",
            "toyota,gas,std,two,hatchback,fwd,four,62,4800,31,38,6338\n",
            "dodge,gas,std,two,hatchback,fwd,four,68,5500,31,38,6377\n",
            "honda,gas,std,two,hatchback,fwd,four,58,4800,49,54,6479\n",
            "toyota,gas,std,four,hatchback,fwd,four,62,4800,31,38,6488\n",
            "honda,gas,std,two,hatchback,fwd,four,76,6000,30,34,6529\n",
            "chevrolet,gas,std,four,sedan,fwd,four,70,5400,38,43,6575\n",
            "nissan,gas,std,two,sedan,fwd,four,69,5200,31,37,6649\n",
            "mitsubishi,gas,std,two,hatchback,fwd,four,68,5500,31,38,6669\n",
            "dodge,gas,std,four,sedan,fwd,four,68,5500,31,38,6692\n",
            "plymouth,gas,std,four,sedan,fwd,four,68,5500,31,38,6692\n",
            "mazda,gas,std,four,sedan,fwd,four,68,5000,31,38,6695\n",
            "isuzu,gas,std,four,sedan,rwd,four,78,4800,24,29,6785\n",
            "mazda,gas,std,two,hatchback,fwd,four,68,5000,31,38,6795\n",
            "nissan,gas,std,four,sedan,fwd,four,69,5200,31,37,6849\n",
            "honda,gas,std,two,hatchback,fwd,four,76,6000,31,38,6855\n",
            "toyota,gas,std,four,wagon,fwd,four,62,4800,31,37,6918\n",
            "toyota,gas,std,four,sedan,fwd,four,70,4800,30,37,6938\n",
            "mitsubishi,gas,std,four,sedan,fwd,four,88,5000,25,32,6989\n",
            "subaru,gas,std,two,hatchback,fwd,four,73,4400,26,31,7053\n",
            "nissan,diesel,std,two,sedan,fwd,four,55,4800,45,50,7099\n",
            "subaru,gas,std,four,sedan,fwd,four,82,4800,32,37,7126\n",
            "honda,gas,std,two,hatchback,fwd,four,76,6000,30,34,7129\n",
            "toyota,gas,std,four,hatchback,fwd,four,70,4800,30,37,7198\n",
            "honda,gas,std,four,sedan,fwd,four,76,6000,30,34,7295\n",
            "honda,gas,std,four,wagon,fwd,four,76,6000,30,34,7295\n",
            "nissan,gas,std,two,sedan,fwd,four,69,5200,31,37,7299\n",
            "nissan,gas,std,four,wagon,fwd,four,69,5200,31,37,7349\n",
            "mazda,gas,std,four,sedan,fwd,four,68,5000,31,38,7395\n",
            "subaru,gas,std,four,wagon,fwd,four,82,4800,28,32,7463\n",
            "nissan,gas,std,four,sedan,fwd,four,69,5200,31,37,7499\n",
            "subaru,gas,std,two,hatchback,4wd,four,73,4400,26,31,7603\n",
            "dodge,gas,std,four,sedan,fwd,four,68,5500,31,38,7609\n",
            "plymouth,gas,std,four,sedan,fwd,four,68,5500,31,38,7609\n",
            "mitsubishi,gas,turbo,two,hatchback,fwd,four,102,5500,24,30,7689\n",
            "toyota,gas,std,four,sedan,fwd,four,70,4800,38,47,7738\n",
            "subaru,gas,std,four,sedan,fwd,four,82,4400,28,33,7775\n",
            "volkswagen,diesel,std,two,sedan,fwd,four,52,4800,37,46,7775\n",
            "toyota,diesel,std,four,hatchback,fwd,four,56,4500,38,47,7788\n",
            "nissan,gas,std,two,hatchback,fwd,four,69,5200,31,37,7799\n",
            "honda,gas,std,two,hatchback,fwd,four,86,5800,27,33,7895\n",
            "toyota,gas,std,four,wagon,4wd,four,62,4800,27,32,7898\n",
            "toyota,diesel,std,four,sedan,fwd,four,56,4500,34,36,7898\n",
            "dodge,gas,turbo,two,hatchback,fwd,four,102,5500,24,30,7957\n",
            "plymouth,gas,turbo,two,hatchback,fwd,four,102,5500,24,30,7957\n",
            "volkswagen,gas,std,two,sedan,fwd,four,85,5250,27,34,7975\n",
            "volkswagen,diesel,std,four,sedan,fwd,four,52,4800,37,46,7995\n",
            "nissan,gas,std,four,wagon,fwd,four,69,5200,31,37,7999\n",
            "subaru,gas,std,four,wagon,4wd,four,82,4800,23,29,8013\n",
            "toyota,gas,std,two,sedan,rwd,four,70,4800,29,34,8058\n",
            "mitsubishi,gas,std,four,sedan,fwd,four,88,5000,25,32,8189\n",
            "volkswagen,gas,std,four,sedan,fwd,four,85,5250,27,34,8195\n",
            "toyota,gas,std,two,hatchback,rwd,four,70,4800,29,34,8238\n",
            "nissan,gas,std,two,hardtop,fwd,four,69,5200,31,37,8249\n",
            "toyota,gas,std,four,hatchback,fwd,four,70,4800,28,34,8358\n",
            "toyota,gas,std,two,hardtop,rwd,four,116,4800,24,30,8449\n",
            "mazda,gas,std,four,sedan,fwd,four,84,4800,26,32,8495\n",
            "volkswagen,gas,std,four,sedan,fwd,four,85,5250,27,34,8495\n",
            "mitsubishi,gas,std,two,hatchback,fwd,four,88,5000,25,32,8499\n",
            "toyota,gas,std,four,wagon,4wd,four,62,4800,27,32,8778\n",
            "honda,gas,std,four,sedan,fwd,four,86,5800,27,33,8845\n",
            "mazda,gas,std,two,hatchback,fwd,four,84,4800,26,32,8845\n",
            "dodge,gas,std,four,wagon,fwd,four,88,5000,24,30,8921\n",
            "plymouth,gas,std,four,wagon,fwd,four,88,5000,24,30,8921\n",
            "toyota,gas,std,four,sedan,fwd,four,92,4200,29,34,8948\n",
            "nissan,gas,std,four,hatchback,fwd,four,97,5200,27,34,8949\n",
            "honda,gas,std,two,hatchback,fwd,four,86,5800,27,33,9095\n",
            "subaru,gas,std,four,sedan,4wd,four,82,4800,24,25,9233\n",
            "toyota,gas,std,four,sedan,fwd,four,70,4800,28,34,9258\n",
            "mitsubishi,gas,turbo,four,sedan,fwd,four,116,5500,23,30,9279\n",
            "mitsubishi,gas,std,four,sedan,fwd,four,116,5500,23,30,9279\n",
            "toyota,gas,std,two,sedan,rwd,four,112,6600,26,29,9298\n",
            "volkswagen,diesel,turbo,four,sedan,fwd,four,68,4500,37,42,9495\n",
            "toyota,gas,std,two,hatchback,rwd,four,112,6600,26,29,9538\n",
            "nissan,gas,std,four,sedan,fwd,four,97,5200,27,34,9549\n",
            "toyota,gas,std,two,hardtop,rwd,four,116,4800,24,30,9639\n",
            "mitsubishi,gas,turbo,two,hatchback,fwd,four,116,5500,23,30,9959\n",
            "subaru,gas,std,four,sedan,fwd,four,94,5200,26,32,9960\n",
            "volkswagen,gas,std,two,hatchback,fwd,four,90,5500,24,29,9980\n",
            "toyota,gas,std,four,hatchback,fwd,four,92,4200,27,32,9988\n",
            "toyota,gas,std,two,hatchback,rwd,four,116,4800,24,30,9989\n",
            "volkswagen,gas,std,four,sedan,fwd,four,100,5500,26,32,9995\n",
            "subaru,gas,std,four,wagon,fwd,four,94,5200,25,31,10198\n",
            "mazda,gas,std,four,sedan,fwd,four,84,4800,26,32,10245\n",
            "honda,gas,std,four,sedan,fwd,four,86,5800,27,33,10295\n",
            "honda,gas,std,two,sedan,fwd,four,100,5500,25,31,10345\n",
            "mazda,gas,std,two,hatchback,fwd,four,84,4800,26,32,10595\n",
            "toyota,diesel,turbo,four,sedan,fwd,four,73,4500,30,33,10698\n",
            "toyota,gas,std,four,sedan,fwd,four,92,4200,27,32,10898\n",
            "mazda,gas,std,two,hatchback,rwd,two,101,6000,17,23,10945\n",
            "isuzu,gas,std,two,hatchback,rwd,four,90,5000,24,29,11048\n",
            "toyota,gas,std,two,hardtop,rwd,four,116,4800,24,30,11199\n",
            "mazda,gas,std,four,hatchback,fwd,four,84,4800,26,32,11245\n",
            "toyota,gas,std,four,hatchback,fwd,four,92,4200,27,32,11248\n",
            "subaru,gas,turbo,four,sedan,4wd,four,111,4800,24,29,11259\n",
            "toyota,gas,std,two,hatchback,rwd,four,116,4800,24,30,11549\n",
            "volkswagen,gas,std,two,convertible,fwd,four,90,5500,24,29,11595\n",
            "subaru,gas,turbo,four,wagon,4wd,four,111,4800,23,23,11694\n",
            "mazda,gas,std,two,hatchback,rwd,two,101,6000,17,23,11845\n",
            "saab,gas,std,two,hatchback,fwd,four,110,5250,21,28,11850\n",
            "peugot,gas,std,four,sedan,rwd,four,97,5000,19,24,11900\n",
            "saab,gas,std,four,sedan,fwd,four,110,5250,21,28,12170\n",
            "volkswagen,gas,std,four,wagon,fwd,four,88,5500,25,31,12290\n",
            "peugot,gas,std,four,wagon,rwd,four,97,5000,19,24,12440\n",
            "mitsubishi,gas,turbo,two,hatchback,fwd,four,145,5000,19,24,12629\n",
            "plymouth,gas,turbo,two,hatchback,rwd,four,145,5000,19,24,12764\n",
            "volvo,gas,std,four,sedan,rwd,four,114,5400,23,28,12940\n",
            "honda,gas,std,four,sedan,fwd,four,101,5800,24,28,12945\n",
            "dodge,gas,turbo,two,hatchback,fwd,four,145,5000,19,24,12964\n",
            "peugot,diesel,turbo,four,sedan,rwd,four,95,4150,28,33,13200\n",
            "volkswagen,gas,std,four,sedan,fwd,five,110,5500,19,24,13295\n",
            "volvo,gas,std,four,wagon,rwd,four,114,5400,23,28,13415\n",
            "alfa-romero,gas,std,two,convertible,rwd,four,111,5000,21,27,13495\n",
            "nissan,gas,std,four,sedan,fwd,six,152,5200,17,22,13499\n",
            "nissan,gas,std,four,sedan,fwd,six,152,5200,19,25,13499\n",
            "mazda,gas,std,two,hatchback,rwd,two,101,6000,17,23,13645\n",
            "volkswagen,diesel,turbo,four,sedan,fwd,four,68,4500,33,38,13845\n",
            "peugot,diesel,turbo,four,wagon,rwd,four,95,4150,25,25,13860\n",
            "audi,gas,std,four,sedan,fwd,four,102,5500,24,30,13950\n",
            "nissan,gas,std,four,wagon,fwd,six,152,5200,17,22,14399\n",
            "mitsubishi,gas,turbo,two,hatchback,fwd,four,145,5000,19,24,14489\n",
            "mitsubishi,gas,turbo,two,hatchback,fwd,four,145,5000,19,24,14869\n",
            "saab,gas,std,two,hatchback,fwd,four,110,5250,21,28,15040\n",
            "audi,gas,std,two,sedan,fwd,five,110,5500,19,25,15250\n",
            "saab,gas,std,four,sedan,fwd,four,110,5250,21,28,15510\n",
            "peugot,gas,std,four,sedan,rwd,four,95,5000,19,24,15580\n",
            "mazda,gas,std,two,hatchback,rwd,two,135,6000,16,23,15645\n",
            "toyota,gas,std,four,sedan,rwd,six,156,5200,20,24,15690\n",
            "toyota,gas,std,four,wagon,rwd,six,156,5200,19,24,15750\n",
            "volvo,gas,std,four,sedan,rwd,four,114,5400,24,28,15985\n",
            "toyota,gas,std,two,hatchback,rwd,six,161,5200,19,24,15998\n",
            "bmw,gas,std,two,sedan,rwd,four,101,5800,23,29,16430\n",
            "alfa-romero,gas,std,two,convertible,rwd,four,111,5000,21,27,16500\n",
            "alfa-romero,gas,std,two,hatchback,rwd,six,154,5000,19,26,16500\n",
            "mercury,gas,turbo,two,hatchback,rwd,four,175,5000,19,24,16503\n",
            "volvo,gas,std,four,wagon,rwd,four,114,5400,24,28,16515\n",
            "toyota,gas,std,two,hatchback,rwd,six,161,5200,20,24,16558\n",
            "peugot,gas,std,four,sedan,rwd,four,97,5000,19,24,16630\n",
            "peugot,gas,std,four,wagon,rwd,four,95,5000,19,24,16695\n",
            "volvo,gas,std,four,sedan,rwd,four,114,5400,23,28,16845\n",
            "peugot,diesel,turbo,four,sedan,rwd,four,95,4150,28,33,16900\n",
            "bmw,gas,std,four,sedan,rwd,four,101,5800,23,29,16925\n",
            "peugot,diesel,turbo,four,wagon,rwd,four,95,4150,25,25,17075\n",
            "nissan,gas,std,two,hatchback,rwd,six,160,5200,19,25,17199\n",
            "audi,gas,std,four,sedan,4wd,five,115,5500,18,22,17450\n",
            "toyota,gas,std,two,convertible,rwd,four,116,4800,24,30,17669\n",
            "audi,gas,std,four,sedan,fwd,five,110,5500,19,25,17710\n",
            "peugot,diesel,turbo,four,sedan,rwd,four,95,4150,28,33,17950\n",
            "peugot,gas,turbo,four,sedan,rwd,four,142,5600,18,24,18150\n",
            "saab,gas,turbo,two,hatchback,fwd,four,160,5500,19,26,18150\n",
            "mazda,gas,std,four,sedan,rwd,four,120,5000,19,27,18280\n",
            "mazda,diesel,std,four,sedan,rwd,four,72,4200,31,39,18344\n",
            "nissan,gas,std,two,hatchback,rwd,six,160,5200,19,25,18399\n",
            "volvo,gas,turbo,four,sedan,rwd,four,162,5100,17,22,18420\n",
            "saab,gas,turbo,four,sedan,fwd,four,160,5500,19,26,18620\n",
            "audi,gas,std,four,wagon,fwd,five,110,5500,19,25,18920\n",
            "volvo,gas,turbo,four,wagon,rwd,four,162,5100,17,22,18950\n",
            "volvo,gas,turbo,four,sedan,rwd,four,160,5300,19,25,19045\n",
            "nissan,gas,turbo,two,hatchback,rwd,six,200,5200,17,23,19699\n",
            "bmw,gas,std,two,sedan,rwd,six,121,4250,21,28,20970\n",
            "bmw,gas,std,four,sedan,rwd,six,121,4250,21,28,21105\n",
            "volvo,gas,std,four,sedan,rwd,six,134,5500,18,23,21485\n",
            "porsche,gas,std,two,hatchback,rwd,four,143,5500,19,27,22018\n",
            "volvo,diesel,turbo,four,sedan,rwd,six,106,4800,26,27,22470\n",
            "volvo,gas,turbo,four,sedan,rwd,four,114,5400,19,25,22625\n",
            "audi,gas,turbo,four,sedan,fwd,five,140,5500,17,20,23875\n",
            "bmw,gas,std,four,sedan,rwd,six,121,4250,20,25,24565\n",
            "mercedes-benz,diesel,turbo,four,sedan,rwd,five,123,4350,22,25,25552\n",
            "mercedes-benz,diesel,turbo,two,hardtop,rwd,five,123,4350,22,25,28176\n",
            "mercedes-benz,diesel,turbo,four,wagon,rwd,five,123,4350,22,25,28248\n",
            "bmw,gas,std,four,sedan,rwd,six,182,5400,16,22,30760\n",
            "mercedes-benz,diesel,turbo,four,sedan,rwd,five,123,4350,22,25,31600\n",
            "jaguar,gas,std,four,sedan,rwd,six,176,4750,15,19,32250\n",
            "porsche,gas,std,two,hardtop,rwd,six,207,5900,17,25,32528\n",
            "porsche,gas,std,two,hardtop,rwd,six,207,5900,17,25,34028\n",
            "mercedes-benz,gas,std,four,sedan,rwd,eight,155,4750,16,18,34184\n",
            "mercedes-benz,gas,std,two,convertible,rwd,eight,155,4750,16,18,35056\n",
            "jaguar,gas,std,four,sedan,rwd,six,176,4750,15,19,35550\n",
            "jaguar,gas,std,two,sedan,rwd,twelve,262,5000,13,17,36000\n",
            "bmw,gas,std,four,sedan,rwd,six,182,5400,15,20,36880\n",
            "porsche,gas,std,two,convertible,rwd,six,207,5900,17,25,37028\n",
            "mercedes-benz,gas,std,four,sedan,rwd,eight,184,4500,14,16,40960\n",
            "bmw,gas,std,two,sedan,rwd,six,182,5400,16,22,41315\n",
            "mercedes-benz,gas,std,two,hardtop,rwd,eight,184,4500,14,16,45400\n"
          ],
          "name": "stdout"
        }
      ]
    },
    {
      "cell_type": "code",
      "metadata": {
        "id": "4tazmCWwWejq",
        "colab_type": "code",
        "colab": {
          "base_uri": "https://localhost:8080/",
          "height": 102
        },
        "outputId": "526796a9-d7dd-436b-dcad-4d5255f9ebbe"
      },
      "source": [
        "# map() to create a new rdd - Transformation (Lazy Evaluation)\n",
        "tsv_data = auto_data_rdd.map(lambda x:x.replace(',','\\t'))\n",
        "tsv_data.take(5)"
      ],
      "execution_count": null,
      "outputs": [
        {
          "output_type": "execute_result",
          "data": {
            "text/plain": [
              "['MAKE\\tFUELTYPE\\tASPIRE\\tDOORS\\tBODY\\tDRIVE\\tCYLINDERS\\tHP\\tRPM\\tMPG-CITY\\tMPG-HWY\\tPRICE',\n",
              " 'subaru\\tgas\\tstd\\ttwo\\thatchback\\tfwd\\tfour\\t69\\t4900\\t31\\t36\\t5118',\n",
              " 'chevrolet\\tgas\\tstd\\ttwo\\thatchback\\tfwd\\tthree\\t48\\t5100\\t47\\t53\\t5151',\n",
              " 'mazda\\tgas\\tstd\\ttwo\\thatchback\\tfwd\\tfour\\t68\\t5000\\t30\\t31\\t5195',\n",
              " 'toyota\\tgas\\tstd\\ttwo\\thatchback\\tfwd\\tfour\\t62\\t4800\\t35\\t39\\t5348']"
            ]
          },
          "metadata": {
            "tags": []
          },
          "execution_count": 52
        }
      ]
    },
    {
      "cell_type": "code",
      "metadata": {
        "id": "w5lp0yziahNI",
        "colab_type": "code",
        "colab": {}
      },
      "source": [
        "# Filter by Toyota word\n",
        "toyota_data = auto_data_rdd.filter(lambda x: 'toyota' in x)"
      ],
      "execution_count": null,
      "outputs": []
    },
    {
      "cell_type": "code",
      "metadata": {
        "id": "FwJttBe8bj7K",
        "colab_type": "code",
        "colab": {
          "base_uri": "https://localhost:8080/",
          "height": 34
        },
        "outputId": "8c11ca25-1cab-4cf8-e8c9-6e73640c2505"
      },
      "source": [
        "# Action\n",
        "toyota_data.count()"
      ],
      "execution_count": null,
      "outputs": [
        {
          "output_type": "execute_result",
          "data": {
            "text/plain": [
              "32"
            ]
          },
          "metadata": {
            "tags": []
          },
          "execution_count": 54
        }
      ]
    },
    {
      "cell_type": "code",
      "metadata": {
        "id": "6YT86sk3bzAQ",
        "colab_type": "code",
        "colab": {
          "base_uri": "https://localhost:8080/",
          "height": 357
        },
        "outputId": "7dbdd0ae-e6bf-4243-abef-d18533113247"
      },
      "source": [
        "# See results\n",
        "toyota_data.take(20)"
      ],
      "execution_count": null,
      "outputs": [
        {
          "output_type": "execute_result",
          "data": {
            "text/plain": [
              "['toyota,gas,std,two,hatchback,fwd,four,62,4800,35,39,5348',\n",
              " 'toyota,gas,std,two,hatchback,fwd,four,62,4800,31,38,6338',\n",
              " 'toyota,gas,std,four,hatchback,fwd,four,62,4800,31,38,6488',\n",
              " 'toyota,gas,std,four,wagon,fwd,four,62,4800,31,37,6918',\n",
              " 'toyota,gas,std,four,sedan,fwd,four,70,4800,30,37,6938',\n",
              " 'toyota,gas,std,four,hatchback,fwd,four,70,4800,30,37,7198',\n",
              " 'toyota,gas,std,four,sedan,fwd,four,70,4800,38,47,7738',\n",
              " 'toyota,diesel,std,four,hatchback,fwd,four,56,4500,38,47,7788',\n",
              " 'toyota,gas,std,four,wagon,4wd,four,62,4800,27,32,7898',\n",
              " 'toyota,diesel,std,four,sedan,fwd,four,56,4500,34,36,7898',\n",
              " 'toyota,gas,std,two,sedan,rwd,four,70,4800,29,34,8058',\n",
              " 'toyota,gas,std,two,hatchback,rwd,four,70,4800,29,34,8238',\n",
              " 'toyota,gas,std,four,hatchback,fwd,four,70,4800,28,34,8358',\n",
              " 'toyota,gas,std,two,hardtop,rwd,four,116,4800,24,30,8449',\n",
              " 'toyota,gas,std,four,wagon,4wd,four,62,4800,27,32,8778',\n",
              " 'toyota,gas,std,four,sedan,fwd,four,92,4200,29,34,8948',\n",
              " 'toyota,gas,std,four,sedan,fwd,four,70,4800,28,34,9258',\n",
              " 'toyota,gas,std,two,sedan,rwd,four,112,6600,26,29,9298',\n",
              " 'toyota,gas,std,two,hatchback,rwd,four,112,6600,26,29,9538',\n",
              " 'toyota,gas,std,two,hardtop,rwd,four,116,4800,24,30,9639']"
            ]
          },
          "metadata": {
            "tags": []
          },
          "execution_count": 55
        }
      ]
    },
    {
      "cell_type": "code",
      "metadata": {
        "id": "82xcGGmPbpvA",
        "colab_type": "code",
        "colab": {}
      },
      "source": [
        "# Write results\n",
        "save_rdd = open('/content/drive/My Drive/Colab Notebooks/08-apache-spark/data/toyota_data.csv','w')\n",
        "save_rdd.write('\\n'.join(auto_data_rdd.collect()))\n",
        "save_rdd.close()"
      ],
      "execution_count": null,
      "outputs": []
    },
    {
      "cell_type": "markdown",
      "metadata": {
        "id": "NBuayiwHzCLK",
        "colab_type": "text"
      },
      "source": [
        "## Set, Outer Join and Distinct Operations"
      ]
    },
    {
      "cell_type": "code",
      "metadata": {
        "id": "HyXv0SAozJ_m",
        "colab_type": "code",
        "colab": {}
      },
      "source": [
        "# Set operations\n",
        "words1 = sc.parallelize(['Big Data','Data Science','Analytics','Visualization'])\n",
        "words2 = sc.parallelize(['Big Data','R','Python','Scala'])"
      ],
      "execution_count": null,
      "outputs": []
    },
    {
      "cell_type": "markdown",
      "metadata": {
        "id": "U5kQjA4f0qqh",
        "colab_type": "text"
      },
      "source": [
        "### Union"
      ]
    },
    {
      "cell_type": "code",
      "metadata": {
        "id": "spOPa6LUzeJG",
        "colab_type": "code",
        "colab": {
          "base_uri": "https://localhost:8080/",
          "height": 136
        },
        "outputId": "6a956711-5035-4146-c201-2df91982c089"
      },
      "source": [
        "# Union\n",
        "for unions in words1.union(words2).distinct().collect():\n",
        "  print(unions)"
      ],
      "execution_count": null,
      "outputs": [
        {
          "output_type": "stream",
          "text": [
            "Big Data\n",
            "Python\n",
            "Data Science\n",
            "Analytics\n",
            "R\n",
            "Visualization\n",
            "Scala\n"
          ],
          "name": "stdout"
        }
      ]
    },
    {
      "cell_type": "code",
      "metadata": {
        "id": "0nKqf2mn0uC9",
        "colab_type": "code",
        "colab": {
          "base_uri": "https://localhost:8080/",
          "height": 34
        },
        "outputId": "02eb5b96-9488-42da-b7cf-3b2f544319a8"
      },
      "source": [
        "rdd01 = sc.parallelize(range(1,10))\n",
        "rdd02 = sc.parallelize(range(10,21))\n",
        "\n",
        "rdd01.union(rdd02).collect()"
      ],
      "execution_count": null,
      "outputs": [
        {
          "output_type": "execute_result",
          "data": {
            "text/plain": [
              "[1, 2, 3, 4, 5, 6, 7, 8, 9, 10, 11, 12, 13, 14, 15, 16, 17, 18, 19, 20]"
            ]
          },
          "metadata": {
            "tags": []
          },
          "execution_count": 10
        }
      ]
    },
    {
      "cell_type": "markdown",
      "metadata": {
        "id": "CbddUSgP1AxV",
        "colab_type": "text"
      },
      "source": [
        "### Intersection"
      ]
    },
    {
      "cell_type": "code",
      "metadata": {
        "id": "e4A2KMh_0DD0",
        "colab_type": "code",
        "colab": {
          "base_uri": "https://localhost:8080/",
          "height": 34
        },
        "outputId": "02f31045-9374-435c-b7d3-ff18b3e04260"
      },
      "source": [
        "# Intersection\n",
        "for intersection in words1.intersection(words2).distinct().collect():\n",
        "  print(intersection)"
      ],
      "execution_count": null,
      "outputs": [
        {
          "output_type": "stream",
          "text": [
            "Big Data\n"
          ],
          "name": "stdout"
        }
      ]
    },
    {
      "cell_type": "code",
      "metadata": {
        "id": "pVZsif2p0ZYH",
        "colab_type": "code",
        "colab": {
          "base_uri": "https://localhost:8080/",
          "height": 34
        },
        "outputId": "1e1247ad-5682-4118-85c1-c7437bf9d1d7"
      },
      "source": [
        "rdd03 = sc.parallelize(range(1,10))\n",
        "rdd04 = sc.parallelize(range(5,15))\n",
        "\n",
        "rdd03.intersection(rdd04).collect()"
      ],
      "execution_count": null,
      "outputs": [
        {
          "output_type": "execute_result",
          "data": {
            "text/plain": [
              "[8, 5, 9, 6, 7]"
            ]
          },
          "metadata": {
            "tags": []
          },
          "execution_count": 12
        }
      ]
    },
    {
      "cell_type": "markdown",
      "metadata": {
        "id": "73Zd3mr41cN8",
        "colab_type": "text"
      },
      "source": [
        "### Left/Rigth Outer Join"
      ]
    },
    {
      "cell_type": "code",
      "metadata": {
        "id": "Ne-IBEBy1V7A",
        "colab_type": "code",
        "colab": {
          "base_uri": "https://localhost:8080/",
          "height": 34
        },
        "outputId": "89d97e45-972f-491c-99e3-4d8d32523739"
      },
      "source": [
        "# Join\n",
        "names1 = sc.parallelize(('banana','grape','orange')).map(lambda a: (a,1))\n",
        "names2 = sc.parallelize(('orange','pineapple','strawberry')).map(lambda a: (a,1))\n",
        "\n",
        "names1.join(names2).collect()"
      ],
      "execution_count": null,
      "outputs": [
        {
          "output_type": "execute_result",
          "data": {
            "text/plain": [
              "[('orange', (1, 1))]"
            ]
          },
          "metadata": {
            "tags": []
          },
          "execution_count": 13
        }
      ]
    },
    {
      "cell_type": "code",
      "metadata": {
        "id": "-LqbrIXb4hWp",
        "colab_type": "code",
        "colab": {
          "base_uri": "https://localhost:8080/",
          "height": 34
        },
        "outputId": "7da574f1-e4a0-4e53-d309-fd9e085ec70a"
      },
      "source": [
        "# Left\n",
        "names1.leftOuterJoin(names2).collect()"
      ],
      "execution_count": null,
      "outputs": [
        {
          "output_type": "execute_result",
          "data": {
            "text/plain": [
              "[('orange', (1, 1)), ('grape', (1, None)), ('banana', (1, None))]"
            ]
          },
          "metadata": {
            "tags": []
          },
          "execution_count": 14
        }
      ]
    },
    {
      "cell_type": "code",
      "metadata": {
        "id": "6Pyec_uP4zCj",
        "colab_type": "code",
        "colab": {
          "base_uri": "https://localhost:8080/",
          "height": 34
        },
        "outputId": "06200588-7c43-4cee-9587-3c71384980b2"
      },
      "source": [
        "# Right\n",
        "names1.rightOuterJoin(names2).collect()"
      ],
      "execution_count": null,
      "outputs": [
        {
          "output_type": "execute_result",
          "data": {
            "text/plain": [
              "[('orange', (1, 1)), ('pineapple', (None, 1)), ('strawberry', (None, 1))]"
            ]
          },
          "metadata": {
            "tags": []
          },
          "execution_count": 15
        }
      ]
    },
    {
      "cell_type": "markdown",
      "metadata": {
        "id": "imsXRp_i5WvE",
        "colab_type": "text"
      },
      "source": [
        "### Distinct"
      ]
    },
    {
      "cell_type": "code",
      "metadata": {
        "id": "QtrvShSi5S1Y",
        "colab_type": "code",
        "colab": {}
      },
      "source": [
        "list1 = [124,901,652,102,397,124,397,652]"
      ],
      "execution_count": null,
      "outputs": []
    },
    {
      "cell_type": "code",
      "metadata": {
        "id": "ZLyHXN0j502b",
        "colab_type": "code",
        "colab": {}
      },
      "source": [
        "list_rdd = sc.parallelize(list1)"
      ],
      "execution_count": null,
      "outputs": []
    },
    {
      "cell_type": "code",
      "metadata": {
        "id": "ZB1hSXzD55z2",
        "colab_type": "code",
        "colab": {
          "base_uri": "https://localhost:8080/",
          "height": 102
        },
        "outputId": "13a0bfab-5235-4f63-8d43-4e1553d0b993"
      },
      "source": [
        "for num_data in list_rdd.distinct().collect():\n",
        "  print(num_data)"
      ],
      "execution_count": null,
      "outputs": [
        {
          "output_type": "stream",
          "text": [
            "124\n",
            "652\n",
            "102\n",
            "901\n",
            "397\n"
          ],
          "name": "stdout"
        }
      ]
    },
    {
      "cell_type": "markdown",
      "metadata": {
        "id": "klGc2gvX6ICA",
        "colab_type": "text"
      },
      "source": [
        "## Cleaning"
      ]
    },
    {
      "cell_type": "code",
      "metadata": {
        "id": "7HPvbHeF6Erm",
        "colab_type": "code",
        "colab": {}
      },
      "source": [
        "# Load RDD from a text file\n",
        "file = '/content/drive/My Drive/Colab Notebooks/08-apache-spark/data/carros.csv'\n",
        "auto_data_rdd = sc.textFile(file)"
      ],
      "execution_count": null,
      "outputs": []
    },
    {
      "cell_type": "code",
      "metadata": {
        "id": "g2kTHYFG6tTj",
        "colab_type": "code",
        "colab": {
          "base_uri": "https://localhost:8080/",
          "height": 1000
        },
        "outputId": "267522e9-ad82-4de6-b54e-f8df8833ed05"
      },
      "source": [
        "auto_data_rdd.collect()"
      ],
      "execution_count": null,
      "outputs": [
        {
          "output_type": "execute_result",
          "data": {
            "text/plain": [
              "['MAKE,FUELTYPE,ASPIRE,DOORS,BODY,DRIVE,CYLINDERS,HP,RPM,MPG-CITY,MPG-HWY,PRICE',\n",
              " 'subaru,gas,std,two,hatchback,fwd,four,69,4900,31,36,5118',\n",
              " 'chevrolet,gas,std,two,hatchback,fwd,three,48,5100,47,53,5151',\n",
              " 'mazda,gas,std,two,hatchback,fwd,four,68,5000,30,31,5195',\n",
              " 'toyota,gas,std,two,hatchback,fwd,four,62,4800,35,39,5348',\n",
              " 'mitsubishi,gas,std,two,hatchback,fwd,four,68,5500,37,41,5389',\n",
              " 'honda,gas,std,two,hatchback,fwd,four,60,5500,38,42,5399',\n",
              " 'nissan,gas,std,two,sedan,fwd,four,69,5200,31,37,5499',\n",
              " 'dodge,gas,std,two,hatchback,fwd,four,68,5500,37,41,5572',\n",
              " 'plymouth,gas,std,two,hatchback,fwd,four,68,5500,37,41,5572',\n",
              " 'mazda,gas,std,two,hatchback,fwd,four,68,5000,31,38,6095',\n",
              " 'mitsubishi,gas,std,two,hatchback,fwd,four,68,5500,31,38,6189',\n",
              " 'dodge,gas,std,four,hatchback,fwd,four,68,5500,31,38,6229',\n",
              " 'plymouth,gas,std,four,hatchback,fwd,four,68,5500,31,38,6229',\n",
              " 'chevrolet,gas,std,two,hatchback,fwd,four,70,5400,38,43,6295',\n",
              " 'toyota,gas,std,two,hatchback,fwd,four,62,4800,31,38,6338',\n",
              " 'dodge,gas,std,two,hatchback,fwd,four,68,5500,31,38,6377',\n",
              " 'honda,gas,std,two,hatchback,fwd,four,58,4800,49,54,6479',\n",
              " 'toyota,gas,std,four,hatchback,fwd,four,62,4800,31,38,6488',\n",
              " 'honda,gas,std,two,hatchback,fwd,four,76,6000,30,34,6529',\n",
              " 'chevrolet,gas,std,four,sedan,fwd,four,70,5400,38,43,6575',\n",
              " 'nissan,gas,std,two,sedan,fwd,four,69,5200,31,37,6649',\n",
              " 'mitsubishi,gas,std,two,hatchback,fwd,four,68,5500,31,38,6669',\n",
              " 'dodge,gas,std,four,sedan,fwd,four,68,5500,31,38,6692',\n",
              " 'plymouth,gas,std,four,sedan,fwd,four,68,5500,31,38,6692',\n",
              " 'mazda,gas,std,four,sedan,fwd,four,68,5000,31,38,6695',\n",
              " 'isuzu,gas,std,four,sedan,rwd,four,78,4800,24,29,6785',\n",
              " 'mazda,gas,std,two,hatchback,fwd,four,68,5000,31,38,6795',\n",
              " 'nissan,gas,std,four,sedan,fwd,four,69,5200,31,37,6849',\n",
              " 'honda,gas,std,two,hatchback,fwd,four,76,6000,31,38,6855',\n",
              " 'toyota,gas,std,four,wagon,fwd,four,62,4800,31,37,6918',\n",
              " 'toyota,gas,std,four,sedan,fwd,four,70,4800,30,37,6938',\n",
              " 'mitsubishi,gas,std,four,sedan,fwd,four,88,5000,25,32,6989',\n",
              " 'subaru,gas,std,two,hatchback,fwd,four,73,4400,26,31,7053',\n",
              " 'nissan,diesel,std,two,sedan,fwd,four,55,4800,45,50,7099',\n",
              " 'subaru,gas,std,four,sedan,fwd,four,82,4800,32,37,7126',\n",
              " 'honda,gas,std,two,hatchback,fwd,four,76,6000,30,34,7129',\n",
              " 'toyota,gas,std,four,hatchback,fwd,four,70,4800,30,37,7198',\n",
              " 'honda,gas,std,four,sedan,fwd,four,76,6000,30,34,7295',\n",
              " 'honda,gas,std,four,wagon,fwd,four,76,6000,30,34,7295',\n",
              " 'nissan,gas,std,two,sedan,fwd,four,69,5200,31,37,7299',\n",
              " 'nissan,gas,std,four,wagon,fwd,four,69,5200,31,37,7349',\n",
              " 'mazda,gas,std,four,sedan,fwd,four,68,5000,31,38,7395',\n",
              " 'subaru,gas,std,four,wagon,fwd,four,82,4800,28,32,7463',\n",
              " 'nissan,gas,std,four,sedan,fwd,four,69,5200,31,37,7499',\n",
              " 'subaru,gas,std,two,hatchback,4wd,four,73,4400,26,31,7603',\n",
              " 'dodge,gas,std,four,sedan,fwd,four,68,5500,31,38,7609',\n",
              " 'plymouth,gas,std,four,sedan,fwd,four,68,5500,31,38,7609',\n",
              " 'mitsubishi,gas,turbo,two,hatchback,fwd,four,102,5500,24,30,7689',\n",
              " 'toyota,gas,std,four,sedan,fwd,four,70,4800,38,47,7738',\n",
              " 'subaru,gas,std,four,sedan,fwd,four,82,4400,28,33,7775',\n",
              " 'volkswagen,diesel,std,two,sedan,fwd,four,52,4800,37,46,7775',\n",
              " 'toyota,diesel,std,four,hatchback,fwd,four,56,4500,38,47,7788',\n",
              " 'nissan,gas,std,two,hatchback,fwd,four,69,5200,31,37,7799',\n",
              " 'honda,gas,std,two,hatchback,fwd,four,86,5800,27,33,7895',\n",
              " 'toyota,gas,std,four,wagon,4wd,four,62,4800,27,32,7898',\n",
              " 'toyota,diesel,std,four,sedan,fwd,four,56,4500,34,36,7898',\n",
              " 'dodge,gas,turbo,two,hatchback,fwd,four,102,5500,24,30,7957',\n",
              " 'plymouth,gas,turbo,two,hatchback,fwd,four,102,5500,24,30,7957',\n",
              " 'volkswagen,gas,std,two,sedan,fwd,four,85,5250,27,34,7975',\n",
              " 'volkswagen,diesel,std,four,sedan,fwd,four,52,4800,37,46,7995',\n",
              " 'nissan,gas,std,four,wagon,fwd,four,69,5200,31,37,7999',\n",
              " 'subaru,gas,std,four,wagon,4wd,four,82,4800,23,29,8013',\n",
              " 'toyota,gas,std,two,sedan,rwd,four,70,4800,29,34,8058',\n",
              " 'mitsubishi,gas,std,four,sedan,fwd,four,88,5000,25,32,8189',\n",
              " 'volkswagen,gas,std,four,sedan,fwd,four,85,5250,27,34,8195',\n",
              " 'toyota,gas,std,two,hatchback,rwd,four,70,4800,29,34,8238',\n",
              " 'nissan,gas,std,two,hardtop,fwd,four,69,5200,31,37,8249',\n",
              " 'toyota,gas,std,four,hatchback,fwd,four,70,4800,28,34,8358',\n",
              " 'toyota,gas,std,two,hardtop,rwd,four,116,4800,24,30,8449',\n",
              " 'mazda,gas,std,four,sedan,fwd,four,84,4800,26,32,8495',\n",
              " 'volkswagen,gas,std,four,sedan,fwd,four,85,5250,27,34,8495',\n",
              " 'mitsubishi,gas,std,two,hatchback,fwd,four,88,5000,25,32,8499',\n",
              " 'toyota,gas,std,four,wagon,4wd,four,62,4800,27,32,8778',\n",
              " 'honda,gas,std,four,sedan,fwd,four,86,5800,27,33,8845',\n",
              " 'mazda,gas,std,two,hatchback,fwd,four,84,4800,26,32,8845',\n",
              " 'dodge,gas,std,four,wagon,fwd,four,88,5000,24,30,8921',\n",
              " 'plymouth,gas,std,four,wagon,fwd,four,88,5000,24,30,8921',\n",
              " 'toyota,gas,std,four,sedan,fwd,four,92,4200,29,34,8948',\n",
              " 'nissan,gas,std,four,hatchback,fwd,four,97,5200,27,34,8949',\n",
              " 'honda,gas,std,two,hatchback,fwd,four,86,5800,27,33,9095',\n",
              " 'subaru,gas,std,four,sedan,4wd,four,82,4800,24,25,9233',\n",
              " 'toyota,gas,std,four,sedan,fwd,four,70,4800,28,34,9258',\n",
              " 'mitsubishi,gas,turbo,four,sedan,fwd,four,116,5500,23,30,9279',\n",
              " 'mitsubishi,gas,std,four,sedan,fwd,four,116,5500,23,30,9279',\n",
              " 'toyota,gas,std,two,sedan,rwd,four,112,6600,26,29,9298',\n",
              " 'volkswagen,diesel,turbo,four,sedan,fwd,four,68,4500,37,42,9495',\n",
              " 'toyota,gas,std,two,hatchback,rwd,four,112,6600,26,29,9538',\n",
              " 'nissan,gas,std,four,sedan,fwd,four,97,5200,27,34,9549',\n",
              " 'toyota,gas,std,two,hardtop,rwd,four,116,4800,24,30,9639',\n",
              " 'mitsubishi,gas,turbo,two,hatchback,fwd,four,116,5500,23,30,9959',\n",
              " 'subaru,gas,std,four,sedan,fwd,four,94,5200,26,32,9960',\n",
              " 'volkswagen,gas,std,two,hatchback,fwd,four,90,5500,24,29,9980',\n",
              " 'toyota,gas,std,four,hatchback,fwd,four,92,4200,27,32,9988',\n",
              " 'toyota,gas,std,two,hatchback,rwd,four,116,4800,24,30,9989',\n",
              " 'volkswagen,gas,std,four,sedan,fwd,four,100,5500,26,32,9995',\n",
              " 'subaru,gas,std,four,wagon,fwd,four,94,5200,25,31,10198',\n",
              " 'mazda,gas,std,four,sedan,fwd,four,84,4800,26,32,10245',\n",
              " 'honda,gas,std,four,sedan,fwd,four,86,5800,27,33,10295',\n",
              " 'honda,gas,std,two,sedan,fwd,four,100,5500,25,31,10345',\n",
              " 'mazda,gas,std,two,hatchback,fwd,four,84,4800,26,32,10595',\n",
              " 'toyota,diesel,turbo,four,sedan,fwd,four,73,4500,30,33,10698',\n",
              " 'toyota,gas,std,four,sedan,fwd,four,92,4200,27,32,10898',\n",
              " 'mazda,gas,std,two,hatchback,rwd,two,101,6000,17,23,10945',\n",
              " 'isuzu,gas,std,two,hatchback,rwd,four,90,5000,24,29,11048',\n",
              " 'toyota,gas,std,two,hardtop,rwd,four,116,4800,24,30,11199',\n",
              " 'mazda,gas,std,four,hatchback,fwd,four,84,4800,26,32,11245',\n",
              " 'toyota,gas,std,four,hatchback,fwd,four,92,4200,27,32,11248',\n",
              " 'subaru,gas,turbo,four,sedan,4wd,four,111,4800,24,29,11259',\n",
              " 'toyota,gas,std,two,hatchback,rwd,four,116,4800,24,30,11549',\n",
              " 'volkswagen,gas,std,two,convertible,fwd,four,90,5500,24,29,11595',\n",
              " 'subaru,gas,turbo,four,wagon,4wd,four,111,4800,23,23,11694',\n",
              " 'mazda,gas,std,two,hatchback,rwd,two,101,6000,17,23,11845',\n",
              " 'saab,gas,std,two,hatchback,fwd,four,110,5250,21,28,11850',\n",
              " 'peugot,gas,std,four,sedan,rwd,four,97,5000,19,24,11900',\n",
              " 'saab,gas,std,four,sedan,fwd,four,110,5250,21,28,12170',\n",
              " 'volkswagen,gas,std,four,wagon,fwd,four,88,5500,25,31,12290',\n",
              " 'peugot,gas,std,four,wagon,rwd,four,97,5000,19,24,12440',\n",
              " 'mitsubishi,gas,turbo,two,hatchback,fwd,four,145,5000,19,24,12629',\n",
              " 'plymouth,gas,turbo,two,hatchback,rwd,four,145,5000,19,24,12764',\n",
              " 'volvo,gas,std,four,sedan,rwd,four,114,5400,23,28,12940',\n",
              " 'honda,gas,std,four,sedan,fwd,four,101,5800,24,28,12945',\n",
              " 'dodge,gas,turbo,two,hatchback,fwd,four,145,5000,19,24,12964',\n",
              " 'peugot,diesel,turbo,four,sedan,rwd,four,95,4150,28,33,13200',\n",
              " 'volkswagen,gas,std,four,sedan,fwd,five,110,5500,19,24,13295',\n",
              " 'volvo,gas,std,four,wagon,rwd,four,114,5400,23,28,13415',\n",
              " 'alfa-romero,gas,std,two,convertible,rwd,four,111,5000,21,27,13495',\n",
              " 'nissan,gas,std,four,sedan,fwd,six,152,5200,17,22,13499',\n",
              " 'nissan,gas,std,four,sedan,fwd,six,152,5200,19,25,13499',\n",
              " 'mazda,gas,std,two,hatchback,rwd,two,101,6000,17,23,13645',\n",
              " 'volkswagen,diesel,turbo,four,sedan,fwd,four,68,4500,33,38,13845',\n",
              " 'peugot,diesel,turbo,four,wagon,rwd,four,95,4150,25,25,13860',\n",
              " 'audi,gas,std,four,sedan,fwd,four,102,5500,24,30,13950',\n",
              " 'nissan,gas,std,four,wagon,fwd,six,152,5200,17,22,14399',\n",
              " 'mitsubishi,gas,turbo,two,hatchback,fwd,four,145,5000,19,24,14489',\n",
              " 'mitsubishi,gas,turbo,two,hatchback,fwd,four,145,5000,19,24,14869',\n",
              " 'saab,gas,std,two,hatchback,fwd,four,110,5250,21,28,15040',\n",
              " 'audi,gas,std,two,sedan,fwd,five,110,5500,19,25,15250',\n",
              " 'saab,gas,std,four,sedan,fwd,four,110,5250,21,28,15510',\n",
              " 'peugot,gas,std,four,sedan,rwd,four,95,5000,19,24,15580',\n",
              " 'mazda,gas,std,two,hatchback,rwd,two,135,6000,16,23,15645',\n",
              " 'toyota,gas,std,four,sedan,rwd,six,156,5200,20,24,15690',\n",
              " 'toyota,gas,std,four,wagon,rwd,six,156,5200,19,24,15750',\n",
              " 'volvo,gas,std,four,sedan,rwd,four,114,5400,24,28,15985',\n",
              " 'toyota,gas,std,two,hatchback,rwd,six,161,5200,19,24,15998',\n",
              " 'bmw,gas,std,two,sedan,rwd,four,101,5800,23,29,16430',\n",
              " 'alfa-romero,gas,std,two,convertible,rwd,four,111,5000,21,27,16500',\n",
              " 'alfa-romero,gas,std,two,hatchback,rwd,six,154,5000,19,26,16500',\n",
              " 'mercury,gas,turbo,two,hatchback,rwd,four,175,5000,19,24,16503',\n",
              " 'volvo,gas,std,four,wagon,rwd,four,114,5400,24,28,16515',\n",
              " 'toyota,gas,std,two,hatchback,rwd,six,161,5200,20,24,16558',\n",
              " 'peugot,gas,std,four,sedan,rwd,four,97,5000,19,24,16630',\n",
              " 'peugot,gas,std,four,wagon,rwd,four,95,5000,19,24,16695',\n",
              " 'volvo,gas,std,four,sedan,rwd,four,114,5400,23,28,16845',\n",
              " 'peugot,diesel,turbo,four,sedan,rwd,four,95,4150,28,33,16900',\n",
              " 'bmw,gas,std,four,sedan,rwd,four,101,5800,23,29,16925',\n",
              " 'peugot,diesel,turbo,four,wagon,rwd,four,95,4150,25,25,17075',\n",
              " 'nissan,gas,std,two,hatchback,rwd,six,160,5200,19,25,17199',\n",
              " 'audi,gas,std,four,sedan,4wd,five,115,5500,18,22,17450',\n",
              " 'toyota,gas,std,two,convertible,rwd,four,116,4800,24,30,17669',\n",
              " 'audi,gas,std,four,sedan,fwd,five,110,5500,19,25,17710',\n",
              " 'peugot,diesel,turbo,four,sedan,rwd,four,95,4150,28,33,17950',\n",
              " 'peugot,gas,turbo,four,sedan,rwd,four,142,5600,18,24,18150',\n",
              " 'saab,gas,turbo,two,hatchback,fwd,four,160,5500,19,26,18150',\n",
              " 'mazda,gas,std,four,sedan,rwd,four,120,5000,19,27,18280',\n",
              " 'mazda,diesel,std,four,sedan,rwd,four,72,4200,31,39,18344',\n",
              " 'nissan,gas,std,two,hatchback,rwd,six,160,5200,19,25,18399',\n",
              " 'volvo,gas,turbo,four,sedan,rwd,four,162,5100,17,22,18420',\n",
              " 'saab,gas,turbo,four,sedan,fwd,four,160,5500,19,26,18620',\n",
              " 'audi,gas,std,four,wagon,fwd,five,110,5500,19,25,18920',\n",
              " 'volvo,gas,turbo,four,wagon,rwd,four,162,5100,17,22,18950',\n",
              " 'volvo,gas,turbo,four,sedan,rwd,four,160,5300,19,25,19045',\n",
              " 'nissan,gas,turbo,two,hatchback,rwd,six,200,5200,17,23,19699',\n",
              " 'bmw,gas,std,two,sedan,rwd,six,121,4250,21,28,20970',\n",
              " 'bmw,gas,std,four,sedan,rwd,six,121,4250,21,28,21105',\n",
              " 'volvo,gas,std,four,sedan,rwd,six,134,5500,18,23,21485',\n",
              " 'porsche,gas,std,two,hatchback,rwd,four,143,5500,19,27,22018',\n",
              " 'volvo,diesel,turbo,four,sedan,rwd,six,106,4800,26,27,22470',\n",
              " 'volvo,gas,turbo,four,sedan,rwd,four,114,5400,19,25,22625',\n",
              " 'audi,gas,turbo,four,sedan,fwd,five,140,5500,17,20,23875',\n",
              " 'bmw,gas,std,four,sedan,rwd,six,121,4250,20,25,24565',\n",
              " 'mercedes-benz,diesel,turbo,four,sedan,rwd,five,123,4350,22,25,25552',\n",
              " 'mercedes-benz,diesel,turbo,two,hardtop,rwd,five,123,4350,22,25,28176',\n",
              " 'mercedes-benz,diesel,turbo,four,wagon,rwd,five,123,4350,22,25,28248',\n",
              " 'bmw,gas,std,four,sedan,rwd,six,182,5400,16,22,30760',\n",
              " 'mercedes-benz,diesel,turbo,four,sedan,rwd,five,123,4350,22,25,31600',\n",
              " 'jaguar,gas,std,four,sedan,rwd,six,176,4750,15,19,32250',\n",
              " 'porsche,gas,std,two,hardtop,rwd,six,207,5900,17,25,32528',\n",
              " 'porsche,gas,std,two,hardtop,rwd,six,207,5900,17,25,34028',\n",
              " 'mercedes-benz,gas,std,four,sedan,rwd,eight,155,4750,16,18,34184',\n",
              " 'mercedes-benz,gas,std,two,convertible,rwd,eight,155,4750,16,18,35056',\n",
              " 'jaguar,gas,std,four,sedan,rwd,six,176,4750,15,19,35550',\n",
              " 'jaguar,gas,std,two,sedan,rwd,twelve,262,5000,13,17,36000',\n",
              " 'bmw,gas,std,four,sedan,rwd,six,182,5400,15,20,36880',\n",
              " 'porsche,gas,std,two,convertible,rwd,six,207,5900,17,25,37028',\n",
              " 'mercedes-benz,gas,std,four,sedan,rwd,eight,184,4500,14,16,40960',\n",
              " 'bmw,gas,std,two,sedan,rwd,six,182,5400,16,22,41315',\n",
              " 'mercedes-benz,gas,std,two,hardtop,rwd,eight,184,4500,14,16,45400']"
            ]
          },
          "metadata": {
            "tags": []
          },
          "execution_count": 20
        }
      ]
    },
    {
      "cell_type": "code",
      "metadata": {
        "id": "p6OLbjVS6u2_",
        "colab_type": "code",
        "colab": {}
      },
      "source": [
        "# Cleaning funtion\n",
        "def clean_rdd(auto_str):\n",
        "  ''' Function to clean dataset auto '''\n",
        "\n",
        "  # Check indexing\n",
        "  if isinstance(auto_str,int):\n",
        "    return auto_str\n",
        "\n",
        "  # Split each index by comma\n",
        "  att_list = auto_str.split(',')\n",
        "\n",
        "  # Converts the door number to a number\n",
        "  if att_list[3] == 'two':\n",
        "    att_list[3] = '2'\n",
        "  elif att_list[3] == 'four':\n",
        "    att_list[3] = '4'\n",
        "\n",
        "  # Converts the car model to uppercase\n",
        "  att_list[5] = att_list[4].upper()\n",
        "  return ','.join(att_list)"
      ],
      "execution_count": null,
      "outputs": []
    },
    {
      "cell_type": "code",
      "metadata": {
        "id": "SZmLhEGVElKe",
        "colab_type": "code",
        "colab": {}
      },
      "source": [
        "# Transformation - Put the job in the queue \n",
        "clean_rdd = auto_data_rdd.map(clean_rdd)"
      ],
      "execution_count": null,
      "outputs": []
    },
    {
      "cell_type": "code",
      "metadata": {
        "id": "09rtKj9REyqW",
        "colab_type": "code",
        "colab": {
          "base_uri": "https://localhost:8080/",
          "height": 34
        },
        "outputId": "1d7e0eb7-5957-4d27-aa26-580a350723b8"
      },
      "source": [
        "print(clean_rdd)"
      ],
      "execution_count": null,
      "outputs": [
        {
          "output_type": "stream",
          "text": [
            "PythonRDD[83] at RDD at PythonRDD.scala:53\n"
          ],
          "name": "stdout"
        }
      ]
    },
    {
      "cell_type": "code",
      "metadata": {
        "id": "2J14Bx7HE1Ja",
        "colab_type": "code",
        "colab": {
          "base_uri": "https://localhost:8080/",
          "height": 1000
        },
        "outputId": "4661ba7c-af69-4f59-bfb5-80e091500599"
      },
      "source": [
        "# Process the transformation\n",
        "clean_rdd.collect()"
      ],
      "execution_count": null,
      "outputs": [
        {
          "output_type": "execute_result",
          "data": {
            "text/plain": [
              "['MAKE,FUELTYPE,ASPIRE,DOORS,BODY,BODY,CYLINDERS,HP,RPM,MPG-CITY,MPG-HWY,PRICE',\n",
              " 'subaru,gas,std,2,hatchback,HATCHBACK,four,69,4900,31,36,5118',\n",
              " 'chevrolet,gas,std,2,hatchback,HATCHBACK,three,48,5100,47,53,5151',\n",
              " 'mazda,gas,std,2,hatchback,HATCHBACK,four,68,5000,30,31,5195',\n",
              " 'toyota,gas,std,2,hatchback,HATCHBACK,four,62,4800,35,39,5348',\n",
              " 'mitsubishi,gas,std,2,hatchback,HATCHBACK,four,68,5500,37,41,5389',\n",
              " 'honda,gas,std,2,hatchback,HATCHBACK,four,60,5500,38,42,5399',\n",
              " 'nissan,gas,std,2,sedan,SEDAN,four,69,5200,31,37,5499',\n",
              " 'dodge,gas,std,2,hatchback,HATCHBACK,four,68,5500,37,41,5572',\n",
              " 'plymouth,gas,std,2,hatchback,HATCHBACK,four,68,5500,37,41,5572',\n",
              " 'mazda,gas,std,2,hatchback,HATCHBACK,four,68,5000,31,38,6095',\n",
              " 'mitsubishi,gas,std,2,hatchback,HATCHBACK,four,68,5500,31,38,6189',\n",
              " 'dodge,gas,std,4,hatchback,HATCHBACK,four,68,5500,31,38,6229',\n",
              " 'plymouth,gas,std,4,hatchback,HATCHBACK,four,68,5500,31,38,6229',\n",
              " 'chevrolet,gas,std,2,hatchback,HATCHBACK,four,70,5400,38,43,6295',\n",
              " 'toyota,gas,std,2,hatchback,HATCHBACK,four,62,4800,31,38,6338',\n",
              " 'dodge,gas,std,2,hatchback,HATCHBACK,four,68,5500,31,38,6377',\n",
              " 'honda,gas,std,2,hatchback,HATCHBACK,four,58,4800,49,54,6479',\n",
              " 'toyota,gas,std,4,hatchback,HATCHBACK,four,62,4800,31,38,6488',\n",
              " 'honda,gas,std,2,hatchback,HATCHBACK,four,76,6000,30,34,6529',\n",
              " 'chevrolet,gas,std,4,sedan,SEDAN,four,70,5400,38,43,6575',\n",
              " 'nissan,gas,std,2,sedan,SEDAN,four,69,5200,31,37,6649',\n",
              " 'mitsubishi,gas,std,2,hatchback,HATCHBACK,four,68,5500,31,38,6669',\n",
              " 'dodge,gas,std,4,sedan,SEDAN,four,68,5500,31,38,6692',\n",
              " 'plymouth,gas,std,4,sedan,SEDAN,four,68,5500,31,38,6692',\n",
              " 'mazda,gas,std,4,sedan,SEDAN,four,68,5000,31,38,6695',\n",
              " 'isuzu,gas,std,4,sedan,SEDAN,four,78,4800,24,29,6785',\n",
              " 'mazda,gas,std,2,hatchback,HATCHBACK,four,68,5000,31,38,6795',\n",
              " 'nissan,gas,std,4,sedan,SEDAN,four,69,5200,31,37,6849',\n",
              " 'honda,gas,std,2,hatchback,HATCHBACK,four,76,6000,31,38,6855',\n",
              " 'toyota,gas,std,4,wagon,WAGON,four,62,4800,31,37,6918',\n",
              " 'toyota,gas,std,4,sedan,SEDAN,four,70,4800,30,37,6938',\n",
              " 'mitsubishi,gas,std,4,sedan,SEDAN,four,88,5000,25,32,6989',\n",
              " 'subaru,gas,std,2,hatchback,HATCHBACK,four,73,4400,26,31,7053',\n",
              " 'nissan,diesel,std,2,sedan,SEDAN,four,55,4800,45,50,7099',\n",
              " 'subaru,gas,std,4,sedan,SEDAN,four,82,4800,32,37,7126',\n",
              " 'honda,gas,std,2,hatchback,HATCHBACK,four,76,6000,30,34,7129',\n",
              " 'toyota,gas,std,4,hatchback,HATCHBACK,four,70,4800,30,37,7198',\n",
              " 'honda,gas,std,4,sedan,SEDAN,four,76,6000,30,34,7295',\n",
              " 'honda,gas,std,4,wagon,WAGON,four,76,6000,30,34,7295',\n",
              " 'nissan,gas,std,2,sedan,SEDAN,four,69,5200,31,37,7299',\n",
              " 'nissan,gas,std,4,wagon,WAGON,four,69,5200,31,37,7349',\n",
              " 'mazda,gas,std,4,sedan,SEDAN,four,68,5000,31,38,7395',\n",
              " 'subaru,gas,std,4,wagon,WAGON,four,82,4800,28,32,7463',\n",
              " 'nissan,gas,std,4,sedan,SEDAN,four,69,5200,31,37,7499',\n",
              " 'subaru,gas,std,2,hatchback,HATCHBACK,four,73,4400,26,31,7603',\n",
              " 'dodge,gas,std,4,sedan,SEDAN,four,68,5500,31,38,7609',\n",
              " 'plymouth,gas,std,4,sedan,SEDAN,four,68,5500,31,38,7609',\n",
              " 'mitsubishi,gas,turbo,2,hatchback,HATCHBACK,four,102,5500,24,30,7689',\n",
              " 'toyota,gas,std,4,sedan,SEDAN,four,70,4800,38,47,7738',\n",
              " 'subaru,gas,std,4,sedan,SEDAN,four,82,4400,28,33,7775',\n",
              " 'volkswagen,diesel,std,2,sedan,SEDAN,four,52,4800,37,46,7775',\n",
              " 'toyota,diesel,std,4,hatchback,HATCHBACK,four,56,4500,38,47,7788',\n",
              " 'nissan,gas,std,2,hatchback,HATCHBACK,four,69,5200,31,37,7799',\n",
              " 'honda,gas,std,2,hatchback,HATCHBACK,four,86,5800,27,33,7895',\n",
              " 'toyota,gas,std,4,wagon,WAGON,four,62,4800,27,32,7898',\n",
              " 'toyota,diesel,std,4,sedan,SEDAN,four,56,4500,34,36,7898',\n",
              " 'dodge,gas,turbo,2,hatchback,HATCHBACK,four,102,5500,24,30,7957',\n",
              " 'plymouth,gas,turbo,2,hatchback,HATCHBACK,four,102,5500,24,30,7957',\n",
              " 'volkswagen,gas,std,2,sedan,SEDAN,four,85,5250,27,34,7975',\n",
              " 'volkswagen,diesel,std,4,sedan,SEDAN,four,52,4800,37,46,7995',\n",
              " 'nissan,gas,std,4,wagon,WAGON,four,69,5200,31,37,7999',\n",
              " 'subaru,gas,std,4,wagon,WAGON,four,82,4800,23,29,8013',\n",
              " 'toyota,gas,std,2,sedan,SEDAN,four,70,4800,29,34,8058',\n",
              " 'mitsubishi,gas,std,4,sedan,SEDAN,four,88,5000,25,32,8189',\n",
              " 'volkswagen,gas,std,4,sedan,SEDAN,four,85,5250,27,34,8195',\n",
              " 'toyota,gas,std,2,hatchback,HATCHBACK,four,70,4800,29,34,8238',\n",
              " 'nissan,gas,std,2,hardtop,HARDTOP,four,69,5200,31,37,8249',\n",
              " 'toyota,gas,std,4,hatchback,HATCHBACK,four,70,4800,28,34,8358',\n",
              " 'toyota,gas,std,2,hardtop,HARDTOP,four,116,4800,24,30,8449',\n",
              " 'mazda,gas,std,4,sedan,SEDAN,four,84,4800,26,32,8495',\n",
              " 'volkswagen,gas,std,4,sedan,SEDAN,four,85,5250,27,34,8495',\n",
              " 'mitsubishi,gas,std,2,hatchback,HATCHBACK,four,88,5000,25,32,8499',\n",
              " 'toyota,gas,std,4,wagon,WAGON,four,62,4800,27,32,8778',\n",
              " 'honda,gas,std,4,sedan,SEDAN,four,86,5800,27,33,8845',\n",
              " 'mazda,gas,std,2,hatchback,HATCHBACK,four,84,4800,26,32,8845',\n",
              " 'dodge,gas,std,4,wagon,WAGON,four,88,5000,24,30,8921',\n",
              " 'plymouth,gas,std,4,wagon,WAGON,four,88,5000,24,30,8921',\n",
              " 'toyota,gas,std,4,sedan,SEDAN,four,92,4200,29,34,8948',\n",
              " 'nissan,gas,std,4,hatchback,HATCHBACK,four,97,5200,27,34,8949',\n",
              " 'honda,gas,std,2,hatchback,HATCHBACK,four,86,5800,27,33,9095',\n",
              " 'subaru,gas,std,4,sedan,SEDAN,four,82,4800,24,25,9233',\n",
              " 'toyota,gas,std,4,sedan,SEDAN,four,70,4800,28,34,9258',\n",
              " 'mitsubishi,gas,turbo,4,sedan,SEDAN,four,116,5500,23,30,9279',\n",
              " 'mitsubishi,gas,std,4,sedan,SEDAN,four,116,5500,23,30,9279',\n",
              " 'toyota,gas,std,2,sedan,SEDAN,four,112,6600,26,29,9298',\n",
              " 'volkswagen,diesel,turbo,4,sedan,SEDAN,four,68,4500,37,42,9495',\n",
              " 'toyota,gas,std,2,hatchback,HATCHBACK,four,112,6600,26,29,9538',\n",
              " 'nissan,gas,std,4,sedan,SEDAN,four,97,5200,27,34,9549',\n",
              " 'toyota,gas,std,2,hardtop,HARDTOP,four,116,4800,24,30,9639',\n",
              " 'mitsubishi,gas,turbo,2,hatchback,HATCHBACK,four,116,5500,23,30,9959',\n",
              " 'subaru,gas,std,4,sedan,SEDAN,four,94,5200,26,32,9960',\n",
              " 'volkswagen,gas,std,2,hatchback,HATCHBACK,four,90,5500,24,29,9980',\n",
              " 'toyota,gas,std,4,hatchback,HATCHBACK,four,92,4200,27,32,9988',\n",
              " 'toyota,gas,std,2,hatchback,HATCHBACK,four,116,4800,24,30,9989',\n",
              " 'volkswagen,gas,std,4,sedan,SEDAN,four,100,5500,26,32,9995',\n",
              " 'subaru,gas,std,4,wagon,WAGON,four,94,5200,25,31,10198',\n",
              " 'mazda,gas,std,4,sedan,SEDAN,four,84,4800,26,32,10245',\n",
              " 'honda,gas,std,4,sedan,SEDAN,four,86,5800,27,33,10295',\n",
              " 'honda,gas,std,2,sedan,SEDAN,four,100,5500,25,31,10345',\n",
              " 'mazda,gas,std,2,hatchback,HATCHBACK,four,84,4800,26,32,10595',\n",
              " 'toyota,diesel,turbo,4,sedan,SEDAN,four,73,4500,30,33,10698',\n",
              " 'toyota,gas,std,4,sedan,SEDAN,four,92,4200,27,32,10898',\n",
              " 'mazda,gas,std,2,hatchback,HATCHBACK,two,101,6000,17,23,10945',\n",
              " 'isuzu,gas,std,2,hatchback,HATCHBACK,four,90,5000,24,29,11048',\n",
              " 'toyota,gas,std,2,hardtop,HARDTOP,four,116,4800,24,30,11199',\n",
              " 'mazda,gas,std,4,hatchback,HATCHBACK,four,84,4800,26,32,11245',\n",
              " 'toyota,gas,std,4,hatchback,HATCHBACK,four,92,4200,27,32,11248',\n",
              " 'subaru,gas,turbo,4,sedan,SEDAN,four,111,4800,24,29,11259',\n",
              " 'toyota,gas,std,2,hatchback,HATCHBACK,four,116,4800,24,30,11549',\n",
              " 'volkswagen,gas,std,2,convertible,CONVERTIBLE,four,90,5500,24,29,11595',\n",
              " 'subaru,gas,turbo,4,wagon,WAGON,four,111,4800,23,23,11694',\n",
              " 'mazda,gas,std,2,hatchback,HATCHBACK,two,101,6000,17,23,11845',\n",
              " 'saab,gas,std,2,hatchback,HATCHBACK,four,110,5250,21,28,11850',\n",
              " 'peugot,gas,std,4,sedan,SEDAN,four,97,5000,19,24,11900',\n",
              " 'saab,gas,std,4,sedan,SEDAN,four,110,5250,21,28,12170',\n",
              " 'volkswagen,gas,std,4,wagon,WAGON,four,88,5500,25,31,12290',\n",
              " 'peugot,gas,std,4,wagon,WAGON,four,97,5000,19,24,12440',\n",
              " 'mitsubishi,gas,turbo,2,hatchback,HATCHBACK,four,145,5000,19,24,12629',\n",
              " 'plymouth,gas,turbo,2,hatchback,HATCHBACK,four,145,5000,19,24,12764',\n",
              " 'volvo,gas,std,4,sedan,SEDAN,four,114,5400,23,28,12940',\n",
              " 'honda,gas,std,4,sedan,SEDAN,four,101,5800,24,28,12945',\n",
              " 'dodge,gas,turbo,2,hatchback,HATCHBACK,four,145,5000,19,24,12964',\n",
              " 'peugot,diesel,turbo,4,sedan,SEDAN,four,95,4150,28,33,13200',\n",
              " 'volkswagen,gas,std,4,sedan,SEDAN,five,110,5500,19,24,13295',\n",
              " 'volvo,gas,std,4,wagon,WAGON,four,114,5400,23,28,13415',\n",
              " 'alfa-romero,gas,std,2,convertible,CONVERTIBLE,four,111,5000,21,27,13495',\n",
              " 'nissan,gas,std,4,sedan,SEDAN,six,152,5200,17,22,13499',\n",
              " 'nissan,gas,std,4,sedan,SEDAN,six,152,5200,19,25,13499',\n",
              " 'mazda,gas,std,2,hatchback,HATCHBACK,two,101,6000,17,23,13645',\n",
              " 'volkswagen,diesel,turbo,4,sedan,SEDAN,four,68,4500,33,38,13845',\n",
              " 'peugot,diesel,turbo,4,wagon,WAGON,four,95,4150,25,25,13860',\n",
              " 'audi,gas,std,4,sedan,SEDAN,four,102,5500,24,30,13950',\n",
              " 'nissan,gas,std,4,wagon,WAGON,six,152,5200,17,22,14399',\n",
              " 'mitsubishi,gas,turbo,2,hatchback,HATCHBACK,four,145,5000,19,24,14489',\n",
              " 'mitsubishi,gas,turbo,2,hatchback,HATCHBACK,four,145,5000,19,24,14869',\n",
              " 'saab,gas,std,2,hatchback,HATCHBACK,four,110,5250,21,28,15040',\n",
              " 'audi,gas,std,2,sedan,SEDAN,five,110,5500,19,25,15250',\n",
              " 'saab,gas,std,4,sedan,SEDAN,four,110,5250,21,28,15510',\n",
              " 'peugot,gas,std,4,sedan,SEDAN,four,95,5000,19,24,15580',\n",
              " 'mazda,gas,std,2,hatchback,HATCHBACK,two,135,6000,16,23,15645',\n",
              " 'toyota,gas,std,4,sedan,SEDAN,six,156,5200,20,24,15690',\n",
              " 'toyota,gas,std,4,wagon,WAGON,six,156,5200,19,24,15750',\n",
              " 'volvo,gas,std,4,sedan,SEDAN,four,114,5400,24,28,15985',\n",
              " 'toyota,gas,std,2,hatchback,HATCHBACK,six,161,5200,19,24,15998',\n",
              " 'bmw,gas,std,2,sedan,SEDAN,four,101,5800,23,29,16430',\n",
              " 'alfa-romero,gas,std,2,convertible,CONVERTIBLE,four,111,5000,21,27,16500',\n",
              " 'alfa-romero,gas,std,2,hatchback,HATCHBACK,six,154,5000,19,26,16500',\n",
              " 'mercury,gas,turbo,2,hatchback,HATCHBACK,four,175,5000,19,24,16503',\n",
              " 'volvo,gas,std,4,wagon,WAGON,four,114,5400,24,28,16515',\n",
              " 'toyota,gas,std,2,hatchback,HATCHBACK,six,161,5200,20,24,16558',\n",
              " 'peugot,gas,std,4,sedan,SEDAN,four,97,5000,19,24,16630',\n",
              " 'peugot,gas,std,4,wagon,WAGON,four,95,5000,19,24,16695',\n",
              " 'volvo,gas,std,4,sedan,SEDAN,four,114,5400,23,28,16845',\n",
              " 'peugot,diesel,turbo,4,sedan,SEDAN,four,95,4150,28,33,16900',\n",
              " 'bmw,gas,std,4,sedan,SEDAN,four,101,5800,23,29,16925',\n",
              " 'peugot,diesel,turbo,4,wagon,WAGON,four,95,4150,25,25,17075',\n",
              " 'nissan,gas,std,2,hatchback,HATCHBACK,six,160,5200,19,25,17199',\n",
              " 'audi,gas,std,4,sedan,SEDAN,five,115,5500,18,22,17450',\n",
              " 'toyota,gas,std,2,convertible,CONVERTIBLE,four,116,4800,24,30,17669',\n",
              " 'audi,gas,std,4,sedan,SEDAN,five,110,5500,19,25,17710',\n",
              " 'peugot,diesel,turbo,4,sedan,SEDAN,four,95,4150,28,33,17950',\n",
              " 'peugot,gas,turbo,4,sedan,SEDAN,four,142,5600,18,24,18150',\n",
              " 'saab,gas,turbo,2,hatchback,HATCHBACK,four,160,5500,19,26,18150',\n",
              " 'mazda,gas,std,4,sedan,SEDAN,four,120,5000,19,27,18280',\n",
              " 'mazda,diesel,std,4,sedan,SEDAN,four,72,4200,31,39,18344',\n",
              " 'nissan,gas,std,2,hatchback,HATCHBACK,six,160,5200,19,25,18399',\n",
              " 'volvo,gas,turbo,4,sedan,SEDAN,four,162,5100,17,22,18420',\n",
              " 'saab,gas,turbo,4,sedan,SEDAN,four,160,5500,19,26,18620',\n",
              " 'audi,gas,std,4,wagon,WAGON,five,110,5500,19,25,18920',\n",
              " 'volvo,gas,turbo,4,wagon,WAGON,four,162,5100,17,22,18950',\n",
              " 'volvo,gas,turbo,4,sedan,SEDAN,four,160,5300,19,25,19045',\n",
              " 'nissan,gas,turbo,2,hatchback,HATCHBACK,six,200,5200,17,23,19699',\n",
              " 'bmw,gas,std,2,sedan,SEDAN,six,121,4250,21,28,20970',\n",
              " 'bmw,gas,std,4,sedan,SEDAN,six,121,4250,21,28,21105',\n",
              " 'volvo,gas,std,4,sedan,SEDAN,six,134,5500,18,23,21485',\n",
              " 'porsche,gas,std,2,hatchback,HATCHBACK,four,143,5500,19,27,22018',\n",
              " 'volvo,diesel,turbo,4,sedan,SEDAN,six,106,4800,26,27,22470',\n",
              " 'volvo,gas,turbo,4,sedan,SEDAN,four,114,5400,19,25,22625',\n",
              " 'audi,gas,turbo,4,sedan,SEDAN,five,140,5500,17,20,23875',\n",
              " 'bmw,gas,std,4,sedan,SEDAN,six,121,4250,20,25,24565',\n",
              " 'mercedes-benz,diesel,turbo,4,sedan,SEDAN,five,123,4350,22,25,25552',\n",
              " 'mercedes-benz,diesel,turbo,2,hardtop,HARDTOP,five,123,4350,22,25,28176',\n",
              " 'mercedes-benz,diesel,turbo,4,wagon,WAGON,five,123,4350,22,25,28248',\n",
              " 'bmw,gas,std,4,sedan,SEDAN,six,182,5400,16,22,30760',\n",
              " 'mercedes-benz,diesel,turbo,4,sedan,SEDAN,five,123,4350,22,25,31600',\n",
              " 'jaguar,gas,std,4,sedan,SEDAN,six,176,4750,15,19,32250',\n",
              " 'porsche,gas,std,2,hardtop,HARDTOP,six,207,5900,17,25,32528',\n",
              " 'porsche,gas,std,2,hardtop,HARDTOP,six,207,5900,17,25,34028',\n",
              " 'mercedes-benz,gas,std,4,sedan,SEDAN,eight,155,4750,16,18,34184',\n",
              " 'mercedes-benz,gas,std,2,convertible,CONVERTIBLE,eight,155,4750,16,18,35056',\n",
              " 'jaguar,gas,std,4,sedan,SEDAN,six,176,4750,15,19,35550',\n",
              " 'jaguar,gas,std,2,sedan,SEDAN,twelve,262,5000,13,17,36000',\n",
              " 'bmw,gas,std,4,sedan,SEDAN,six,182,5400,15,20,36880',\n",
              " 'porsche,gas,std,2,convertible,CONVERTIBLE,six,207,5900,17,25,37028',\n",
              " 'mercedes-benz,gas,std,4,sedan,SEDAN,eight,184,4500,14,16,40960',\n",
              " 'bmw,gas,std,2,sedan,SEDAN,six,182,5400,16,22,41315',\n",
              " 'mercedes-benz,gas,std,2,hardtop,HARDTOP,eight,184,4500,14,16,45400']"
            ]
          },
          "metadata": {
            "tags": []
          },
          "execution_count": 49
        }
      ]
    },
    {
      "cell_type": "markdown",
      "metadata": {
        "id": "ut3Qyyp11Q5t",
        "colab_type": "text"
      },
      "source": [
        "# Actions"
      ]
    },
    {
      "cell_type": "code",
      "metadata": {
        "id": "KfhHk0IXG94c",
        "colab_type": "code",
        "colab": {}
      },
      "source": [
        "# Reduce - Sum two values\n",
        "lst2 = [144,901,652,102,397,124,901,652]\n",
        "lst_rdd = sc.parallelize(lst2)"
      ],
      "execution_count": 4,
      "outputs": []
    },
    {
      "cell_type": "code",
      "metadata": {
        "id": "H2wBIxAy_D9T",
        "colab_type": "code",
        "colab": {
          "base_uri": "https://localhost:8080/",
          "height": 34
        },
        "outputId": "7b23c0e6-be91-46e1-b51c-c079fa5dfe61"
      },
      "source": [
        "lst_rdd.collect()"
      ],
      "execution_count": 5,
      "outputs": [
        {
          "output_type": "execute_result",
          "data": {
            "text/plain": [
              "[144, 901, 652, 102, 397, 124, 901, 652]"
            ]
          },
          "metadata": {
            "tags": []
          },
          "execution_count": 5
        }
      ]
    },
    {
      "cell_type": "code",
      "metadata": {
        "id": "foYXHoXW_2vY",
        "colab_type": "code",
        "colab": {
          "base_uri": "https://localhost:8080/",
          "height": 34
        },
        "outputId": "a8d2d0d4-47ce-487c-9122-f9a5264f1152"
      },
      "source": [
        "lst_rdd.reduce(lambda x,y: x + y)"
      ],
      "execution_count": 6,
      "outputs": [
        {
          "output_type": "execute_result",
          "data": {
            "text/plain": [
              "3873"
            ]
          },
          "metadata": {
            "tags": []
          },
          "execution_count": 6
        }
      ]
    },
    {
      "cell_type": "code",
      "metadata": {
        "id": "gvDZ5Bo_ARjO",
        "colab_type": "code",
        "colab": {}
      },
      "source": [
        "# Load RDD from a text file\n",
        "file = '/content/drive/My Drive/Colab Notebooks/08-apache-spark/data/carros.csv'\n",
        "auto_data_rdd = sc.textFile(file)"
      ],
      "execution_count": 7,
      "outputs": []
    },
    {
      "cell_type": "code",
      "metadata": {
        "id": "QzApy2ZMIexA",
        "colab_type": "code",
        "colab": {
          "base_uri": "https://localhost:8080/",
          "height": 37
        },
        "outputId": "3474a751-47fd-4a26-cbd0-296dd338a69f"
      },
      "source": [
        "auto_data_rdd.reduce(lambda x,y: x if len(x) < len(y) else y)"
      ],
      "execution_count": 8,
      "outputs": [
        {
          "output_type": "execute_result",
          "data": {
            "application/vnd.google.colaboratory.intrinsic+json": {
              "type": "string"
            },
            "text/plain": [
              "'bmw,gas,std,two,sedan,rwd,six,182,5400,16,22,41315'"
            ]
          },
          "metadata": {
            "tags": []
          },
          "execution_count": 8
        }
      ]
    },
    {
      "cell_type": "code",
      "metadata": {
        "id": "74ol5hSrItf2",
        "colab_type": "code",
        "colab": {}
      },
      "source": [
        "# Making a reduction function\n",
        "def get_mpg(auto_str):\n",
        "  if isinstance(auto_str,int):\n",
        "    return auto_str\n",
        "  \n",
        "  att_list = auto_str.split(',')\n",
        "\n",
        "  if att_list[9].isdigit():\n",
        "    return int(att_list[9])\n",
        "  else:\n",
        "    return 0"
      ],
      "execution_count": 9,
      "outputs": []
    },
    {
      "cell_type": "code",
      "metadata": {
        "id": "jFEFcO22LcDm",
        "colab_type": "code",
        "colab": {
          "base_uri": "https://localhost:8080/",
          "height": 34
        },
        "outputId": "da5d6ac1-0cc0-482f-9fc0-8f82c818f22c"
      },
      "source": [
        "# Finding the mean\n",
        "mean_mpg = round(auto_data_rdd.reduce(lambda x,y: get_mpg(x) + get_mpg(y)) / (auto_data_rdd.count() -1), 2)\n",
        "print(mean_mpg)"
      ],
      "execution_count": 11,
      "outputs": [
        {
          "output_type": "stream",
          "text": [
            "25.15\n"
          ],
          "name": "stdout"
        }
      ]
    },
    {
      "cell_type": "code",
      "metadata": {
        "id": "quaS_lu6L0FD",
        "colab_type": "code",
        "colab": {
          "base_uri": "https://localhost:8080/",
          "height": 34
        },
        "outputId": "d698c383-a82b-45d9-9701-ada45949b4c7"
      },
      "source": [
        "# Sampling data\n",
        "teams = sc.parallelize(['flamengo','vasco','palmeiras','botafogo','bahia'])\n",
        "teams.takeSample(True,3)"
      ],
      "execution_count": 15,
      "outputs": [
        {
          "output_type": "execute_result",
          "data": {
            "text/plain": [
              "['flamengo', 'palmeiras', 'palmeiras']"
            ]
          },
          "metadata": {
            "tags": []
          },
          "execution_count": 15
        }
      ]
    },
    {
      "cell_type": "code",
      "metadata": {
        "id": "vl3oGvOOMfHh",
        "colab_type": "code",
        "colab": {
          "base_uri": "https://localhost:8080/",
          "height": 34
        },
        "outputId": "f1eafed2-0144-42b7-83c4-6853cd644115"
      },
      "source": [
        "# Count by key\n",
        "teams = sc.parallelize(['flamengo','vasco','palmeiras','botafogo','bahia','bahia','palmeiras'])\n",
        "teams.map(lambda k: (k,1)).countByKey().items()"
      ],
      "execution_count": 17,
      "outputs": [
        {
          "output_type": "execute_result",
          "data": {
            "text/plain": [
              "dict_items([('flamengo', 1), ('vasco', 1), ('palmeiras', 2), ('botafogo', 1), ('bahia', 2)])"
            ]
          },
          "metadata": {
            "tags": []
          },
          "execution_count": 17
        }
      ]
    },
    {
      "cell_type": "code",
      "metadata": {
        "id": "hafDDdeTNUuR",
        "colab_type": "code",
        "colab": {}
      },
      "source": [
        "# Saving results\n",
        "auto_data_rdd.saveAsTextFile('/content/drive/My Drive/Colab Notebooks/08-apache-spark/data/teams.txt')"
      ],
      "execution_count": 18,
      "outputs": []
    }
  ]
}